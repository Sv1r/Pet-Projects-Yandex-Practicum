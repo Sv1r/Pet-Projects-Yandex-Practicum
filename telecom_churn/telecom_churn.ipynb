{
 "cells": [
  {
   "cell_type": "markdown",
   "id": "c27f71f2",
   "metadata": {
    "toc": true
   },
   "source": [
    "<h1>Оглавление<span class=\"tocSkip\"></span></h1>\n",
    "<div class=\"toc\"><ul class=\"toc-item\"><li><span><a href=\"#Описание-задачи\" data-toc-modified-id=\"Описание-задачи-1\"><span class=\"toc-item-num\">1&nbsp;&nbsp;</span>Описание задачи</a></span><ul class=\"toc-item\"><li><span><a href=\"#Описание-услуг\" data-toc-modified-id=\"Описание-услуг-1.1\"><span class=\"toc-item-num\">1.1&nbsp;&nbsp;</span>Описание услуг</a></span></li><li><span><a href=\"#Описание-данных\" data-toc-modified-id=\"Описание-данных-1.2\"><span class=\"toc-item-num\">1.2&nbsp;&nbsp;</span>Описание данных</a></span></li></ul></li><li><span><a href=\"#Выгрузка-данных-и-первичный-осмотр-данных\" data-toc-modified-id=\"Выгрузка-данных-и-первичный-осмотр-данных-2\"><span class=\"toc-item-num\">2&nbsp;&nbsp;</span>Выгрузка данных и первичный осмотр данных</a></span></li><li><span><a href=\"#Объединение-таблиц\" data-toc-modified-id=\"Объединение-таблиц-3\"><span class=\"toc-item-num\">3&nbsp;&nbsp;</span>Объединение таблиц</a></span></li><li><span><a href=\"#Обработка-пропусков\" data-toc-modified-id=\"Обработка-пропусков-4\"><span class=\"toc-item-num\">4&nbsp;&nbsp;</span>Обработка пропусков</a></span></li><li><span><a href=\"#Обработка-типов-данных\" data-toc-modified-id=\"Обработка-типов-данных-5\"><span class=\"toc-item-num\">5&nbsp;&nbsp;</span>Обработка типов данных</a></span></li><li><span><a href=\"#EDA\" data-toc-modified-id=\"EDA-6\"><span class=\"toc-item-num\">6&nbsp;&nbsp;</span>EDA</a></span><ul class=\"toc-item\"><li><span><a href=\"#Оценка-распределения-переменных\" data-toc-modified-id=\"Оценка-распределения-переменных-6.1\"><span class=\"toc-item-num\">6.1&nbsp;&nbsp;</span>Оценка распределения переменных</a></span></li><li><span><a href=\"#Взаимосвязь-переменных\" data-toc-modified-id=\"Взаимосвязь-переменных-6.2\"><span class=\"toc-item-num\">6.2&nbsp;&nbsp;</span>Взаимосвязь переменных</a></span></li></ul></li><li><span><a href=\"#Оценка-влияние-на-уход-клиента\" data-toc-modified-id=\"Оценка-влияние-на-уход-клиента-7\"><span class=\"toc-item-num\">7&nbsp;&nbsp;</span>Оценка влияние на уход клиента</a></span><ul class=\"toc-item\"><li><span><a href=\"#Влияние-категориальных-переменных\" data-toc-modified-id=\"Влияние-категориальных-переменных-7.1\"><span class=\"toc-item-num\">7.1&nbsp;&nbsp;</span>Влияние категориальных переменных</a></span></li><li><span><a href=\"#Влияние-непрерывных-переменных\" data-toc-modified-id=\"Влияние-непрерывных-переменных-7.2\"><span class=\"toc-item-num\">7.2&nbsp;&nbsp;</span>Влияние непрерывных переменных</a></span><ul class=\"toc-item\"><li><span><a href=\"#MonthlyCharges\" data-toc-modified-id=\"MonthlyCharges-7.2.1\"><span class=\"toc-item-num\">7.2.1&nbsp;&nbsp;</span>MonthlyCharges</a></span></li><li><span><a href=\"#TotalCharges\" data-toc-modified-id=\"TotalCharges-7.2.2\"><span class=\"toc-item-num\">7.2.2&nbsp;&nbsp;</span>TotalCharges</a></span></li><li><span><a href=\"#life_time\" data-toc-modified-id=\"life_time-7.2.3\"><span class=\"toc-item-num\">7.2.3&nbsp;&nbsp;</span>life_time</a></span></li></ul></li><li><span><a href=\"#Промежуточный-вывод\" data-toc-modified-id=\"Промежуточный-вывод-7.3\"><span class=\"toc-item-num\">7.3&nbsp;&nbsp;</span>Промежуточный вывод</a></span></li></ul></li><li><span><a href=\"#Адаптация-данных-под-машинное-обучение\" data-toc-modified-id=\"Адаптация-данных-под-машинное-обучение-8\"><span class=\"toc-item-num\">8&nbsp;&nbsp;</span>Адаптация данных под машинное обучение</a></span><ul class=\"toc-item\"><li><span><a href=\"#Разделение-данных\" data-toc-modified-id=\"Разделение-данных-8.1\"><span class=\"toc-item-num\">8.1&nbsp;&nbsp;</span>Разделение данных</a></span></li><li><span><a href=\"#Дисбалан-классов\" data-toc-modified-id=\"Дисбалан-классов-8.2\"><span class=\"toc-item-num\">8.2&nbsp;&nbsp;</span>Дисбалан классов</a></span></li></ul></li><li><span><a href=\"#Обучение-моделей\" data-toc-modified-id=\"Обучение-моделей-9\"><span class=\"toc-item-num\">9&nbsp;&nbsp;</span>Обучение моделей</a></span><ul class=\"toc-item\"><li><span><a href=\"#LogisticRegression\" data-toc-modified-id=\"LogisticRegression-9.1\"><span class=\"toc-item-num\">9.1&nbsp;&nbsp;</span>LogisticRegression</a></span></li><li><span><a href=\"#RandomForestClassifier\" data-toc-modified-id=\"RandomForestClassifier-9.2\"><span class=\"toc-item-num\">9.2&nbsp;&nbsp;</span>RandomForestClassifier</a></span></li><li><span><a href=\"#LGBMClassifier\" data-toc-modified-id=\"LGBMClassifier-9.3\"><span class=\"toc-item-num\">9.3&nbsp;&nbsp;</span>LGBMClassifier</a></span></li><li><span><a href=\"#CatBoostClassifier\" data-toc-modified-id=\"CatBoostClassifier-9.4\"><span class=\"toc-item-num\">9.4&nbsp;&nbsp;</span>CatBoostClassifier</a></span></li><li><span><a href=\"#Анализ-моделей\" data-toc-modified-id=\"Анализ-моделей-9.5\"><span class=\"toc-item-num\">9.5&nbsp;&nbsp;</span>Анализ моделей</a></span></li><li><span><a href=\"#Оценка-на-тестовых-данных\" data-toc-modified-id=\"Оценка-на-тестовых-данных-9.6\"><span class=\"toc-item-num\">9.6&nbsp;&nbsp;</span>Оценка на тестовых данных</a></span></li></ul></li><li><span><a href=\"#Вывод\" data-toc-modified-id=\"Вывод-10\"><span class=\"toc-item-num\">10&nbsp;&nbsp;</span>Вывод</a></span></li><li><span><a href=\"#Отсчет\" data-toc-modified-id=\"Отсчет-11\"><span class=\"toc-item-num\">11&nbsp;&nbsp;</span>Отсчет</a></span></li></ul></div>"
   ]
  },
  {
   "cell_type": "markdown",
   "id": "74de9c95",
   "metadata": {
    "tags": []
   },
   "source": [
    "# Телеком - отток клиентов"
   ]
  },
  {
   "cell_type": "markdown",
   "id": "aa0e928c",
   "metadata": {},
   "source": [
    "## Описание задачи"
   ]
  },
  {
   "cell_type": "markdown",
   "id": "d74edd21",
   "metadata": {},
   "source": [
    "Оператор связи **«Ниединогоразрыва.ком»** хочет научиться прогнозировать отток клиентов. Если выяснится, что пользователь планирует уйти, ему будут предложены промокоды и специальные условия. Команда оператора собрала персональные данные о некоторых клиентах, информацию об их тарифах и договорах."
   ]
  },
  {
   "cell_type": "markdown",
   "id": "b981d1a3",
   "metadata": {},
   "source": [
    "### Описание услуг\n",
    "\n",
    "Оператор предоставляет два основных типа услуг: \n",
    "\n",
    "1. Стационарную телефонную связь. Возможно подключение телефонного аппарата к нескольким линиям одновременно.\n",
    "2. Интернет. Подключение может быть двух типов: через телефонную линию (DSL*,* от англ. *digital subscriber line*, «цифровая абонентская линия») или оптоволоконный кабель (*Fiber optic*).  \n",
    "\n",
    "Также доступны такие услуги:\n",
    "\n",
    "- Интернет-безопасность: антивирус (*DeviceProtection*) и блокировка небезопасных сайтов (*OnlineSecurity*);\n",
    "- Выделенная линия технической поддержки (*TechSupport*);\n",
    "- Облачное хранилище файлов для резервного копирования данных (*OnlineBackup*);\n",
    "- Стриминговое телевидение (*StreamingTV*) и каталог фильмов (*StreamingMovies*).\n",
    "\n",
    "За услуги клиенты могут платить каждый месяц или заключить договор на 1–2 года. Доступны различные способы расчёта и возможность получения электронного чека.\n",
    "\n",
    "### Описание данных\n",
    "\n",
    "Данные состоят из файлов, полученных из разных источников:\n",
    "\n",
    "- `contract.csv` — информация о договоре;\n",
    "- `personal.csv` — персональные данные клиента;\n",
    "- `internet.csv` — информация об интернет-услугах;\n",
    "- `phone.csv` — информация об услугах телефонии.\n",
    "\n",
    "Во всех файлах столбец `customerID` содержит код клиента.\n",
    "\n",
    "Информация о договорах актуальна на 1 февраля 2020."
   ]
  },
  {
   "cell_type": "code",
   "execution_count": 1,
   "id": "1ed88a37",
   "metadata": {},
   "outputs": [],
   "source": [
    "import numpy as np\n",
    "import pandas as pd\n",
    "\n",
    "import matplotlib.pyplot as plt\n",
    "import seaborn as sns\n",
    "sns.set_style('darkgrid')\n",
    "\n",
    "import warnings\n",
    "warnings.filterwarnings('ignore')\n",
    "\n",
    "from sklearn import metrics\n",
    "from sklearn.metrics import f1_score\n",
    "from sklearn.metrics import recall_score\n",
    "from sklearn.metrics import precision_score\n",
    "from sklearn.metrics import roc_auc_score\n",
    "from sklearn.metrics import roc_curve\n",
    "from sklearn.metrics import precision_recall_curve\n",
    "from sklearn.metrics import accuracy_score\n",
    "\n",
    "from sklearn.utils import shuffle\n",
    "from sklearn.model_selection import train_test_split\n",
    "from sklearn.preprocessing import StandardScaler\n",
    "from sklearn.model_selection import GridSearchCV\n",
    "\n",
    "from sklearn.linear_model import LogisticRegression\n",
    "from sklearn.ensemble import RandomForestClassifier\n",
    "from lightgbm import LGBMClassifier\n",
    "from catboost import CatBoostClassifier"
   ]
  },
  {
   "cell_type": "markdown",
   "id": "efc92a2f",
   "metadata": {},
   "source": [
    "## Выгрузка данных и первичный осмотр данных"
   ]
  },
  {
   "cell_type": "markdown",
   "id": "e3be51de",
   "metadata": {},
   "source": [
    "Выгрузим данные и посмотрим на случайные строки каждой таблицы."
   ]
  },
  {
   "cell_type": "code",
   "execution_count": 2,
   "id": "f1adbed5",
   "metadata": {},
   "outputs": [],
   "source": [
    "contract = pd.read_csv('S:\\kaggle\\contract.csv')"
   ]
  },
  {
   "cell_type": "code",
   "execution_count": 3,
   "id": "01e65162",
   "metadata": {},
   "outputs": [
    {
     "data": {
      "text/html": [
       "<div>\n",
       "<style scoped>\n",
       "    .dataframe tbody tr th:only-of-type {\n",
       "        vertical-align: middle;\n",
       "    }\n",
       "\n",
       "    .dataframe tbody tr th {\n",
       "        vertical-align: top;\n",
       "    }\n",
       "\n",
       "    .dataframe thead th {\n",
       "        text-align: right;\n",
       "    }\n",
       "</style>\n",
       "<table border=\"1\" class=\"dataframe\">\n",
       "  <thead>\n",
       "    <tr style=\"text-align: right;\">\n",
       "      <th></th>\n",
       "      <th>customerID</th>\n",
       "      <th>BeginDate</th>\n",
       "      <th>EndDate</th>\n",
       "      <th>Type</th>\n",
       "      <th>PaperlessBilling</th>\n",
       "      <th>PaymentMethod</th>\n",
       "      <th>MonthlyCharges</th>\n",
       "      <th>TotalCharges</th>\n",
       "    </tr>\n",
       "  </thead>\n",
       "  <tbody>\n",
       "    <tr>\n",
       "      <th>860</th>\n",
       "      <td>4795-UXVCJ</td>\n",
       "      <td>2017-12-01</td>\n",
       "      <td>No</td>\n",
       "      <td>One year</td>\n",
       "      <td>No</td>\n",
       "      <td>Credit card (automatic)</td>\n",
       "      <td>19.80</td>\n",
       "      <td>457.3</td>\n",
       "    </tr>\n",
       "    <tr>\n",
       "      <th>5390</th>\n",
       "      <td>7450-NWRTR</td>\n",
       "      <td>2018-12-01</td>\n",
       "      <td>2019-12-01 00:00:00</td>\n",
       "      <td>Month-to-month</td>\n",
       "      <td>Yes</td>\n",
       "      <td>Electronic check</td>\n",
       "      <td>99.45</td>\n",
       "      <td>1200.15</td>\n",
       "    </tr>\n",
       "    <tr>\n",
       "      <th>5226</th>\n",
       "      <td>8044-BGWPI</td>\n",
       "      <td>2019-02-01</td>\n",
       "      <td>No</td>\n",
       "      <td>Month-to-month</td>\n",
       "      <td>Yes</td>\n",
       "      <td>Electronic check</td>\n",
       "      <td>21.15</td>\n",
       "      <td>306.05</td>\n",
       "    </tr>\n",
       "    <tr>\n",
       "      <th>5191</th>\n",
       "      <td>5982-PSMKW</td>\n",
       "      <td>2018-03-01</td>\n",
       "      <td>No</td>\n",
       "      <td>Two year</td>\n",
       "      <td>Yes</td>\n",
       "      <td>Credit card (automatic)</td>\n",
       "      <td>91.10</td>\n",
       "      <td>2198.3</td>\n",
       "    </tr>\n",
       "    <tr>\n",
       "      <th>3772</th>\n",
       "      <td>0684-AOSIH</td>\n",
       "      <td>2019-09-01</td>\n",
       "      <td>2019-10-01 00:00:00</td>\n",
       "      <td>Month-to-month</td>\n",
       "      <td>Yes</td>\n",
       "      <td>Electronic check</td>\n",
       "      <td>95.00</td>\n",
       "      <td>95</td>\n",
       "    </tr>\n",
       "    <tr>\n",
       "      <th>3092</th>\n",
       "      <td>6032-IGALN</td>\n",
       "      <td>2019-10-01</td>\n",
       "      <td>2019-11-01 00:00:00</td>\n",
       "      <td>Month-to-month</td>\n",
       "      <td>Yes</td>\n",
       "      <td>Mailed check</td>\n",
       "      <td>25.10</td>\n",
       "      <td>25.1</td>\n",
       "    </tr>\n",
       "    <tr>\n",
       "      <th>5734</th>\n",
       "      <td>6408-WHTEF</td>\n",
       "      <td>2014-02-01</td>\n",
       "      <td>No</td>\n",
       "      <td>Two year</td>\n",
       "      <td>Yes</td>\n",
       "      <td>Mailed check</td>\n",
       "      <td>89.40</td>\n",
       "      <td>6376.55</td>\n",
       "    </tr>\n",
       "    <tr>\n",
       "      <th>6265</th>\n",
       "      <td>3278-FSIXX</td>\n",
       "      <td>2019-12-01</td>\n",
       "      <td>No</td>\n",
       "      <td>Month-to-month</td>\n",
       "      <td>Yes</td>\n",
       "      <td>Mailed check</td>\n",
       "      <td>45.25</td>\n",
       "      <td>74.2</td>\n",
       "    </tr>\n",
       "    <tr>\n",
       "      <th>466</th>\n",
       "      <td>9076-AXYIK</td>\n",
       "      <td>2014-10-01</td>\n",
       "      <td>No</td>\n",
       "      <td>Two year</td>\n",
       "      <td>No</td>\n",
       "      <td>Electronic check</td>\n",
       "      <td>102.10</td>\n",
       "      <td>6538.45</td>\n",
       "    </tr>\n",
       "    <tr>\n",
       "      <th>5334</th>\n",
       "      <td>6386-SZZKH</td>\n",
       "      <td>2015-11-01</td>\n",
       "      <td>2019-12-01 00:00:00</td>\n",
       "      <td>Two year</td>\n",
       "      <td>Yes</td>\n",
       "      <td>Bank transfer (automatic)</td>\n",
       "      <td>107.95</td>\n",
       "      <td>5293.2</td>\n",
       "    </tr>\n",
       "  </tbody>\n",
       "</table>\n",
       "</div>"
      ],
      "text/plain": [
       "      customerID   BeginDate              EndDate            Type  \\\n",
       "860   4795-UXVCJ  2017-12-01                   No        One year   \n",
       "5390  7450-NWRTR  2018-12-01  2019-12-01 00:00:00  Month-to-month   \n",
       "5226  8044-BGWPI  2019-02-01                   No  Month-to-month   \n",
       "5191  5982-PSMKW  2018-03-01                   No        Two year   \n",
       "3772  0684-AOSIH  2019-09-01  2019-10-01 00:00:00  Month-to-month   \n",
       "3092  6032-IGALN  2019-10-01  2019-11-01 00:00:00  Month-to-month   \n",
       "5734  6408-WHTEF  2014-02-01                   No        Two year   \n",
       "6265  3278-FSIXX  2019-12-01                   No  Month-to-month   \n",
       "466   9076-AXYIK  2014-10-01                   No        Two year   \n",
       "5334  6386-SZZKH  2015-11-01  2019-12-01 00:00:00        Two year   \n",
       "\n",
       "     PaperlessBilling              PaymentMethod  MonthlyCharges TotalCharges  \n",
       "860                No    Credit card (automatic)           19.80        457.3  \n",
       "5390              Yes           Electronic check           99.45      1200.15  \n",
       "5226              Yes           Electronic check           21.15       306.05  \n",
       "5191              Yes    Credit card (automatic)           91.10       2198.3  \n",
       "3772              Yes           Electronic check           95.00           95  \n",
       "3092              Yes               Mailed check           25.10         25.1  \n",
       "5734              Yes               Mailed check           89.40      6376.55  \n",
       "6265              Yes               Mailed check           45.25         74.2  \n",
       "466                No           Electronic check          102.10      6538.45  \n",
       "5334              Yes  Bank transfer (automatic)          107.95       5293.2  "
      ]
     },
     "execution_count": 3,
     "metadata": {},
     "output_type": "execute_result"
    }
   ],
   "source": [
    "contract.sample(n=10, replace=True, random_state=42)"
   ]
  },
  {
   "cell_type": "code",
   "execution_count": 4,
   "id": "ea073ed4",
   "metadata": {},
   "outputs": [],
   "source": [
    "personal = pd.read_csv('S:\\kaggle\\personal.csv')"
   ]
  },
  {
   "cell_type": "code",
   "execution_count": 5,
   "id": "69fade98",
   "metadata": {},
   "outputs": [
    {
     "data": {
      "text/html": [
       "<div>\n",
       "<style scoped>\n",
       "    .dataframe tbody tr th:only-of-type {\n",
       "        vertical-align: middle;\n",
       "    }\n",
       "\n",
       "    .dataframe tbody tr th {\n",
       "        vertical-align: top;\n",
       "    }\n",
       "\n",
       "    .dataframe thead th {\n",
       "        text-align: right;\n",
       "    }\n",
       "</style>\n",
       "<table border=\"1\" class=\"dataframe\">\n",
       "  <thead>\n",
       "    <tr style=\"text-align: right;\">\n",
       "      <th></th>\n",
       "      <th>customerID</th>\n",
       "      <th>gender</th>\n",
       "      <th>SeniorCitizen</th>\n",
       "      <th>Partner</th>\n",
       "      <th>Dependents</th>\n",
       "    </tr>\n",
       "  </thead>\n",
       "  <tbody>\n",
       "    <tr>\n",
       "      <th>860</th>\n",
       "      <td>4795-UXVCJ</td>\n",
       "      <td>Male</td>\n",
       "      <td>0</td>\n",
       "      <td>No</td>\n",
       "      <td>No</td>\n",
       "    </tr>\n",
       "    <tr>\n",
       "      <th>5390</th>\n",
       "      <td>7450-NWRTR</td>\n",
       "      <td>Male</td>\n",
       "      <td>1</td>\n",
       "      <td>No</td>\n",
       "      <td>No</td>\n",
       "    </tr>\n",
       "    <tr>\n",
       "      <th>5226</th>\n",
       "      <td>8044-BGWPI</td>\n",
       "      <td>Male</td>\n",
       "      <td>0</td>\n",
       "      <td>Yes</td>\n",
       "      <td>Yes</td>\n",
       "    </tr>\n",
       "    <tr>\n",
       "      <th>5191</th>\n",
       "      <td>5982-PSMKW</td>\n",
       "      <td>Female</td>\n",
       "      <td>0</td>\n",
       "      <td>Yes</td>\n",
       "      <td>Yes</td>\n",
       "    </tr>\n",
       "    <tr>\n",
       "      <th>3772</th>\n",
       "      <td>0684-AOSIH</td>\n",
       "      <td>Male</td>\n",
       "      <td>0</td>\n",
       "      <td>Yes</td>\n",
       "      <td>No</td>\n",
       "    </tr>\n",
       "    <tr>\n",
       "      <th>3092</th>\n",
       "      <td>6032-IGALN</td>\n",
       "      <td>Female</td>\n",
       "      <td>0</td>\n",
       "      <td>No</td>\n",
       "      <td>No</td>\n",
       "    </tr>\n",
       "    <tr>\n",
       "      <th>5734</th>\n",
       "      <td>6408-WHTEF</td>\n",
       "      <td>Male</td>\n",
       "      <td>0</td>\n",
       "      <td>Yes</td>\n",
       "      <td>Yes</td>\n",
       "    </tr>\n",
       "    <tr>\n",
       "      <th>6265</th>\n",
       "      <td>3278-FSIXX</td>\n",
       "      <td>Female</td>\n",
       "      <td>0</td>\n",
       "      <td>No</td>\n",
       "      <td>No</td>\n",
       "    </tr>\n",
       "    <tr>\n",
       "      <th>466</th>\n",
       "      <td>9076-AXYIK</td>\n",
       "      <td>Male</td>\n",
       "      <td>1</td>\n",
       "      <td>Yes</td>\n",
       "      <td>No</td>\n",
       "    </tr>\n",
       "    <tr>\n",
       "      <th>5334</th>\n",
       "      <td>6386-SZZKH</td>\n",
       "      <td>Female</td>\n",
       "      <td>0</td>\n",
       "      <td>Yes</td>\n",
       "      <td>Yes</td>\n",
       "    </tr>\n",
       "  </tbody>\n",
       "</table>\n",
       "</div>"
      ],
      "text/plain": [
       "      customerID  gender  SeniorCitizen Partner Dependents\n",
       "860   4795-UXVCJ    Male              0      No         No\n",
       "5390  7450-NWRTR    Male              1      No         No\n",
       "5226  8044-BGWPI    Male              0     Yes        Yes\n",
       "5191  5982-PSMKW  Female              0     Yes        Yes\n",
       "3772  0684-AOSIH    Male              0     Yes         No\n",
       "3092  6032-IGALN  Female              0      No         No\n",
       "5734  6408-WHTEF    Male              0     Yes        Yes\n",
       "6265  3278-FSIXX  Female              0      No         No\n",
       "466   9076-AXYIK    Male              1     Yes         No\n",
       "5334  6386-SZZKH  Female              0     Yes        Yes"
      ]
     },
     "execution_count": 5,
     "metadata": {},
     "output_type": "execute_result"
    }
   ],
   "source": [
    "personal.sample(n=10, replace=True, random_state=42)"
   ]
  },
  {
   "cell_type": "code",
   "execution_count": 6,
   "id": "9529d1f6",
   "metadata": {},
   "outputs": [],
   "source": [
    "internet = pd.read_csv('S:\\kaggle\\internet.csv')"
   ]
  },
  {
   "cell_type": "code",
   "execution_count": 7,
   "id": "921225cb",
   "metadata": {},
   "outputs": [
    {
     "data": {
      "text/html": [
       "<div>\n",
       "<style scoped>\n",
       "    .dataframe tbody tr th:only-of-type {\n",
       "        vertical-align: middle;\n",
       "    }\n",
       "\n",
       "    .dataframe tbody tr th {\n",
       "        vertical-align: top;\n",
       "    }\n",
       "\n",
       "    .dataframe thead th {\n",
       "        text-align: right;\n",
       "    }\n",
       "</style>\n",
       "<table border=\"1\" class=\"dataframe\">\n",
       "  <thead>\n",
       "    <tr style=\"text-align: right;\">\n",
       "      <th></th>\n",
       "      <th>customerID</th>\n",
       "      <th>InternetService</th>\n",
       "      <th>OnlineSecurity</th>\n",
       "      <th>OnlineBackup</th>\n",
       "      <th>DeviceProtection</th>\n",
       "      <th>TechSupport</th>\n",
       "      <th>StreamingTV</th>\n",
       "      <th>StreamingMovies</th>\n",
       "    </tr>\n",
       "  </thead>\n",
       "  <tbody>\n",
       "    <tr>\n",
       "      <th>860</th>\n",
       "      <td>9845-PEEKO</td>\n",
       "      <td>Fiber optic</td>\n",
       "      <td>No</td>\n",
       "      <td>Yes</td>\n",
       "      <td>No</td>\n",
       "      <td>No</td>\n",
       "      <td>No</td>\n",
       "      <td>No</td>\n",
       "    </tr>\n",
       "    <tr>\n",
       "      <th>5390</th>\n",
       "      <td>3085-QUOZK</td>\n",
       "      <td>DSL</td>\n",
       "      <td>No</td>\n",
       "      <td>No</td>\n",
       "      <td>No</td>\n",
       "      <td>No</td>\n",
       "      <td>No</td>\n",
       "      <td>No</td>\n",
       "    </tr>\n",
       "    <tr>\n",
       "      <th>5226</th>\n",
       "      <td>5161-XEUVX</td>\n",
       "      <td>Fiber optic</td>\n",
       "      <td>No</td>\n",
       "      <td>No</td>\n",
       "      <td>Yes</td>\n",
       "      <td>Yes</td>\n",
       "      <td>Yes</td>\n",
       "      <td>No</td>\n",
       "    </tr>\n",
       "    <tr>\n",
       "      <th>5191</th>\n",
       "      <td>4747-LCAQL</td>\n",
       "      <td>DSL</td>\n",
       "      <td>Yes</td>\n",
       "      <td>Yes</td>\n",
       "      <td>No</td>\n",
       "      <td>Yes</td>\n",
       "      <td>Yes</td>\n",
       "      <td>Yes</td>\n",
       "    </tr>\n",
       "    <tr>\n",
       "      <th>3772</th>\n",
       "      <td>1360-XFJMR</td>\n",
       "      <td>Fiber optic</td>\n",
       "      <td>No</td>\n",
       "      <td>Yes</td>\n",
       "      <td>Yes</td>\n",
       "      <td>Yes</td>\n",
       "      <td>Yes</td>\n",
       "      <td>Yes</td>\n",
       "    </tr>\n",
       "    <tr>\n",
       "      <th>3092</th>\n",
       "      <td>9861-PDSZP</td>\n",
       "      <td>Fiber optic</td>\n",
       "      <td>No</td>\n",
       "      <td>Yes</td>\n",
       "      <td>Yes</td>\n",
       "      <td>Yes</td>\n",
       "      <td>Yes</td>\n",
       "      <td>Yes</td>\n",
       "    </tr>\n",
       "    <tr>\n",
       "      <th>466</th>\n",
       "      <td>6030-REHUX</td>\n",
       "      <td>Fiber optic</td>\n",
       "      <td>No</td>\n",
       "      <td>Yes</td>\n",
       "      <td>Yes</td>\n",
       "      <td>Yes</td>\n",
       "      <td>Yes</td>\n",
       "      <td>Yes</td>\n",
       "    </tr>\n",
       "    <tr>\n",
       "      <th>5334</th>\n",
       "      <td>9451-LPGOO</td>\n",
       "      <td>Fiber optic</td>\n",
       "      <td>No</td>\n",
       "      <td>No</td>\n",
       "      <td>No</td>\n",
       "      <td>No</td>\n",
       "      <td>No</td>\n",
       "      <td>Yes</td>\n",
       "    </tr>\n",
       "    <tr>\n",
       "      <th>4426</th>\n",
       "      <td>0674-GCDXG</td>\n",
       "      <td>DSL</td>\n",
       "      <td>Yes</td>\n",
       "      <td>No</td>\n",
       "      <td>Yes</td>\n",
       "      <td>Yes</td>\n",
       "      <td>No</td>\n",
       "      <td>Yes</td>\n",
       "    </tr>\n",
       "    <tr>\n",
       "      <th>3444</th>\n",
       "      <td>0848-ZGQIJ</td>\n",
       "      <td>Fiber optic</td>\n",
       "      <td>No</td>\n",
       "      <td>Yes</td>\n",
       "      <td>No</td>\n",
       "      <td>No</td>\n",
       "      <td>Yes</td>\n",
       "      <td>Yes</td>\n",
       "    </tr>\n",
       "  </tbody>\n",
       "</table>\n",
       "</div>"
      ],
      "text/plain": [
       "      customerID InternetService OnlineSecurity OnlineBackup DeviceProtection  \\\n",
       "860   9845-PEEKO     Fiber optic             No          Yes               No   \n",
       "5390  3085-QUOZK             DSL             No           No               No   \n",
       "5226  5161-XEUVX     Fiber optic             No           No              Yes   \n",
       "5191  4747-LCAQL             DSL            Yes          Yes               No   \n",
       "3772  1360-XFJMR     Fiber optic             No          Yes              Yes   \n",
       "3092  9861-PDSZP     Fiber optic             No          Yes              Yes   \n",
       "466   6030-REHUX     Fiber optic             No          Yes              Yes   \n",
       "5334  9451-LPGOO     Fiber optic             No           No               No   \n",
       "4426  0674-GCDXG             DSL            Yes           No              Yes   \n",
       "3444  0848-ZGQIJ     Fiber optic             No          Yes               No   \n",
       "\n",
       "     TechSupport StreamingTV StreamingMovies  \n",
       "860           No          No              No  \n",
       "5390          No          No              No  \n",
       "5226         Yes         Yes              No  \n",
       "5191         Yes         Yes             Yes  \n",
       "3772         Yes         Yes             Yes  \n",
       "3092         Yes         Yes             Yes  \n",
       "466          Yes         Yes             Yes  \n",
       "5334          No          No             Yes  \n",
       "4426         Yes          No             Yes  \n",
       "3444          No         Yes             Yes  "
      ]
     },
     "execution_count": 7,
     "metadata": {},
     "output_type": "execute_result"
    }
   ],
   "source": [
    "internet.sample(n=10, replace=True, random_state=42)"
   ]
  },
  {
   "cell_type": "code",
   "execution_count": 8,
   "id": "d9269092",
   "metadata": {},
   "outputs": [],
   "source": [
    "phone = pd.read_csv('S:\\kaggle\\phone.csv')"
   ]
  },
  {
   "cell_type": "code",
   "execution_count": 9,
   "id": "61110cbc",
   "metadata": {},
   "outputs": [
    {
     "data": {
      "text/html": [
       "<div>\n",
       "<style scoped>\n",
       "    .dataframe tbody tr th:only-of-type {\n",
       "        vertical-align: middle;\n",
       "    }\n",
       "\n",
       "    .dataframe tbody tr th {\n",
       "        vertical-align: top;\n",
       "    }\n",
       "\n",
       "    .dataframe thead th {\n",
       "        text-align: right;\n",
       "    }\n",
       "</style>\n",
       "<table border=\"1\" class=\"dataframe\">\n",
       "  <thead>\n",
       "    <tr style=\"text-align: right;\">\n",
       "      <th></th>\n",
       "      <th>customerID</th>\n",
       "      <th>MultipleLines</th>\n",
       "    </tr>\n",
       "  </thead>\n",
       "  <tbody>\n",
       "    <tr>\n",
       "      <th>860</th>\n",
       "      <td>8584-KMVXD</td>\n",
       "      <td>No</td>\n",
       "    </tr>\n",
       "    <tr>\n",
       "      <th>5390</th>\n",
       "      <td>9418-RUKPH</td>\n",
       "      <td>No</td>\n",
       "    </tr>\n",
       "    <tr>\n",
       "      <th>5226</th>\n",
       "      <td>5539-HIVAK</td>\n",
       "      <td>Yes</td>\n",
       "    </tr>\n",
       "    <tr>\n",
       "      <th>5191</th>\n",
       "      <td>6064-ZATLR</td>\n",
       "      <td>No</td>\n",
       "    </tr>\n",
       "    <tr>\n",
       "      <th>3772</th>\n",
       "      <td>1685-VAYJF</td>\n",
       "      <td>No</td>\n",
       "    </tr>\n",
       "    <tr>\n",
       "      <th>3092</th>\n",
       "      <td>9618-LFJRU</td>\n",
       "      <td>No</td>\n",
       "    </tr>\n",
       "    <tr>\n",
       "      <th>5734</th>\n",
       "      <td>4129-LYCOI</td>\n",
       "      <td>Yes</td>\n",
       "    </tr>\n",
       "    <tr>\n",
       "      <th>6265</th>\n",
       "      <td>0357-NVCRI</td>\n",
       "      <td>No</td>\n",
       "    </tr>\n",
       "    <tr>\n",
       "      <th>466</th>\n",
       "      <td>4109-CYRBD</td>\n",
       "      <td>Yes</td>\n",
       "    </tr>\n",
       "    <tr>\n",
       "      <th>5334</th>\n",
       "      <td>2968-SSGAA</td>\n",
       "      <td>Yes</td>\n",
       "    </tr>\n",
       "  </tbody>\n",
       "</table>\n",
       "</div>"
      ],
      "text/plain": [
       "      customerID MultipleLines\n",
       "860   8584-KMVXD            No\n",
       "5390  9418-RUKPH            No\n",
       "5226  5539-HIVAK           Yes\n",
       "5191  6064-ZATLR            No\n",
       "3772  1685-VAYJF            No\n",
       "3092  9618-LFJRU            No\n",
       "5734  4129-LYCOI           Yes\n",
       "6265  0357-NVCRI            No\n",
       "466   4109-CYRBD           Yes\n",
       "5334  2968-SSGAA           Yes"
      ]
     },
     "execution_count": 9,
     "metadata": {},
     "output_type": "execute_result"
    }
   ],
   "source": [
    "phone.sample(n=10, replace=True, random_state=42)"
   ]
  },
  {
   "cell_type": "markdown",
   "id": "a198be4a",
   "metadata": {},
   "source": [
    "На первый взгляд в наших данных нет каких-либо пропусков или иных аномалий. Далее выведем информацию по каждому датасету."
   ]
  },
  {
   "cell_type": "code",
   "execution_count": 10,
   "id": "20f21f1b",
   "metadata": {},
   "outputs": [
    {
     "name": "stdout",
     "output_type": "stream",
     "text": [
      "<class 'pandas.core.frame.DataFrame'>\n",
      "RangeIndex: 7043 entries, 0 to 7042\n",
      "Data columns (total 8 columns):\n",
      " #   Column            Non-Null Count  Dtype  \n",
      "---  ------            --------------  -----  \n",
      " 0   customerID        7043 non-null   object \n",
      " 1   BeginDate         7043 non-null   object \n",
      " 2   EndDate           7043 non-null   object \n",
      " 3   Type              7043 non-null   object \n",
      " 4   PaperlessBilling  7043 non-null   object \n",
      " 5   PaymentMethod     7043 non-null   object \n",
      " 6   MonthlyCharges    7043 non-null   float64\n",
      " 7   TotalCharges      7043 non-null   object \n",
      "dtypes: float64(1), object(7)\n",
      "memory usage: 440.3+ KB\n"
     ]
    }
   ],
   "source": [
    "contract.info()"
   ]
  },
  {
   "cell_type": "code",
   "execution_count": 11,
   "id": "880e7907",
   "metadata": {},
   "outputs": [
    {
     "name": "stdout",
     "output_type": "stream",
     "text": [
      "<class 'pandas.core.frame.DataFrame'>\n",
      "RangeIndex: 7043 entries, 0 to 7042\n",
      "Data columns (total 5 columns):\n",
      " #   Column         Non-Null Count  Dtype \n",
      "---  ------         --------------  ----- \n",
      " 0   customerID     7043 non-null   object\n",
      " 1   gender         7043 non-null   object\n",
      " 2   SeniorCitizen  7043 non-null   int64 \n",
      " 3   Partner        7043 non-null   object\n",
      " 4   Dependents     7043 non-null   object\n",
      "dtypes: int64(1), object(4)\n",
      "memory usage: 275.2+ KB\n"
     ]
    }
   ],
   "source": [
    "personal.info()"
   ]
  },
  {
   "cell_type": "code",
   "execution_count": 12,
   "id": "0402c9ad",
   "metadata": {},
   "outputs": [
    {
     "name": "stdout",
     "output_type": "stream",
     "text": [
      "<class 'pandas.core.frame.DataFrame'>\n",
      "RangeIndex: 5517 entries, 0 to 5516\n",
      "Data columns (total 8 columns):\n",
      " #   Column            Non-Null Count  Dtype \n",
      "---  ------            --------------  ----- \n",
      " 0   customerID        5517 non-null   object\n",
      " 1   InternetService   5517 non-null   object\n",
      " 2   OnlineSecurity    5517 non-null   object\n",
      " 3   OnlineBackup      5517 non-null   object\n",
      " 4   DeviceProtection  5517 non-null   object\n",
      " 5   TechSupport       5517 non-null   object\n",
      " 6   StreamingTV       5517 non-null   object\n",
      " 7   StreamingMovies   5517 non-null   object\n",
      "dtypes: object(8)\n",
      "memory usage: 344.9+ KB\n"
     ]
    }
   ],
   "source": [
    "internet.info()"
   ]
  },
  {
   "cell_type": "code",
   "execution_count": 13,
   "id": "1226e209",
   "metadata": {},
   "outputs": [
    {
     "name": "stdout",
     "output_type": "stream",
     "text": [
      "<class 'pandas.core.frame.DataFrame'>\n",
      "RangeIndex: 6361 entries, 0 to 6360\n",
      "Data columns (total 2 columns):\n",
      " #   Column         Non-Null Count  Dtype \n",
      "---  ------         --------------  ----- \n",
      " 0   customerID     6361 non-null   object\n",
      " 1   MultipleLines  6361 non-null   object\n",
      "dtypes: object(2)\n",
      "memory usage: 99.5+ KB\n"
     ]
    }
   ],
   "source": [
    "phone.info()"
   ]
  },
  {
   "cell_type": "markdown",
   "id": "d2547aeb",
   "metadata": {},
   "source": [
    "Итак, исходя из приведенной информации в наших данных отсутствуют какие-либо пропуски, но в таблице **contract** у столбца `TotalCharges` тип данных по какой-то причине *object*."
   ]
  },
  {
   "cell_type": "markdown",
   "id": "97e4c750",
   "metadata": {},
   "source": [
    "## Объединение таблиц"
   ]
  },
  {
   "cell_type": "markdown",
   "id": "8be436f8",
   "metadata": {},
   "source": [
    "Объединим все наши датасеты в один, что облегчит анализ на последующих шагах."
   ]
  },
  {
   "cell_type": "code",
   "execution_count": 14,
   "id": "8e00304e",
   "metadata": {},
   "outputs": [],
   "source": [
    "df1 = pd.merge(contract, personal, on='customerID', how='outer')\n",
    "df2 = pd.merge(internet, phone, on='customerID', how='outer')\n",
    "\n",
    "df = pd.merge(df1, df2, on='customerID', how='outer')"
   ]
  },
  {
   "cell_type": "code",
   "execution_count": 15,
   "id": "1f9fdc42",
   "metadata": {},
   "outputs": [
    {
     "data": {
      "text/html": [
       "<div>\n",
       "<style scoped>\n",
       "    .dataframe tbody tr th:only-of-type {\n",
       "        vertical-align: middle;\n",
       "    }\n",
       "\n",
       "    .dataframe tbody tr th {\n",
       "        vertical-align: top;\n",
       "    }\n",
       "\n",
       "    .dataframe thead th {\n",
       "        text-align: right;\n",
       "    }\n",
       "</style>\n",
       "<table border=\"1\" class=\"dataframe\">\n",
       "  <thead>\n",
       "    <tr style=\"text-align: right;\">\n",
       "      <th></th>\n",
       "      <th>customerID</th>\n",
       "      <th>BeginDate</th>\n",
       "      <th>EndDate</th>\n",
       "      <th>Type</th>\n",
       "      <th>PaperlessBilling</th>\n",
       "      <th>PaymentMethod</th>\n",
       "      <th>MonthlyCharges</th>\n",
       "      <th>TotalCharges</th>\n",
       "      <th>gender</th>\n",
       "      <th>SeniorCitizen</th>\n",
       "      <th>Partner</th>\n",
       "      <th>Dependents</th>\n",
       "      <th>InternetService</th>\n",
       "      <th>OnlineSecurity</th>\n",
       "      <th>OnlineBackup</th>\n",
       "      <th>DeviceProtection</th>\n",
       "      <th>TechSupport</th>\n",
       "      <th>StreamingTV</th>\n",
       "      <th>StreamingMovies</th>\n",
       "      <th>MultipleLines</th>\n",
       "    </tr>\n",
       "  </thead>\n",
       "  <tbody>\n",
       "    <tr>\n",
       "      <th>860</th>\n",
       "      <td>4795-UXVCJ</td>\n",
       "      <td>2017-12-01</td>\n",
       "      <td>No</td>\n",
       "      <td>One year</td>\n",
       "      <td>No</td>\n",
       "      <td>Credit card (automatic)</td>\n",
       "      <td>19.80</td>\n",
       "      <td>457.3</td>\n",
       "      <td>Male</td>\n",
       "      <td>0</td>\n",
       "      <td>No</td>\n",
       "      <td>No</td>\n",
       "      <td>NaN</td>\n",
       "      <td>NaN</td>\n",
       "      <td>NaN</td>\n",
       "      <td>NaN</td>\n",
       "      <td>NaN</td>\n",
       "      <td>NaN</td>\n",
       "      <td>NaN</td>\n",
       "      <td>No</td>\n",
       "    </tr>\n",
       "    <tr>\n",
       "      <th>5390</th>\n",
       "      <td>7450-NWRTR</td>\n",
       "      <td>2018-12-01</td>\n",
       "      <td>2019-12-01 00:00:00</td>\n",
       "      <td>Month-to-month</td>\n",
       "      <td>Yes</td>\n",
       "      <td>Electronic check</td>\n",
       "      <td>99.45</td>\n",
       "      <td>1200.15</td>\n",
       "      <td>Male</td>\n",
       "      <td>1</td>\n",
       "      <td>No</td>\n",
       "      <td>No</td>\n",
       "      <td>Fiber optic</td>\n",
       "      <td>No</td>\n",
       "      <td>No</td>\n",
       "      <td>Yes</td>\n",
       "      <td>No</td>\n",
       "      <td>Yes</td>\n",
       "      <td>Yes</td>\n",
       "      <td>Yes</td>\n",
       "    </tr>\n",
       "    <tr>\n",
       "      <th>5226</th>\n",
       "      <td>8044-BGWPI</td>\n",
       "      <td>2019-02-01</td>\n",
       "      <td>No</td>\n",
       "      <td>Month-to-month</td>\n",
       "      <td>Yes</td>\n",
       "      <td>Electronic check</td>\n",
       "      <td>21.15</td>\n",
       "      <td>306.05</td>\n",
       "      <td>Male</td>\n",
       "      <td>0</td>\n",
       "      <td>Yes</td>\n",
       "      <td>Yes</td>\n",
       "      <td>NaN</td>\n",
       "      <td>NaN</td>\n",
       "      <td>NaN</td>\n",
       "      <td>NaN</td>\n",
       "      <td>NaN</td>\n",
       "      <td>NaN</td>\n",
       "      <td>NaN</td>\n",
       "      <td>No</td>\n",
       "    </tr>\n",
       "    <tr>\n",
       "      <th>5191</th>\n",
       "      <td>5982-PSMKW</td>\n",
       "      <td>2018-03-01</td>\n",
       "      <td>No</td>\n",
       "      <td>Two year</td>\n",
       "      <td>Yes</td>\n",
       "      <td>Credit card (automatic)</td>\n",
       "      <td>91.10</td>\n",
       "      <td>2198.3</td>\n",
       "      <td>Female</td>\n",
       "      <td>0</td>\n",
       "      <td>Yes</td>\n",
       "      <td>Yes</td>\n",
       "      <td>DSL</td>\n",
       "      <td>Yes</td>\n",
       "      <td>Yes</td>\n",
       "      <td>Yes</td>\n",
       "      <td>Yes</td>\n",
       "      <td>Yes</td>\n",
       "      <td>Yes</td>\n",
       "      <td>Yes</td>\n",
       "    </tr>\n",
       "    <tr>\n",
       "      <th>3772</th>\n",
       "      <td>0684-AOSIH</td>\n",
       "      <td>2019-09-01</td>\n",
       "      <td>2019-10-01 00:00:00</td>\n",
       "      <td>Month-to-month</td>\n",
       "      <td>Yes</td>\n",
       "      <td>Electronic check</td>\n",
       "      <td>95.00</td>\n",
       "      <td>95</td>\n",
       "      <td>Male</td>\n",
       "      <td>0</td>\n",
       "      <td>Yes</td>\n",
       "      <td>No</td>\n",
       "      <td>Fiber optic</td>\n",
       "      <td>Yes</td>\n",
       "      <td>No</td>\n",
       "      <td>No</td>\n",
       "      <td>No</td>\n",
       "      <td>Yes</td>\n",
       "      <td>Yes</td>\n",
       "      <td>No</td>\n",
       "    </tr>\n",
       "    <tr>\n",
       "      <th>3092</th>\n",
       "      <td>6032-IGALN</td>\n",
       "      <td>2019-10-01</td>\n",
       "      <td>2019-11-01 00:00:00</td>\n",
       "      <td>Month-to-month</td>\n",
       "      <td>Yes</td>\n",
       "      <td>Mailed check</td>\n",
       "      <td>25.10</td>\n",
       "      <td>25.1</td>\n",
       "      <td>Female</td>\n",
       "      <td>0</td>\n",
       "      <td>No</td>\n",
       "      <td>No</td>\n",
       "      <td>DSL</td>\n",
       "      <td>No</td>\n",
       "      <td>No</td>\n",
       "      <td>No</td>\n",
       "      <td>No</td>\n",
       "      <td>No</td>\n",
       "      <td>No</td>\n",
       "      <td>NaN</td>\n",
       "    </tr>\n",
       "    <tr>\n",
       "      <th>5734</th>\n",
       "      <td>6408-WHTEF</td>\n",
       "      <td>2014-02-01</td>\n",
       "      <td>No</td>\n",
       "      <td>Two year</td>\n",
       "      <td>Yes</td>\n",
       "      <td>Mailed check</td>\n",
       "      <td>89.40</td>\n",
       "      <td>6376.55</td>\n",
       "      <td>Male</td>\n",
       "      <td>0</td>\n",
       "      <td>Yes</td>\n",
       "      <td>Yes</td>\n",
       "      <td>DSL</td>\n",
       "      <td>Yes</td>\n",
       "      <td>Yes</td>\n",
       "      <td>Yes</td>\n",
       "      <td>Yes</td>\n",
       "      <td>Yes</td>\n",
       "      <td>Yes</td>\n",
       "      <td>Yes</td>\n",
       "    </tr>\n",
       "    <tr>\n",
       "      <th>6265</th>\n",
       "      <td>3278-FSIXX</td>\n",
       "      <td>2019-12-01</td>\n",
       "      <td>No</td>\n",
       "      <td>Month-to-month</td>\n",
       "      <td>Yes</td>\n",
       "      <td>Mailed check</td>\n",
       "      <td>45.25</td>\n",
       "      <td>74.2</td>\n",
       "      <td>Female</td>\n",
       "      <td>0</td>\n",
       "      <td>No</td>\n",
       "      <td>No</td>\n",
       "      <td>DSL</td>\n",
       "      <td>No</td>\n",
       "      <td>No</td>\n",
       "      <td>No</td>\n",
       "      <td>No</td>\n",
       "      <td>No</td>\n",
       "      <td>No</td>\n",
       "      <td>No</td>\n",
       "    </tr>\n",
       "    <tr>\n",
       "      <th>466</th>\n",
       "      <td>9076-AXYIK</td>\n",
       "      <td>2014-10-01</td>\n",
       "      <td>No</td>\n",
       "      <td>Two year</td>\n",
       "      <td>No</td>\n",
       "      <td>Electronic check</td>\n",
       "      <td>102.10</td>\n",
       "      <td>6538.45</td>\n",
       "      <td>Male</td>\n",
       "      <td>1</td>\n",
       "      <td>Yes</td>\n",
       "      <td>No</td>\n",
       "      <td>Fiber optic</td>\n",
       "      <td>No</td>\n",
       "      <td>No</td>\n",
       "      <td>Yes</td>\n",
       "      <td>Yes</td>\n",
       "      <td>Yes</td>\n",
       "      <td>Yes</td>\n",
       "      <td>Yes</td>\n",
       "    </tr>\n",
       "    <tr>\n",
       "      <th>5334</th>\n",
       "      <td>6386-SZZKH</td>\n",
       "      <td>2015-11-01</td>\n",
       "      <td>2019-12-01 00:00:00</td>\n",
       "      <td>Two year</td>\n",
       "      <td>Yes</td>\n",
       "      <td>Bank transfer (automatic)</td>\n",
       "      <td>107.95</td>\n",
       "      <td>5293.2</td>\n",
       "      <td>Female</td>\n",
       "      <td>0</td>\n",
       "      <td>Yes</td>\n",
       "      <td>Yes</td>\n",
       "      <td>Fiber optic</td>\n",
       "      <td>No</td>\n",
       "      <td>Yes</td>\n",
       "      <td>Yes</td>\n",
       "      <td>Yes</td>\n",
       "      <td>Yes</td>\n",
       "      <td>Yes</td>\n",
       "      <td>Yes</td>\n",
       "    </tr>\n",
       "  </tbody>\n",
       "</table>\n",
       "</div>"
      ],
      "text/plain": [
       "      customerID   BeginDate              EndDate            Type  \\\n",
       "860   4795-UXVCJ  2017-12-01                   No        One year   \n",
       "5390  7450-NWRTR  2018-12-01  2019-12-01 00:00:00  Month-to-month   \n",
       "5226  8044-BGWPI  2019-02-01                   No  Month-to-month   \n",
       "5191  5982-PSMKW  2018-03-01                   No        Two year   \n",
       "3772  0684-AOSIH  2019-09-01  2019-10-01 00:00:00  Month-to-month   \n",
       "3092  6032-IGALN  2019-10-01  2019-11-01 00:00:00  Month-to-month   \n",
       "5734  6408-WHTEF  2014-02-01                   No        Two year   \n",
       "6265  3278-FSIXX  2019-12-01                   No  Month-to-month   \n",
       "466   9076-AXYIK  2014-10-01                   No        Two year   \n",
       "5334  6386-SZZKH  2015-11-01  2019-12-01 00:00:00        Two year   \n",
       "\n",
       "     PaperlessBilling              PaymentMethod  MonthlyCharges TotalCharges  \\\n",
       "860                No    Credit card (automatic)           19.80        457.3   \n",
       "5390              Yes           Electronic check           99.45      1200.15   \n",
       "5226              Yes           Electronic check           21.15       306.05   \n",
       "5191              Yes    Credit card (automatic)           91.10       2198.3   \n",
       "3772              Yes           Electronic check           95.00           95   \n",
       "3092              Yes               Mailed check           25.10         25.1   \n",
       "5734              Yes               Mailed check           89.40      6376.55   \n",
       "6265              Yes               Mailed check           45.25         74.2   \n",
       "466                No           Electronic check          102.10      6538.45   \n",
       "5334              Yes  Bank transfer (automatic)          107.95       5293.2   \n",
       "\n",
       "      gender  SeniorCitizen Partner Dependents InternetService OnlineSecurity  \\\n",
       "860     Male              0      No         No             NaN            NaN   \n",
       "5390    Male              1      No         No     Fiber optic             No   \n",
       "5226    Male              0     Yes        Yes             NaN            NaN   \n",
       "5191  Female              0     Yes        Yes             DSL            Yes   \n",
       "3772    Male              0     Yes         No     Fiber optic            Yes   \n",
       "3092  Female              0      No         No             DSL             No   \n",
       "5734    Male              0     Yes        Yes             DSL            Yes   \n",
       "6265  Female              0      No         No             DSL             No   \n",
       "466     Male              1     Yes         No     Fiber optic             No   \n",
       "5334  Female              0     Yes        Yes     Fiber optic             No   \n",
       "\n",
       "     OnlineBackup DeviceProtection TechSupport StreamingTV StreamingMovies  \\\n",
       "860           NaN              NaN         NaN         NaN             NaN   \n",
       "5390           No              Yes          No         Yes             Yes   \n",
       "5226          NaN              NaN         NaN         NaN             NaN   \n",
       "5191          Yes              Yes         Yes         Yes             Yes   \n",
       "3772           No               No          No         Yes             Yes   \n",
       "3092           No               No          No          No              No   \n",
       "5734          Yes              Yes         Yes         Yes             Yes   \n",
       "6265           No               No          No          No              No   \n",
       "466            No              Yes         Yes         Yes             Yes   \n",
       "5334          Yes              Yes         Yes         Yes             Yes   \n",
       "\n",
       "     MultipleLines  \n",
       "860             No  \n",
       "5390           Yes  \n",
       "5226            No  \n",
       "5191           Yes  \n",
       "3772            No  \n",
       "3092           NaN  \n",
       "5734           Yes  \n",
       "6265            No  \n",
       "466            Yes  \n",
       "5334           Yes  "
      ]
     },
     "execution_count": 15,
     "metadata": {},
     "output_type": "execute_result"
    }
   ],
   "source": [
    "df.sample(n=10, replace=True, random_state=42)"
   ]
  },
  {
   "cell_type": "code",
   "execution_count": 16,
   "id": "e4bceb7d",
   "metadata": {},
   "outputs": [
    {
     "name": "stdout",
     "output_type": "stream",
     "text": [
      "<class 'pandas.core.frame.DataFrame'>\n",
      "Int64Index: 7043 entries, 0 to 7042\n",
      "Data columns (total 20 columns):\n",
      " #   Column            Non-Null Count  Dtype  \n",
      "---  ------            --------------  -----  \n",
      " 0   customerID        7043 non-null   object \n",
      " 1   BeginDate         7043 non-null   object \n",
      " 2   EndDate           7043 non-null   object \n",
      " 3   Type              7043 non-null   object \n",
      " 4   PaperlessBilling  7043 non-null   object \n",
      " 5   PaymentMethod     7043 non-null   object \n",
      " 6   MonthlyCharges    7043 non-null   float64\n",
      " 7   TotalCharges      7043 non-null   object \n",
      " 8   gender            7043 non-null   object \n",
      " 9   SeniorCitizen     7043 non-null   int64  \n",
      " 10  Partner           7043 non-null   object \n",
      " 11  Dependents        7043 non-null   object \n",
      " 12  InternetService   5517 non-null   object \n",
      " 13  OnlineSecurity    5517 non-null   object \n",
      " 14  OnlineBackup      5517 non-null   object \n",
      " 15  DeviceProtection  5517 non-null   object \n",
      " 16  TechSupport       5517 non-null   object \n",
      " 17  StreamingTV       5517 non-null   object \n",
      " 18  StreamingMovies   5517 non-null   object \n",
      " 19  MultipleLines     6361 non-null   object \n",
      "dtypes: float64(1), int64(1), object(18)\n",
      "memory usage: 1.1+ MB\n"
     ]
    }
   ],
   "source": [
    "df.info()"
   ]
  },
  {
   "cell_type": "markdown",
   "id": "77b38377",
   "metadata": {},
   "source": [
    "В следствие объединения таблиц было потеряна часть данных, однако в данном случае мы концентрируемся на полноте и достоверности имеющихся."
   ]
  },
  {
   "cell_type": "markdown",
   "id": "15b037a9",
   "metadata": {},
   "source": [
    "## Обработка пропусков"
   ]
  },
  {
   "cell_type": "markdown",
   "id": "01b7fa66",
   "metadata": {},
   "source": [
    "Оценим общее количество пропусков в наших данных после объединения."
   ]
  },
  {
   "cell_type": "code",
   "execution_count": 17,
   "id": "e15e7d5b",
   "metadata": {},
   "outputs": [],
   "source": [
    "def nan_plot(data):\n",
    "    \n",
    "    perc_of_nan = pd.DataFrame(data.isna().mean().sort_values(ascending=False)*100)\n",
    "    perc_of_nan.columns = ['percent']\n",
    "    perc_of_nan.dropna()\n",
    "    perc_of_nan = perc_of_nan[perc_of_nan['percent']!=0]\n",
    "    \n",
    "    f, ax = plt.subplots(figsize=(10, 7))\n",
    "    \n",
    "    sns.barplot(x='percent',\n",
    "                y=perc_of_nan.index,\n",
    "                data=perc_of_nan,\n",
    "                color='#56B4E9')\n",
    "\n",
    "    plt.title('Bar Plot of NaN')\n",
    "    plt.xlabel('Percent of NaN, %')\n",
    "    plt.ylabel('Variable')\n",
    "    plt.show()\n",
    "    \n",
    "    return perc_of_nan"
   ]
  },
  {
   "cell_type": "code",
   "execution_count": 18,
   "id": "eb4118d6",
   "metadata": {},
   "outputs": [
    {
     "data": {
      "image/png": "[encoded data removed]",
      "text/plain": [
       "<Figure size 720x504 with 1 Axes>"
      ]
     },
     "metadata": {},
     "output_type": "display_data"
    },
    {
     "data": {
      "text/html": [
       "<div>\n",
       "<style scoped>\n",
       "    .dataframe tbody tr th:only-of-type {\n",
       "        vertical-align: middle;\n",
       "    }\n",
       "\n",
       "    .dataframe tbody tr th {\n",
       "        vertical-align: top;\n",
       "    }\n",
       "\n",
       "    .dataframe thead th {\n",
       "        text-align: right;\n",
       "    }\n",
       "</style>\n",
       "<table border=\"1\" class=\"dataframe\">\n",
       "  <thead>\n",
       "    <tr style=\"text-align: right;\">\n",
       "      <th></th>\n",
       "      <th>percent</th>\n",
       "    </tr>\n",
       "  </thead>\n",
       "  <tbody>\n",
       "    <tr>\n",
       "      <th>StreamingMovies</th>\n",
       "      <td>21.666903</td>\n",
       "    </tr>\n",
       "    <tr>\n",
       "      <th>StreamingTV</th>\n",
       "      <td>21.666903</td>\n",
       "    </tr>\n",
       "    <tr>\n",
       "      <th>TechSupport</th>\n",
       "      <td>21.666903</td>\n",
       "    </tr>\n",
       "    <tr>\n",
       "      <th>DeviceProtection</th>\n",
       "      <td>21.666903</td>\n",
       "    </tr>\n",
       "    <tr>\n",
       "      <th>OnlineBackup</th>\n",
       "      <td>21.666903</td>\n",
       "    </tr>\n",
       "    <tr>\n",
       "      <th>OnlineSecurity</th>\n",
       "      <td>21.666903</td>\n",
       "    </tr>\n",
       "    <tr>\n",
       "      <th>InternetService</th>\n",
       "      <td>21.666903</td>\n",
       "    </tr>\n",
       "    <tr>\n",
       "      <th>MultipleLines</th>\n",
       "      <td>9.683374</td>\n",
       "    </tr>\n",
       "  </tbody>\n",
       "</table>\n",
       "</div>"
      ],
      "text/plain": [
       "                    percent\n",
       "StreamingMovies   21.666903\n",
       "StreamingTV       21.666903\n",
       "TechSupport       21.666903\n",
       "DeviceProtection  21.666903\n",
       "OnlineBackup      21.666903\n",
       "OnlineSecurity    21.666903\n",
       "InternetService   21.666903\n",
       "MultipleLines      9.683374"
      ]
     },
     "execution_count": 18,
     "metadata": {},
     "output_type": "execute_result"
    }
   ],
   "source": [
    "nan_plot(df)"
   ]
  },
  {
   "cell_type": "markdown",
   "id": "650116e7",
   "metadata": {},
   "source": [
    "Большая часть пропусков относиться к данным, которые описывают дополнительные услуги, подключаемые клиентами. "
   ]
  },
  {
   "cell_type": "code",
   "execution_count": 19,
   "id": "0e263c75",
   "metadata": {},
   "outputs": [
    {
     "data": {
      "text/html": [
       "<div>\n",
       "<style scoped>\n",
       "    .dataframe tbody tr th:only-of-type {\n",
       "        vertical-align: middle;\n",
       "    }\n",
       "\n",
       "    .dataframe tbody tr th {\n",
       "        vertical-align: top;\n",
       "    }\n",
       "\n",
       "    .dataframe thead th {\n",
       "        text-align: right;\n",
       "    }\n",
       "</style>\n",
       "<table border=\"1\" class=\"dataframe\">\n",
       "  <thead>\n",
       "    <tr style=\"text-align: right;\">\n",
       "      <th></th>\n",
       "      <th>customerID</th>\n",
       "      <th>BeginDate</th>\n",
       "      <th>EndDate</th>\n",
       "      <th>Type</th>\n",
       "      <th>PaperlessBilling</th>\n",
       "      <th>PaymentMethod</th>\n",
       "      <th>MonthlyCharges</th>\n",
       "      <th>TotalCharges</th>\n",
       "      <th>gender</th>\n",
       "      <th>SeniorCitizen</th>\n",
       "      <th>Partner</th>\n",
       "      <th>Dependents</th>\n",
       "      <th>InternetService</th>\n",
       "      <th>OnlineSecurity</th>\n",
       "      <th>OnlineBackup</th>\n",
       "      <th>DeviceProtection</th>\n",
       "      <th>TechSupport</th>\n",
       "      <th>StreamingTV</th>\n",
       "      <th>StreamingMovies</th>\n",
       "      <th>MultipleLines</th>\n",
       "    </tr>\n",
       "  </thead>\n",
       "  <tbody>\n",
       "    <tr>\n",
       "      <th>5139</th>\n",
       "      <td>5549-ZGHFB</td>\n",
       "      <td>2015-12-01</td>\n",
       "      <td>No</td>\n",
       "      <td>Two year</td>\n",
       "      <td>No</td>\n",
       "      <td>Mailed check</td>\n",
       "      <td>24.95</td>\n",
       "      <td>1261.45</td>\n",
       "      <td>Male</td>\n",
       "      <td>0</td>\n",
       "      <td>Yes</td>\n",
       "      <td>Yes</td>\n",
       "      <td>NaN</td>\n",
       "      <td>NaN</td>\n",
       "      <td>NaN</td>\n",
       "      <td>NaN</td>\n",
       "      <td>NaN</td>\n",
       "      <td>NaN</td>\n",
       "      <td>NaN</td>\n",
       "      <td>Yes</td>\n",
       "    </tr>\n",
       "    <tr>\n",
       "      <th>6657</th>\n",
       "      <td>0048-PIHNL</td>\n",
       "      <td>2016-01-01</td>\n",
       "      <td>No</td>\n",
       "      <td>One year</td>\n",
       "      <td>No</td>\n",
       "      <td>Bank transfer (automatic)</td>\n",
       "      <td>20.45</td>\n",
       "      <td>900.9</td>\n",
       "      <td>Female</td>\n",
       "      <td>0</td>\n",
       "      <td>Yes</td>\n",
       "      <td>No</td>\n",
       "      <td>NaN</td>\n",
       "      <td>NaN</td>\n",
       "      <td>NaN</td>\n",
       "      <td>NaN</td>\n",
       "      <td>NaN</td>\n",
       "      <td>NaN</td>\n",
       "      <td>NaN</td>\n",
       "      <td>No</td>\n",
       "    </tr>\n",
       "    <tr>\n",
       "      <th>3963</th>\n",
       "      <td>3274-NSDWE</td>\n",
       "      <td>2014-06-01</td>\n",
       "      <td>No</td>\n",
       "      <td>Two year</td>\n",
       "      <td>No</td>\n",
       "      <td>Credit card (automatic)</td>\n",
       "      <td>19.60</td>\n",
       "      <td>1441.65</td>\n",
       "      <td>Female</td>\n",
       "      <td>0</td>\n",
       "      <td>No</td>\n",
       "      <td>No</td>\n",
       "      <td>NaN</td>\n",
       "      <td>NaN</td>\n",
       "      <td>NaN</td>\n",
       "      <td>NaN</td>\n",
       "      <td>NaN</td>\n",
       "      <td>NaN</td>\n",
       "      <td>NaN</td>\n",
       "      <td>No</td>\n",
       "    </tr>\n",
       "    <tr>\n",
       "      <th>5896</th>\n",
       "      <td>1635-NZATJ</td>\n",
       "      <td>2014-03-01</td>\n",
       "      <td>No</td>\n",
       "      <td>Two year</td>\n",
       "      <td>No</td>\n",
       "      <td>Credit card (automatic)</td>\n",
       "      <td>25.45</td>\n",
       "      <td>1789.65</td>\n",
       "      <td>Male</td>\n",
       "      <td>1</td>\n",
       "      <td>Yes</td>\n",
       "      <td>No</td>\n",
       "      <td>NaN</td>\n",
       "      <td>NaN</td>\n",
       "      <td>NaN</td>\n",
       "      <td>NaN</td>\n",
       "      <td>NaN</td>\n",
       "      <td>NaN</td>\n",
       "      <td>NaN</td>\n",
       "      <td>Yes</td>\n",
       "    </tr>\n",
       "    <tr>\n",
       "      <th>5150</th>\n",
       "      <td>7017-VFULY</td>\n",
       "      <td>2019-12-01</td>\n",
       "      <td>No</td>\n",
       "      <td>Month-to-month</td>\n",
       "      <td>No</td>\n",
       "      <td>Bank transfer (automatic)</td>\n",
       "      <td>20.10</td>\n",
       "      <td>43.15</td>\n",
       "      <td>Female</td>\n",
       "      <td>0</td>\n",
       "      <td>Yes</td>\n",
       "      <td>No</td>\n",
       "      <td>NaN</td>\n",
       "      <td>NaN</td>\n",
       "      <td>NaN</td>\n",
       "      <td>NaN</td>\n",
       "      <td>NaN</td>\n",
       "      <td>NaN</td>\n",
       "      <td>NaN</td>\n",
       "      <td>No</td>\n",
       "    </tr>\n",
       "  </tbody>\n",
       "</table>\n",
       "</div>"
      ],
      "text/plain": [
       "      customerID   BeginDate EndDate            Type PaperlessBilling  \\\n",
       "5139  5549-ZGHFB  2015-12-01      No        Two year               No   \n",
       "6657  0048-PIHNL  2016-01-01      No        One year               No   \n",
       "3963  3274-NSDWE  2014-06-01      No        Two year               No   \n",
       "5896  1635-NZATJ  2014-03-01      No        Two year               No   \n",
       "5150  7017-VFULY  2019-12-01      No  Month-to-month               No   \n",
       "\n",
       "                  PaymentMethod  MonthlyCharges TotalCharges  gender  \\\n",
       "5139               Mailed check           24.95      1261.45    Male   \n",
       "6657  Bank transfer (automatic)           20.45        900.9  Female   \n",
       "3963    Credit card (automatic)           19.60      1441.65  Female   \n",
       "5896    Credit card (automatic)           25.45      1789.65    Male   \n",
       "5150  Bank transfer (automatic)           20.10        43.15  Female   \n",
       "\n",
       "      SeniorCitizen Partner Dependents InternetService OnlineSecurity  \\\n",
       "5139              0     Yes        Yes             NaN            NaN   \n",
       "6657              0     Yes         No             NaN            NaN   \n",
       "3963              0      No         No             NaN            NaN   \n",
       "5896              1     Yes         No             NaN            NaN   \n",
       "5150              0     Yes         No             NaN            NaN   \n",
       "\n",
       "     OnlineBackup DeviceProtection TechSupport StreamingTV StreamingMovies  \\\n",
       "5139          NaN              NaN         NaN         NaN             NaN   \n",
       "6657          NaN              NaN         NaN         NaN             NaN   \n",
       "3963          NaN              NaN         NaN         NaN             NaN   \n",
       "5896          NaN              NaN         NaN         NaN             NaN   \n",
       "5150          NaN              NaN         NaN         NaN             NaN   \n",
       "\n",
       "     MultipleLines  \n",
       "5139           Yes  \n",
       "6657            No  \n",
       "3963            No  \n",
       "5896           Yes  \n",
       "5150            No  "
      ]
     },
     "execution_count": 19,
     "metadata": {},
     "output_type": "execute_result"
    }
   ],
   "source": [
    "df.loc[df['StreamingMovies'].isnull()].sample(n=5, replace=True, random_state=42)"
   ]
  },
  {
   "cell_type": "markdown",
   "id": "a111f05c",
   "metadata": {},
   "source": [
    "Предположим, что данные пропуски просто указывают на отсутвие у пользователей каких-либо дополнительных услуг."
   ]
  },
  {
   "cell_type": "code",
   "execution_count": 20,
   "id": "0f796fa0",
   "metadata": {},
   "outputs": [],
   "source": [
    "df = df.fillna('No')"
   ]
  },
  {
   "cell_type": "markdown",
   "id": "fea555c1",
   "metadata": {},
   "source": [
    "## Обработка типов данных"
   ]
  },
  {
   "cell_type": "markdown",
   "id": "bb745a7e",
   "metadata": {},
   "source": [
    "Обработаем переменную `TotalCharges`. Оценим значения, заполненные пустыми значениями."
   ]
  },
  {
   "cell_type": "code",
   "execution_count": 21,
   "id": "f7f5ae3e",
   "metadata": {},
   "outputs": [
    {
     "data": {
      "text/html": [
       "<div>\n",
       "<style scoped>\n",
       "    .dataframe tbody tr th:only-of-type {\n",
       "        vertical-align: middle;\n",
       "    }\n",
       "\n",
       "    .dataframe tbody tr th {\n",
       "        vertical-align: top;\n",
       "    }\n",
       "\n",
       "    .dataframe thead th {\n",
       "        text-align: right;\n",
       "    }\n",
       "</style>\n",
       "<table border=\"1\" class=\"dataframe\">\n",
       "  <thead>\n",
       "    <tr style=\"text-align: right;\">\n",
       "      <th></th>\n",
       "      <th>customerID</th>\n",
       "      <th>BeginDate</th>\n",
       "      <th>EndDate</th>\n",
       "      <th>Type</th>\n",
       "      <th>PaperlessBilling</th>\n",
       "      <th>PaymentMethod</th>\n",
       "      <th>MonthlyCharges</th>\n",
       "      <th>TotalCharges</th>\n",
       "      <th>gender</th>\n",
       "      <th>SeniorCitizen</th>\n",
       "      <th>Partner</th>\n",
       "      <th>Dependents</th>\n",
       "      <th>InternetService</th>\n",
       "      <th>OnlineSecurity</th>\n",
       "      <th>OnlineBackup</th>\n",
       "      <th>DeviceProtection</th>\n",
       "      <th>TechSupport</th>\n",
       "      <th>StreamingTV</th>\n",
       "      <th>StreamingMovies</th>\n",
       "      <th>MultipleLines</th>\n",
       "    </tr>\n",
       "  </thead>\n",
       "  <tbody>\n",
       "    <tr>\n",
       "      <th>488</th>\n",
       "      <td>4472-LVYGI</td>\n",
       "      <td>2020-02-01</td>\n",
       "      <td>No</td>\n",
       "      <td>Two year</td>\n",
       "      <td>Yes</td>\n",
       "      <td>Bank transfer (automatic)</td>\n",
       "      <td>52.55</td>\n",
       "      <td></td>\n",
       "      <td>Female</td>\n",
       "      <td>0</td>\n",
       "      <td>Yes</td>\n",
       "      <td>Yes</td>\n",
       "      <td>DSL</td>\n",
       "      <td>Yes</td>\n",
       "      <td>No</td>\n",
       "      <td>Yes</td>\n",
       "      <td>Yes</td>\n",
       "      <td>Yes</td>\n",
       "      <td>No</td>\n",
       "      <td>No</td>\n",
       "    </tr>\n",
       "    <tr>\n",
       "      <th>753</th>\n",
       "      <td>3115-CZMZD</td>\n",
       "      <td>2020-02-01</td>\n",
       "      <td>No</td>\n",
       "      <td>Two year</td>\n",
       "      <td>No</td>\n",
       "      <td>Mailed check</td>\n",
       "      <td>20.25</td>\n",
       "      <td></td>\n",
       "      <td>Male</td>\n",
       "      <td>0</td>\n",
       "      <td>No</td>\n",
       "      <td>Yes</td>\n",
       "      <td>No</td>\n",
       "      <td>No</td>\n",
       "      <td>No</td>\n",
       "      <td>No</td>\n",
       "      <td>No</td>\n",
       "      <td>No</td>\n",
       "      <td>No</td>\n",
       "      <td>No</td>\n",
       "    </tr>\n",
       "    <tr>\n",
       "      <th>936</th>\n",
       "      <td>5709-LVOEQ</td>\n",
       "      <td>2020-02-01</td>\n",
       "      <td>No</td>\n",
       "      <td>Two year</td>\n",
       "      <td>No</td>\n",
       "      <td>Mailed check</td>\n",
       "      <td>80.85</td>\n",
       "      <td></td>\n",
       "      <td>Female</td>\n",
       "      <td>0</td>\n",
       "      <td>Yes</td>\n",
       "      <td>Yes</td>\n",
       "      <td>DSL</td>\n",
       "      <td>Yes</td>\n",
       "      <td>Yes</td>\n",
       "      <td>Yes</td>\n",
       "      <td>No</td>\n",
       "      <td>Yes</td>\n",
       "      <td>Yes</td>\n",
       "      <td>No</td>\n",
       "    </tr>\n",
       "    <tr>\n",
       "      <th>1082</th>\n",
       "      <td>4367-NUYAO</td>\n",
       "      <td>2020-02-01</td>\n",
       "      <td>No</td>\n",
       "      <td>Two year</td>\n",
       "      <td>No</td>\n",
       "      <td>Mailed check</td>\n",
       "      <td>25.75</td>\n",
       "      <td></td>\n",
       "      <td>Male</td>\n",
       "      <td>0</td>\n",
       "      <td>Yes</td>\n",
       "      <td>Yes</td>\n",
       "      <td>No</td>\n",
       "      <td>No</td>\n",
       "      <td>No</td>\n",
       "      <td>No</td>\n",
       "      <td>No</td>\n",
       "      <td>No</td>\n",
       "      <td>No</td>\n",
       "      <td>Yes</td>\n",
       "    </tr>\n",
       "    <tr>\n",
       "      <th>1340</th>\n",
       "      <td>1371-DWPAZ</td>\n",
       "      <td>2020-02-01</td>\n",
       "      <td>No</td>\n",
       "      <td>Two year</td>\n",
       "      <td>No</td>\n",
       "      <td>Credit card (automatic)</td>\n",
       "      <td>56.05</td>\n",
       "      <td></td>\n",
       "      <td>Female</td>\n",
       "      <td>0</td>\n",
       "      <td>Yes</td>\n",
       "      <td>Yes</td>\n",
       "      <td>DSL</td>\n",
       "      <td>Yes</td>\n",
       "      <td>Yes</td>\n",
       "      <td>Yes</td>\n",
       "      <td>Yes</td>\n",
       "      <td>Yes</td>\n",
       "      <td>No</td>\n",
       "      <td>No</td>\n",
       "    </tr>\n",
       "    <tr>\n",
       "      <th>3331</th>\n",
       "      <td>7644-OMVMY</td>\n",
       "      <td>2020-02-01</td>\n",
       "      <td>No</td>\n",
       "      <td>Two year</td>\n",
       "      <td>No</td>\n",
       "      <td>Mailed check</td>\n",
       "      <td>19.85</td>\n",
       "      <td></td>\n",
       "      <td>Male</td>\n",
       "      <td>0</td>\n",
       "      <td>Yes</td>\n",
       "      <td>Yes</td>\n",
       "      <td>No</td>\n",
       "      <td>No</td>\n",
       "      <td>No</td>\n",
       "      <td>No</td>\n",
       "      <td>No</td>\n",
       "      <td>No</td>\n",
       "      <td>No</td>\n",
       "      <td>No</td>\n",
       "    </tr>\n",
       "    <tr>\n",
       "      <th>3826</th>\n",
       "      <td>3213-VVOLG</td>\n",
       "      <td>2020-02-01</td>\n",
       "      <td>No</td>\n",
       "      <td>Two year</td>\n",
       "      <td>No</td>\n",
       "      <td>Mailed check</td>\n",
       "      <td>25.35</td>\n",
       "      <td></td>\n",
       "      <td>Male</td>\n",
       "      <td>0</td>\n",
       "      <td>Yes</td>\n",
       "      <td>Yes</td>\n",
       "      <td>No</td>\n",
       "      <td>No</td>\n",
       "      <td>No</td>\n",
       "      <td>No</td>\n",
       "      <td>No</td>\n",
       "      <td>No</td>\n",
       "      <td>No</td>\n",
       "      <td>Yes</td>\n",
       "    </tr>\n",
       "    <tr>\n",
       "      <th>4380</th>\n",
       "      <td>2520-SGTTA</td>\n",
       "      <td>2020-02-01</td>\n",
       "      <td>No</td>\n",
       "      <td>Two year</td>\n",
       "      <td>No</td>\n",
       "      <td>Mailed check</td>\n",
       "      <td>20.00</td>\n",
       "      <td></td>\n",
       "      <td>Female</td>\n",
       "      <td>0</td>\n",
       "      <td>Yes</td>\n",
       "      <td>Yes</td>\n",
       "      <td>No</td>\n",
       "      <td>No</td>\n",
       "      <td>No</td>\n",
       "      <td>No</td>\n",
       "      <td>No</td>\n",
       "      <td>No</td>\n",
       "      <td>No</td>\n",
       "      <td>No</td>\n",
       "    </tr>\n",
       "    <tr>\n",
       "      <th>5218</th>\n",
       "      <td>2923-ARZLG</td>\n",
       "      <td>2020-02-01</td>\n",
       "      <td>No</td>\n",
       "      <td>One year</td>\n",
       "      <td>Yes</td>\n",
       "      <td>Mailed check</td>\n",
       "      <td>19.70</td>\n",
       "      <td></td>\n",
       "      <td>Male</td>\n",
       "      <td>0</td>\n",
       "      <td>Yes</td>\n",
       "      <td>Yes</td>\n",
       "      <td>No</td>\n",
       "      <td>No</td>\n",
       "      <td>No</td>\n",
       "      <td>No</td>\n",
       "      <td>No</td>\n",
       "      <td>No</td>\n",
       "      <td>No</td>\n",
       "      <td>No</td>\n",
       "    </tr>\n",
       "    <tr>\n",
       "      <th>6670</th>\n",
       "      <td>4075-WKNIU</td>\n",
       "      <td>2020-02-01</td>\n",
       "      <td>No</td>\n",
       "      <td>Two year</td>\n",
       "      <td>No</td>\n",
       "      <td>Mailed check</td>\n",
       "      <td>73.35</td>\n",
       "      <td></td>\n",
       "      <td>Female</td>\n",
       "      <td>0</td>\n",
       "      <td>Yes</td>\n",
       "      <td>Yes</td>\n",
       "      <td>DSL</td>\n",
       "      <td>No</td>\n",
       "      <td>Yes</td>\n",
       "      <td>Yes</td>\n",
       "      <td>Yes</td>\n",
       "      <td>Yes</td>\n",
       "      <td>No</td>\n",
       "      <td>Yes</td>\n",
       "    </tr>\n",
       "    <tr>\n",
       "      <th>6754</th>\n",
       "      <td>2775-SEFEE</td>\n",
       "      <td>2020-02-01</td>\n",
       "      <td>No</td>\n",
       "      <td>Two year</td>\n",
       "      <td>Yes</td>\n",
       "      <td>Bank transfer (automatic)</td>\n",
       "      <td>61.90</td>\n",
       "      <td></td>\n",
       "      <td>Male</td>\n",
       "      <td>0</td>\n",
       "      <td>No</td>\n",
       "      <td>Yes</td>\n",
       "      <td>DSL</td>\n",
       "      <td>Yes</td>\n",
       "      <td>Yes</td>\n",
       "      <td>No</td>\n",
       "      <td>Yes</td>\n",
       "      <td>No</td>\n",
       "      <td>No</td>\n",
       "      <td>Yes</td>\n",
       "    </tr>\n",
       "  </tbody>\n",
       "</table>\n",
       "</div>"
      ],
      "text/plain": [
       "      customerID   BeginDate EndDate      Type PaperlessBilling  \\\n",
       "488   4472-LVYGI  2020-02-01      No  Two year              Yes   \n",
       "753   3115-CZMZD  2020-02-01      No  Two year               No   \n",
       "936   5709-LVOEQ  2020-02-01      No  Two year               No   \n",
       "1082  4367-NUYAO  2020-02-01      No  Two year               No   \n",
       "1340  1371-DWPAZ  2020-02-01      No  Two year               No   \n",
       "3331  7644-OMVMY  2020-02-01      No  Two year               No   \n",
       "3826  3213-VVOLG  2020-02-01      No  Two year               No   \n",
       "4380  2520-SGTTA  2020-02-01      No  Two year               No   \n",
       "5218  2923-ARZLG  2020-02-01      No  One year              Yes   \n",
       "6670  4075-WKNIU  2020-02-01      No  Two year               No   \n",
       "6754  2775-SEFEE  2020-02-01      No  Two year              Yes   \n",
       "\n",
       "                  PaymentMethod  MonthlyCharges TotalCharges  gender  \\\n",
       "488   Bank transfer (automatic)           52.55               Female   \n",
       "753                Mailed check           20.25                 Male   \n",
       "936                Mailed check           80.85               Female   \n",
       "1082               Mailed check           25.75                 Male   \n",
       "1340    Credit card (automatic)           56.05               Female   \n",
       "3331               Mailed check           19.85                 Male   \n",
       "3826               Mailed check           25.35                 Male   \n",
       "4380               Mailed check           20.00               Female   \n",
       "5218               Mailed check           19.70                 Male   \n",
       "6670               Mailed check           73.35               Female   \n",
       "6754  Bank transfer (automatic)           61.90                 Male   \n",
       "\n",
       "      SeniorCitizen Partner Dependents InternetService OnlineSecurity  \\\n",
       "488               0     Yes        Yes             DSL            Yes   \n",
       "753               0      No        Yes              No             No   \n",
       "936               0     Yes        Yes             DSL            Yes   \n",
       "1082              0     Yes        Yes              No             No   \n",
       "1340              0     Yes        Yes             DSL            Yes   \n",
       "3331              0     Yes        Yes              No             No   \n",
       "3826              0     Yes        Yes              No             No   \n",
       "4380              0     Yes        Yes              No             No   \n",
       "5218              0     Yes        Yes              No             No   \n",
       "6670              0     Yes        Yes             DSL             No   \n",
       "6754              0      No        Yes             DSL            Yes   \n",
       "\n",
       "     OnlineBackup DeviceProtection TechSupport StreamingTV StreamingMovies  \\\n",
       "488            No              Yes         Yes         Yes              No   \n",
       "753            No               No          No          No              No   \n",
       "936           Yes              Yes          No         Yes             Yes   \n",
       "1082           No               No          No          No              No   \n",
       "1340          Yes              Yes         Yes         Yes              No   \n",
       "3331           No               No          No          No              No   \n",
       "3826           No               No          No          No              No   \n",
       "4380           No               No          No          No              No   \n",
       "5218           No               No          No          No              No   \n",
       "6670          Yes              Yes         Yes         Yes              No   \n",
       "6754          Yes               No         Yes          No              No   \n",
       "\n",
       "     MultipleLines  \n",
       "488             No  \n",
       "753             No  \n",
       "936             No  \n",
       "1082           Yes  \n",
       "1340            No  \n",
       "3331            No  \n",
       "3826           Yes  \n",
       "4380            No  \n",
       "5218            No  \n",
       "6670           Yes  \n",
       "6754           Yes  "
      ]
     },
     "execution_count": 21,
     "metadata": {},
     "output_type": "execute_result"
    }
   ],
   "source": [
    "df.loc[df['TotalCharges']==' ']"
   ]
  },
  {
   "cell_type": "markdown",
   "id": "13a0b94d",
   "metadata": {},
   "source": [
    "Судя по всему, пропуски связаны с тем, что данные пользователи подключили услуги лишь 1 февраля 2020. Проставим общую сумму равной нулю."
   ]
  },
  {
   "cell_type": "code",
   "execution_count": 22,
   "id": "c99e748f",
   "metadata": {},
   "outputs": [],
   "source": [
    "df.loc[df['TotalCharges']==' ', 'TotalCharges'] = np.NaN"
   ]
  },
  {
   "cell_type": "code",
   "execution_count": 23,
   "id": "1b5c64a9",
   "metadata": {},
   "outputs": [],
   "source": [
    "df['TotalCharges'] = df['TotalCharges'].fillna(0)"
   ]
  },
  {
   "cell_type": "markdown",
   "id": "57367dce",
   "metadata": {},
   "source": [
    "Преобразуем данные к более подходящим типам."
   ]
  },
  {
   "cell_type": "code",
   "execution_count": 24,
   "id": "481c5c50",
   "metadata": {},
   "outputs": [],
   "source": [
    "df['MonthlyCharges'] = df['MonthlyCharges'].astype('float32')\n",
    "df['TotalCharges'] = df['TotalCharges'].astype('float32')\n",
    "df['SeniorCitizen'] = df['SeniorCitizen'].astype('int8')"
   ]
  },
  {
   "cell_type": "code",
   "execution_count": 25,
   "id": "b0e58d6e",
   "metadata": {},
   "outputs": [
    {
     "data": {
      "text/plain": [
       "customerID           object\n",
       "BeginDate            object\n",
       "EndDate              object\n",
       "Type                 object\n",
       "PaperlessBilling     object\n",
       "PaymentMethod        object\n",
       "MonthlyCharges      float32\n",
       "TotalCharges        float32\n",
       "gender               object\n",
       "SeniorCitizen          int8\n",
       "Partner              object\n",
       "Dependents           object\n",
       "InternetService      object\n",
       "OnlineSecurity       object\n",
       "OnlineBackup         object\n",
       "DeviceProtection     object\n",
       "TechSupport          object\n",
       "StreamingTV          object\n",
       "StreamingMovies      object\n",
       "MultipleLines        object\n",
       "dtype: object"
      ]
     },
     "execution_count": 25,
     "metadata": {},
     "output_type": "execute_result"
    }
   ],
   "source": [
    "df.dtypes"
   ]
  },
  {
   "cell_type": "markdown",
   "id": "086fb0ef",
   "metadata": {},
   "source": [
    "## EDA"
   ]
  },
  {
   "cell_type": "markdown",
   "id": "e48be76c",
   "metadata": {},
   "source": [
    "### Оценка распределения переменных"
   ]
  },
  {
   "cell_type": "markdown",
   "id": "2aa9ffa3",
   "metadata": {},
   "source": [
    "Для дальнейшего анализа введем новую переменную - время жизни клиента."
   ]
  },
  {
   "cell_type": "code",
   "execution_count": 26,
   "id": "e0e3628f",
   "metadata": {},
   "outputs": [],
   "source": [
    "def life_time(data_input):\n",
    "    \n",
    "    data = data_input.copy()\n",
    "    \n",
    "    data['BeginDate'] = pd.to_datetime(data['BeginDate'], format='%Y-%m-%dT')\n",
    "\n",
    "    data.loc[df['EndDate']=='No', 'EndDate'] = '2020-02-01'\n",
    "    data['EndDate'] = pd.to_datetime(data['EndDate'], format='%Y-%m-%dT')\n",
    "    \n",
    "    data['life_time'] = data['EndDate'] - data['BeginDate']\n",
    "    \n",
    "    def date2int(input_value):\n",
    "    \n",
    "        result = int(str(input_value).replace(' days 00:00:00', ''))\n",
    "\n",
    "        return result\n",
    "    \n",
    "    data['life_time'] = data['life_time'].apply(date2int)\n",
    "    \n",
    "    return data['life_time']"
   ]
  },
  {
   "cell_type": "markdown",
   "id": "b7b3d377",
   "metadata": {},
   "source": [
    "Добавим еще несколько признаков на основе времени жизни клиента."
   ]
  },
  {
   "cell_type": "code",
   "execution_count": 27,
   "id": "0be34881",
   "metadata": {},
   "outputs": [],
   "source": [
    "df['life_time'] = life_time(df)"
   ]
  },
  {
   "cell_type": "markdown",
   "id": "1d987b7c",
   "metadata": {},
   "source": [
    "Определим функцию для выведения распределений графиков непрерывных переменных."
   ]
  },
  {
   "cell_type": "code",
   "execution_count": 28,
   "id": "aa8395dd",
   "metadata": {},
   "outputs": [],
   "source": [
    "def plot_hist(data, column):\n",
    "\n",
    "    f, (ax_box, ax_hist) = plt.subplots(2,\n",
    "                                        sharex=True,\n",
    "                                        gridspec_kw={'height_ratios': (.15, .85)},\n",
    "                                        figsize=(8, 5))\n",
    "\n",
    "    sns.distplot(data[column],\n",
    "                 hist=True,\n",
    "                 kde=True, \n",
    "                 bins=24,\n",
    "                 hist_kws={'edgecolor':'black'})\n",
    "    sns.boxplot(data[column],\n",
    "                ax=ax_box) \n",
    "\n",
    "    ax_box.set(xlabel='')\n",
    "    \n",
    "    plt.xlabel(column)\n",
    "    plt.ylabel('Density')\n",
    "    plt.title('{} distribution with hist'.format(column))\n",
    "    \n",
    "    plt.show()"
   ]
  },
  {
   "cell_type": "markdown",
   "id": "59691a18",
   "metadata": {},
   "source": [
    "Посмотрим на распределения `MonthlyCharges` и  `TotalCharges`."
   ]
  },
  {
   "cell_type": "code",
   "execution_count": 29,
   "id": "b3c724aa",
   "metadata": {},
   "outputs": [
    {
     "data": {
      "image/png": "[encoded data removed]",
      "text/plain": [
       "<Figure size 576x360 with 2 Axes>"
      ]
     },
     "metadata": {},
     "output_type": "display_data"
    },
    {
     "data": {
      "image/png": "[encoded data removed]",
      "text/plain": [
       "<Figure size 576x360 with 2 Axes>"
      ]
     },
     "metadata": {},
     "output_type": "display_data"
    },
    {
     "data": {
      "image/png": "[encoded data removed]",
      "text/plain": [
       "<Figure size 576x360 with 2 Axes>"
      ]
     },
     "metadata": {},
     "output_type": "display_data"
    }
   ],
   "source": [
    "numerical_features = ['MonthlyCharges', 'TotalCharges', 'life_time']\n",
    "\n",
    "for i in numerical_features:\n",
    "    plot_hist(df, i)"
   ]
  },
  {
   "cell_type": "code",
   "execution_count": 30,
   "id": "89e7e88f",
   "metadata": {},
   "outputs": [
    {
     "data": {
      "text/html": [
       "<div>\n",
       "<style scoped>\n",
       "    .dataframe tbody tr th:only-of-type {\n",
       "        vertical-align: middle;\n",
       "    }\n",
       "\n",
       "    .dataframe tbody tr th {\n",
       "        vertical-align: top;\n",
       "    }\n",
       "\n",
       "    .dataframe thead th {\n",
       "        text-align: right;\n",
       "    }\n",
       "</style>\n",
       "<table border=\"1\" class=\"dataframe\">\n",
       "  <thead>\n",
       "    <tr style=\"text-align: right;\">\n",
       "      <th></th>\n",
       "      <th>MonthlyCharges</th>\n",
       "      <th>TotalCharges</th>\n",
       "    </tr>\n",
       "  </thead>\n",
       "  <tbody>\n",
       "    <tr>\n",
       "      <th>count</th>\n",
       "      <td>7043.000000</td>\n",
       "      <td>7043.000000</td>\n",
       "    </tr>\n",
       "    <tr>\n",
       "      <th>mean</th>\n",
       "      <td>64.761696</td>\n",
       "      <td>2279.734375</td>\n",
       "    </tr>\n",
       "    <tr>\n",
       "      <th>std</th>\n",
       "      <td>30.090048</td>\n",
       "      <td>2266.794434</td>\n",
       "    </tr>\n",
       "    <tr>\n",
       "      <th>min</th>\n",
       "      <td>18.250000</td>\n",
       "      <td>0.000000</td>\n",
       "    </tr>\n",
       "    <tr>\n",
       "      <th>25%</th>\n",
       "      <td>35.500000</td>\n",
       "      <td>398.549988</td>\n",
       "    </tr>\n",
       "    <tr>\n",
       "      <th>50%</th>\n",
       "      <td>70.349998</td>\n",
       "      <td>1394.550049</td>\n",
       "    </tr>\n",
       "    <tr>\n",
       "      <th>75%</th>\n",
       "      <td>89.849998</td>\n",
       "      <td>3786.599976</td>\n",
       "    </tr>\n",
       "    <tr>\n",
       "      <th>max</th>\n",
       "      <td>118.750000</td>\n",
       "      <td>8684.799805</td>\n",
       "    </tr>\n",
       "  </tbody>\n",
       "</table>\n",
       "</div>"
      ],
      "text/plain": [
       "       MonthlyCharges  TotalCharges\n",
       "count     7043.000000   7043.000000\n",
       "mean        64.761696   2279.734375\n",
       "std         30.090048   2266.794434\n",
       "min         18.250000      0.000000\n",
       "25%         35.500000    398.549988\n",
       "50%         70.349998   1394.550049\n",
       "75%         89.849998   3786.599976\n",
       "max        118.750000   8684.799805"
      ]
     },
     "execution_count": 30,
     "metadata": {},
     "output_type": "execute_result"
    }
   ],
   "source": [
    "df[['MonthlyCharges', 'TotalCharges']].describe()"
   ]
  },
  {
   "cell_type": "markdown",
   "id": "e6127807",
   "metadata": {},
   "source": [
    "Итак, большинство клиентов предпочитают тарифы с ежемесячной стоимость, приближенной к средней цене. Что касается общей суммы, которую принесли клиенты, то данная величина имеет логнормальное распределение. Время же жизни имеет распределение с двумя модами."
   ]
  },
  {
   "cell_type": "markdown",
   "id": "563419f9",
   "metadata": {},
   "source": [
    "Посмотрим на распределение дискретных переменных. Для этих целей определим соответствующую функцию."
   ]
  },
  {
   "cell_type": "code",
   "execution_count": 31,
   "id": "816dc4e8",
   "metadata": {},
   "outputs": [],
   "source": [
    "def unique(column):\n",
    "    \n",
    "    un = df[column]\n",
    "    un_count =  un.value_counts()\n",
    "    \n",
    "    plt.figure(figsize = (9,3))\n",
    "    \n",
    "    plt.bar(un_count.index, un_count)\n",
    "    \n",
    "    plt.xticks(un_count.index, un_count.index.values)\n",
    "    plt.ylabel('Frequency')\n",
    "    plt.title(column)\n",
    "    \n",
    "    plt.show()\n",
    "    \n",
    "    print('Unique values of column {}: \\n{}'.format(column, un_count))"
   ]
  },
  {
   "cell_type": "markdown",
   "id": "34a71454",
   "metadata": {},
   "source": [
    "Преобразуем переменную `EndDate` к бинарному типу и выведем ее как новый столбец."
   ]
  },
  {
   "cell_type": "code",
   "execution_count": 32,
   "id": "59e8f295",
   "metadata": {},
   "outputs": [],
   "source": [
    "df.loc[df['EndDate']=='No', 'EndDateNew'] = 0\n",
    "df.loc[df['EndDate']!='No', 'EndDateNew'] = 1\n",
    "\n",
    "df['EndDateNew'] = df['EndDateNew'].astype('int8')"
   ]
  },
  {
   "cell_type": "code",
   "execution_count": 33,
   "id": "9582d308",
   "metadata": {},
   "outputs": [
    {
     "data": {
      "text/plain": [
       "customerID           object\n",
       "BeginDate            object\n",
       "EndDate              object\n",
       "Type                 object\n",
       "PaperlessBilling     object\n",
       "PaymentMethod        object\n",
       "MonthlyCharges      float32\n",
       "TotalCharges        float32\n",
       "gender               object\n",
       "SeniorCitizen          int8\n",
       "Partner              object\n",
       "Dependents           object\n",
       "InternetService      object\n",
       "OnlineSecurity       object\n",
       "OnlineBackup         object\n",
       "DeviceProtection     object\n",
       "TechSupport          object\n",
       "StreamingTV          object\n",
       "StreamingMovies      object\n",
       "MultipleLines        object\n",
       "life_time             int64\n",
       "EndDateNew             int8\n",
       "dtype: object"
      ]
     },
     "execution_count": 33,
     "metadata": {},
     "output_type": "execute_result"
    }
   ],
   "source": [
    "df.dtypes"
   ]
  },
  {
   "cell_type": "markdown",
   "id": "ae1dd7e6",
   "metadata": {},
   "source": [
    "Определим переменную, с интересующими нас столбцами."
   ]
  },
  {
   "cell_type": "code",
   "execution_count": 34,
   "id": "2387a6d2",
   "metadata": {},
   "outputs": [],
   "source": [
    "discrete = df.dtypes[(df.dtypes=='object') | (df.dtypes=='int8')].index.drop(['customerID', 'BeginDate', 'EndDate'])"
   ]
  },
  {
   "cell_type": "code",
   "execution_count": 35,
   "id": "fc432769",
   "metadata": {
    "scrolled": false
   },
   "outputs": [
    {
     "data": {
      "image/png": "[encoded data removed]",
      "text/plain": [
       "<Figure size 648x216 with 1 Axes>"
      ]
     },
     "metadata": {},
     "output_type": "display_data"
    },
    {
     "name": "stdout",
     "output_type": "stream",
     "text": [
      "Unique values of column Type: \n",
      "Month-to-month    3875\n",
      "Two year          1695\n",
      "One year          1473\n",
      "Name: Type, dtype: int64\n"
     ]
    },
    {
     "data": {
      "image/png": "[encoded data removed]",
      "text/plain": [
       "<Figure size 648x216 with 1 Axes>"
      ]
     },
     "metadata": {},
     "output_type": "display_data"
    },
    {
     "name": "stdout",
     "output_type": "stream",
     "text": [
      "Unique values of column PaperlessBilling: \n",
      "Yes    4171\n",
      "No     2872\n",
      "Name: PaperlessBilling, dtype: int64\n"
     ]
    },
    {
     "data": {
      "image/png": "[encoded data removed]",
      "text/plain": [
       "<Figure size 648x216 with 1 Axes>"
      ]
     },
     "metadata": {},
     "output_type": "display_data"
    },
    {
     "name": "stdout",
     "output_type": "stream",
     "text": [
      "Unique values of column PaymentMethod: \n",
      "Electronic check             2365\n",
      "Mailed check                 1612\n",
      "Bank transfer (automatic)    1544\n",
      "Credit card (automatic)      1522\n",
      "Name: PaymentMethod, dtype: int64\n"
     ]
    },
    {
     "data": {
      "image/png": "[encoded data removed]",
      "text/plain": [
       "<Figure size 648x216 with 1 Axes>"
      ]
     },
     "metadata": {},
     "output_type": "display_data"
    },
    {
     "name": "stdout",
     "output_type": "stream",
     "text": [
      "Unique values of column gender: \n",
      "Male      3555\n",
      "Female    3488\n",
      "Name: gender, dtype: int64\n"
     ]
    },
    {
     "data": {
      "image/png": "[encoded data removed]",
      "text/plain": [
       "<Figure size 648x216 with 1 Axes>"
      ]
     },
     "metadata": {},
     "output_type": "display_data"
    },
    {
     "name": "stdout",
     "output_type": "stream",
     "text": [
      "Unique values of column SeniorCitizen: \n",
      "0    5901\n",
      "1    1142\n",
      "Name: SeniorCitizen, dtype: int64\n"
     ]
    },
    {
     "data": {
      "image/png": "[encoded data removed]",
      "text/plain": [
       "<Figure size 648x216 with 1 Axes>"
      ]
     },
     "metadata": {},
     "output_type": "display_data"
    },
    {
     "name": "stdout",
     "output_type": "stream",
     "text": [
      "Unique values of column Partner: \n",
      "No     3641\n",
      "Yes    3402\n",
      "Name: Partner, dtype: int64\n"
     ]
    },
    {
     "data": {
      "image/png": "[encoded data removed]",
      "text/plain": [
       "<Figure size 648x216 with 1 Axes>"
      ]
     },
     "metadata": {},
     "output_type": "display_data"
    },
    {
     "name": "stdout",
     "output_type": "stream",
     "text": [
      "Unique values of column Dependents: \n",
      "No     4933\n",
      "Yes    2110\n",
      "Name: Dependents, dtype: int64\n"
     ]
    },
    {
     "data": {
      "image/png": "[encoded data removed]",
      "text/plain": [
       "<Figure size 648x216 with 1 Axes>"
      ]
     },
     "metadata": {},
     "output_type": "display_data"
    },
    {
     "name": "stdout",
     "output_type": "stream",
     "text": [
      "Unique values of column InternetService: \n",
      "Fiber optic    3096\n",
      "DSL            2421\n",
      "No             1526\n",
      "Name: InternetService, dtype: int64\n"
     ]
    },
    {
     "data": {
      "image/png": "[encoded data removed]",
      "text/plain": [
       "<Figure size 648x216 with 1 Axes>"
      ]
     },
     "metadata": {},
     "output_type": "display_data"
    },
    {
     "name": "stdout",
     "output_type": "stream",
     "text": [
      "Unique values of column OnlineSecurity: \n",
      "No     5024\n",
      "Yes    2019\n",
      "Name: OnlineSecurity, dtype: int64\n"
     ]
    },
    {
     "data": {
      "image/png": "[encoded data removed]",
      "text/plain": [
       "<Figure size 648x216 with 1 Axes>"
      ]
     },
     "metadata": {},
     "output_type": "display_data"
    },
    {
     "name": "stdout",
     "output_type": "stream",
     "text": [
      "Unique values of column OnlineBackup: \n",
      "No     4614\n",
      "Yes    2429\n",
      "Name: OnlineBackup, dtype: int64\n"
     ]
    },
    {
     "data": {
      "image/png": "[encoded data removed]",
      "text/plain": [
       "<Figure size 648x216 with 1 Axes>"
      ]
     },
     "metadata": {},
     "output_type": "display_data"
    },
    {
     "name": "stdout",
     "output_type": "stream",
     "text": [
      "Unique values of column DeviceProtection: \n",
      "No     4621\n",
      "Yes    2422\n",
      "Name: DeviceProtection, dtype: int64\n"
     ]
    },
    {
     "data": {
      "image/png": "[encoded data removed]",
      "text/plain": [
       "<Figure size 648x216 with 1 Axes>"
      ]
     },
     "metadata": {},
     "output_type": "display_data"
    },
    {
     "name": "stdout",
     "output_type": "stream",
     "text": [
      "Unique values of column TechSupport: \n",
      "No     4999\n",
      "Yes    2044\n",
      "Name: TechSupport, dtype: int64\n"
     ]
    },
    {
     "data": {
      "image/png": "[encoded data removed]",
      "text/plain": [
       "<Figure size 648x216 with 1 Axes>"
      ]
     },
     "metadata": {},
     "output_type": "display_data"
    },
    {
     "name": "stdout",
     "output_type": "stream",
     "text": [
      "Unique values of column StreamingTV: \n",
      "No     4336\n",
      "Yes    2707\n",
      "Name: StreamingTV, dtype: int64\n"
     ]
    },
    {
     "data": {
      "image/png": "[encoded data removed]",
      "text/plain": [
       "<Figure size 648x216 with 1 Axes>"
      ]
     },
     "metadata": {},
     "output_type": "display_data"
    },
    {
     "name": "stdout",
     "output_type": "stream",
     "text": [
      "Unique values of column StreamingMovies: \n",
      "No     4311\n",
      "Yes    2732\n",
      "Name: StreamingMovies, dtype: int64\n"
     ]
    },
    {
     "data": {
      "image/png": "[encoded data removed]",
      "text/plain": [
       "<Figure size 648x216 with 1 Axes>"
      ]
     },
     "metadata": {},
     "output_type": "display_data"
    },
    {
     "name": "stdout",
     "output_type": "stream",
     "text": [
      "Unique values of column MultipleLines: \n",
      "No     4072\n",
      "Yes    2971\n",
      "Name: MultipleLines, dtype: int64\n"
     ]
    },
    {
     "data": {
      "image/png": "[encoded data removed]",
      "text/plain": [
       "<Figure size 648x216 with 1 Axes>"
      ]
     },
     "metadata": {},
     "output_type": "display_data"
    },
    {
     "name": "stdout",
     "output_type": "stream",
     "text": [
      "Unique values of column EndDateNew: \n",
      "0    5174\n",
      "1    1869\n",
      "Name: EndDateNew, dtype: int64\n"
     ]
    }
   ],
   "source": [
    "for i in discrete:\n",
    "    unique(i)"
   ]
  },
  {
   "cell_type": "markdown",
   "id": "bed91816",
   "metadata": {},
   "source": [
    "Величиной, представляющей для нас наибольший интерес является `EndDateNew`, которая указывает на уход клиента. Где $1$ - клиент больше не пользуется услугами нашей компании, а $0$ - клиент по-прежнему с нами. Как видно из приведенных графиков, большая часть клиентов промаркирована $0$, что не может не радовать. Именно относительно данной переменно мы и будем проводить последующие шаги анализа данных."
   ]
  },
  {
   "cell_type": "markdown",
   "id": "09492507",
   "metadata": {},
   "source": [
    "### Взаимосвязь переменных"
   ]
  },
  {
   "cell_type": "markdown",
   "id": "b10d807c",
   "metadata": {},
   "source": [
    "Построим  матрицы коэффициентов корреляции *Пирсона* и *Спирмена*, что поможет выявить меру связи предстваленных переменных.\n",
    "\n",
    "Коэффициент корреляции *Пирсона* - $r_{X_i, Y_i}$ для двух переменных $X_i$ и $Y_i$ рассчитывается следующим образом:\n",
    "\n",
    "\\begin{equation*}\n",
    "r_{X_i, Y_i}=\\frac{cov(X_i, Y_i)}{\\sigma_{X_i}\\sigma_{Y_i}} \\\n",
    "\\end{equation*}\n",
    "\n",
    "где\n",
    " - $cov(X_i, Y_i)$ ковариация переменных \n",
    " - $\\sigma_{X_i}\\sigma_{Y_i}$ седнеквадратическое отклонение для исследуемых признаков\n",
    "\n",
    "В общем случае для ***n***-мерной выборки, с набором переменных $X_i$ и $Y_i$ для, переведенных в ранговые - $rg_{X_i}, rg_{Y_i}$, коэффициент корреляции *Спирмена* - $r_s$ может быть рассчитан по следующей формуле: \n",
    "\n",
    "\n",
    "\n",
    "\\begin{equation*}\n",
    "r_s=r_{rg_{X}, rg_{Y}}=\\frac{cov(rg_{X}, rg_{Y})}{\\sigma_{rg_{X}}\\sigma_{rg_{Y}}} \\\n",
    "\\end{equation*}\n",
    "\n",
    "где\n",
    " - $r_{rg_{X}, rg_{Y}}$ - обозначени коэффициент корреляции *Пирсона* для ранговых переменных \n",
    " - $cov(rg_{X}, rg_{Y})$ - ковариация ранговых переменных \n",
    " - $\\sigma_{rg_{X}}\\sigma_{rg_{Y}}$ - среднеквадратическое отклонение ранговых переменных"
   ]
  },
  {
   "cell_type": "code",
   "execution_count": 36,
   "id": "8ac25dc1",
   "metadata": {},
   "outputs": [],
   "source": [
    "def corr_plots(data):\n",
    "    \n",
    "    pearson_matrix = data.corr(method='pearson')\n",
    "    spearman_matrix = data.corr(method='spearman')\n",
    "    \n",
    "    f, ax = plt.subplots(1, 2, figsize=(17, 7))\n",
    "    \n",
    "    sns.heatmap(pearson_matrix,\n",
    "                vmin=-1,\n",
    "                vmax=1,\n",
    "                center=0,\n",
    "                annot=True,\n",
    "                cmap='PuBu',\n",
    "                ax=ax[0])\n",
    "    \n",
    "    ax[0].set_title('Pearsons rank correlation coefficient')\n",
    "    \n",
    "    sns.heatmap(spearman_matrix,\n",
    "                vmin=-1,\n",
    "                vmax=1,\n",
    "                center=0,\n",
    "                annot=True,\n",
    "                cmap='PuBu',\n",
    "                ax=ax[1])\n",
    "    \n",
    "    ax[1].set_title('Spearmans correlation coefficient')\n",
    "    \n",
    "    plt.show()"
   ]
  },
  {
   "cell_type": "code",
   "execution_count": 37,
   "id": "4f40b6a5",
   "metadata": {},
   "outputs": [
    {
     "data": {
      "image/png": "[encoded data removed]",
      "text/plain": [
       "<Figure size 1224x504 with 4 Axes>"
      ]
     },
     "metadata": {},
     "output_type": "display_data"
    }
   ],
   "source": [
    "corr_plots(df)"
   ]
  },
  {
   "cell_type": "markdown",
   "id": "477922dd",
   "metadata": {},
   "source": [
    "Наиболее значимая положительная взаимосвязь имеется между временем жизни клиента и полной выручкой с клиента. Получается, чем больше клиента пользуется нашими услугами, тем большую кумулятивную прибыль он нам приносит. "
   ]
  },
  {
   "cell_type": "markdown",
   "id": "8bc6f4a9",
   "metadata": {},
   "source": [
    "## Оценка влияние на уход клиента"
   ]
  },
  {
   "cell_type": "markdown",
   "id": "f7eea9c9",
   "metadata": {},
   "source": [
    "Для следующего шага создадим отдельный датасет на основе сформированного ранее."
   ]
  },
  {
   "cell_type": "code",
   "execution_count": 38,
   "id": "9b23721c",
   "metadata": {},
   "outputs": [],
   "source": [
    "eda_columns = df.columns.drop(['customerID', 'BeginDate', 'EndDate'])"
   ]
  },
  {
   "cell_type": "code",
   "execution_count": 39,
   "id": "cc0d5b2c",
   "metadata": {},
   "outputs": [],
   "source": [
    "df_eda = df[eda_columns]"
   ]
  },
  {
   "cell_type": "markdown",
   "id": "d98cb69e",
   "metadata": {},
   "source": [
    "### Влияние категориальных переменных"
   ]
  },
  {
   "cell_type": "markdown",
   "id": "8be72ce6",
   "metadata": {},
   "source": [
    "Определим категориальные признаки, которые понадобятся нам для анализа."
   ]
  },
  {
   "cell_type": "code",
   "execution_count": 40,
   "id": "c1ff8e59",
   "metadata": {},
   "outputs": [],
   "source": [
    "categorical = eda_columns.drop(['MonthlyCharges', 'TotalCharges'])"
   ]
  },
  {
   "cell_type": "markdown",
   "id": "8980f505",
   "metadata": {},
   "source": [
    "Посмотри, по каким переменным у нас отличаются категории клиентов."
   ]
  },
  {
   "cell_type": "code",
   "execution_count": 41,
   "id": "365f4e4c",
   "metadata": {},
   "outputs": [],
   "source": [
    "pivot = df_eda.pivot_table(index=categorical[-1], values=categorical[:-1], aggfunc=pd.Series.mode)"
   ]
  },
  {
   "cell_type": "code",
   "execution_count": 42,
   "id": "d4ac7f01",
   "metadata": {},
   "outputs": [
    {
     "data": {
      "text/html": [
       "<div>\n",
       "<style scoped>\n",
       "    .dataframe tbody tr th:only-of-type {\n",
       "        vertical-align: middle;\n",
       "    }\n",
       "\n",
       "    .dataframe tbody tr th {\n",
       "        vertical-align: top;\n",
       "    }\n",
       "\n",
       "    .dataframe thead th {\n",
       "        text-align: right;\n",
       "    }\n",
       "</style>\n",
       "<table border=\"1\" class=\"dataframe\">\n",
       "  <thead>\n",
       "    <tr style=\"text-align: right;\">\n",
       "      <th></th>\n",
       "      <th>Dependents</th>\n",
       "      <th>DeviceProtection</th>\n",
       "      <th>InternetService</th>\n",
       "      <th>MultipleLines</th>\n",
       "      <th>OnlineBackup</th>\n",
       "      <th>OnlineSecurity</th>\n",
       "      <th>PaperlessBilling</th>\n",
       "      <th>Partner</th>\n",
       "      <th>PaymentMethod</th>\n",
       "      <th>SeniorCitizen</th>\n",
       "      <th>StreamingMovies</th>\n",
       "      <th>StreamingTV</th>\n",
       "      <th>TechSupport</th>\n",
       "      <th>Type</th>\n",
       "      <th>gender</th>\n",
       "      <th>life_time</th>\n",
       "    </tr>\n",
       "    <tr>\n",
       "      <th>EndDateNew</th>\n",
       "      <th></th>\n",
       "      <th></th>\n",
       "      <th></th>\n",
       "      <th></th>\n",
       "      <th></th>\n",
       "      <th></th>\n",
       "      <th></th>\n",
       "      <th></th>\n",
       "      <th></th>\n",
       "      <th></th>\n",
       "      <th></th>\n",
       "      <th></th>\n",
       "      <th></th>\n",
       "      <th></th>\n",
       "      <th></th>\n",
       "      <th></th>\n",
       "    </tr>\n",
       "  </thead>\n",
       "  <tbody>\n",
       "    <tr>\n",
       "      <th>0</th>\n",
       "      <td>No</td>\n",
       "      <td>No</td>\n",
       "      <td>DSL</td>\n",
       "      <td>No</td>\n",
       "      <td>No</td>\n",
       "      <td>No</td>\n",
       "      <td>Yes</td>\n",
       "      <td>Yes</td>\n",
       "      <td>Mailed check</td>\n",
       "      <td>0</td>\n",
       "      <td>No</td>\n",
       "      <td>No</td>\n",
       "      <td>No</td>\n",
       "      <td>Month-to-month</td>\n",
       "      <td>Male</td>\n",
       "      <td>2191</td>\n",
       "    </tr>\n",
       "    <tr>\n",
       "      <th>1</th>\n",
       "      <td>No</td>\n",
       "      <td>No</td>\n",
       "      <td>Fiber optic</td>\n",
       "      <td>No</td>\n",
       "      <td>No</td>\n",
       "      <td>No</td>\n",
       "      <td>Yes</td>\n",
       "      <td>No</td>\n",
       "      <td>Electronic check</td>\n",
       "      <td>0</td>\n",
       "      <td>No</td>\n",
       "      <td>No</td>\n",
       "      <td>No</td>\n",
       "      <td>Month-to-month</td>\n",
       "      <td>Female</td>\n",
       "      <td>31</td>\n",
       "    </tr>\n",
       "  </tbody>\n",
       "</table>\n",
       "</div>"
      ],
      "text/plain": [
       "           Dependents DeviceProtection InternetService MultipleLines  \\\n",
       "EndDateNew                                                             \n",
       "0                  No               No             DSL            No   \n",
       "1                  No               No     Fiber optic            No   \n",
       "\n",
       "           OnlineBackup OnlineSecurity PaperlessBilling Partner  \\\n",
       "EndDateNew                                                        \n",
       "0                    No             No              Yes     Yes   \n",
       "1                    No             No              Yes      No   \n",
       "\n",
       "               PaymentMethod  SeniorCitizen StreamingMovies StreamingTV  \\\n",
       "EndDateNew                                                                \n",
       "0               Mailed check              0              No          No   \n",
       "1           Electronic check              0              No          No   \n",
       "\n",
       "           TechSupport            Type  gender  life_time  \n",
       "EndDateNew                                                 \n",
       "0                   No  Month-to-month    Male       2191  \n",
       "1                   No  Month-to-month  Female         31  "
      ]
     },
     "execution_count": 42,
     "metadata": {},
     "output_type": "execute_result"
    }
   ],
   "source": [
    "pivot"
   ]
  },
  {
   "cell_type": "markdown",
   "id": "cfce636d",
   "metadata": {},
   "source": [
    "Таким образом, категории, указывающие на уход клиентов, различаются по следующим переменным:\n",
    "\n",
    "- `InternetService`\n",
    "- `Partner`\n",
    "- `PaymentMethod`\n",
    "- `gender`\n",
    "\n",
    "Из этого можно сделать вывод, что люди с маркировкой $1$ реже пользуются дополнительными услугами. Интересным наблюдением можно считать, что чаще всего отказываются от услуг женщины."
   ]
  },
  {
   "cell_type": "markdown",
   "id": "26e597bb",
   "metadata": {},
   "source": [
    "### Влияние непрерывных переменных"
   ]
  },
  {
   "cell_type": "markdown",
   "id": "cda18c1e",
   "metadata": {},
   "source": [
    "#### MonthlyCharges"
   ]
  },
  {
   "cell_type": "markdown",
   "id": "78d23833",
   "metadata": {},
   "source": [
    "Посмотрим, на то, как отличается ежемесячная плата для каждой из категорий."
   ]
  },
  {
   "cell_type": "code",
   "execution_count": 43,
   "id": "bb324ad4",
   "metadata": {},
   "outputs": [],
   "source": [
    "charge_pivot = df_eda.pivot_table(index='EndDateNew', values='MonthlyCharges', aggfunc=['mean', 'median', 'std'])\n",
    "charge_pivot.columns = ['mean', 'median', 'std']"
   ]
  },
  {
   "cell_type": "code",
   "execution_count": 44,
   "id": "2367515b",
   "metadata": {},
   "outputs": [
    {
     "data": {
      "text/html": [
       "<div>\n",
       "<style scoped>\n",
       "    .dataframe tbody tr th:only-of-type {\n",
       "        vertical-align: middle;\n",
       "    }\n",
       "\n",
       "    .dataframe tbody tr th {\n",
       "        vertical-align: top;\n",
       "    }\n",
       "\n",
       "    .dataframe thead th {\n",
       "        text-align: right;\n",
       "    }\n",
       "</style>\n",
       "<table border=\"1\" class=\"dataframe\">\n",
       "  <thead>\n",
       "    <tr style=\"text-align: right;\">\n",
       "      <th></th>\n",
       "      <th>mean</th>\n",
       "      <th>median</th>\n",
       "      <th>std</th>\n",
       "    </tr>\n",
       "    <tr>\n",
       "      <th>EndDateNew</th>\n",
       "      <th></th>\n",
       "      <th></th>\n",
       "      <th></th>\n",
       "    </tr>\n",
       "  </thead>\n",
       "  <tbody>\n",
       "    <tr>\n",
       "      <th>0</th>\n",
       "      <td>61.265125</td>\n",
       "      <td>64.425003</td>\n",
       "      <td>31.092648</td>\n",
       "    </tr>\n",
       "    <tr>\n",
       "      <th>1</th>\n",
       "      <td>74.441330</td>\n",
       "      <td>79.650002</td>\n",
       "      <td>24.666053</td>\n",
       "    </tr>\n",
       "  </tbody>\n",
       "</table>\n",
       "</div>"
      ],
      "text/plain": [
       "                 mean     median        std\n",
       "EndDateNew                                 \n",
       "0           61.265125  64.425003  31.092648\n",
       "1           74.441330  79.650002  24.666053"
      ]
     },
     "execution_count": 44,
     "metadata": {},
     "output_type": "execute_result"
    }
   ],
   "source": [
    "charge_pivot"
   ]
  },
  {
   "cell_type": "code",
   "execution_count": 45,
   "id": "7066ae04",
   "metadata": {},
   "outputs": [],
   "source": [
    "def kde_pot(data, column):\n",
    "    \n",
    "    fig, ax = plt.subplots(figsize=(12, 7))\n",
    "\n",
    "    sns.kdeplot(x=column,\n",
    "                data=data,\n",
    "                shade=True,\n",
    "                hue='EndDateNew')\n",
    "\n",
    "    plt.xlabel('{}'.format(column))\n",
    "    plt.ylabel('Density')\n",
    "    plt.title('KDE Plot of {}'.format(column))\n",
    "    plt.show()"
   ]
  },
  {
   "cell_type": "code",
   "execution_count": 46,
   "id": "1b38bed6",
   "metadata": {},
   "outputs": [
    {
     "data": {
      "image/png": "[encoded data removed]",
      "text/plain": [
       "<Figure size 864x504 with 1 Axes>"
      ]
     },
     "metadata": {},
     "output_type": "display_data"
    }
   ],
   "source": [
    "kde_pot(df_eda, 'MonthlyCharges')"
   ]
  },
  {
   "cell_type": "markdown",
   "id": "2ad79b13",
   "metadata": {},
   "source": [
    "Распределение плотностей для обеих категорий крайне похожи не только по форме, но и по основным статистикам."
   ]
  },
  {
   "cell_type": "markdown",
   "id": "51cfaaf0",
   "metadata": {},
   "source": [
    "#### TotalCharges"
   ]
  },
  {
   "cell_type": "markdown",
   "id": "08a07f36",
   "metadata": {},
   "source": [
    "Оценим общую прибыль, которую заимела компания от разных категорий клиентов."
   ]
  },
  {
   "cell_type": "code",
   "execution_count": 47,
   "id": "228c1a41",
   "metadata": {},
   "outputs": [],
   "source": [
    "total_pivot = df_eda.pivot_table(index='EndDateNew', values='TotalCharges', aggfunc=['mean', 'median', 'std'])\n",
    "total_pivot.columns = ['mean', 'median', 'std']"
   ]
  },
  {
   "cell_type": "code",
   "execution_count": 48,
   "id": "708aaa73",
   "metadata": {},
   "outputs": [
    {
     "data": {
      "text/html": [
       "<div>\n",
       "<style scoped>\n",
       "    .dataframe tbody tr th:only-of-type {\n",
       "        vertical-align: middle;\n",
       "    }\n",
       "\n",
       "    .dataframe tbody tr th {\n",
       "        vertical-align: top;\n",
       "    }\n",
       "\n",
       "    .dataframe thead th {\n",
       "        text-align: right;\n",
       "    }\n",
       "</style>\n",
       "<table border=\"1\" class=\"dataframe\">\n",
       "  <thead>\n",
       "    <tr style=\"text-align: right;\">\n",
       "      <th></th>\n",
       "      <th>mean</th>\n",
       "      <th>median</th>\n",
       "      <th>std</th>\n",
       "    </tr>\n",
       "    <tr>\n",
       "      <th>EndDateNew</th>\n",
       "      <th></th>\n",
       "      <th></th>\n",
       "      <th></th>\n",
       "    </tr>\n",
       "  </thead>\n",
       "  <tbody>\n",
       "    <tr>\n",
       "      <th>0</th>\n",
       "      <td>2549.911377</td>\n",
       "      <td>1679.525024</td>\n",
       "      <td>2329.954217</td>\n",
       "    </tr>\n",
       "    <tr>\n",
       "      <th>1</th>\n",
       "      <td>1531.796143</td>\n",
       "      <td>703.549988</td>\n",
       "      <td>1890.822992</td>\n",
       "    </tr>\n",
       "  </tbody>\n",
       "</table>\n",
       "</div>"
      ],
      "text/plain": [
       "                   mean       median          std\n",
       "EndDateNew                                       \n",
       "0           2549.911377  1679.525024  2329.954217\n",
       "1           1531.796143   703.549988  1890.822992"
      ]
     },
     "execution_count": 48,
     "metadata": {},
     "output_type": "execute_result"
    }
   ],
   "source": [
    "total_pivot"
   ]
  },
  {
   "cell_type": "markdown",
   "id": "0a7c34c9",
   "metadata": {},
   "source": [
    "А вот и первые явные различия. Оценим графики плотности."
   ]
  },
  {
   "cell_type": "code",
   "execution_count": 49,
   "id": "9ac0769c",
   "metadata": {},
   "outputs": [
    {
     "data": {
      "image/png": "[encoded data removed]",
      "text/plain": [
       "<Figure size 864x504 with 1 Axes>"
      ]
     },
     "metadata": {},
     "output_type": "display_data"
    }
   ],
   "source": [
    "kde_pot(df_eda, 'TotalCharges')"
   ]
  },
  {
   "cell_type": "markdown",
   "id": "5b038c51",
   "metadata": {},
   "source": [
    "Итак, средний общий доход от пользователей с маркировкой $1$ в два раза меньше, чем от другой категории клиентов."
   ]
  },
  {
   "cell_type": "markdown",
   "id": "4dfda985",
   "metadata": {},
   "source": [
    "#### life_time"
   ]
  },
  {
   "cell_type": "markdown",
   "id": "16c07c5c",
   "metadata": {},
   "source": [
    "Посмотрим на распределение времени жизни клиентов."
   ]
  },
  {
   "cell_type": "code",
   "execution_count": 50,
   "id": "e51182a7",
   "metadata": {},
   "outputs": [],
   "source": [
    "life_pivot = df_eda.pivot_table(index='EndDateNew', values='life_time', aggfunc=['mean', 'median', 'std'])\n",
    "life_pivot.columns = ['mean', 'median', 'std']"
   ]
  },
  {
   "cell_type": "code",
   "execution_count": 51,
   "id": "6b86e788",
   "metadata": {},
   "outputs": [
    {
     "data": {
      "text/html": [
       "<div>\n",
       "<style scoped>\n",
       "    .dataframe tbody tr th:only-of-type {\n",
       "        vertical-align: middle;\n",
       "    }\n",
       "\n",
       "    .dataframe tbody tr th {\n",
       "        vertical-align: top;\n",
       "    }\n",
       "\n",
       "    .dataframe thead th {\n",
       "        text-align: right;\n",
       "    }\n",
       "</style>\n",
       "<table border=\"1\" class=\"dataframe\">\n",
       "  <thead>\n",
       "    <tr style=\"text-align: right;\">\n",
       "      <th></th>\n",
       "      <th>mean</th>\n",
       "      <th>median</th>\n",
       "      <th>std</th>\n",
       "    </tr>\n",
       "    <tr>\n",
       "      <th>EndDateNew</th>\n",
       "      <th></th>\n",
       "      <th></th>\n",
       "      <th></th>\n",
       "    </tr>\n",
       "  </thead>\n",
       "  <tbody>\n",
       "    <tr>\n",
       "      <th>0</th>\n",
       "      <td>1144.447236</td>\n",
       "      <td>1157</td>\n",
       "      <td>733.897937</td>\n",
       "    </tr>\n",
       "    <tr>\n",
       "      <th>1</th>\n",
       "      <td>547.352060</td>\n",
       "      <td>304</td>\n",
       "      <td>594.389607</td>\n",
       "    </tr>\n",
       "  </tbody>\n",
       "</table>\n",
       "</div>"
      ],
      "text/plain": [
       "                   mean  median         std\n",
       "EndDateNew                                 \n",
       "0           1144.447236    1157  733.897937\n",
       "1            547.352060     304  594.389607"
      ]
     },
     "execution_count": 51,
     "metadata": {},
     "output_type": "execute_result"
    }
   ],
   "source": [
    "life_pivot"
   ]
  },
  {
   "cell_type": "code",
   "execution_count": 52,
   "id": "e005cf1c",
   "metadata": {},
   "outputs": [
    {
     "data": {
      "image/png": "[encoded data removed]",
      "text/plain": [
       "<Figure size 864x504 with 1 Axes>"
      ]
     },
     "metadata": {},
     "output_type": "display_data"
    }
   ],
   "source": [
    "kde_pot(df_eda, 'life_time')"
   ]
  },
  {
   "cell_type": "markdown",
   "id": "b6fd6bc6",
   "metadata": {},
   "source": [
    "Среднее время жизни клиентов с меткой $1$ в два раза меньше, в сравнение с другой категорией пользователей."
   ]
  },
  {
   "cell_type": "markdown",
   "id": "4c3b1f79",
   "metadata": {},
   "source": [
    "### Промежуточный вывод"
   ]
  },
  {
   "cell_type": "markdown",
   "id": "58fe6434",
   "metadata": {},
   "source": [
    "Таким образом, мы выяснили, что пользователи, склонные к отказу от предоставления услуг компании реже подключают дополнительные услуги и, чаще всего, являются женщинами, а их полная выручка в среднем в полтора раза меньше и составляет $1532$ против $2552$ у категории клиентов с маркировкой $0$. В добавок к это, время жизни клиентов, отказывающихся от услуг, в два раза меньше - $547$ против $1144$ дней."
   ]
  },
  {
   "cell_type": "markdown",
   "id": "165b71b2",
   "metadata": {},
   "source": [
    "## Адаптация данных под машинное обучение"
   ]
  },
  {
   "cell_type": "markdown",
   "id": "aac99a13",
   "metadata": {},
   "source": [
    "### Разделение данных"
   ]
  },
  {
   "cell_type": "markdown",
   "id": "54964618",
   "metadata": {},
   "source": [
    "Создадим отдельный датасет, для машинного обучения."
   ]
  },
  {
   "cell_type": "code",
   "execution_count": 53,
   "id": "1351e0e6",
   "metadata": {},
   "outputs": [],
   "source": [
    "df_ml = df.drop(['customerID', 'BeginDate', 'EndDate'], axis=1)"
   ]
  },
  {
   "cell_type": "markdown",
   "id": "289efb4d",
   "metadata": {},
   "source": [
    "Преобразуем категориальные переменные в численные методом **прямого кодирования** (*OHE; One-Hot-Encoding*)."
   ]
  },
  {
   "cell_type": "code",
   "execution_count": 54,
   "id": "48596dde",
   "metadata": {
    "scrolled": true
   },
   "outputs": [
    {
     "data": {
      "text/html": [
       "<div>\n",
       "<style scoped>\n",
       "    .dataframe tbody tr th:only-of-type {\n",
       "        vertical-align: middle;\n",
       "    }\n",
       "\n",
       "    .dataframe tbody tr th {\n",
       "        vertical-align: top;\n",
       "    }\n",
       "\n",
       "    .dataframe thead th {\n",
       "        text-align: right;\n",
       "    }\n",
       "</style>\n",
       "<table border=\"1\" class=\"dataframe\">\n",
       "  <thead>\n",
       "    <tr style=\"text-align: right;\">\n",
       "      <th></th>\n",
       "      <th>MonthlyCharges</th>\n",
       "      <th>TotalCharges</th>\n",
       "      <th>SeniorCitizen</th>\n",
       "      <th>life_time</th>\n",
       "      <th>EndDateNew</th>\n",
       "      <th>Type_One year</th>\n",
       "      <th>Type_Two year</th>\n",
       "      <th>PaperlessBilling_Yes</th>\n",
       "      <th>PaymentMethod_Credit card (automatic)</th>\n",
       "      <th>PaymentMethod_Electronic check</th>\n",
       "      <th>...</th>\n",
       "      <th>Dependents_Yes</th>\n",
       "      <th>InternetService_Fiber optic</th>\n",
       "      <th>InternetService_No</th>\n",
       "      <th>OnlineSecurity_Yes</th>\n",
       "      <th>OnlineBackup_Yes</th>\n",
       "      <th>DeviceProtection_Yes</th>\n",
       "      <th>TechSupport_Yes</th>\n",
       "      <th>StreamingTV_Yes</th>\n",
       "      <th>StreamingMovies_Yes</th>\n",
       "      <th>MultipleLines_Yes</th>\n",
       "    </tr>\n",
       "  </thead>\n",
       "  <tbody>\n",
       "    <tr>\n",
       "      <th>860</th>\n",
       "      <td>19.799999</td>\n",
       "      <td>457.299988</td>\n",
       "      <td>0</td>\n",
       "      <td>792</td>\n",
       "      <td>0</td>\n",
       "      <td>1</td>\n",
       "      <td>0</td>\n",
       "      <td>0</td>\n",
       "      <td>1</td>\n",
       "      <td>0</td>\n",
       "      <td>...</td>\n",
       "      <td>0</td>\n",
       "      <td>0</td>\n",
       "      <td>1</td>\n",
       "      <td>0</td>\n",
       "      <td>0</td>\n",
       "      <td>0</td>\n",
       "      <td>0</td>\n",
       "      <td>0</td>\n",
       "      <td>0</td>\n",
       "      <td>0</td>\n",
       "    </tr>\n",
       "    <tr>\n",
       "      <th>5390</th>\n",
       "      <td>99.449997</td>\n",
       "      <td>1200.150024</td>\n",
       "      <td>1</td>\n",
       "      <td>365</td>\n",
       "      <td>1</td>\n",
       "      <td>0</td>\n",
       "      <td>0</td>\n",
       "      <td>1</td>\n",
       "      <td>0</td>\n",
       "      <td>1</td>\n",
       "      <td>...</td>\n",
       "      <td>0</td>\n",
       "      <td>1</td>\n",
       "      <td>0</td>\n",
       "      <td>0</td>\n",
       "      <td>0</td>\n",
       "      <td>1</td>\n",
       "      <td>0</td>\n",
       "      <td>1</td>\n",
       "      <td>1</td>\n",
       "      <td>1</td>\n",
       "    </tr>\n",
       "    <tr>\n",
       "      <th>5226</th>\n",
       "      <td>21.150000</td>\n",
       "      <td>306.049988</td>\n",
       "      <td>0</td>\n",
       "      <td>365</td>\n",
       "      <td>0</td>\n",
       "      <td>0</td>\n",
       "      <td>0</td>\n",
       "      <td>1</td>\n",
       "      <td>0</td>\n",
       "      <td>1</td>\n",
       "      <td>...</td>\n",
       "      <td>1</td>\n",
       "      <td>0</td>\n",
       "      <td>1</td>\n",
       "      <td>0</td>\n",
       "      <td>0</td>\n",
       "      <td>0</td>\n",
       "      <td>0</td>\n",
       "      <td>0</td>\n",
       "      <td>0</td>\n",
       "      <td>0</td>\n",
       "    </tr>\n",
       "    <tr>\n",
       "      <th>5191</th>\n",
       "      <td>91.099998</td>\n",
       "      <td>2198.300049</td>\n",
       "      <td>0</td>\n",
       "      <td>702</td>\n",
       "      <td>0</td>\n",
       "      <td>0</td>\n",
       "      <td>1</td>\n",
       "      <td>1</td>\n",
       "      <td>1</td>\n",
       "      <td>0</td>\n",
       "      <td>...</td>\n",
       "      <td>1</td>\n",
       "      <td>0</td>\n",
       "      <td>0</td>\n",
       "      <td>1</td>\n",
       "      <td>1</td>\n",
       "      <td>1</td>\n",
       "      <td>1</td>\n",
       "      <td>1</td>\n",
       "      <td>1</td>\n",
       "      <td>1</td>\n",
       "    </tr>\n",
       "    <tr>\n",
       "      <th>3772</th>\n",
       "      <td>95.000000</td>\n",
       "      <td>95.000000</td>\n",
       "      <td>0</td>\n",
       "      <td>30</td>\n",
       "      <td>1</td>\n",
       "      <td>0</td>\n",
       "      <td>0</td>\n",
       "      <td>1</td>\n",
       "      <td>0</td>\n",
       "      <td>1</td>\n",
       "      <td>...</td>\n",
       "      <td>0</td>\n",
       "      <td>1</td>\n",
       "      <td>0</td>\n",
       "      <td>1</td>\n",
       "      <td>0</td>\n",
       "      <td>0</td>\n",
       "      <td>0</td>\n",
       "      <td>1</td>\n",
       "      <td>1</td>\n",
       "      <td>0</td>\n",
       "    </tr>\n",
       "  </tbody>\n",
       "</table>\n",
       "<p>5 rows × 23 columns</p>\n",
       "</div>"
      ],
      "text/plain": [
       "      MonthlyCharges  TotalCharges  SeniorCitizen  life_time  EndDateNew  \\\n",
       "860        19.799999    457.299988              0        792           0   \n",
       "5390       99.449997   1200.150024              1        365           1   \n",
       "5226       21.150000    306.049988              0        365           0   \n",
       "5191       91.099998   2198.300049              0        702           0   \n",
       "3772       95.000000     95.000000              0         30           1   \n",
       "\n",
       "      Type_One year  Type_Two year  PaperlessBilling_Yes  \\\n",
       "860               1              0                     0   \n",
       "5390              0              0                     1   \n",
       "5226              0              0                     1   \n",
       "5191              0              1                     1   \n",
       "3772              0              0                     1   \n",
       "\n",
       "      PaymentMethod_Credit card (automatic)  PaymentMethod_Electronic check  \\\n",
       "860                                       1                               0   \n",
       "5390                                      0                               1   \n",
       "5226                                      0                               1   \n",
       "5191                                      1                               0   \n",
       "3772                                      0                               1   \n",
       "\n",
       "      ...  Dependents_Yes  InternetService_Fiber optic  InternetService_No  \\\n",
       "860   ...               0                            0                   1   \n",
       "5390  ...               0                            1                   0   \n",
       "5226  ...               1                            0                   1   \n",
       "5191  ...               1                            0                   0   \n",
       "3772  ...               0                            1                   0   \n",
       "\n",
       "      OnlineSecurity_Yes  OnlineBackup_Yes  DeviceProtection_Yes  \\\n",
       "860                    0                 0                     0   \n",
       "5390                   0                 0                     1   \n",
       "5226                   0                 0                     0   \n",
       "5191                   1                 1                     1   \n",
       "3772                   1                 0                     0   \n",
       "\n",
       "      TechSupport_Yes  StreamingTV_Yes  StreamingMovies_Yes  MultipleLines_Yes  \n",
       "860                 0                0                    0                  0  \n",
       "5390                0                1                    1                  1  \n",
       "5226                0                0                    0                  0  \n",
       "5191                1                1                    1                  1  \n",
       "3772                0                1                    1                  0  \n",
       "\n",
       "[5 rows x 23 columns]"
      ]
     },
     "execution_count": 54,
     "metadata": {},
     "output_type": "execute_result"
    }
   ],
   "source": [
    "df_ml = pd.get_dummies(df_ml, drop_first=True)\n",
    "\n",
    "df_ml.sample(n=5, replace=True, random_state=42)"
   ]
  },
  {
   "cell_type": "markdown",
   "id": "f9d9d86a",
   "metadata": {},
   "source": [
    "Выделим тренировочную, тестовую и валидационную выборки в пропорции **3:1:1**."
   ]
  },
  {
   "cell_type": "code",
   "execution_count": 55,
   "id": "28e735fd",
   "metadata": {},
   "outputs": [],
   "source": [
    "def data_preparation(df_input):\n",
    "    \n",
    "    data = df_input.copy()\n",
    "    \n",
    "    features = data.drop(['EndDateNew'], axis=1)\n",
    "    target = data['EndDateNew']\n",
    "    \n",
    "    features_train, features_valid, target_train, target_valid = train_test_split(features,\n",
    "                                                                                  target,\n",
    "                                                                                  train_size=0.6,\n",
    "                                                                                  random_state=42)\n",
    "    \n",
    "    features_valid, features_test, target_valid, target_test = train_test_split(features_valid,\n",
    "                                                                                target_valid,\n",
    "                                                                                train_size=0.5,\n",
    "                                                                                random_state=42)\n",
    "    \n",
    "    print('Размер тренировочной выборки:', features_train.shape[0])\n",
    "    print('Размер валидационной выборки:', features_valid.shape[0])\n",
    "    print('Размер тестовой выборки:', features_test.shape[0])\n",
    "    \n",
    "    scaler = StandardScaler()\n",
    "    features_train = scaler.fit_transform(features_train)\n",
    "    features_valid = scaler.transform(features_valid)\n",
    "    features_test = scaler.transform(features_test)\n",
    "    \n",
    "    return features_train, features_valid, features_test, target_train, target_valid, target_test, features.columns"
   ]
  },
  {
   "cell_type": "code",
   "execution_count": 56,
   "id": "ce3dfda7",
   "metadata": {},
   "outputs": [
    {
     "name": "stdout",
     "output_type": "stream",
     "text": [
      "Размер тренировочной выборки: 4225\n",
      "Размер валидационной выборки: 1409\n",
      "Размер тестовой выборки: 1409\n"
     ]
    }
   ],
   "source": [
    "features_train, features_valid, features_test, target_train, target_valid, target_test, columns = data_preparation(df_ml)"
   ]
  },
  {
   "cell_type": "markdown",
   "id": "2b3dc807",
   "metadata": {},
   "source": [
    "### Дисбалан классов"
   ]
  },
  {
   "cell_type": "markdown",
   "id": "ef962bac",
   "metadata": {},
   "source": [
    "Оценим баланс классов в тренировочных данных."
   ]
  },
  {
   "cell_type": "code",
   "execution_count": 57,
   "id": "ba8e6ffa",
   "metadata": {},
   "outputs": [],
   "source": [
    "def class_ration(data):\n",
    "    \n",
    "    ratio = data.value_counts(normalize = 1)\n",
    "    \n",
    "    plt.figure(figsize = (9,3))\n",
    "    \n",
    "    plt.bar(ratio.index, ratio)\n",
    "    \n",
    "    plt.xticks(ratio.index, ratio.index.values)\n",
    "    plt.ylabel('Frequency')\n",
    "    plt.title('Class Ratio')\n",
    "    \n",
    "    plt.show()\n",
    "    \n",
    "    print('Соотношение классов выборки: \\n{}'.format(ratio))"
   ]
  },
  {
   "cell_type": "code",
   "execution_count": 58,
   "id": "45982b02",
   "metadata": {},
   "outputs": [
    {
     "data": {
      "image/png": "[encoded data removed]",
      "text/plain": [
       "<Figure size 648x216 with 1 Axes>"
      ]
     },
     "metadata": {},
     "output_type": "display_data"
    },
    {
     "name": "stdout",
     "output_type": "stream",
     "text": [
      "Соотношение классов выборки: \n",
      "0    0.734911\n",
      "1    0.265089\n",
      "Name: EndDateNew, dtype: float64\n"
     ]
    }
   ],
   "source": [
    "class_ration(target_train)"
   ]
  },
  {
   "cell_type": "markdown",
   "id": "714dd05e",
   "metadata": {},
   "source": [
    "Воспользуемся техникой **upsampling** для преобразования классов. "
   ]
  },
  {
   "cell_type": "code",
   "execution_count": 59,
   "id": "94ac5107",
   "metadata": {},
   "outputs": [],
   "source": [
    "def upsample(features, target, repeat):\n",
    "    \n",
    "    features_zeros = pd.DataFrame(features[target == 0])\n",
    "    features_ones = pd.DataFrame(features[target == 1])\n",
    "    target_zeros = target[target == 0]\n",
    "    target_ones = target[target == 1]\n",
    "\n",
    "    features_upsampled = pd.concat([features_zeros] + [features_ones] * repeat)\n",
    "    target_upsampled = pd.concat([target_zeros] + [target_ones] * repeat)\n",
    "    \n",
    "    features_upsampled, target_upsampled = shuffle(features_upsampled,\n",
    "                                                   target_upsampled,\n",
    "                                                   random_state=42)\n",
    "    \n",
    "    return features_upsampled.values, target_upsampled"
   ]
  },
  {
   "cell_type": "code",
   "execution_count": 60,
   "id": "6230725d",
   "metadata": {},
   "outputs": [],
   "source": [
    "features_train, target_train = upsample(features_train, target_train, 3)"
   ]
  },
  {
   "cell_type": "markdown",
   "id": "f298d030",
   "metadata": {},
   "source": [
    "Оценим соотношение классов после преобразования."
   ]
  },
  {
   "cell_type": "code",
   "execution_count": 61,
   "id": "1c80db50",
   "metadata": {},
   "outputs": [
    {
     "data": {
      "image/png": "[encoded data removed]",
      "text/plain": [
       "<Figure size 648x216 with 1 Axes>"
      ]
     },
     "metadata": {},
     "output_type": "display_data"
    },
    {
     "name": "stdout",
     "output_type": "stream",
     "text": [
      "Соотношение классов выборки: \n",
      "1    0.519722\n",
      "0    0.480278\n",
      "Name: EndDateNew, dtype: float64\n"
     ]
    }
   ],
   "source": [
    "class_ration(target_train)"
   ]
  },
  {
   "cell_type": "markdown",
   "id": "446881f6",
   "metadata": {},
   "source": [
    "## Обучение моделей "
   ]
  },
  {
   "cell_type": "markdown",
   "id": "ee58e543",
   "metadata": {},
   "source": [
    "Для исследования обучим следующие модели:\n",
    "\n",
    "- **LogisticRegression**\n",
    "- **RandomForestClassifier**\n",
    "- **LGBMClassifier**\n",
    "- **CatBoostClassifier**"
   ]
  },
  {
   "cell_type": "markdown",
   "id": "f6100689",
   "metadata": {},
   "source": [
    "В качестве основной метрики мы будем рассматривать $ROC-AUC$, которая показывает вероятность того, что случайно выбранный экземпляр негативного класса будет иметь меньше вероятность быть распознанным как позитивный класс, чем случайно выбранный позитивный класс. Находится как площадь под $ROC$-кривой. \n",
    "\n",
    "Принимает значения от $0$ до $1$, где $1$ - идеальное предсказание алгоритма."
   ]
  },
  {
   "cell_type": "markdown",
   "id": "6a08f706",
   "metadata": {},
   "source": [
    "Определим функцию, которая будет осуществлять обучение и визуализацию результатов."
   ]
  },
  {
   "cell_type": "code",
   "execution_count": 62,
   "id": "f31f6f6b",
   "metadata": {},
   "outputs": [],
   "source": [
    "def grid_search(model, params):\n",
    "    \n",
    "    #Обучение модели\n",
    "    \n",
    "    grid = GridSearchCV(model,\n",
    "                        params,\n",
    "                        cv=5,\n",
    "                        scoring='roc_auc',\n",
    "                        n_jobs=-1)\n",
    "    \n",
    "    grid.fit(features_train, target_train)\n",
    "    best_params = grid.best_params_\n",
    "    prediction = grid.predict(features_valid)\n",
    "    \n",
    "    #Classification Report\n",
    "    f1 = round(f1_score(target_valid, prediction), 3)\n",
    "    precision = round(precision_score(target_valid, prediction), 3)\n",
    "    recall = round(recall_score(target_valid, prediction), 3)\n",
    "    roc_auc = round(roc_auc_score(target_valid, grid.predict_proba(features_valid)[:, 1]), 3)\n",
    "    accuracy = round(accuracy_score(target_valid, prediction), 3)\n",
    "    result_list = [f1, precision, recall, roc_auc, accuracy]\n",
    "    \n",
    "    print('')\n",
    "    print('Итоги обучения модели:')\n",
    "    print('')\n",
    "    print('- Лучшее сочетание гиперпараметров: \\n  {}'.format(best_params))\n",
    "    print('')\n",
    "    print('- F1-мера модели: {}'.format(f1))\n",
    "    print('')\n",
    "    print('- Precision модели: {}'.format(precision))\n",
    "    print('')\n",
    "    print('- Recall модели: {}'.format(recall))\n",
    "    print('')\n",
    "    print('- ROC-AUC модели: {}'.format(roc_auc))\n",
    "    print('')\n",
    "    print('- Accuracy модели: {}'.format(accuracy))\n",
    "    print('')\n",
    "    \n",
    "    #ROC-AUC Curve Plot\n",
    "    ns_probs = [0 for _ in range(len(target_valid))]\n",
    "    lr_probs = grid.predict_proba(features_valid)\n",
    "    lr_probs = lr_probs[:, 1]\n",
    "    ns_fpr, ns_tpr, _ = roc_curve(target_valid, ns_probs)\n",
    "    lr_fpr, lr_tpr, _ = roc_curve(target_valid, lr_probs)\n",
    "    \n",
    "    f, ax = plt.subplots(1, 2, figsize=(15, 6))\n",
    "    \n",
    "    ax[0].plot(ns_fpr, ns_tpr, linestyle='--', label='No Skill')\n",
    "    ax[0].plot(lr_fpr, lr_tpr, marker='.', label='ROC-AUC={}'.format(roc_auc))\n",
    "    ax[0].set_title('Receiver Operating Characteristic')\n",
    "    ax[0].set_xlabel('False Positive Rate')\n",
    "    ax[0].set_ylabel('True Positive Rate')\n",
    "    ax[0].legend()\n",
    "    \n",
    "    #Precision-Recall Curve Plot\n",
    "    precision, recall, _ = precision_recall_curve(target_valid, prediction)\n",
    "    no_skill = len(target_valid[target_valid==1]) / len(target_valid)\n",
    "    \n",
    "    ax[1].plot([0, 1], [no_skill, no_skill], linestyle='--', label='No Skill')\n",
    "    ax[1].plot(recall, precision, marker='.')\n",
    "    ax[1].set_title('Precision-Recall curve')\n",
    "    ax[1].legend(['All Positive', 'Model'])\n",
    "    ax[1].set_xlabel('Recall')\n",
    "    ax[1].set_ylabel('Precision')\n",
    "    \n",
    "    plt.show()\n",
    "    \n",
    "    return result_list, best_params"
   ]
  },
  {
   "cell_type": "markdown",
   "id": "c520357f",
   "metadata": {},
   "source": [
    "### LogisticRegression"
   ]
  },
  {
   "cell_type": "markdown",
   "id": "b3c5379b",
   "metadata": {},
   "source": [
    "В первую очередь опробуем линейный классификатор - **логистическую регрессию**. Определим модель."
   ]
  },
  {
   "cell_type": "code",
   "execution_count": 63,
   "id": "ccf8460c",
   "metadata": {},
   "outputs": [],
   "source": [
    "logreg = LogisticRegression(random_state=42)"
   ]
  },
  {
   "cell_type": "code",
   "execution_count": 64,
   "id": "75c03c6f",
   "metadata": {},
   "outputs": [],
   "source": [
    "params_logreg = {'C' : np.linspace(1e-4, 100, 5),\n",
    "                 'tol' : np.linspace(1e-4, 100, 5),\n",
    "                 'fit_intercept' : [True, False]}"
   ]
  },
  {
   "cell_type": "code",
   "execution_count": 65,
   "id": "3a1fefc6",
   "metadata": {},
   "outputs": [
    {
     "name": "stdout",
     "output_type": "stream",
     "text": [
      "\n",
      "Итоги обучения модели:\n",
      "\n",
      "- Лучшее сочетание гиперпараметров: \n",
      "  {'C': 100.0, 'fit_intercept': True, 'tol': 0.0001}\n",
      "\n",
      "- F1-мера модели: 0.642\n",
      "\n",
      "- Precision модели: 0.511\n",
      "\n",
      "- Recall модели: 0.862\n",
      "\n",
      "- ROC-AUC модели: 0.863\n",
      "\n",
      "- Accuracy модели: 0.742\n",
      "\n"
     ]
    },
    {
     "data": {
      "image/png": "[encoded data removed]",
      "text/plain": [
       "<Figure size 1080x432 with 2 Axes>"
      ]
     },
     "metadata": {},
     "output_type": "display_data"
    },
    {
     "name": "stdout",
     "output_type": "stream",
     "text": [
      "Wall time: 2.56 s\n"
     ]
    }
   ],
   "source": [
    "%%time\n",
    "\n",
    "result_list_logreg, best_params_logreg = grid_search(logreg, params_logreg)"
   ]
  },
  {
   "cell_type": "markdown",
   "id": "e5fbc7ca",
   "metadata": {},
   "source": [
    "### RandomForestClassifier"
   ]
  },
  {
   "cell_type": "markdown",
   "id": "aa12c315",
   "metadata": {},
   "source": [
    "Опробуем модель случайного леса - **RandomForestClassifier**."
   ]
  },
  {
   "cell_type": "code",
   "execution_count": 66,
   "id": "3d0f11eb",
   "metadata": {},
   "outputs": [],
   "source": [
    "forest = RandomForestClassifier(random_state=42)"
   ]
  },
  {
   "cell_type": "code",
   "execution_count": 67,
   "id": "e674eb39",
   "metadata": {},
   "outputs": [],
   "source": [
    "params_forest = {'max_features': ['auto', 'sqrt', 'log2'],\n",
    "                 'class_weight' : ['balanced', 'balanced_subsample']}"
   ]
  },
  {
   "cell_type": "code",
   "execution_count": 68,
   "id": "d46a4b4d",
   "metadata": {},
   "outputs": [
    {
     "name": "stdout",
     "output_type": "stream",
     "text": [
      "\n",
      "Итоги обучения модели:\n",
      "\n",
      "- Лучшее сочетание гиперпараметров: \n",
      "  {'class_weight': 'balanced_subsample', 'max_features': 'auto'}\n",
      "\n",
      "- F1-мера модели: 0.642\n",
      "\n",
      "- Precision модели: 0.644\n",
      "\n",
      "- Recall модели: 0.64\n",
      "\n",
      "- ROC-AUC модели: 0.859\n",
      "\n",
      "- Accuracy модели: 0.808\n",
      "\n"
     ]
    },
    {
     "data": {
      "image/png": "[encoded data removed]",
      "text/plain": [
       "<Figure size 1080x432 with 2 Axes>"
      ]
     },
     "metadata": {},
     "output_type": "display_data"
    },
    {
     "name": "stdout",
     "output_type": "stream",
     "text": [
      "Wall time: 3.41 s\n"
     ]
    }
   ],
   "source": [
    "%%time\n",
    "\n",
    "result_list_forest, best_params_forest = grid_search(forest, params_forest)"
   ]
  },
  {
   "cell_type": "markdown",
   "id": "521aee73",
   "metadata": {},
   "source": [
    "### LGBMClassifier"
   ]
  },
  {
   "cell_type": "markdown",
   "id": "8fd40c19",
   "metadata": {},
   "source": [
    "Обучим модель градиентного бустинга - **LGBMClassifier**."
   ]
  },
  {
   "cell_type": "code",
   "execution_count": 69,
   "id": "5c88b88b",
   "metadata": {},
   "outputs": [],
   "source": [
    "lgbm = LGBMClassifier(random_state=42)"
   ]
  },
  {
   "cell_type": "code",
   "execution_count": 70,
   "id": "9145e369",
   "metadata": {},
   "outputs": [],
   "source": [
    "params_lgbm = {'learning_rate': [0.1, 0.01, 0.001],\n",
    "               'boosting_type': ['gbdt', 'dart', 'goss', 'rf'],\n",
    "               'reg_lambda': [0, .1, 0.5, 1]}"
   ]
  },
  {
   "cell_type": "code",
   "execution_count": 71,
   "id": "0434fcdc",
   "metadata": {},
   "outputs": [
    {
     "name": "stdout",
     "output_type": "stream",
     "text": [
      "\n",
      "Итоги обучения модели:\n",
      "\n",
      "- Лучшее сочетание гиперпараметров: \n",
      "  {'boosting_type': 'gbdt', 'learning_rate': 0.1, 'reg_lambda': 0}\n",
      "\n",
      "- F1-мера модели: 0.719\n",
      "\n",
      "- Precision модели: 0.633\n",
      "\n",
      "- Recall модели: 0.833\n",
      "\n",
      "- ROC-AUC модели: 0.918\n",
      "\n",
      "- Accuracy модели: 0.825\n",
      "\n"
     ]
    },
    {
     "data": {
      "image/png": "[encoded data removed]",
      "text/plain": [
       "<Figure size 1080x432 with 2 Axes>"
      ]
     },
     "metadata": {},
     "output_type": "display_data"
    },
    {
     "name": "stdout",
     "output_type": "stream",
     "text": [
      "Wall time: 4.58 s\n"
     ]
    }
   ],
   "source": [
    "%%time\n",
    "\n",
    "result_list_lgbm, best_params_lgbm = grid_search(lgbm, params_lgbm)"
   ]
  },
  {
   "cell_type": "markdown",
   "id": "bd4f75cb",
   "metadata": {},
   "source": [
    "### CatBoostClassifier"
   ]
  },
  {
   "cell_type": "markdown",
   "id": "e773c615",
   "metadata": {},
   "source": [
    "Опробуем еще одну модель градиентного бустинга - **CatBoostClassifier**."
   ]
  },
  {
   "cell_type": "code",
   "execution_count": 72,
   "id": "ca889f9d",
   "metadata": {},
   "outputs": [],
   "source": [
    "cat = CatBoostClassifier(random_state=42, silent=True)"
   ]
  },
  {
   "cell_type": "code",
   "execution_count": 73,
   "id": "4d0c6735",
   "metadata": {},
   "outputs": [],
   "source": [
    "params_cat = {'iterations' : [150, 500, 1000],\n",
    "              'learning_rate' : [0.1, 0.01, 0.001],\n",
    "              'l2_leaf_reg' : [0, .1, 0.5, 1]}"
   ]
  },
  {
   "cell_type": "code",
   "execution_count": 74,
   "id": "593aef20",
   "metadata": {},
   "outputs": [
    {
     "name": "stdout",
     "output_type": "stream",
     "text": [
      "\n",
      "Итоги обучения модели:\n",
      "\n",
      "- Лучшее сочетание гиперпараметров: \n",
      "  {'iterations': 1000, 'l2_leaf_reg': 0, 'learning_rate': 0.1}\n",
      "\n",
      "- F1-мера модели: 0.727\n",
      "\n",
      "- Precision модели: 0.764\n",
      "\n",
      "- Recall модели: 0.693\n",
      "\n",
      "- ROC-AUC модели: 0.905\n",
      "\n",
      "- Accuracy модели: 0.86\n",
      "\n"
     ]
    },
    {
     "data": {
      "image/png": "[encoded data removed]",
      "text/plain": [
       "<Figure size 1080x432 with 2 Axes>"
      ]
     },
     "metadata": {},
     "output_type": "display_data"
    },
    {
     "name": "stdout",
     "output_type": "stream",
     "text": [
      "Wall time: 1min 18s\n"
     ]
    }
   ],
   "source": [
    "%%time\n",
    "\n",
    "result_list_cat, best_params_cat = grid_search(cat, params_cat)"
   ]
  },
  {
   "cell_type": "markdown",
   "id": "8e6434fc",
   "metadata": {},
   "source": [
    "### Анализ моделей "
   ]
  },
  {
   "cell_type": "markdown",
   "id": "8ec4b27e",
   "metadata": {},
   "source": [
    "Создадим сводную таблицу результатов расчета моделей."
   ]
  },
  {
   "cell_type": "code",
   "execution_count": 75,
   "id": "0beb5871",
   "metadata": {},
   "outputs": [
    {
     "data": {
      "text/html": [
       "<div>\n",
       "<style scoped>\n",
       "    .dataframe tbody tr th:only-of-type {\n",
       "        vertical-align: middle;\n",
       "    }\n",
       "\n",
       "    .dataframe tbody tr th {\n",
       "        vertical-align: top;\n",
       "    }\n",
       "\n",
       "    .dataframe thead th {\n",
       "        text-align: right;\n",
       "    }\n",
       "</style>\n",
       "<table border=\"1\" class=\"dataframe\">\n",
       "  <thead>\n",
       "    <tr style=\"text-align: right;\">\n",
       "      <th></th>\n",
       "      <th>F1</th>\n",
       "      <th>Precision</th>\n",
       "      <th>Recall</th>\n",
       "      <th>ROC-AUC</th>\n",
       "      <th>Accuracy</th>\n",
       "    </tr>\n",
       "  </thead>\n",
       "  <tbody>\n",
       "    <tr>\n",
       "      <th>LGBMClassifier</th>\n",
       "      <td>0.719</td>\n",
       "      <td>0.633</td>\n",
       "      <td>0.833</td>\n",
       "      <td>0.918</td>\n",
       "      <td>0.825</td>\n",
       "    </tr>\n",
       "    <tr>\n",
       "      <th>CatBoostClassifier</th>\n",
       "      <td>0.727</td>\n",
       "      <td>0.764</td>\n",
       "      <td>0.693</td>\n",
       "      <td>0.905</td>\n",
       "      <td>0.860</td>\n",
       "    </tr>\n",
       "    <tr>\n",
       "      <th>LogisticRegression</th>\n",
       "      <td>0.642</td>\n",
       "      <td>0.511</td>\n",
       "      <td>0.862</td>\n",
       "      <td>0.863</td>\n",
       "      <td>0.742</td>\n",
       "    </tr>\n",
       "    <tr>\n",
       "      <th>RandomForestClassifier</th>\n",
       "      <td>0.642</td>\n",
       "      <td>0.644</td>\n",
       "      <td>0.640</td>\n",
       "      <td>0.859</td>\n",
       "      <td>0.808</td>\n",
       "    </tr>\n",
       "  </tbody>\n",
       "</table>\n",
       "</div>"
      ],
      "text/plain": [
       "                           F1  Precision  Recall  ROC-AUC  Accuracy\n",
       "LGBMClassifier          0.719      0.633   0.833    0.918     0.825\n",
       "CatBoostClassifier      0.727      0.764   0.693    0.905     0.860\n",
       "LogisticRegression      0.642      0.511   0.862    0.863     0.742\n",
       "RandomForestClassifier  0.642      0.644   0.640    0.859     0.808"
      ]
     },
     "execution_count": 75,
     "metadata": {},
     "output_type": "execute_result"
    }
   ],
   "source": [
    "dict = {\n",
    "    'LogisticRegression' : result_list_logreg,\n",
    "    'RandomForestClassifier' : result_list_forest,\n",
    "    'LGBMClassifier' : result_list_lgbm,\n",
    "    'CatBoostClassifier' : result_list_cat\n",
    "}\n",
    "\n",
    "result_tab = pd.DataFrame.from_dict(\n",
    "    dict,orient='index',columns=['F1', 'Precision', 'Recall', 'ROC-AUC', 'Accuracy']\n",
    ").sort_values(by='ROC-AUC',ascending=False)\n",
    "\n",
    "result_tab"
   ]
  },
  {
   "cell_type": "markdown",
   "id": "ccbd5780",
   "metadata": {},
   "source": [
    "Таким образом, на валидационной выборке лучшего всего показал себя алгоритм **LGBMClassifier**. Его показатель метрики $ROC-AUC$ составил **0.918**. На втором месте алгорим **CatBoostClassifier** с показателем метрики **0.905**. **LogisticRegression**\tв значительной степень отстает двух предыдущих моделей. $ROC-AUC$ данной модели равен **0.863**. Хуже всего справился алгоритм **RandomForestClassifier** с метрикой равной **0.859**.\n",
    "\n",
    "Почти аналогичное ранжирование алгоритмов будет, если мы проанализируем их качесво с точки зрения показателей метрики $Accuracy$, где на первом месте все так же будет **LGBMClassifier** с показателем **0.825**."
   ]
  },
  {
   "cell_type": "markdown",
   "id": "fc747830",
   "metadata": {},
   "source": [
    "### Оценка на тестовых данных"
   ]
  },
  {
   "cell_type": "markdown",
   "id": "371c6d02",
   "metadata": {},
   "source": [
    "Оценим эффективность нашей модели на тестовом датасете."
   ]
  },
  {
   "cell_type": "code",
   "execution_count": 76,
   "id": "74c2c82a",
   "metadata": {},
   "outputs": [],
   "source": [
    "def lgbm_fit(params):\n",
    "    \n",
    "    #Обучение модели\n",
    "    lgbm = LGBMClassifier(random_state=42, **params)\n",
    "    \n",
    "    lgbm.fit(features_train, target_train)\n",
    "    prediction = lgbm.predict(features_test)\n",
    "    \n",
    "    #Classification Report\n",
    "    f1 = round(f1_score(target_test, prediction), 3)\n",
    "    precision = round(precision_score(target_test, prediction), 3)\n",
    "    recall = round(recall_score(target_test, prediction), 3)\n",
    "    roc_auc = round(roc_auc_score(target_test, lgbm.predict_proba(features_test)[:, 1]), 3)\n",
    "    accuracy = round(accuracy_score(target_test, prediction), 3)\n",
    "    \n",
    "    print('')\n",
    "    print('Итоги обучения модели на тестовых данных:')\n",
    "    print('')\n",
    "    print('- F1-мера модели: {}'.format(f1))\n",
    "    print('')\n",
    "    print('- Precision модели: {}'.format(precision))\n",
    "    print('')\n",
    "    print('- Recall модели: {}'.format(recall))\n",
    "    print('')\n",
    "    print('- ROC-AUC модели: {}'.format(roc_auc))\n",
    "    print('')\n",
    "    print('- Accuracy модели: {}'.format(accuracy))\n",
    "    print('')\n",
    "    \n",
    "    #ROC-AUC Curve Plot\n",
    "    ns_probs = [0 for _ in range(len(target_test))]\n",
    "    lr_probs = lgbm.predict_proba(features_test)\n",
    "    lr_probs = lr_probs[:, 1]\n",
    "    ns_fpr, ns_tpr, _ = roc_curve(target_test, ns_probs)\n",
    "    lr_fpr, lr_tpr, _ = roc_curve(target_test, lr_probs)\n",
    "    \n",
    "    f, ax = plt.subplots(1, 2, figsize=(15, 6))\n",
    "    \n",
    "    ax[0].plot(ns_fpr, ns_tpr, linestyle='--', label='No Skill')\n",
    "    ax[0].plot(lr_fpr, lr_tpr, marker='.', label='ROC-AUC={}'.format(roc_auc))\n",
    "    ax[0].set_title('Receiver Operating Characteristic')\n",
    "    ax[0].set_xlabel('False Positive Rate')\n",
    "    ax[0].set_ylabel('True Positive Rate')\n",
    "    ax[0].legend()\n",
    "    \n",
    "    #Precision-Recall Curve Plot\n",
    "    precision, recall, _ = precision_recall_curve(target_test, prediction)\n",
    "    no_skill = len(target_test[target_test==1]) / len(target_test)\n",
    "    \n",
    "    ax[1].plot([0, 1], [no_skill, no_skill], linestyle='--', label='No Skill')\n",
    "    ax[1].plot(recall, precision, marker='.')\n",
    "    ax[1].set_title('Precision-Recall Curve')\n",
    "    ax[1].legend(['All Positive', 'Model'])\n",
    "    ax[1].set_xlabel('Recall')\n",
    "    ax[1].set_ylabel('Precision')\n",
    "    \n",
    "    f = plt.subplots(figsize=(12, 10))\n",
    "    \n",
    "    importances= lgbm.feature_importances_\n",
    "    model_importances = pd.Series(importances, index=columns).sort_values(ascending=False)\n",
    "\n",
    "    sns.barplot(x=model_importances.values,\n",
    "                y=model_importances.index,\n",
    "                color='#56B4E9')\n",
    "    plt.title('Feature importances')\n",
    "    plt.xlabel('Coefficients')\n",
    "    plt.tight_layout()\n",
    "    \n",
    "    plt.show()"
   ]
  },
  {
   "cell_type": "code",
   "execution_count": 77,
   "id": "928e4a41",
   "metadata": {},
   "outputs": [
    {
     "name": "stdout",
     "output_type": "stream",
     "text": [
      "\n",
      "Итоги обучения модели на тестовых данных:\n",
      "\n",
      "- F1-мера модели: 0.728\n",
      "\n",
      "- Precision модели: 0.632\n",
      "\n",
      "- Recall модели: 0.857\n",
      "\n",
      "- ROC-AUC модели: 0.923\n",
      "\n",
      "- Accuracy модели: 0.831\n",
      "\n"
     ]
    },
    {
     "data": {
      "image/png": "[encoded data removed]",
      "text/plain": [
       "<Figure size 1080x432 with 2 Axes>"
      ]
     },
     "metadata": {},
     "output_type": "display_data"
    },
    {
     "data": {
      "image/png": "[encoded data removed]",
      "text/plain": [
       "<Figure size 864x720 with 1 Axes>"
      ]
     },
     "metadata": {},
     "output_type": "display_data"
    }
   ],
   "source": [
    "lgbm_fit(best_params_lgbm)"
   ]
  },
  {
   "cell_type": "markdown",
   "id": "50561516",
   "metadata": {},
   "source": [
    "Итоговая модель - **LGBMClassifier** на тестовой выборке имеет весьма неплохие показатели метики $ROC-AUC$, равной **0.923** и хорошие показатель $Accuracy$, составляющий **0.831**."
   ]
  },
  {
   "cell_type": "markdown",
   "id": "94e47007",
   "metadata": {},
   "source": [
    "## Вывод"
   ]
  },
  {
   "cell_type": "markdown",
   "id": "13bf2768",
   "metadata": {},
   "source": [
    "Итак, исходные данные, состоящие из четырех таблиц, были объединены в единый датасет. Появившиеся в следствие объединения пропуски были заполнены исходя из предположения, что, если какой-то пользователь не представлен в дополнительных таблицах, то он не использует соответствующие услуги.\n",
    "\n",
    "Мы произвели оценку взаимосвязи переменных при помощи матриц коэффициентов корреляции *Пирсона* и *Спирмена*. Была выявлена положительная сильная взаимосвязь между временем жизни клиентов и общей выручкой.\n",
    "\n",
    "Далее был произведен исследовательский анализ, который позволил выявить некоторые особенности клиентов, отказавшихся от услуг компании. Такие клиенты имеют склонность к отказу от дополнительных пакетов. Помимо это, средняя полная выручка с подобных клиентов в полтора раза меньше, чем у постоянных пользователей. В добавок, среднее время жизни у таких пользователей в два раза меньше. \n",
    "\n",
    "После данные были адаптированы под работу с алгоритмами машинного обучения. Были выдели тренировочная, валидационная и тестовые выборки в соотношение **3:1:1**. Категориальные признаки были предобработанны при помощи техники **прямого кодирования**. Далее мы отмасштабировали полученные признаки на основе тренировочного датасета. И, наконец, был устранен дисбаланс классов методом **upsampling**.\n",
    "\n",
    "Затем мы обучили несколько моделей машинного обучения:\n",
    "\n",
    "- **LogisticRegression**\n",
    "- **RandomForestClassifier**\n",
    "- **LGBMClassifier**\n",
    "- **CatBoostClassifier**\n",
    "\n",
    "Лучшего всего на валидационной выборке себя показал алгоритм **LGBMClassifier**, для которого значение $ROC-AUC$ составило **0.918**. Самый низкий результат был у линейного алгоритма **RandomForestClassifier**, равный **0.859**. На тестовых данных значение $ROC-AUC$ у алгоритма **LGBMClassifier** составило **0.923**."
   ]
  }
 ],
 "metadata": {
  "kernelspec": {
   "display_name": "Python 3",
   "language": "python",
   "name": "python3"
  },
  "language_info": {
   "codemirror_mode": {
    "name": "ipython",
    "version": 3
   },
   "file_extension": ".py",
   "mimetype": "text/x-python",
   "name": "python",
   "nbconvert_exporter": "python",
   "pygments_lexer": "ipython3",
   "version": "3.8.8"
  },
  "toc": {
   "base_numbering": 1,
   "nav_menu": {},
   "number_sections": true,
   "sideBar": true,
   "skip_h1_title": true,
   "title_cell": "Оглавление",
   "title_sidebar": "Contents",
   "toc_cell": true,
   "toc_position": {},
   "toc_section_display": true,
   "toc_window_display": true
  }
 },
 "nbformat": 4,
 "nbformat_minor": 5
}
