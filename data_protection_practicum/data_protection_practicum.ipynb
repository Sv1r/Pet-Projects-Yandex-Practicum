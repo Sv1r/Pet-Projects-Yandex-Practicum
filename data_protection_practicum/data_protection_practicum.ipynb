{
 "cells": [
  {
   "cell_type": "markdown",
   "metadata": {
    "toc": true
   },
   "source": [
    "<h1>Содержание<span class=\"tocSkip\"></span></h1>\n",
    "<div class=\"toc\"><ul class=\"toc-item\"><li><span><a href=\"#Загрузка-данных\" data-toc-modified-id=\"Загрузка-данных-1\"><span class=\"toc-item-num\">1&nbsp;&nbsp;</span>Загрузка данных</a></span></li><li><span><a href=\"#Умножение-матриц\" data-toc-modified-id=\"Умножение-матриц-2\"><span class=\"toc-item-num\">2&nbsp;&nbsp;</span>Умножение матриц</a></span><ul class=\"toc-item\"><li><span><a href=\"#Обоснование\" data-toc-modified-id=\"Обоснование-2.1\"><span class=\"toc-item-num\">2.1&nbsp;&nbsp;</span>Обоснование</a></span></li><li><span><a href=\"#Вывод\" data-toc-modified-id=\"Вывод-2.2\"><span class=\"toc-item-num\">2.2&nbsp;&nbsp;</span>Вывод</a></span></li></ul></li><li><span><a href=\"#Алгоритм-преобразования\" data-toc-modified-id=\"Алгоритм-преобразования-3\"><span class=\"toc-item-num\">3&nbsp;&nbsp;</span>Алгоритм преобразования</a></span></li><li><span><a href=\"#Проверка-алгоритма\" data-toc-modified-id=\"Проверка-алгоритма-4\"><span class=\"toc-item-num\">4&nbsp;&nbsp;</span>Проверка алгоритма</a></span></li><li><span><a href=\"#Вывод\" data-toc-modified-id=\"Вывод-5\"><span class=\"toc-item-num\">5&nbsp;&nbsp;</span>Вывод</a></span></li><li><span><a href=\"#Чек-лист-проверки\" data-toc-modified-id=\"Чек-лист-проверки-6\"><span class=\"toc-item-num\">6&nbsp;&nbsp;</span>Чек-лист проверки</a></span></li></ul></div>"
   ]
  },
  {
   "cell_type": "markdown",
   "metadata": {},
   "source": [
    "# Защита персональных данных клиентов"
   ]
  },
  {
   "cell_type": "markdown",
   "metadata": {},
   "source": [
    "Необходимо защитить данные клиентов страховой компании «Хоть потоп». Разработайте такой метод преобразования данных, чтобы по ним было сложно восстановить персональную информацию. Обоснуйте корректность его работы.\n",
    "\n",
    "Нужно защитить данные, чтобы при преобразовании качество моделей машинного обучения не ухудшилось. Подбирать наилучшую модель не требуется."
   ]
  },
  {
   "cell_type": "code",
   "execution_count": 2,
   "metadata": {},
   "outputs": [],
   "source": [
    "import numpy as np\n",
    "import pandas as pd\n",
    "\n",
    "import matplotlib.pyplot as plt\n",
    "import seaborn as sns\n",
    "\n",
    "from sklearn.model_selection import train_test_split\n",
    "from sklearn.model_selection import cross_val_score\n",
    "from sklearn.metrics import r2_score\n",
    "from sklearn.linear_model import LinearRegression\n",
    "\n",
    "import warnings\n",
    "warnings.filterwarnings('ignore')"
   ]
  },
  {
   "cell_type": "markdown",
   "metadata": {},
   "source": [
    "## Загрузка данных"
   ]
  },
  {
   "cell_type": "markdown",
   "metadata": {},
   "source": [
    "Выгрузим данные и визуально осмотрим их."
   ]
  },
  {
   "cell_type": "code",
   "execution_count": 3,
   "metadata": {},
   "outputs": [],
   "source": [
    "df = pd.read_csv('/datasets/insurance.csv')"
   ]
  },
  {
   "cell_type": "code",
   "execution_count": 4,
   "metadata": {},
   "outputs": [
    {
     "data": {
      "text/html": [
       "<div>\n",
       "<style scoped>\n",
       "    .dataframe tbody tr th:only-of-type {\n",
       "        vertical-align: middle;\n",
       "    }\n",
       "\n",
       "    .dataframe tbody tr th {\n",
       "        vertical-align: top;\n",
       "    }\n",
       "\n",
       "    .dataframe thead th {\n",
       "        text-align: right;\n",
       "    }\n",
       "</style>\n",
       "<table border=\"1\" class=\"dataframe\">\n",
       "  <thead>\n",
       "    <tr style=\"text-align: right;\">\n",
       "      <th></th>\n",
       "      <th>Пол</th>\n",
       "      <th>Возраст</th>\n",
       "      <th>Зарплата</th>\n",
       "      <th>Члены семьи</th>\n",
       "      <th>Страховые выплаты</th>\n",
       "    </tr>\n",
       "  </thead>\n",
       "  <tbody>\n",
       "    <tr>\n",
       "      <td>860</td>\n",
       "      <td>0</td>\n",
       "      <td>45.0</td>\n",
       "      <td>44300.0</td>\n",
       "      <td>2</td>\n",
       "      <td>1</td>\n",
       "    </tr>\n",
       "    <tr>\n",
       "      <td>3772</td>\n",
       "      <td>1</td>\n",
       "      <td>33.0</td>\n",
       "      <td>35900.0</td>\n",
       "      <td>0</td>\n",
       "      <td>0</td>\n",
       "    </tr>\n",
       "    <tr>\n",
       "      <td>3092</td>\n",
       "      <td>1</td>\n",
       "      <td>38.0</td>\n",
       "      <td>46500.0</td>\n",
       "      <td>0</td>\n",
       "      <td>0</td>\n",
       "    </tr>\n",
       "    <tr>\n",
       "      <td>466</td>\n",
       "      <td>0</td>\n",
       "      <td>33.0</td>\n",
       "      <td>25700.0</td>\n",
       "      <td>3</td>\n",
       "      <td>0</td>\n",
       "    </tr>\n",
       "    <tr>\n",
       "      <td>4426</td>\n",
       "      <td>1</td>\n",
       "      <td>25.0</td>\n",
       "      <td>36300.0</td>\n",
       "      <td>2</td>\n",
       "      <td>0</td>\n",
       "    </tr>\n",
       "    <tr>\n",
       "      <td>3444</td>\n",
       "      <td>1</td>\n",
       "      <td>24.0</td>\n",
       "      <td>34800.0</td>\n",
       "      <td>1</td>\n",
       "      <td>0</td>\n",
       "    </tr>\n",
       "    <tr>\n",
       "      <td>3171</td>\n",
       "      <td>0</td>\n",
       "      <td>31.0</td>\n",
       "      <td>34300.0</td>\n",
       "      <td>2</td>\n",
       "      <td>0</td>\n",
       "    </tr>\n",
       "    <tr>\n",
       "      <td>2919</td>\n",
       "      <td>0</td>\n",
       "      <td>22.0</td>\n",
       "      <td>56600.0</td>\n",
       "      <td>0</td>\n",
       "      <td>0</td>\n",
       "    </tr>\n",
       "    <tr>\n",
       "      <td>130</td>\n",
       "      <td>0</td>\n",
       "      <td>21.0</td>\n",
       "      <td>49300.0</td>\n",
       "      <td>0</td>\n",
       "      <td>0</td>\n",
       "    </tr>\n",
       "    <tr>\n",
       "      <td>1685</td>\n",
       "      <td>1</td>\n",
       "      <td>33.0</td>\n",
       "      <td>26200.0</td>\n",
       "      <td>0</td>\n",
       "      <td>0</td>\n",
       "    </tr>\n",
       "  </tbody>\n",
       "</table>\n",
       "</div>"
      ],
      "text/plain": [
       "      Пол  Возраст  Зарплата  Члены семьи  Страховые выплаты\n",
       "860     0     45.0   44300.0            2                  1\n",
       "3772    1     33.0   35900.0            0                  0\n",
       "3092    1     38.0   46500.0            0                  0\n",
       "466     0     33.0   25700.0            3                  0\n",
       "4426    1     25.0   36300.0            2                  0\n",
       "3444    1     24.0   34800.0            1                  0\n",
       "3171    0     31.0   34300.0            2                  0\n",
       "2919    0     22.0   56600.0            0                  0\n",
       "130     0     21.0   49300.0            0                  0\n",
       "1685    1     33.0   26200.0            0                  0"
      ]
     },
     "execution_count": 4,
     "metadata": {},
     "output_type": "execute_result"
    }
   ],
   "source": [
    "df.sample(n=10, replace=True, random_state=42)"
   ]
  },
  {
   "cell_type": "markdown",
   "metadata": {},
   "source": [
    "Посмотрим на описательные статистики нашего датафрейма."
   ]
  },
  {
   "cell_type": "code",
   "execution_count": 5,
   "metadata": {},
   "outputs": [
    {
     "data": {
      "text/html": [
       "<div>\n",
       "<style scoped>\n",
       "    .dataframe tbody tr th:only-of-type {\n",
       "        vertical-align: middle;\n",
       "    }\n",
       "\n",
       "    .dataframe tbody tr th {\n",
       "        vertical-align: top;\n",
       "    }\n",
       "\n",
       "    .dataframe thead th {\n",
       "        text-align: right;\n",
       "    }\n",
       "</style>\n",
       "<table border=\"1\" class=\"dataframe\">\n",
       "  <thead>\n",
       "    <tr style=\"text-align: right;\">\n",
       "      <th></th>\n",
       "      <th>Пол</th>\n",
       "      <th>Возраст</th>\n",
       "      <th>Зарплата</th>\n",
       "      <th>Члены семьи</th>\n",
       "      <th>Страховые выплаты</th>\n",
       "    </tr>\n",
       "  </thead>\n",
       "  <tbody>\n",
       "    <tr>\n",
       "      <td>count</td>\n",
       "      <td>5000.000000</td>\n",
       "      <td>5000.000000</td>\n",
       "      <td>5000.000000</td>\n",
       "      <td>5000.000000</td>\n",
       "      <td>5000.000000</td>\n",
       "    </tr>\n",
       "    <tr>\n",
       "      <td>mean</td>\n",
       "      <td>0.499000</td>\n",
       "      <td>30.952800</td>\n",
       "      <td>39916.360000</td>\n",
       "      <td>1.194200</td>\n",
       "      <td>0.148000</td>\n",
       "    </tr>\n",
       "    <tr>\n",
       "      <td>std</td>\n",
       "      <td>0.500049</td>\n",
       "      <td>8.440807</td>\n",
       "      <td>9900.083569</td>\n",
       "      <td>1.091387</td>\n",
       "      <td>0.463183</td>\n",
       "    </tr>\n",
       "    <tr>\n",
       "      <td>min</td>\n",
       "      <td>0.000000</td>\n",
       "      <td>18.000000</td>\n",
       "      <td>5300.000000</td>\n",
       "      <td>0.000000</td>\n",
       "      <td>0.000000</td>\n",
       "    </tr>\n",
       "    <tr>\n",
       "      <td>25%</td>\n",
       "      <td>0.000000</td>\n",
       "      <td>24.000000</td>\n",
       "      <td>33300.000000</td>\n",
       "      <td>0.000000</td>\n",
       "      <td>0.000000</td>\n",
       "    </tr>\n",
       "    <tr>\n",
       "      <td>50%</td>\n",
       "      <td>0.000000</td>\n",
       "      <td>30.000000</td>\n",
       "      <td>40200.000000</td>\n",
       "      <td>1.000000</td>\n",
       "      <td>0.000000</td>\n",
       "    </tr>\n",
       "    <tr>\n",
       "      <td>75%</td>\n",
       "      <td>1.000000</td>\n",
       "      <td>37.000000</td>\n",
       "      <td>46600.000000</td>\n",
       "      <td>2.000000</td>\n",
       "      <td>0.000000</td>\n",
       "    </tr>\n",
       "    <tr>\n",
       "      <td>max</td>\n",
       "      <td>1.000000</td>\n",
       "      <td>65.000000</td>\n",
       "      <td>79000.000000</td>\n",
       "      <td>6.000000</td>\n",
       "      <td>5.000000</td>\n",
       "    </tr>\n",
       "  </tbody>\n",
       "</table>\n",
       "</div>"
      ],
      "text/plain": [
       "               Пол      Возраст      Зарплата  Члены семьи  Страховые выплаты\n",
       "count  5000.000000  5000.000000   5000.000000  5000.000000        5000.000000\n",
       "mean      0.499000    30.952800  39916.360000     1.194200           0.148000\n",
       "std       0.500049     8.440807   9900.083569     1.091387           0.463183\n",
       "min       0.000000    18.000000   5300.000000     0.000000           0.000000\n",
       "25%       0.000000    24.000000  33300.000000     0.000000           0.000000\n",
       "50%       0.000000    30.000000  40200.000000     1.000000           0.000000\n",
       "75%       1.000000    37.000000  46600.000000     2.000000           0.000000\n",
       "max       1.000000    65.000000  79000.000000     6.000000           5.000000"
      ]
     },
     "execution_count": 5,
     "metadata": {},
     "output_type": "execute_result"
    }
   ],
   "source": [
    "df.describe()"
   ]
  },
  {
   "cell_type": "markdown",
   "metadata": {},
   "source": [
    "Теперь оценим информацию данной таблицы."
   ]
  },
  {
   "cell_type": "code",
   "execution_count": 6,
   "metadata": {},
   "outputs": [
    {
     "name": "stdout",
     "output_type": "stream",
     "text": [
      "<class 'pandas.core.frame.DataFrame'>\n",
      "RangeIndex: 5000 entries, 0 to 4999\n",
      "Data columns (total 5 columns):\n",
      "Пол                  5000 non-null int64\n",
      "Возраст              5000 non-null float64\n",
      "Зарплата             5000 non-null float64\n",
      "Члены семьи          5000 non-null int64\n",
      "Страховые выплаты    5000 non-null int64\n",
      "dtypes: float64(2), int64(3)\n",
      "memory usage: 195.4 KB\n"
     ]
    }
   ],
   "source": [
    "df.info()"
   ]
  },
  {
   "cell_type": "markdown",
   "metadata": {},
   "source": [
    "**Наблюдения №1:**\n",
    "\n",
    " * Из приведенных данных можно заключить, что исходный датафрейм не содержит пропусков.\n",
    " * Переменные **Зарпалата** и **Возраст** стоит перенести в целечисленный тип данных."
   ]
  },
  {
   "cell_type": "markdown",
   "metadata": {},
   "source": [
    "Построим матрицу диаграмм рассеяния и матрицу кожффициентов корреляции *Спирмена*. "
   ]
  },
  {
   "cell_type": "markdown",
   "metadata": {},
   "source": [
    "Коэффициент ранговой корреляции *Спирмена* используется для выявления и оценки тесноты связи между двумя рядами сопоставляемых количественных показателей. В том случае, если ранги показателей, упорядоченных по степени возрастания или убывания, в большинстве случаев совпадают  - большему значению одного показателя соответствует большее значение другого показателя, делается вывод о наличии *прямой* корреляционной связи. В противном случае, когда большему значению одного показателя соответствует меньшее значение другого, говорят об обратной связи между показателями.\n",
    "\n",
    "В общем случае для ***n***-мерной выборки, с набором переменных $X_i$ и $Y_i$ для, переведенных в ранговые - $rg_{X_i}, rg_{Y_i}$, коэффициент корреляции *Спирмена* - $r_s$ может быть рассчитан по следующей формуле: \n",
    "\n",
    "\n",
    "\n",
    "\\begin{equation*}\n",
    "r_s=\\rho_{rg_{X}, rg_{Y}}=\\frac{cov(rg_{X}, rg_{Y})}{\\sigma_{rg_{X}}\\sigma_{rg_{Y}}} \\\n",
    "\\end{equation*}\n",
    "\n",
    "где \n",
    " - $\\rho$ - обозначени коэффициент корреляции *Пирсона* для ранговых переменных \n",
    " - $cov(rg_{X}, rg_{Y})$ ковариация ранговых переменных \n",
    " - $\\sigma_{rg_{X}}\\sigma_{rg_{Y}}$ седнеквадратическое отклонение ранговых переменных"
   ]
  },
  {
   "cell_type": "code",
   "execution_count": 7,
   "metadata": {},
   "outputs": [],
   "source": [
    "def eda_plot(data):\n",
    "    \n",
    "    corr = data.corr(method='spearman')\n",
    "    columns = data.columns\n",
    "    \n",
    "    sns.pairplot(df,\n",
    "                 height=2.25,\n",
    "                 plot_kws=dict(marker='o',\n",
    "                               linewidth=1),\n",
    "                 diag_kws=dict(fill=False))\n",
    "    \n",
    "    plt.figure(figsize=(8, 8))\n",
    "    sns.heatmap(corr,\n",
    "                cbar=True,\n",
    "                annot=True,\n",
    "                square=True,\n",
    "                fmt='.2f',\n",
    "                yticklabels=columns,\n",
    "                xticklabels=columns)\n",
    "    plt.title('Spearmans rank correlation coefficient')\n",
    "    plt.tight_layout()\n",
    "    plt.xticks(rotation = 90)\n",
    "    plt.yticks(rotation = 0)\n",
    "    plt.show()"
   ]
  },
  {
   "cell_type": "code",
   "execution_count": 8,
   "metadata": {},
   "outputs": [
    {
     "data": {
      "image/png": "[encoded data removed]",
      "text/plain": [
       "<Figure size 810x810 with 30 Axes>"
      ]
     },
     "metadata": {
      "needs_background": "light"
     },
     "output_type": "display_data"
    },
    {
     "data": {
      "image/png": "[encoded data removed]",
      "text/plain": [
       "<Figure size 576x576 with 2 Axes>"
      ]
     },
     "metadata": {
      "needs_background": "light"
     },
     "output_type": "display_data"
    }
   ],
   "source": [
    "eda_plot(df)"
   ]
  },
  {
   "cell_type": "markdown",
   "metadata": {},
   "source": [
    "Итак, из приведенных выше матриц можно заметить, что представленные переменные весьма весьма неоднородны в своем распределение: \n",
    " * переменная **Пол** имеет распределение Бернулли;\n",
    " * переменные **Возраст**, **Члены семьи** и **Страховые выплаты** имеют распределения, скошенные вправо;\n",
    " * переменная **Зарплата** обладает нормальным распределением.\n",
    " \n",
    "Визуальная составляющая диаграмм рассеяния указывает на малую взаимосвязь всех признаком на переменную **Страховые выплаты**, кроме признака, указывающего на **возраст** клиентов. Данное предположение подтверждается анализом коэффициентов корреляции *Спирмена*, который между перемеными **Возраст** и **Страховые выплаты** составил **0.55**, что согласно *шкале Чеддока* свидетельствует о *заметном* характере взаимосвязи. Помимо этого отсутствует мультиколлинеарность остальных параметров."
   ]
  },
  {
   "cell_type": "markdown",
   "metadata": {},
   "source": [
    "## Умножение матриц"
   ]
  },
  {
   "cell_type": "markdown",
   "metadata": {},
   "source": [
    "*Предположим*, чтобы защитить данные клиентов - преобразуем их путем домножения матрицы признаков на произвольную *обратимую* матрицу, и данное преобразование не скажется на финальном качестве модели линейной регрессии. "
   ]
  },
  {
   "cell_type": "markdown",
   "metadata": {},
   "source": [
    "### Обоснование"
   ]
  },
  {
   "cell_type": "markdown",
   "metadata": {},
   "source": [
    "Обозначения:\n",
    "\n",
    "- $X$ — матрица признаков (нулевой столбец состоит из единиц), $X\\in{\\mathbb{R}^{nxm}}$\n",
    "\n",
    "- $\\hat{X}$ — матрица новых признаков, $\\hat{X}\\in{\\mathbb{R}^{kxm}}$\n",
    "\n",
    "- $y$ — вектор целевого признака, $y\\in{\\mathbb{R}^{nx1}}$\n",
    "\n",
    "- $\\hat{y}$ — новый вектор целевого признака, $\\hat{y}\\in{\\mathbb{R}^{kx1}}$\n",
    "\n",
    "- $P$ — матрица, на которую умножаются признаки, $P\\in{\\mathbb{R}^{mxm}}$\n",
    "\n",
    "- $E$ — удиничная матрица, $E\\in{\\mathbb{R}^{mxm}}$\n",
    "\n",
    "- $w$ — вектор весов линейной регрессии (нулевой элемент равен сдвигу), $w\\in{\\mathbb{R}^{mx1}}$"
   ]
  },
  {
   "cell_type": "markdown",
   "metadata": {},
   "source": [
    "Вектор предсказания:\n",
    "\n",
    "$$\n",
    "y = Xw\n",
    "$$\n",
    "\n",
    "Задача обучения - нахождения минимума и возвращения аргумента, при котором оный был достигнут:\n",
    "\n",
    "$$\n",
    "w = \\arg\\min_w MSE(Xw, y)\n",
    "$$\n",
    "\n",
    "Тогда формула обучения будет иметь следующий вид:\n",
    "\n",
    "$$\n",
    "w = (X^T X)^{-1} X^T y\n",
    "$$\n",
    "\n",
    "Таким образом, если мы воспользуемся полученным вектором весов $w$, для предсказания целевого признака $\\hat{y}$ на основе матрицы признаков $\\hat{X}$ , то форма вектора предсказаний будет иметь следующий вид:\n",
    "\n",
    "$$\n",
    "\\hat{y} = \\hat{X}w = \\hat{X}(X^T X)^{-1} X^T y\n",
    "$$\n",
    "\n",
    "Домножим признаки на *обратимую* матрицу $P$, т.е. для данной матрицы справедливо следующее: $\\det{P}\\neq{0}; \\exists{C}$ такая, что $PC=CP=E$. Докажем, что\n",
    "\n",
    "$$\n",
    "\\hat{y} = \\hat{X}P [(XP)^T XP]^{-1} (XP)^T y = \\hat{X} (X^T X)^{-1} X^T y\n",
    "$$\n",
    "\n",
    "В рамках доказательста будем пользоваться следующими свойствами матричных преобразований:\n",
    "\n",
    "$$\n",
    "AA^{-1} = A^{-1} A = E\n",
    "$$\n",
    "$$\n",
    "AE = EA = A\n",
    "$$\n",
    "$$\n",
    "(AB)^T = B^T A^T\n",
    "$$\n",
    "$$\n",
    "(AB)^{-1} = B^{-1} A^{-1}\n",
    "$$\n",
    "\n",
    "Тогда:\n",
    "\n",
    "$$\n",
    "\\hat{y} = \\hat{X}P [(XP)^T XP]^{-1} (XP)^T y = \\hat{X}P (P^T X^T XP)^{-1} P^T X^T y = \\hat{X}P P^{-1} [P^T (X^T X)]^{-1} P^T X^T y = \\hat{X}P P^{-1} (X^T X)^{-1} P^{-T} P^T X^T y = \\hat{X}E (X^T X)^{-1} E X^T y = \\hat{X} (X^T X)^{-1} X^T y\n",
    "$$"
   ]
  },
  {
   "cell_type": "markdown",
   "metadata": {},
   "source": [
    "### Вывод"
   ]
  },
  {
   "cell_type": "markdown",
   "metadata": {},
   "source": [
    "Итак, подытожим, домножение матрицы признаков на обратимую произвольную матрицу не влияет на предсказания, осуществляемые моделью линейной регрессии, что было показанно при помощи свойств преобразования матриц. Наше *предположение*, выдвинутое в начале оного пункта не может быть отвергнуто."
   ]
  },
  {
   "cell_type": "markdown",
   "metadata": {},
   "source": [
    "## Алгоритм преобразования"
   ]
  },
  {
   "cell_type": "markdown",
   "metadata": {},
   "source": [
    "Теперь проверим работу алгоритма. Определим функцию, которая будет создавать матрицу $P$. Данная функция будет иметь возможность зафиксировать случайную генерацию. Помимо этого функция будет проверять условия обратимости полученной матрицы."
   ]
  },
  {
   "cell_type": "code",
   "execution_count": 9,
   "metadata": {},
   "outputs": [],
   "source": [
    "def arbitrary_matrix(data, fix):\n",
    "    \n",
    "    width=data.shape[1]\n",
    "    \n",
    "    if fix==True:\n",
    "        np.random.seed(42)\n",
    "        P = np.random.rand(width, width)\n",
    "        if np.linalg.det(P)==0:\n",
    "            P = np.random.rand(width,width)\n",
    "            \n",
    "    elif fix==False:\n",
    "        P = np.random.rand(width, width)\n",
    "        if np.linalg.det(P)==0:\n",
    "            P = np.random.rand(width,width)\n",
    "            \n",
    "    return P"
   ]
  },
  {
   "cell_type": "markdown",
   "metadata": {},
   "source": [
    "Создадим матрицу преобразования матрицы признаков $X$ путем умножения на $P$."
   ]
  },
  {
   "cell_type": "code",
   "execution_count": 10,
   "metadata": {},
   "outputs": [],
   "source": [
    "def features_transform(data, invertible_matrix):\n",
    "    \n",
    "    X = data.values\n",
    "    transformed_features = X @ invertible_matrix\n",
    "    \n",
    "    return transformed_features"
   ]
  },
  {
   "cell_type": "markdown",
   "metadata": {},
   "source": [
    "Разделим наши исходные данные на тренировочную и валидационную выборки."
   ]
  },
  {
   "cell_type": "code",
   "execution_count": 11,
   "metadata": {},
   "outputs": [],
   "source": [
    "features = df.drop(['Страховые выплаты'], axis=1)\n",
    "target = df['Страховые выплаты']"
   ]
  },
  {
   "cell_type": "markdown",
   "metadata": {},
   "source": [
    "Преобразуем признаки при помощи ранее созданных функций."
   ]
  },
  {
   "cell_type": "code",
   "execution_count": 12,
   "metadata": {},
   "outputs": [],
   "source": [
    "P = arbitrary_matrix(features, True)\n",
    "new_features = pd.DataFrame(features_transform(features, P), columns=features.columns)"
   ]
  },
  {
   "cell_type": "markdown",
   "metadata": {},
   "source": [
    "Посмотрим как изменились наши данные."
   ]
  },
  {
   "cell_type": "code",
   "execution_count": 13,
   "metadata": {},
   "outputs": [
    {
     "data": {
      "text/html": [
       "<div>\n",
       "<style scoped>\n",
       "    .dataframe tbody tr th:only-of-type {\n",
       "        vertical-align: middle;\n",
       "    }\n",
       "\n",
       "    .dataframe tbody tr th {\n",
       "        vertical-align: top;\n",
       "    }\n",
       "\n",
       "    .dataframe thead th {\n",
       "        text-align: right;\n",
       "    }\n",
       "</style>\n",
       "<table border=\"1\" class=\"dataframe\">\n",
       "  <thead>\n",
       "    <tr style=\"text-align: right;\">\n",
       "      <th></th>\n",
       "      <th>Пол</th>\n",
       "      <th>Возраст</th>\n",
       "      <th>Зарплата</th>\n",
       "      <th>Члены семьи</th>\n",
       "    </tr>\n",
       "  </thead>\n",
       "  <tbody>\n",
       "    <tr>\n",
       "      <td>860</td>\n",
       "      <td>26638.080744</td>\n",
       "      <td>31375.059628</td>\n",
       "      <td>914.870510</td>\n",
       "      <td>43006.351186</td>\n",
       "    </tr>\n",
       "    <tr>\n",
       "      <td>3772</td>\n",
       "      <td>21585.552077</td>\n",
       "      <td>25425.904076</td>\n",
       "      <td>741.632098</td>\n",
       "      <td>34848.946164</td>\n",
       "    </tr>\n",
       "    <tr>\n",
       "      <td>3092</td>\n",
       "      <td>27958.151295</td>\n",
       "      <td>32932.253374</td>\n",
       "      <td>960.118156</td>\n",
       "      <td>45134.321478</td>\n",
       "    </tr>\n",
       "    <tr>\n",
       "      <td>466</td>\n",
       "      <td>15456.301745</td>\n",
       "      <td>18203.250086</td>\n",
       "      <td>531.483738</td>\n",
       "      <td>24955.817227</td>\n",
       "    </tr>\n",
       "    <tr>\n",
       "      <td>4426</td>\n",
       "      <td>21826.414818</td>\n",
       "      <td>25708.309830</td>\n",
       "      <td>749.764877</td>\n",
       "      <td>35230.347505</td>\n",
       "    </tr>\n",
       "    <tr>\n",
       "      <td>3444</td>\n",
       "      <td>20923.753839</td>\n",
       "      <td>24645.832629</td>\n",
       "      <td>718.648227</td>\n",
       "      <td>33774.433146</td>\n",
       "    </tr>\n",
       "    <tr>\n",
       "      <td>3171</td>\n",
       "      <td>20624.746366</td>\n",
       "      <td>24292.149927</td>\n",
       "      <td>708.212396</td>\n",
       "      <td>33295.126199</td>\n",
       "    </tr>\n",
       "    <tr>\n",
       "      <td>2919</td>\n",
       "      <td>34026.542075</td>\n",
       "      <td>40080.339783</td>\n",
       "      <td>1166.360217</td>\n",
       "      <td>54915.953508</td>\n",
       "    </tr>\n",
       "    <tr>\n",
       "      <td>130</td>\n",
       "      <td>29638.246470</td>\n",
       "      <td>34911.253970</td>\n",
       "      <td>1016.035325</td>\n",
       "      <td>47834.745411</td>\n",
       "    </tr>\n",
       "    <tr>\n",
       "      <td>1685</td>\n",
       "      <td>15754.736463</td>\n",
       "      <td>18557.600072</td>\n",
       "      <td>541.962504</td>\n",
       "      <td>25440.820598</td>\n",
       "    </tr>\n",
       "  </tbody>\n",
       "</table>\n",
       "</div>"
      ],
      "text/plain": [
       "               Пол       Возраст     Зарплата   Члены семьи\n",
       "860   26638.080744  31375.059628   914.870510  43006.351186\n",
       "3772  21585.552077  25425.904076   741.632098  34848.946164\n",
       "3092  27958.151295  32932.253374   960.118156  45134.321478\n",
       "466   15456.301745  18203.250086   531.483738  24955.817227\n",
       "4426  21826.414818  25708.309830   749.764877  35230.347505\n",
       "3444  20923.753839  24645.832629   718.648227  33774.433146\n",
       "3171  20624.746366  24292.149927   708.212396  33295.126199\n",
       "2919  34026.542075  40080.339783  1166.360217  54915.953508\n",
       "130   29638.246470  34911.253970  1016.035325  47834.745411\n",
       "1685  15754.736463  18557.600072   541.962504  25440.820598"
      ]
     },
     "execution_count": 13,
     "metadata": {},
     "output_type": "execute_result"
    }
   ],
   "source": [
    "new_features.sample(n=10, replace=True, random_state=42)"
   ]
  },
  {
   "cell_type": "markdown",
   "metadata": {},
   "source": [
    "Выглядит весьма необычно, но это для нас - людей. Что скажет по этому поводу машина, давайте узнаем? Согласно проведенным преобразованиям для алгоритма оба набора признаков должны быть эквивалентны."
   ]
  },
  {
   "cell_type": "markdown",
   "metadata": {},
   "source": [
    "## Проверка алгоритма"
   ]
  },
  {
   "cell_type": "markdown",
   "metadata": {},
   "source": [
    "Создадим функцию для обучения регрессии."
   ]
  },
  {
   "cell_type": "code",
   "execution_count": 14,
   "metadata": {},
   "outputs": [],
   "source": [
    "def model_fit(features_initial, target_initial, model):\n",
    "    \n",
    "    features_train, features_valid, target_train, target_valid = train_test_split(features_initial, \n",
    "                                                                                  target_initial, \n",
    "                                                                                  test_size=0.25, \n",
    "                                                                                  random_state=42)\n",
    "    cv_r2 = cross_val_score(model,\n",
    "                    features_initial,\n",
    "                    target_initial,\n",
    "                    scoring='r2',\n",
    "                    cv=8,\n",
    "                    n_jobs=-1)\n",
    "    \n",
    "    model.fit(features_train, target_train)\n",
    "    predictions = model.predict(features_valid)\n",
    "    r2 = r2_score(target_valid, predictions)\n",
    "    \n",
    "    result = [round(cv_r2.mean(), 2), round(r2, 2)]\n",
    "    \n",
    "    print('Итоги обучения модели:')\n",
    "    print('')\n",
    "    print('- Среднее R2 для скользящего контроля: {:.2f}'.format(cv_r2.mean()))\n",
    "    print('')\n",
    "    print('- R2: {:.2f}'.format(r2))\n",
    "    \n",
    "    f, ax = plt.subplots(2, 2, figsize=(12, 12))\n",
    "        \n",
    "    lims = [0, target_valid.max()]\n",
    "    error = predictions - target_valid\n",
    "\n",
    "    ax[0,0].set_title('Errors estimation')\n",
    "    ax[0,0].scatter(target_valid, predictions, edgecolors=(0, 0, 0))\n",
    "    ax[0,0].plot(lims, lims, 'k--', color='red', lw=4)\n",
    "    ax[0,0].set_xlabel('True values')\n",
    "    ax[0,0].set_ylabel('Predicted')\n",
    "\n",
    "    ax[0,1].set_title('Errors distribution')\n",
    "    ax[0,1].hist(error, bins=50)\n",
    "    ax[0,1].set_xlabel('Prediction Error')\n",
    "    ax[0,1].set_ylabel('Frequency')\n",
    "    \n",
    "    importances= model.coef_\n",
    "    feature_names = features_initial.columns\n",
    "                     \n",
    "    model_importances = pd.Series(importances, index=feature_names)\n",
    "    \n",
    "    ax[1,0].bar(x=model_importances.index, height=model_importances.values)\n",
    "    ax[1,0].set_title('Feature importances')\n",
    "    ax[1,0].set_ylabel('Coefficients')\n",
    "    plt.xticks(rotation = 90)\n",
    "    f.tight_layout()\n",
    "    \n",
    "    ax[1,1].plot(range(len(cv_r2)), cv_r2)\n",
    "    ax[1,1].set_title('Cross-validation score')\n",
    "    ax[1,1].set_ylabel('R2 score')\n",
    "    ax[1,1].set_xlabel('Iteration')\n",
    "    ax[1,1].set_ylim([0, max(cv_r2)*1.1])\n",
    "    plt.xticks(rotation=0)\n",
    "    \n",
    "    plt.show()\n",
    "    \n",
    "    return result"
   ]
  },
  {
   "cell_type": "markdown",
   "metadata": {},
   "source": [
    "Зададим модель линейной регрессии - **LinearRegression()**."
   ]
  },
  {
   "cell_type": "code",
   "execution_count": 15,
   "metadata": {},
   "outputs": [],
   "source": [
    "model = LinearRegression()"
   ]
  },
  {
   "cell_type": "markdown",
   "metadata": {},
   "source": [
    "В качестве метрики будем использовать *коэффициент детерминации* - $R^2$.\n",
    "\n",
    "$$\n",
    "R^2 = 1 - \\frac{\\sum_{i=1}^{\\infty} (\\hat{y_i} - y_i)^2}{\\sum_{i=1}^{\\infty} (y_i - \\bar{y})^2}\n",
    "$$\n",
    "\n",
    "где \n",
    " - $\\hat{y_i}$ - расчетные значения целевого признака\n",
    " - $y_i$ - фактические значение целевой переменной \n",
    " - $\\bar{y_i}$ - выборочное среднее \n",
    "\n",
    "Данный показатель измеряет долю дисперсии, объясненную моделью, в общей дисперсии целевой переменной. $\\{R^2\\in{\\mathbb{R}}:0 \\leqslant R^2 \\leqslant 1\\}$, где $1$ -  модель хорошо объясняет данные, а $0$ - прогнозы сопоставимы по качеству с константным предсказанием."
   ]
  },
  {
   "cell_type": "markdown",
   "metadata": {},
   "source": [
    "Сначала обучим и оценим качество модели на оригинальных данных, а затем на преобразованных."
   ]
  },
  {
   "cell_type": "code",
   "execution_count": 16,
   "metadata": {
    "scrolled": false
   },
   "outputs": [
    {
     "name": "stdout",
     "output_type": "stream",
     "text": [
      "Итоги обучения модели:\n",
      "\n",
      "- Среднее R2 для скользящего контроля: 0.42\n",
      "\n",
      "- R2: 0.43\n"
     ]
    },
    {
     "data": {
      "image/png": "[encoded data removed]",
      "text/plain": [
       "<Figure size 864x864 with 4 Axes>"
      ]
     },
     "metadata": {
      "needs_background": "light"
     },
     "output_type": "display_data"
    }
   ],
   "source": [
    "origin_results =  model_fit(features, target, model)"
   ]
  },
  {
   "cell_type": "code",
   "execution_count": 17,
   "metadata": {},
   "outputs": [
    {
     "name": "stdout",
     "output_type": "stream",
     "text": [
      "Итоги обучения модели:\n",
      "\n",
      "- Среднее R2 для скользящего контроля: 0.42\n",
      "\n",
      "- R2: 0.43\n"
     ]
    },
    {
     "data": {
      "image/png": "[encoded data removed]",
      "text/plain": [
       "<Figure size 864x864 with 4 Axes>"
      ]
     },
     "metadata": {
      "needs_background": "light"
     },
     "output_type": "display_data"
    }
   ],
   "source": [
    "transformed_results = model_fit(new_features, target, model)"
   ]
  },
  {
   "cell_type": "markdown",
   "metadata": {},
   "source": [
    "## Вывод"
   ]
  },
  {
   "cell_type": "markdown",
   "metadata": {},
   "source": [
    "Итак, в исходной таблице с характеристиками клиентов не было выявлено пропусков, а последующее построение матрицы диаграмм рассеяния и расчет рангового коэффициента *Спирмена* позволили оценить мультиколлинеарность представленных переменны, наличие которой не было выявлено в виду отсутсвия сильной зависимости между объясняющими переменными.\n",
    "\n",
    "Был разработан алгоритм преобразования данных путем умножения матрицы признаков на *обратимую* матрицу. Как удалось выяснить в ходе аналитического разбора данного алгоритма, оный никоим образом не влияет на финальное качество модели обучения в случае *линейной регрессии*. Данные выводы были подтверждены на основе пакета **LinearRegression()** модуля **scikit-learn**. В качестве метрики оценивания качества модели был использован *коэффициент детерминации* - $R^2$. Значение выбранной метрики оказались одинаковы как для исходных данных, так и для преобразованных - **0.42** - среднее при скользящем контроле и **0.43** на валидационной выборки, составившей *25%* от оригинального датафрейма. Однако, стоит заметить: после преобразования веса признаков модели поменяли свои значения, что не противоречит аналитическому решению."
   ]
  },
  {
   "cell_type": "markdown",
   "metadata": {},
   "source": [
    "## Чек-лист проверки"
   ]
  },
  {
   "cell_type": "markdown",
   "metadata": {},
   "source": [
    "Поставьте 'x' в выполненных пунктах. Далее нажмите Shift+Enter."
   ]
  },
  {
   "cell_type": "markdown",
   "metadata": {},
   "source": [
    "- [x]  Jupyter Notebook открыт\n",
    "- [x]  Весь код выполняется без ошибок\n",
    "- [x]  Ячейки с кодом расположены в порядке исполнения\n",
    "- [x]  Выполнен шаг 1: данные загружены\n",
    "- [x]  Выполнен шаг 2: получен ответ на вопрос об умножении матриц\n",
    "    - [x]  Указан правильный вариант ответа\n",
    "    - [x]  Вариант обоснован\n",
    "- [x]  Выполнен шаг 3: предложен алгоритм преобразования\n",
    "    - [x]  Алгоритм описан\n",
    "    - [x]  Алгоритм обоснован\n",
    "- [x]  Выполнен шаг 4: алгоритм проверен\n",
    "    - [x]  Алгоритм реализован\n",
    "    - [x]  Проведено сравнение качества моделей до и после преобразования"
   ]
  }
 ],
 "metadata": {
  "ExecuteTimeLog": [
   {
    "duration": 1091,
    "start_time": "2021-07-17T18:13:12.900Z"
   },
   {
    "duration": 20,
    "start_time": "2021-07-17T18:14:22.828Z"
   },
   {
    "duration": 17,
    "start_time": "2021-07-17T18:14:36.879Z"
   },
   {
    "duration": 16,
    "start_time": "2021-07-17T18:14:50.751Z"
   },
   {
    "duration": 9,
    "start_time": "2021-07-17T18:15:17.576Z"
   },
   {
    "duration": 9,
    "start_time": "2021-07-17T18:35:30.947Z"
   },
   {
    "duration": 11,
    "start_time": "2021-07-17T18:35:34.740Z"
   },
   {
    "duration": 9,
    "start_time": "2021-07-17T18:35:38.044Z"
   },
   {
    "duration": 23,
    "start_time": "2021-07-17T18:47:52.156Z"
   },
   {
    "duration": 23,
    "start_time": "2021-07-17T18:47:54.807Z"
   },
   {
    "duration": 89,
    "start_time": "2021-07-17T18:48:52.215Z"
   },
   {
    "duration": 8,
    "start_time": "2021-07-17T18:49:22.655Z"
   },
   {
    "duration": 7,
    "start_time": "2021-07-17T18:49:48.640Z"
   },
   {
    "duration": 96,
    "start_time": "2021-07-17T19:10:30.113Z"
   },
   {
    "duration": 6,
    "start_time": "2021-07-17T19:11:28.092Z"
   },
   {
    "duration": 11,
    "start_time": "2021-07-17T19:11:43.284Z"
   },
   {
    "duration": 5,
    "start_time": "2021-07-17T19:13:49.909Z"
   },
   {
    "duration": 340,
    "start_time": "2021-07-17T19:16:54.058Z"
   },
   {
    "duration": 276,
    "start_time": "2021-07-17T19:17:02.557Z"
   },
   {
    "duration": 6,
    "start_time": "2021-07-17T19:17:09.134Z"
   },
   {
    "duration": 2149,
    "start_time": "2021-07-17T19:17:09.502Z"
   },
   {
    "duration": 10,
    "start_time": "2021-07-17T19:17:28.678Z"
   },
   {
    "duration": 2374,
    "start_time": "2021-07-17T19:17:29.117Z"
   },
   {
    "duration": 6,
    "start_time": "2021-07-17T19:17:40.278Z"
   },
   {
    "duration": 1547,
    "start_time": "2021-07-17T19:17:40.677Z"
   },
   {
    "duration": 7,
    "start_time": "2021-07-17T19:18:05.414Z"
   },
   {
    "duration": 1804,
    "start_time": "2021-07-17T19:18:05.836Z"
   },
   {
    "duration": 4,
    "start_time": "2021-07-17T19:18:21.366Z"
   },
   {
    "duration": 1659,
    "start_time": "2021-07-17T19:18:21.781Z"
   },
   {
    "duration": 4,
    "start_time": "2021-07-17T19:19:19.310Z"
   },
   {
    "duration": 1700,
    "start_time": "2021-07-17T19:19:19.621Z"
   },
   {
    "duration": 4,
    "start_time": "2021-07-17T19:19:27.533Z"
   },
   {
    "duration": 1678,
    "start_time": "2021-07-17T19:19:28.117Z"
   },
   {
    "duration": 4,
    "start_time": "2021-07-17T19:19:38.774Z"
   },
   {
    "duration": 2607,
    "start_time": "2021-07-17T19:19:39.109Z"
   },
   {
    "duration": 6,
    "start_time": "2021-07-17T19:19:49.414Z"
   },
   {
    "duration": 1550,
    "start_time": "2021-07-17T19:19:50.453Z"
   },
   {
    "duration": 4,
    "start_time": "2021-07-17T19:20:16.607Z"
   },
   {
    "duration": 1956,
    "start_time": "2021-07-17T19:20:17.029Z"
   },
   {
    "duration": 4,
    "start_time": "2021-07-17T19:20:28.567Z"
   },
   {
    "duration": 2848,
    "start_time": "2021-07-17T19:20:28.813Z"
   },
   {
    "duration": 4,
    "start_time": "2021-07-17T19:20:42.270Z"
   },
   {
    "duration": 1780,
    "start_time": "2021-07-17T19:20:42.533Z"
   },
   {
    "duration": 5,
    "start_time": "2021-07-17T19:20:54.350Z"
   },
   {
    "duration": 1669,
    "start_time": "2021-07-17T19:20:54.605Z"
   },
   {
    "duration": 1395,
    "start_time": "2021-07-17T20:47:38.758Z"
   },
   {
    "duration": 19,
    "start_time": "2021-07-17T20:47:40.156Z"
   },
   {
    "duration": 17,
    "start_time": "2021-07-17T20:47:40.178Z"
   },
   {
    "duration": 29,
    "start_time": "2021-07-17T20:47:40.197Z"
   },
   {
    "duration": 18,
    "start_time": "2021-07-17T20:47:40.228Z"
   },
   {
    "duration": 6,
    "start_time": "2021-07-17T20:47:40.248Z"
   },
   {
    "duration": 1555,
    "start_time": "2021-07-17T20:47:40.256Z"
   },
   {
    "duration": 21619,
    "start_time": "2021-07-17T20:51:32.671Z"
   },
   {
    "duration": 15333,
    "start_time": "2021-07-17T20:52:15.399Z"
   },
   {
    "duration": 5082,
    "start_time": "2021-07-17T20:53:56.689Z"
   },
   {
    "duration": 4773,
    "start_time": "2021-07-17T20:54:07.041Z"
   },
   {
    "duration": 6823,
    "start_time": "2021-07-17T20:54:24.574Z"
   },
   {
    "duration": 6763,
    "start_time": "2021-07-17T20:56:17.105Z"
   },
   {
    "duration": 6719,
    "start_time": "2021-07-17T20:56:28.626Z"
   },
   {
    "duration": 6570,
    "start_time": "2021-07-17T20:56:40.505Z"
   },
   {
    "duration": 370,
    "start_time": "2021-07-17T20:57:19.537Z"
   },
   {
    "duration": 7690,
    "start_time": "2021-07-17T20:57:32.777Z"
   },
   {
    "duration": 15568,
    "start_time": "2021-07-17T20:57:53.129Z"
   },
   {
    "duration": 16268,
    "start_time": "2021-07-17T20:59:51.409Z"
   },
   {
    "duration": 16760,
    "start_time": "2021-07-17T21:01:19.594Z"
   },
   {
    "duration": 37927,
    "start_time": "2021-07-17T21:01:39.634Z"
   },
   {
    "duration": 6207,
    "start_time": "2021-07-17T21:03:03.122Z"
   },
   {
    "duration": 16096,
    "start_time": "2021-07-17T21:03:17.162Z"
   },
   {
    "duration": 9632,
    "start_time": "2021-07-17T21:04:00.346Z"
   },
   {
    "duration": 7886,
    "start_time": "2021-07-17T21:04:54.195Z"
   },
   {
    "duration": 1111,
    "start_time": "2021-07-17T21:05:09.878Z"
   },
   {
    "duration": 17,
    "start_time": "2021-07-17T21:05:10.991Z"
   },
   {
    "duration": 13,
    "start_time": "2021-07-17T21:05:11.011Z"
   },
   {
    "duration": 29,
    "start_time": "2021-07-17T21:05:11.026Z"
   },
   {
    "duration": 6,
    "start_time": "2021-07-17T21:05:11.057Z"
   },
   {
    "duration": 5,
    "start_time": "2021-07-17T21:05:11.065Z"
   },
   {
    "duration": 6877,
    "start_time": "2021-07-17T21:05:11.072Z"
   },
   {
    "duration": 7832,
    "start_time": "2021-07-17T21:05:57.275Z"
   },
   {
    "duration": 7216,
    "start_time": "2021-07-17T21:06:13.987Z"
   },
   {
    "duration": 5167,
    "start_time": "2021-07-17T21:07:06.259Z"
   },
   {
    "duration": 6667,
    "start_time": "2021-07-17T21:07:21.804Z"
   },
   {
    "duration": 7038,
    "start_time": "2021-07-17T21:09:53.284Z"
   },
   {
    "duration": 6180,
    "start_time": "2021-07-17T21:10:45.036Z"
   },
   {
    "duration": 5324,
    "start_time": "2021-07-17T21:11:01.973Z"
   },
   {
    "duration": 301,
    "start_time": "2021-07-17T21:11:59.557Z"
   },
   {
    "duration": 7735,
    "start_time": "2021-07-17T21:12:17.468Z"
   },
   {
    "duration": 7516,
    "start_time": "2021-07-17T21:12:28.508Z"
   },
   {
    "duration": 267,
    "start_time": "2021-07-17T21:16:36.782Z"
   },
   {
    "duration": 4,
    "start_time": "2021-07-17T21:16:40.133Z"
   },
   {
    "duration": 7241,
    "start_time": "2021-07-17T21:16:40.429Z"
   },
   {
    "duration": 7,
    "start_time": "2021-07-17T21:17:24.301Z"
   },
   {
    "duration": 12689,
    "start_time": "2021-07-17T21:17:27.326Z"
   },
   {
    "duration": 5,
    "start_time": "2021-07-17T21:18:05.822Z"
   },
   {
    "duration": 7606,
    "start_time": "2021-07-17T21:18:06.181Z"
   },
   {
    "duration": 7,
    "start_time": "2021-07-17T21:18:38.334Z"
   },
   {
    "duration": 8541,
    "start_time": "2021-07-17T21:18:38.981Z"
   },
   {
    "duration": 5,
    "start_time": "2021-07-17T21:18:57.126Z"
   },
   {
    "duration": 7909,
    "start_time": "2021-07-17T21:18:57.518Z"
   },
   {
    "duration": 1180,
    "start_time": "2021-07-17T21:19:11.997Z"
   },
   {
    "duration": 18,
    "start_time": "2021-07-17T21:19:13.178Z"
   },
   {
    "duration": 13,
    "start_time": "2021-07-17T21:19:13.198Z"
   },
   {
    "duration": 28,
    "start_time": "2021-07-17T21:19:13.213Z"
   },
   {
    "duration": 5,
    "start_time": "2021-07-17T21:19:13.243Z"
   },
   {
    "duration": 5,
    "start_time": "2021-07-17T21:19:13.250Z"
   },
   {
    "duration": 7487,
    "start_time": "2021-07-17T21:19:13.256Z"
   },
   {
    "duration": 4,
    "start_time": "2021-07-17T21:20:38.210Z"
   },
   {
    "duration": 12456,
    "start_time": "2021-07-17T21:20:38.794Z"
   },
   {
    "duration": 4,
    "start_time": "2021-07-17T21:21:01.203Z"
   },
   {
    "duration": 7947,
    "start_time": "2021-07-17T21:21:01.603Z"
   },
   {
    "duration": 4,
    "start_time": "2021-07-17T21:21:46.570Z"
   },
   {
    "duration": 8637,
    "start_time": "2021-07-17T21:21:46.690Z"
   },
   {
    "duration": 1468,
    "start_time": "2021-07-17T21:24:52.846Z"
   },
   {
    "duration": 20,
    "start_time": "2021-07-17T21:24:54.317Z"
   },
   {
    "duration": 19,
    "start_time": "2021-07-17T21:24:54.340Z"
   },
   {
    "duration": 35,
    "start_time": "2021-07-17T21:24:54.362Z"
   },
   {
    "duration": 7,
    "start_time": "2021-07-17T21:24:54.399Z"
   },
   {
    "duration": 5,
    "start_time": "2021-07-17T21:24:54.408Z"
   },
   {
    "duration": 7843,
    "start_time": "2021-07-17T21:24:54.415Z"
   },
   {
    "duration": 5,
    "start_time": "2021-07-17T21:29:21.379Z"
   },
   {
    "duration": 9678,
    "start_time": "2021-07-17T21:29:21.866Z"
   },
   {
    "duration": 6,
    "start_time": "2021-07-17T21:30:07.300Z"
   },
   {
    "duration": 11595,
    "start_time": "2021-07-17T21:30:07.698Z"
   },
   {
    "duration": 5,
    "start_time": "2021-07-17T21:30:52.339Z"
   },
   {
    "duration": 8902,
    "start_time": "2021-07-17T21:30:52.779Z"
   },
   {
    "duration": 5,
    "start_time": "2021-07-17T21:31:18.371Z"
   },
   {
    "duration": 8515,
    "start_time": "2021-07-17T21:31:18.851Z"
   },
   {
    "duration": 4,
    "start_time": "2021-07-17T21:31:48.939Z"
   },
   {
    "duration": 8497,
    "start_time": "2021-07-17T21:31:49.346Z"
   },
   {
    "duration": 4,
    "start_time": "2021-07-17T21:32:12.131Z"
   },
   {
    "duration": 8137,
    "start_time": "2021-07-17T21:32:12.434Z"
   },
   {
    "duration": 5,
    "start_time": "2021-07-17T21:32:25.883Z"
   },
   {
    "duration": 7983,
    "start_time": "2021-07-17T21:32:26.299Z"
   },
   {
    "duration": 5,
    "start_time": "2021-07-17T21:32:45.891Z"
   },
   {
    "duration": 8286,
    "start_time": "2021-07-17T21:32:46.443Z"
   },
   {
    "duration": 4,
    "start_time": "2021-07-17T21:33:08.987Z"
   },
   {
    "duration": 8737,
    "start_time": "2021-07-17T21:33:09.370Z"
   },
   {
    "duration": 1484,
    "start_time": "2021-07-18T16:42:50.037Z"
   },
   {
    "duration": 20,
    "start_time": "2021-07-18T16:42:51.524Z"
   },
   {
    "duration": 21,
    "start_time": "2021-07-18T16:42:51.548Z"
   },
   {
    "duration": 36,
    "start_time": "2021-07-18T16:42:51.571Z"
   },
   {
    "duration": 9,
    "start_time": "2021-07-18T16:42:51.609Z"
   },
   {
    "duration": 36,
    "start_time": "2021-07-18T16:42:51.620Z"
   },
   {
    "duration": 12594,
    "start_time": "2021-07-18T16:42:51.658Z"
   },
   {
    "duration": 1422,
    "start_time": "2021-07-18T20:46:45.001Z"
   },
   {
    "duration": 20,
    "start_time": "2021-07-18T20:46:46.425Z"
   },
   {
    "duration": 23,
    "start_time": "2021-07-18T20:46:46.448Z"
   },
   {
    "duration": 34,
    "start_time": "2021-07-18T20:46:46.474Z"
   },
   {
    "duration": 8,
    "start_time": "2021-07-18T20:46:46.511Z"
   },
   {
    "duration": 35,
    "start_time": "2021-07-18T20:46:46.522Z"
   },
   {
    "duration": 14494,
    "start_time": "2021-07-18T20:46:46.560Z"
   },
   {
    "duration": 1493,
    "start_time": "2021-07-19T08:09:34.544Z"
   },
   {
    "duration": 22,
    "start_time": "2021-07-19T08:09:36.040Z"
   },
   {
    "duration": 32,
    "start_time": "2021-07-19T08:09:36.069Z"
   },
   {
    "duration": 53,
    "start_time": "2021-07-19T08:09:36.104Z"
   },
   {
    "duration": 9,
    "start_time": "2021-07-19T08:09:36.160Z"
   },
   {
    "duration": 19,
    "start_time": "2021-07-19T08:09:36.172Z"
   },
   {
    "duration": 13395,
    "start_time": "2021-07-19T08:09:36.194Z"
   },
   {
    "duration": 6,
    "start_time": "2021-07-19T08:10:00.545Z"
   },
   {
    "duration": 6,
    "start_time": "2021-07-19T08:10:02.897Z"
   },
   {
    "duration": 6,
    "start_time": "2021-07-19T08:10:05.065Z"
   },
   {
    "duration": 405,
    "start_time": "2021-07-19T08:10:47.602Z"
   },
   {
    "duration": 4,
    "start_time": "2021-07-19T08:11:19.874Z"
   },
   {
    "duration": 6,
    "start_time": "2021-07-19T08:11:22.098Z"
   },
   {
    "duration": 6,
    "start_time": "2021-07-19T08:11:24.050Z"
   },
   {
    "duration": 6,
    "start_time": "2021-07-19T08:11:25.209Z"
   },
   {
    "duration": 6,
    "start_time": "2021-07-19T08:11:29.265Z"
   },
   {
    "duration": 6,
    "start_time": "2021-07-19T08:11:36.706Z"
   },
   {
    "duration": 6,
    "start_time": "2021-07-19T08:11:37.956Z"
   },
   {
    "duration": 8,
    "start_time": "2021-07-19T08:11:39.152Z"
   },
   {
    "duration": 291,
    "start_time": "2021-07-19T08:12:27.610Z"
   },
   {
    "duration": 284,
    "start_time": "2021-07-19T08:12:32.481Z"
   },
   {
    "duration": 6,
    "start_time": "2021-07-19T08:12:34.506Z"
   },
   {
    "duration": 99,
    "start_time": "2021-07-19T09:20:24.917Z"
   },
   {
    "duration": 40,
    "start_time": "2021-07-19T15:15:32.550Z"
   },
   {
    "duration": 5,
    "start_time": "2021-07-19T16:36:10.297Z"
   },
   {
    "duration": 4,
    "start_time": "2021-07-19T16:38:51.058Z"
   },
   {
    "duration": 587,
    "start_time": "2021-07-19T16:38:57.834Z"
   },
   {
    "duration": 5,
    "start_time": "2021-07-19T16:39:15.814Z"
   },
   {
    "duration": 6,
    "start_time": "2021-07-19T16:39:16.378Z"
   },
   {
    "duration": 7,
    "start_time": "2021-07-19T16:39:18.257Z"
   },
   {
    "duration": 7,
    "start_time": "2021-07-19T16:39:19.498Z"
   },
   {
    "duration": 7,
    "start_time": "2021-07-19T16:39:20.641Z"
   },
   {
    "duration": 7,
    "start_time": "2021-07-19T16:39:21.777Z"
   },
   {
    "duration": 425,
    "start_time": "2021-07-19T16:40:00.689Z"
   },
   {
    "duration": 7,
    "start_time": "2021-07-19T16:40:16.466Z"
   },
   {
    "duration": 7,
    "start_time": "2021-07-19T16:40:18.249Z"
   },
   {
    "duration": 7,
    "start_time": "2021-07-19T16:40:19.369Z"
   },
   {
    "duration": 6,
    "start_time": "2021-07-19T16:43:49.731Z"
   },
   {
    "duration": 6,
    "start_time": "2021-07-19T16:43:55.418Z"
   },
   {
    "duration": 7,
    "start_time": "2021-07-19T16:43:56.970Z"
   },
   {
    "duration": 7,
    "start_time": "2021-07-19T16:43:58.082Z"
   },
   {
    "duration": 8,
    "start_time": "2021-07-19T16:44:06.730Z"
   },
   {
    "duration": 6,
    "start_time": "2021-07-19T16:44:22.842Z"
   },
   {
    "duration": 7,
    "start_time": "2021-07-19T16:44:23.939Z"
   },
   {
    "duration": 7,
    "start_time": "2021-07-19T16:44:25.986Z"
   },
   {
    "duration": 6,
    "start_time": "2021-07-19T16:44:31.243Z"
   },
   {
    "duration": 6,
    "start_time": "2021-07-19T16:44:32.714Z"
   },
   {
    "duration": 102,
    "start_time": "2021-07-19T16:45:31.387Z"
   },
   {
    "duration": 6,
    "start_time": "2021-07-19T16:48:16.756Z"
   },
   {
    "duration": 4,
    "start_time": "2021-07-19T17:22:43.721Z"
   },
   {
    "duration": 5,
    "start_time": "2021-07-19T17:37:22.276Z"
   },
   {
    "duration": 277,
    "start_time": "2021-07-19T17:44:15.052Z"
   },
   {
    "duration": 576,
    "start_time": "2021-07-19T17:44:22.604Z"
   },
   {
    "duration": 6,
    "start_time": "2021-07-19T17:44:54.341Z"
   },
   {
    "duration": 598,
    "start_time": "2021-07-19T17:46:04.021Z"
   },
   {
    "duration": 1528,
    "start_time": "2021-07-19T17:46:19.568Z"
   },
   {
    "duration": 20,
    "start_time": "2021-07-19T17:46:21.099Z"
   },
   {
    "duration": 43,
    "start_time": "2021-07-19T17:46:21.122Z"
   },
   {
    "duration": 36,
    "start_time": "2021-07-19T17:46:21.170Z"
   },
   {
    "duration": 11,
    "start_time": "2021-07-19T17:46:21.208Z"
   },
   {
    "duration": 12,
    "start_time": "2021-07-19T17:46:21.254Z"
   },
   {
    "duration": 14521,
    "start_time": "2021-07-19T17:46:21.269Z"
   },
   {
    "duration": 6,
    "start_time": "2021-07-19T17:46:35.793Z"
   },
   {
    "duration": 9,
    "start_time": "2021-07-19T17:46:35.803Z"
   },
   {
    "duration": 17,
    "start_time": "2021-07-19T17:46:35.815Z"
   },
   {
    "duration": 903,
    "start_time": "2021-07-19T17:46:35.834Z"
   },
   {
    "duration": -31889,
    "start_time": "2021-07-19T17:47:08.629Z"
   },
   {
    "duration": 5,
    "start_time": "2021-07-19T17:47:13.881Z"
   },
   {
    "duration": 1604,
    "start_time": "2021-07-19T17:47:43.703Z"
   },
   {
    "duration": 20,
    "start_time": "2021-07-19T17:47:45.310Z"
   },
   {
    "duration": 24,
    "start_time": "2021-07-19T17:47:45.333Z"
   },
   {
    "duration": 38,
    "start_time": "2021-07-19T17:47:45.361Z"
   },
   {
    "duration": 10,
    "start_time": "2021-07-19T17:47:45.402Z"
   },
   {
    "duration": 44,
    "start_time": "2021-07-19T17:47:45.415Z"
   },
   {
    "duration": 13258,
    "start_time": "2021-07-19T17:47:45.464Z"
   },
   {
    "duration": 5,
    "start_time": "2021-07-19T17:47:58.726Z"
   },
   {
    "duration": 21,
    "start_time": "2021-07-19T17:47:58.734Z"
   },
   {
    "duration": 14,
    "start_time": "2021-07-19T17:47:58.759Z"
   },
   {
    "duration": 17,
    "start_time": "2021-07-19T17:47:58.775Z"
   },
   {
    "duration": 16,
    "start_time": "2021-07-19T17:47:58.795Z"
   },
   {
    "duration": 7,
    "start_time": "2021-07-19T17:48:04.125Z"
   },
   {
    "duration": 5,
    "start_time": "2021-07-19T17:50:06.097Z"
   },
   {
    "duration": 15,
    "start_time": "2021-07-19T17:50:10.982Z"
   },
   {
    "duration": 13,
    "start_time": "2021-07-19T18:25:16.283Z"
   },
   {
    "duration": 3,
    "start_time": "2021-07-19T18:26:08.755Z"
   },
   {
    "duration": 687,
    "start_time": "2021-07-19T18:26:41.403Z"
   },
   {
    "duration": 5,
    "start_time": "2021-07-19T18:26:47.835Z"
   },
   {
    "duration": 603,
    "start_time": "2021-07-19T18:26:52.744Z"
   },
   {
    "duration": 13,
    "start_time": "2021-07-19T18:27:57.533Z"
   },
   {
    "duration": 4,
    "start_time": "2021-07-19T18:27:58.307Z"
   },
   {
    "duration": 583,
    "start_time": "2021-07-19T18:27:58.803Z"
   },
   {
    "duration": 11,
    "start_time": "2021-07-19T18:28:37.740Z"
   },
   {
    "duration": 4,
    "start_time": "2021-07-19T18:28:38.203Z"
   },
   {
    "duration": 618,
    "start_time": "2021-07-19T18:28:38.670Z"
   },
   {
    "duration": 21,
    "start_time": "2021-07-19T18:29:02.821Z"
   },
   {
    "duration": 3,
    "start_time": "2021-07-19T18:29:03.644Z"
   },
   {
    "duration": 611,
    "start_time": "2021-07-19T18:29:03.939Z"
   },
   {
    "duration": 10,
    "start_time": "2021-07-19T18:29:16.332Z"
   },
   {
    "duration": 4,
    "start_time": "2021-07-19T18:29:16.739Z"
   },
   {
    "duration": 1239,
    "start_time": "2021-07-19T18:29:17.068Z"
   },
   {
    "duration": 10,
    "start_time": "2021-07-19T18:29:31.332Z"
   },
   {
    "duration": 3,
    "start_time": "2021-07-19T18:29:31.772Z"
   },
   {
    "duration": 1231,
    "start_time": "2021-07-19T18:29:32.156Z"
   },
   {
    "duration": 11,
    "start_time": "2021-07-19T18:30:33.996Z"
   },
   {
    "duration": 4,
    "start_time": "2021-07-19T18:30:34.467Z"
   },
   {
    "duration": 1444,
    "start_time": "2021-07-19T18:30:34.876Z"
   },
   {
    "duration": 10,
    "start_time": "2021-07-19T18:30:43.244Z"
   },
   {
    "duration": 3,
    "start_time": "2021-07-19T18:30:43.676Z"
   },
   {
    "duration": 903,
    "start_time": "2021-07-19T18:30:44.019Z"
   },
   {
    "duration": 10,
    "start_time": "2021-07-19T18:30:59.899Z"
   },
   {
    "duration": 3,
    "start_time": "2021-07-19T18:31:00.396Z"
   },
   {
    "duration": 952,
    "start_time": "2021-07-19T18:31:00.859Z"
   },
   {
    "duration": 10,
    "start_time": "2021-07-19T18:31:34.580Z"
   },
   {
    "duration": 4,
    "start_time": "2021-07-19T18:31:34.987Z"
   },
   {
    "duration": 973,
    "start_time": "2021-07-19T18:31:35.358Z"
   },
   {
    "duration": 936,
    "start_time": "2021-07-19T18:32:04.997Z"
   },
   {
    "duration": 1538,
    "start_time": "2021-07-19T18:37:23.518Z"
   },
   {
    "duration": 19,
    "start_time": "2021-07-19T18:37:25.058Z"
   },
   {
    "duration": 24,
    "start_time": "2021-07-19T18:37:25.080Z"
   },
   {
    "duration": 35,
    "start_time": "2021-07-19T18:37:25.106Z"
   },
   {
    "duration": 8,
    "start_time": "2021-07-19T18:37:25.155Z"
   },
   {
    "duration": 7,
    "start_time": "2021-07-19T18:37:25.166Z"
   },
   {
    "duration": 12270,
    "start_time": "2021-07-19T18:37:25.175Z"
   },
   {
    "duration": 7,
    "start_time": "2021-07-19T18:37:37.448Z"
   },
   {
    "duration": 15,
    "start_time": "2021-07-19T18:37:37.457Z"
   },
   {
    "duration": 15,
    "start_time": "2021-07-19T18:37:37.474Z"
   },
   {
    "duration": 8,
    "start_time": "2021-07-19T18:37:37.492Z"
   },
   {
    "duration": 12,
    "start_time": "2021-07-19T18:37:37.503Z"
   },
   {
    "duration": 16,
    "start_time": "2021-07-19T18:37:37.517Z"
   },
   {
    "duration": 1119,
    "start_time": "2021-07-19T18:37:37.535Z"
   },
   {
    "duration": 1052,
    "start_time": "2021-07-19T18:37:38.656Z"
   },
   {
    "duration": 14,
    "start_time": "2021-07-19T18:39:26.242Z"
   },
   {
    "duration": 335,
    "start_time": "2021-07-19T18:46:41.707Z"
   },
   {
    "duration": 4,
    "start_time": "2021-07-19T18:46:44.393Z"
   },
   {
    "duration": 1453,
    "start_time": "2021-07-19T18:51:26.620Z"
   },
   {
    "duration": 20,
    "start_time": "2021-07-19T18:51:28.076Z"
   },
   {
    "duration": 20,
    "start_time": "2021-07-19T18:51:28.100Z"
   },
   {
    "duration": 54,
    "start_time": "2021-07-19T18:51:28.123Z"
   },
   {
    "duration": 9,
    "start_time": "2021-07-19T18:51:28.179Z"
   },
   {
    "duration": 7,
    "start_time": "2021-07-19T18:51:28.190Z"
   },
   {
    "duration": 13204,
    "start_time": "2021-07-19T18:51:28.199Z"
   },
   {
    "duration": 6,
    "start_time": "2021-07-19T18:51:41.407Z"
   },
   {
    "duration": 8,
    "start_time": "2021-07-19T18:51:41.416Z"
   },
   {
    "duration": 27,
    "start_time": "2021-07-19T18:51:41.427Z"
   },
   {
    "duration": 11,
    "start_time": "2021-07-19T18:51:41.457Z"
   },
   {
    "duration": 20,
    "start_time": "2021-07-19T18:51:41.471Z"
   },
   {
    "duration": 14,
    "start_time": "2021-07-19T18:51:41.493Z"
   },
   {
    "duration": 9,
    "start_time": "2021-07-19T18:51:41.510Z"
   },
   {
    "duration": 1081,
    "start_time": "2021-07-19T18:51:41.521Z"
   },
   {
    "duration": 1298,
    "start_time": "2021-07-19T18:51:42.605Z"
   },
   {
    "duration": 2631,
    "start_time": "2021-07-20T10:12:11.135Z"
   },
   {
    "duration": 22,
    "start_time": "2021-07-20T10:12:13.770Z"
   },
   {
    "duration": 28,
    "start_time": "2021-07-20T10:12:13.796Z"
   },
   {
    "duration": 53,
    "start_time": "2021-07-20T10:12:13.828Z"
   },
   {
    "duration": 9,
    "start_time": "2021-07-20T10:12:13.883Z"
   },
   {
    "duration": 7,
    "start_time": "2021-07-20T10:12:13.894Z"
   },
   {
    "duration": 13670,
    "start_time": "2021-07-20T10:12:13.903Z"
   },
   {
    "duration": 6,
    "start_time": "2021-07-20T10:12:27.575Z"
   },
   {
    "duration": 7,
    "start_time": "2021-07-20T10:12:27.584Z"
   },
   {
    "duration": 9,
    "start_time": "2021-07-20T10:12:27.594Z"
   },
   {
    "duration": 9,
    "start_time": "2021-07-20T10:12:27.606Z"
   },
   {
    "duration": 56,
    "start_time": "2021-07-20T10:12:27.617Z"
   },
   {
    "duration": 13,
    "start_time": "2021-07-20T10:12:27.675Z"
   },
   {
    "duration": 11,
    "start_time": "2021-07-20T10:12:27.691Z"
   },
   {
    "duration": 1842,
    "start_time": "2021-07-20T10:12:27.705Z"
   },
   {
    "duration": -33158,
    "start_time": "2021-07-20T10:13:02.708Z"
   },
   {
    "duration": 362,
    "start_time": "2021-07-20T10:13:08.732Z"
   },
   {
    "duration": 3876,
    "start_time": "2021-07-20T10:13:43.948Z"
   },
   {
    "duration": 3517,
    "start_time": "2021-07-20T10:13:55.501Z"
   },
   {
    "duration": 2328,
    "start_time": "2021-07-20T10:13:59.022Z"
   },
   {
    "duration": 19,
    "start_time": "2021-07-20T10:14:01.357Z"
   },
   {
    "duration": 32,
    "start_time": "2021-07-20T10:14:01.379Z"
   },
   {
    "duration": 55,
    "start_time": "2021-07-20T10:14:01.414Z"
   },
   {
    "duration": 9,
    "start_time": "2021-07-20T10:14:01.471Z"
   },
   {
    "duration": 15,
    "start_time": "2021-07-20T10:14:01.484Z"
   },
   {
    "duration": 13839,
    "start_time": "2021-07-20T10:14:01.502Z"
   },
   {
    "duration": 6,
    "start_time": "2021-07-20T10:14:15.343Z"
   },
   {
    "duration": 13,
    "start_time": "2021-07-20T10:14:15.352Z"
   },
   {
    "duration": 8,
    "start_time": "2021-07-20T10:14:15.368Z"
   },
   {
    "duration": 7,
    "start_time": "2021-07-20T10:14:15.378Z"
   },
   {
    "duration": 16,
    "start_time": "2021-07-20T10:14:15.388Z"
   },
   {
    "duration": 14,
    "start_time": "2021-07-20T10:14:15.407Z"
   },
   {
    "duration": 3,
    "start_time": "2021-07-20T10:14:15.462Z"
   },
   {
    "duration": 2746,
    "start_time": "2021-07-20T10:14:15.468Z"
   },
   {
    "duration": -33163,
    "start_time": "2021-07-20T10:14:51.379Z"
   },
   {
    "duration": 13,
    "start_time": "2021-07-20T10:15:38.023Z"
   },
   {
    "duration": 4,
    "start_time": "2021-07-20T10:15:38.775Z"
   },
   {
    "duration": 1776,
    "start_time": "2021-07-20T10:15:39.453Z"
   },
   {
    "duration": 347,
    "start_time": "2021-07-20T10:16:20.719Z"
   },
   {
    "duration": 1112,
    "start_time": "2021-07-20T10:16:26.862Z"
   },
   {
    "duration": 371,
    "start_time": "2021-07-20T10:16:38.390Z"
   },
   {
    "duration": 353,
    "start_time": "2021-07-20T10:19:31.191Z"
   },
   {
    "duration": 13,
    "start_time": "2021-07-20T10:23:20.360Z"
   },
   {
    "duration": 4,
    "start_time": "2021-07-20T10:23:21.463Z"
   },
   {
    "duration": 1761,
    "start_time": "2021-07-20T10:23:22.223Z"
   },
   {
    "duration": 16,
    "start_time": "2021-07-20T10:30:38.649Z"
   },
   {
    "duration": 4,
    "start_time": "2021-07-20T10:30:39.442Z"
   },
   {
    "duration": 1596,
    "start_time": "2021-07-20T10:30:40.195Z"
   },
   {
    "duration": 13,
    "start_time": "2021-07-20T10:31:07.050Z"
   },
   {
    "duration": 1672,
    "start_time": "2021-07-20T10:31:09.201Z"
   },
   {
    "duration": 15,
    "start_time": "2021-07-20T10:31:26.618Z"
   },
   {
    "duration": 1701,
    "start_time": "2021-07-20T10:31:28.994Z"
   },
   {
    "duration": 14,
    "start_time": "2021-07-20T10:33:32.996Z"
   },
   {
    "duration": 4,
    "start_time": "2021-07-20T10:33:33.714Z"
   },
   {
    "duration": 1534,
    "start_time": "2021-07-20T10:33:34.434Z"
   },
   {
    "duration": 12,
    "start_time": "2021-07-20T10:34:48.635Z"
   },
   {
    "duration": 4,
    "start_time": "2021-07-20T10:34:49.386Z"
   },
   {
    "duration": 1396,
    "start_time": "2021-07-20T10:34:49.794Z"
   },
   {
    "duration": 3357,
    "start_time": "2021-07-20T10:52:19.270Z"
   },
   {
    "duration": 2749,
    "start_time": "2021-07-20T10:52:22.631Z"
   },
   {
    "duration": 18,
    "start_time": "2021-07-20T10:52:25.385Z"
   },
   {
    "duration": 20,
    "start_time": "2021-07-20T10:52:25.405Z"
   },
   {
    "duration": 52,
    "start_time": "2021-07-20T10:52:25.428Z"
   },
   {
    "duration": 8,
    "start_time": "2021-07-20T10:52:25.483Z"
   },
   {
    "duration": 6,
    "start_time": "2021-07-20T10:52:25.495Z"
   },
   {
    "duration": 12883,
    "start_time": "2021-07-20T10:52:25.504Z"
   },
   {
    "duration": 7,
    "start_time": "2021-07-20T10:52:38.389Z"
   },
   {
    "duration": 7,
    "start_time": "2021-07-20T10:52:38.399Z"
   },
   {
    "duration": 23,
    "start_time": "2021-07-20T10:52:38.409Z"
   },
   {
    "duration": 27,
    "start_time": "2021-07-20T10:52:38.435Z"
   },
   {
    "duration": 15,
    "start_time": "2021-07-20T10:52:38.465Z"
   },
   {
    "duration": 14,
    "start_time": "2021-07-20T10:52:38.483Z"
   },
   {
    "duration": 22,
    "start_time": "2021-07-20T10:52:38.499Z"
   },
   {
    "duration": 904,
    "start_time": "2021-07-20T10:52:38.524Z"
   },
   {
    "duration": -33151,
    "start_time": "2021-07-20T10:53:12.582Z"
   },
   {
    "duration": 3340,
    "start_time": "2021-07-20T10:53:58.933Z"
   },
   {
    "duration": 2183,
    "start_time": "2021-07-20T10:54:02.276Z"
   },
   {
    "duration": 19,
    "start_time": "2021-07-20T10:54:04.462Z"
   },
   {
    "duration": 20,
    "start_time": "2021-07-20T10:54:04.484Z"
   },
   {
    "duration": 59,
    "start_time": "2021-07-20T10:54:04.506Z"
   },
   {
    "duration": 9,
    "start_time": "2021-07-20T10:54:04.567Z"
   },
   {
    "duration": 7,
    "start_time": "2021-07-20T10:54:04.578Z"
   },
   {
    "duration": 14468,
    "start_time": "2021-07-20T10:54:04.588Z"
   },
   {
    "duration": 6,
    "start_time": "2021-07-20T10:54:19.064Z"
   },
   {
    "duration": 7,
    "start_time": "2021-07-20T10:54:19.073Z"
   },
   {
    "duration": 12,
    "start_time": "2021-07-20T10:54:19.082Z"
   },
   {
    "duration": 14,
    "start_time": "2021-07-20T10:54:19.097Z"
   },
   {
    "duration": 31,
    "start_time": "2021-07-20T10:54:19.113Z"
   },
   {
    "duration": 22,
    "start_time": "2021-07-20T10:54:19.147Z"
   },
   {
    "duration": 16,
    "start_time": "2021-07-20T10:54:19.171Z"
   },
   {
    "duration": 1854,
    "start_time": "2021-07-20T10:54:19.189Z"
   },
   {
    "duration": -33148,
    "start_time": "2021-07-20T10:54:54.193Z"
   },
   {
    "duration": 3951,
    "start_time": "2021-07-20T10:55:12.311Z"
   },
   {
    "duration": 2016,
    "start_time": "2021-07-20T10:55:16.265Z"
   },
   {
    "duration": 22,
    "start_time": "2021-07-20T10:55:18.286Z"
   },
   {
    "duration": 30,
    "start_time": "2021-07-20T10:55:18.311Z"
   },
   {
    "duration": 46,
    "start_time": "2021-07-20T10:55:18.344Z"
   },
   {
    "duration": 8,
    "start_time": "2021-07-20T10:55:18.393Z"
   },
   {
    "duration": 9,
    "start_time": "2021-07-20T10:55:18.404Z"
   },
   {
    "duration": 19230,
    "start_time": "2021-07-20T10:55:18.416Z"
   },
   {
    "duration": 12,
    "start_time": "2021-07-20T10:55:37.650Z"
   },
   {
    "duration": 10,
    "start_time": "2021-07-20T10:55:37.665Z"
   },
   {
    "duration": 11,
    "start_time": "2021-07-20T10:55:37.678Z"
   },
   {
    "duration": 9,
    "start_time": "2021-07-20T10:55:37.692Z"
   },
   {
    "duration": 19,
    "start_time": "2021-07-20T10:55:37.704Z"
   },
   {
    "duration": 14,
    "start_time": "2021-07-20T10:55:37.726Z"
   },
   {
    "duration": 13,
    "start_time": "2021-07-20T10:55:37.762Z"
   },
   {
    "duration": 2041,
    "start_time": "2021-07-20T10:55:37.778Z"
   },
   {
    "duration": 1627,
    "start_time": "2021-07-20T10:55:39.821Z"
   },
   {
    "duration": 14,
    "start_time": "2021-07-20T10:56:38.493Z"
   },
   {
    "duration": 1360,
    "start_time": "2021-07-20T10:56:41.381Z"
   },
   {
    "duration": 1520,
    "start_time": "2021-07-20T10:57:06.884Z"
   },
   {
    "duration": 3116,
    "start_time": "2021-07-20T10:58:08.019Z"
   },
   {
    "duration": 2674,
    "start_time": "2021-07-20T10:58:11.138Z"
   },
   {
    "duration": 21,
    "start_time": "2021-07-20T10:58:13.820Z"
   },
   {
    "duration": 32,
    "start_time": "2021-07-20T10:58:13.844Z"
   },
   {
    "duration": 35,
    "start_time": "2021-07-20T10:58:13.878Z"
   },
   {
    "duration": 8,
    "start_time": "2021-07-20T10:58:13.916Z"
   },
   {
    "duration": 7,
    "start_time": "2021-07-20T10:58:13.962Z"
   },
   {
    "duration": 12426,
    "start_time": "2021-07-20T10:58:13.973Z"
   },
   {
    "duration": 7,
    "start_time": "2021-07-20T10:58:26.402Z"
   },
   {
    "duration": 7,
    "start_time": "2021-07-20T10:58:26.412Z"
   },
   {
    "duration": 7,
    "start_time": "2021-07-20T10:58:26.421Z"
   },
   {
    "duration": 33,
    "start_time": "2021-07-20T10:58:26.431Z"
   },
   {
    "duration": 17,
    "start_time": "2021-07-20T10:58:26.467Z"
   },
   {
    "duration": 15,
    "start_time": "2021-07-20T10:58:26.487Z"
   },
   {
    "duration": 15,
    "start_time": "2021-07-20T10:58:26.504Z"
   },
   {
    "duration": 2346,
    "start_time": "2021-07-20T10:58:26.522Z"
   },
   {
    "duration": 1645,
    "start_time": "2021-07-20T10:58:28.870Z"
   },
   {
    "duration": 13,
    "start_time": "2021-07-20T10:59:45.389Z"
   },
   {
    "duration": 1352,
    "start_time": "2021-07-20T10:59:48.214Z"
   },
   {
    "duration": 3897,
    "start_time": "2021-07-20T11:02:39.471Z"
   },
   {
    "duration": 1956,
    "start_time": "2021-07-20T11:02:43.372Z"
   },
   {
    "duration": 19,
    "start_time": "2021-07-20T11:02:45.331Z"
   },
   {
    "duration": 20,
    "start_time": "2021-07-20T11:02:45.353Z"
   },
   {
    "duration": 35,
    "start_time": "2021-07-20T11:02:45.375Z"
   },
   {
    "duration": 8,
    "start_time": "2021-07-20T11:02:45.413Z"
   },
   {
    "duration": 39,
    "start_time": "2021-07-20T11:02:45.423Z"
   },
   {
    "duration": 14503,
    "start_time": "2021-07-20T11:02:45.464Z"
   },
   {
    "duration": 6,
    "start_time": "2021-07-20T11:02:59.970Z"
   },
   {
    "duration": 7,
    "start_time": "2021-07-20T11:02:59.978Z"
   },
   {
    "duration": 7,
    "start_time": "2021-07-20T11:02:59.988Z"
   },
   {
    "duration": 5,
    "start_time": "2021-07-20T11:02:59.997Z"
   },
   {
    "duration": 17,
    "start_time": "2021-07-20T11:03:00.004Z"
   },
   {
    "duration": 53,
    "start_time": "2021-07-20T11:03:00.023Z"
   },
   {
    "duration": 22,
    "start_time": "2021-07-20T11:03:00.079Z"
   },
   {
    "duration": 1005,
    "start_time": "2021-07-20T11:03:00.104Z"
   },
   {
    "duration": -33145,
    "start_time": "2021-07-20T11:03:34.256Z"
   },
   {
    "duration": 10,
    "start_time": "2021-07-20T11:03:46.074Z"
   },
   {
    "duration": 3145,
    "start_time": "2021-07-20T11:03:52.965Z"
   },
   {
    "duration": 2034,
    "start_time": "2021-07-20T11:03:56.114Z"
   },
   {
    "duration": 19,
    "start_time": "2021-07-20T11:03:58.151Z"
   },
   {
    "duration": 19,
    "start_time": "2021-07-20T11:03:58.173Z"
   },
   {
    "duration": 36,
    "start_time": "2021-07-20T11:03:58.195Z"
   },
   {
    "duration": 34,
    "start_time": "2021-07-20T11:03:58.233Z"
   },
   {
    "duration": 6,
    "start_time": "2021-07-20T11:03:58.270Z"
   },
   {
    "duration": 12692,
    "start_time": "2021-07-20T11:03:58.279Z"
   },
   {
    "duration": 6,
    "start_time": "2021-07-20T11:04:10.976Z"
   },
   {
    "duration": 8,
    "start_time": "2021-07-20T11:04:10.985Z"
   },
   {
    "duration": 7,
    "start_time": "2021-07-20T11:04:10.996Z"
   },
   {
    "duration": 6,
    "start_time": "2021-07-20T11:04:11.006Z"
   },
   {
    "duration": 49,
    "start_time": "2021-07-20T11:04:11.014Z"
   },
   {
    "duration": 11,
    "start_time": "2021-07-20T11:04:11.066Z"
   },
   {
    "duration": 12,
    "start_time": "2021-07-20T11:04:11.079Z"
   },
   {
    "duration": 1478,
    "start_time": "2021-07-20T11:04:11.094Z"
   },
   {
    "duration": 1129,
    "start_time": "2021-07-20T11:04:12.575Z"
   },
   {
    "duration": 3655,
    "start_time": "2021-07-20T11:18:19.987Z"
   },
   {
    "duration": 2220,
    "start_time": "2021-07-20T11:18:23.645Z"
   },
   {
    "duration": 20,
    "start_time": "2021-07-20T11:18:25.868Z"
   },
   {
    "duration": 24,
    "start_time": "2021-07-20T11:18:25.891Z"
   },
   {
    "duration": 70,
    "start_time": "2021-07-20T11:18:25.918Z"
   },
   {
    "duration": 8,
    "start_time": "2021-07-20T11:18:25.990Z"
   },
   {
    "duration": 14,
    "start_time": "2021-07-20T11:18:26.000Z"
   },
   {
    "duration": 14455,
    "start_time": "2021-07-20T11:18:26.018Z"
   },
   {
    "duration": 10,
    "start_time": "2021-07-20T11:18:40.477Z"
   },
   {
    "duration": 12,
    "start_time": "2021-07-20T11:18:40.490Z"
   },
   {
    "duration": 9,
    "start_time": "2021-07-20T11:18:40.504Z"
   },
   {
    "duration": 9,
    "start_time": "2021-07-20T11:18:40.515Z"
   },
   {
    "duration": 45,
    "start_time": "2021-07-20T11:18:40.526Z"
   },
   {
    "duration": 12,
    "start_time": "2021-07-20T11:18:40.575Z"
   },
   {
    "duration": 8,
    "start_time": "2021-07-20T11:18:40.589Z"
   },
   {
    "duration": 1786,
    "start_time": "2021-07-20T11:18:40.600Z"
   },
   {
    "duration": -33150,
    "start_time": "2021-07-20T11:19:15.539Z"
   },
   {
    "duration": 3400,
    "start_time": "2021-07-20T11:18:54.410Z"
   },
   {
    "duration": 2056,
    "start_time": "2021-07-20T11:18:57.813Z"
   },
   {
    "duration": 19,
    "start_time": "2021-07-20T11:18:59.877Z"
   },
   {
    "duration": 21,
    "start_time": "2021-07-20T11:18:59.899Z"
   },
   {
    "duration": 68,
    "start_time": "2021-07-20T11:18:59.922Z"
   },
   {
    "duration": 9,
    "start_time": "2021-07-20T11:18:59.992Z"
   },
   {
    "duration": 34,
    "start_time": "2021-07-20T11:19:00.004Z"
   },
   {
    "duration": 13753,
    "start_time": "2021-07-20T11:19:00.042Z"
   },
   {
    "duration": 6,
    "start_time": "2021-07-20T11:19:13.799Z"
   },
   {
    "duration": 8,
    "start_time": "2021-07-20T11:19:13.808Z"
   },
   {
    "duration": 9,
    "start_time": "2021-07-20T11:19:13.818Z"
   },
   {
    "duration": 34,
    "start_time": "2021-07-20T11:19:13.829Z"
   },
   {
    "duration": 18,
    "start_time": "2021-07-20T11:19:13.866Z"
   },
   {
    "duration": 10,
    "start_time": "2021-07-20T11:19:13.886Z"
   },
   {
    "duration": 7,
    "start_time": "2021-07-20T11:19:13.899Z"
   },
   {
    "duration": 935,
    "start_time": "2021-07-20T11:19:13.908Z"
   },
   {
    "duration": 1063,
    "start_time": "2021-07-20T11:19:14.845Z"
   },
   {
    "duration": 12,
    "start_time": "2021-07-20T11:21:28.670Z"
   },
   {
    "duration": 2073,
    "start_time": "2021-07-20T11:21:31.367Z"
   },
   {
    "duration": 136,
    "start_time": "2021-07-20T11:21:41.040Z"
   },
   {
    "duration": 13,
    "start_time": "2021-07-20T11:21:52.394Z"
   },
   {
    "duration": 1422,
    "start_time": "2021-07-20T11:21:54.471Z"
   },
   {
    "duration": 14,
    "start_time": "2021-07-20T11:28:09.486Z"
   },
   {
    "duration": 2046,
    "start_time": "2021-07-20T11:28:11.816Z"
   },
   {
    "duration": 13,
    "start_time": "2021-07-20T11:30:20.656Z"
   },
   {
    "duration": 2535,
    "start_time": "2021-07-20T11:30:22.880Z"
   },
   {
    "duration": 14,
    "start_time": "2021-07-20T11:31:16.618Z"
   },
   {
    "duration": 4,
    "start_time": "2021-07-20T11:31:17.689Z"
   },
   {
    "duration": 3735,
    "start_time": "2021-07-20T11:31:18.505Z"
   },
   {
    "duration": 15,
    "start_time": "2021-07-20T11:31:31.521Z"
   },
   {
    "duration": 3206,
    "start_time": "2021-07-20T11:31:33.474Z"
   },
   {
    "duration": 21,
    "start_time": "2021-07-20T11:31:49.217Z"
   },
   {
    "duration": 3303,
    "start_time": "2021-07-20T11:31:51.602Z"
   },
   {
    "duration": 21,
    "start_time": "2021-07-20T11:32:08.650Z"
   },
   {
    "duration": 3255,
    "start_time": "2021-07-20T11:32:10.643Z"
   },
   {
    "duration": 21,
    "start_time": "2021-07-20T11:32:49.131Z"
   },
   {
    "duration": 4,
    "start_time": "2021-07-20T11:32:50.618Z"
   },
   {
    "duration": 742,
    "start_time": "2021-07-20T11:32:51.530Z"
   },
   {
    "duration": 22,
    "start_time": "2021-07-20T11:33:21.379Z"
   },
   {
    "duration": 4,
    "start_time": "2021-07-20T11:33:22.298Z"
   },
   {
    "duration": 795,
    "start_time": "2021-07-20T11:33:22.922Z"
   },
   {
    "duration": 13,
    "start_time": "2021-07-20T11:33:51.826Z"
   },
   {
    "duration": 4,
    "start_time": "2021-07-20T11:33:52.569Z"
   },
   {
    "duration": 1849,
    "start_time": "2021-07-20T11:33:53.290Z"
   },
   {
    "duration": 16,
    "start_time": "2021-07-20T11:34:13.842Z"
   },
   {
    "duration": 1822,
    "start_time": "2021-07-20T11:34:15.761Z"
   },
   {
    "duration": 16,
    "start_time": "2021-07-20T11:35:51.524Z"
   },
   {
    "duration": 4,
    "start_time": "2021-07-20T11:35:52.594Z"
   },
   {
    "duration": 1849,
    "start_time": "2021-07-20T11:35:52.987Z"
   },
   {
    "duration": 25,
    "start_time": "2021-07-20T11:36:25.812Z"
   },
   {
    "duration": 3226,
    "start_time": "2021-07-20T11:36:28.004Z"
   },
   {
    "duration": 3234,
    "start_time": "2021-07-20T11:37:04.100Z"
   },
   {
    "duration": 2051,
    "start_time": "2021-07-20T11:37:07.337Z"
   },
   {
    "duration": 22,
    "start_time": "2021-07-20T11:37:09.392Z"
   },
   {
    "duration": 31,
    "start_time": "2021-07-20T11:37:09.418Z"
   },
   {
    "duration": 54,
    "start_time": "2021-07-20T11:37:09.462Z"
   },
   {
    "duration": 12,
    "start_time": "2021-07-20T11:37:09.519Z"
   },
   {
    "duration": 9,
    "start_time": "2021-07-20T11:37:09.562Z"
   },
   {
    "duration": 20002,
    "start_time": "2021-07-20T11:37:09.577Z"
   },
   {
    "duration": 10,
    "start_time": "2021-07-20T11:37:29.583Z"
   },
   {
    "duration": 28,
    "start_time": "2021-07-20T11:37:29.596Z"
   },
   {
    "duration": 13,
    "start_time": "2021-07-20T11:37:29.627Z"
   },
   {
    "duration": 7,
    "start_time": "2021-07-20T11:37:29.644Z"
   },
   {
    "duration": 20,
    "start_time": "2021-07-20T11:37:29.663Z"
   },
   {
    "duration": 21,
    "start_time": "2021-07-20T11:37:29.686Z"
   },
   {
    "duration": 16,
    "start_time": "2021-07-20T11:37:29.710Z"
   },
   {
    "duration": 2162,
    "start_time": "2021-07-20T11:37:29.730Z"
   },
   {
    "duration": 1722,
    "start_time": "2021-07-20T11:37:31.895Z"
   },
   {
    "duration": 15,
    "start_time": "2021-07-20T11:37:59.555Z"
   },
   {
    "duration": 1840,
    "start_time": "2021-07-20T11:38:02.190Z"
   },
   {
    "duration": 125,
    "start_time": "2021-07-20T11:38:33.618Z"
   },
   {
    "duration": 15,
    "start_time": "2021-07-20T11:38:38.435Z"
   },
   {
    "duration": 2739,
    "start_time": "2021-07-20T11:38:40.394Z"
   },
   {
    "duration": 22,
    "start_time": "2021-07-20T11:38:53.803Z"
   },
   {
    "duration": 2061,
    "start_time": "2021-07-20T11:38:55.451Z"
   },
   {
    "duration": 22,
    "start_time": "2021-07-20T11:39:08.130Z"
   },
   {
    "duration": 2536,
    "start_time": "2021-07-20T11:39:09.826Z"
   },
   {
    "duration": 20,
    "start_time": "2021-07-20T11:39:47.004Z"
   },
   {
    "duration": 2591,
    "start_time": "2021-07-20T11:39:48.810Z"
   },
   {
    "duration": 15,
    "start_time": "2021-07-20T11:40:06.962Z"
   },
   {
    "duration": 3102,
    "start_time": "2021-07-20T11:40:09.226Z"
   },
   {
    "duration": 174,
    "start_time": "2021-07-20T11:40:18.803Z"
   },
   {
    "duration": 1761,
    "start_time": "2021-07-20T11:40:20.547Z"
   },
   {
    "duration": 3275,
    "start_time": "2021-07-20T11:41:56.313Z"
   },
   {
    "duration": 2034,
    "start_time": "2021-07-20T11:41:59.591Z"
   },
   {
    "duration": 18,
    "start_time": "2021-07-20T11:42:01.628Z"
   },
   {
    "duration": 31,
    "start_time": "2021-07-20T11:42:01.649Z"
   },
   {
    "duration": 46,
    "start_time": "2021-07-20T11:42:01.682Z"
   },
   {
    "duration": 8,
    "start_time": "2021-07-20T11:42:01.731Z"
   },
   {
    "duration": 21,
    "start_time": "2021-07-20T11:42:01.742Z"
   },
   {
    "duration": 13115,
    "start_time": "2021-07-20T11:42:01.767Z"
   },
   {
    "duration": 7,
    "start_time": "2021-07-20T11:42:14.885Z"
   },
   {
    "duration": 23,
    "start_time": "2021-07-20T11:42:14.895Z"
   },
   {
    "duration": 14,
    "start_time": "2021-07-20T11:42:14.921Z"
   },
   {
    "duration": 21,
    "start_time": "2021-07-20T11:42:14.938Z"
   },
   {
    "duration": 29,
    "start_time": "2021-07-20T11:42:14.962Z"
   },
   {
    "duration": 21,
    "start_time": "2021-07-20T11:42:14.994Z"
   },
   {
    "duration": 20,
    "start_time": "2021-07-20T11:42:15.017Z"
   },
   {
    "duration": 1943,
    "start_time": "2021-07-20T11:42:15.040Z"
   },
   {
    "duration": 1942,
    "start_time": "2021-07-20T11:42:16.987Z"
   },
   {
    "duration": 3421,
    "start_time": "2021-07-20T12:38:00.377Z"
   },
   {
    "duration": 1937,
    "start_time": "2021-07-20T12:38:03.801Z"
   },
   {
    "duration": 21,
    "start_time": "2021-07-20T12:38:05.741Z"
   },
   {
    "duration": 23,
    "start_time": "2021-07-20T12:38:05.765Z"
   },
   {
    "duration": 37,
    "start_time": "2021-07-20T12:38:05.791Z"
   },
   {
    "duration": 32,
    "start_time": "2021-07-20T12:38:05.831Z"
   },
   {
    "duration": 7,
    "start_time": "2021-07-20T12:38:05.866Z"
   },
   {
    "duration": 12991,
    "start_time": "2021-07-20T12:38:05.875Z"
   },
   {
    "duration": 6,
    "start_time": "2021-07-20T12:38:18.871Z"
   },
   {
    "duration": 12,
    "start_time": "2021-07-20T12:38:18.880Z"
   },
   {
    "duration": 17,
    "start_time": "2021-07-20T12:38:18.894Z"
   },
   {
    "duration": 14,
    "start_time": "2021-07-20T12:38:18.913Z"
   },
   {
    "duration": 21,
    "start_time": "2021-07-20T12:38:18.930Z"
   },
   {
    "duration": 16,
    "start_time": "2021-07-20T12:38:18.962Z"
   },
   {
    "duration": 18,
    "start_time": "2021-07-20T12:38:18.980Z"
   },
   {
    "duration": 2001,
    "start_time": "2021-07-20T12:38:19.001Z"
   },
   {
    "duration": 1870,
    "start_time": "2021-07-20T12:38:21.004Z"
   },
   {
    "duration": 99,
    "start_time": "2021-07-21T04:52:29.822Z"
   }
  ],
  "kernelspec": {
   "display_name": "Python 3 (ipykernel)",
   "language": "python",
   "name": "python3"
  },
  "language_info": {
   "codemirror_mode": {
    "name": "ipython",
    "version": 3
   },
   "file_extension": ".py",
   "mimetype": "text/x-python",
   "name": "python",
   "nbconvert_exporter": "python",
   "pygments_lexer": "ipython3",
   "version": "3.8.8"
  },
  "toc": {
   "base_numbering": 1,
   "nav_menu": {},
   "number_sections": true,
   "sideBar": true,
   "skip_h1_title": true,
   "title_cell": "Содержание",
   "title_sidebar": "Contents",
   "toc_cell": true,
   "toc_position": {
    "height": "calc(100% - 180px)",
    "left": "10px",
    "top": "150px",
    "width": "224.391px"
   },
   "toc_section_display": true,
   "toc_window_display": true
  }
 },
 "nbformat": 4,
 "nbformat_minor": 2
}
