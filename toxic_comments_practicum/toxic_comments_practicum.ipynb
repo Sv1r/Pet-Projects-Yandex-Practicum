{
 "cells": [
  {
   "cell_type": "markdown",
   "metadata": {
    "toc": true
   },
   "source": [
    "<h1>Содержание<span class=\"tocSkip\"></span></h1>\n",
    "<div class=\"toc\"><ul class=\"toc-item\"><li><span><a href=\"#Подготовка\" data-toc-modified-id=\"Подготовка-1\"><span class=\"toc-item-num\">1&nbsp;&nbsp;</span>Подготовка</a></span><ul class=\"toc-item\"><li><span><a href=\"#Загрузка-данных-и-первичный-осмотр\" data-toc-modified-id=\"Загрузка-данных-и-первичный-осмотр-1.1\"><span class=\"toc-item-num\">1.1&nbsp;&nbsp;</span>Загрузка данных и первичный осмотр</a></span></li><li><span><a href=\"#Преобразования-текста\" data-toc-modified-id=\"Преобразования-текста-1.2\"><span class=\"toc-item-num\">1.2&nbsp;&nbsp;</span>Преобразования текста</a></span></li></ul></li><li><span><a href=\"#Обучение\" data-toc-modified-id=\"Обучение-2\"><span class=\"toc-item-num\">2&nbsp;&nbsp;</span>Обучение</a></span><ul class=\"toc-item\"><li><span><a href=\"#LogisticRegression\" data-toc-modified-id=\"LogisticRegression-2.1\"><span class=\"toc-item-num\">2.1&nbsp;&nbsp;</span>LogisticRegression</a></span></li><li><span><a href=\"#DecisionTreeClassifier\" data-toc-modified-id=\"DecisionTreeClassifier-2.2\"><span class=\"toc-item-num\">2.2&nbsp;&nbsp;</span>DecisionTreeClassifier</a></span></li><li><span><a href=\"#KNeighborsClassifier\" data-toc-modified-id=\"KNeighborsClassifier-2.3\"><span class=\"toc-item-num\">2.3&nbsp;&nbsp;</span>KNeighborsClassifier</a></span></li></ul></li><li><span><a href=\"#Вывод\" data-toc-modified-id=\"Вывод-3\"><span class=\"toc-item-num\">3&nbsp;&nbsp;</span>Вывод</a></span></li></ul></div>"
   ]
  },
  {
   "cell_type": "markdown",
   "metadata": {},
   "source": [
    "# Проект для «Викишоп»"
   ]
  },
  {
   "cell_type": "markdown",
   "metadata": {},
   "source": [
    "Интернет-магазин «Викишоп» запускает новый сервис. Теперь пользователи могут редактировать и дополнять описания товаров, как в вики-сообществах. То есть клиенты предлагают свои правки и комментируют изменения других. Магазину нужен инструмент, который будет искать токсичные комментарии и отправлять их на модерацию. \n",
    "\n",
    "Обучите модель классифицировать комментарии на позитивные и негативные. В вашем распоряжении набор данных с разметкой о токсичности правок.\n",
    "\n",
    "Постройте модель со значением метрики качества *F1* не меньше 0.75. \n",
    "\n",
    "**Инструкция по выполнению проекта**\n",
    "\n",
    "1. Загрузите и подготовьте данные.\n",
    "2. Обучите разные модели. \n",
    "3. Сделайте выводы.\n",
    "\n",
    "**Описание данных**\n",
    "\n",
    "Данные находятся в файле `toxic_comments.csv`. Столбец *text* в нём содержит текст комментария, а *toxic* — целевой признак."
   ]
  },
  {
   "cell_type": "code",
   "execution_count": 1,
   "metadata": {},
   "outputs": [],
   "source": [
    "import pandas as pd\n",
    "import numpy as np\n",
    "\n",
    "import matplotlib.pyplot as plt \n",
    "import seaborn as sns\n",
    "sns.set_style('darkgrid')\n",
    "\n",
    "from pymystem3 import Mystem\n",
    "import pymorphy2\n",
    "import re\n",
    "\n",
    "import nltk\n",
    "from nltk.corpus import stopwords as nltk_stopwords\n",
    "from sklearn.feature_extraction.text import TfidfVectorizer\n",
    "from sklearn.feature_extraction.text import CountVectorizer\n",
    "\n",
    "import warnings\n",
    "warnings.filterwarnings('ignore')\n",
    "\n",
    "from sklearn.model_selection import train_test_split\n",
    "from sklearn.preprocessing import StandardScaler\n",
    "from sklearn.model_selection import GridSearchCV\n",
    "\n",
    "from sklearn import metrics\n",
    "from sklearn.metrics import f1_score\n",
    "from sklearn.metrics import recall_score\n",
    "from sklearn.metrics import precision_score\n",
    "from sklearn.metrics import roc_auc_score\n",
    "from sklearn.metrics import roc_curve\n",
    "from sklearn.metrics import precision_recall_curve\n",
    "\n",
    "from sklearn.linear_model import LogisticRegression\n",
    "from sklearn.tree import DecisionTreeClassifier\n",
    "from sklearn.neighbors import KNeighborsClassifier"
   ]
  },
  {
   "cell_type": "markdown",
   "metadata": {},
   "source": [
    "## Подготовка"
   ]
  },
  {
   "cell_type": "markdown",
   "metadata": {},
   "source": [
    "### Загрузка данных и первичный осмотр"
   ]
  },
  {
   "cell_type": "markdown",
   "metadata": {},
   "source": [
    "Выгрузим данные и посмотрим на случайные десять элементов исходных данных."
   ]
  },
  {
   "cell_type": "code",
   "execution_count": 2,
   "metadata": {},
   "outputs": [],
   "source": [
    "df = pd.read_csv('/datasets/toxic_comments.csv')"
   ]
  },
  {
   "cell_type": "code",
   "execution_count": 3,
   "metadata": {},
   "outputs": [
    {
     "data": {
      "text/html": [
       "<div>\n",
       "<style scoped>\n",
       "    .dataframe tbody tr th:only-of-type {\n",
       "        vertical-align: middle;\n",
       "    }\n",
       "\n",
       "    .dataframe tbody tr th {\n",
       "        vertical-align: top;\n",
       "    }\n",
       "\n",
       "    .dataframe thead th {\n",
       "        text-align: right;\n",
       "    }\n",
       "</style>\n",
       "<table border=\"1\" class=\"dataframe\">\n",
       "  <thead>\n",
       "    <tr style=\"text-align: right;\">\n",
       "      <th></th>\n",
       "      <th>text</th>\n",
       "      <th>toxic</th>\n",
       "    </tr>\n",
       "  </thead>\n",
       "  <tbody>\n",
       "    <tr>\n",
       "      <td>121958</td>\n",
       "      <td>You are WRONG. \\n\\nJustin Thompson is mentione...</td>\n",
       "      <td>0</td>\n",
       "    </tr>\n",
       "    <tr>\n",
       "      <td>146867</td>\n",
       "      <td>\"\\n\\n British Bands?  \\n\\nI think you've mista...</td>\n",
       "      <td>0</td>\n",
       "    </tr>\n",
       "    <tr>\n",
       "      <td>131932</td>\n",
       "      <td>I won't stop that. Sometimes Germanic equals G...</td>\n",
       "      <td>1</td>\n",
       "    </tr>\n",
       "    <tr>\n",
       "      <td>103694</td>\n",
       "      <td>Back it up. Post the line here with the refere...</td>\n",
       "      <td>0</td>\n",
       "    </tr>\n",
       "    <tr>\n",
       "      <td>119879</td>\n",
       "      <td>REDIRECT Talk:John Loveday (experimental physi...</td>\n",
       "      <td>0</td>\n",
       "    </tr>\n",
       "    <tr>\n",
       "      <td>110268</td>\n",
       "      <td>Arrangements? \\n\\nThere is no list of arrangem...</td>\n",
       "      <td>0</td>\n",
       "    </tr>\n",
       "    <tr>\n",
       "      <td>54886</td>\n",
       "      <td>\"==Image source problem with Image:Visuel2.jpg...</td>\n",
       "      <td>0</td>\n",
       "    </tr>\n",
       "    <tr>\n",
       "      <td>137337</td>\n",
       "      <td>\"\\n\\nSpeedy deletion of H2O Clan\\n A tag has b...</td>\n",
       "      <td>0</td>\n",
       "    </tr>\n",
       "    <tr>\n",
       "      <td>87498</td>\n",
       "      <td>Izanbardprince\\n\\nI* am Izanbardprince, I forg...</td>\n",
       "      <td>0</td>\n",
       "    </tr>\n",
       "    <tr>\n",
       "      <td>112727</td>\n",
       "      <td>\"\\nHello  I introduced a  tag to that particul...</td>\n",
       "      <td>0</td>\n",
       "    </tr>\n",
       "  </tbody>\n",
       "</table>\n",
       "</div>"
      ],
      "text/plain": [
       "                                                     text  toxic\n",
       "121958  You are WRONG. \\n\\nJustin Thompson is mentione...      0\n",
       "146867  \"\\n\\n British Bands?  \\n\\nI think you've mista...      0\n",
       "131932  I won't stop that. Sometimes Germanic equals G...      1\n",
       "103694  Back it up. Post the line here with the refere...      0\n",
       "119879  REDIRECT Talk:John Loveday (experimental physi...      0\n",
       "110268  Arrangements? \\n\\nThere is no list of arrangem...      0\n",
       "54886   \"==Image source problem with Image:Visuel2.jpg...      0\n",
       "137337  \"\\n\\nSpeedy deletion of H2O Clan\\n A tag has b...      0\n",
       "87498   Izanbardprince\\n\\nI* am Izanbardprince, I forg...      0\n",
       "112727  \"\\nHello  I introduced a  tag to that particul...      0"
      ]
     },
     "execution_count": 3,
     "metadata": {},
     "output_type": "execute_result"
    }
   ],
   "source": [
    "df.sample(10, replace=True, random_state=42)"
   ]
  },
  {
   "cell_type": "markdown",
   "metadata": {},
   "source": [
    "Оценим информацию по имеющимся данным."
   ]
  },
  {
   "cell_type": "code",
   "execution_count": 4,
   "metadata": {},
   "outputs": [
    {
     "name": "stdout",
     "output_type": "stream",
     "text": [
      "<class 'pandas.core.frame.DataFrame'>\n",
      "RangeIndex: 159571 entries, 0 to 159570\n",
      "Data columns (total 2 columns):\n",
      "text     159571 non-null object\n",
      "toxic    159571 non-null int64\n",
      "dtypes: int64(1), object(1)\n",
      "memory usage: 2.4+ MB\n"
     ]
    }
   ],
   "source": [
    "df.info()"
   ]
  },
  {
   "cell_type": "markdown",
   "metadata": {},
   "source": [
    "Как видно, у нас отсутствуют пропуски в данных, следовательно предобработка данных не потребуется."
   ]
  },
  {
   "cell_type": "markdown",
   "metadata": {},
   "source": [
    "### Преобразования текста"
   ]
  },
  {
   "cell_type": "markdown",
   "metadata": {},
   "source": [
    "Для работы с текстовыми данными нам необходимо провести векторизацию. "
   ]
  },
  {
   "cell_type": "code",
   "execution_count": 5,
   "metadata": {},
   "outputs": [],
   "source": [
    "corpus = df['text']"
   ]
  },
  {
   "cell_type": "code",
   "execution_count": 6,
   "metadata": {},
   "outputs": [],
   "source": [
    "morph = pymorphy2.MorphAnalyzer()\n",
    "\n",
    "def lemmatize(text):\n",
    "    words = text.split()\n",
    "    res = list()\n",
    "    for word in words:\n",
    "        p = morph.parse(word)[0]\n",
    "        res.append(p.normal_form)\n",
    "\n",
    "    return \" \".join(res)\n",
    "\n",
    "def clear_text(text):\n",
    "    pattern = r'[^a-zA-Z]'\n",
    "    cyrillic_text = re.sub(pattern, \" \", text)\n",
    "    \n",
    "    return \" \".join(cyrillic_text.split())"
   ]
  },
  {
   "cell_type": "markdown",
   "metadata": {},
   "source": [
    "На данном этапе сразу можно выделить целивой признак - `target` среди остальных - `features`."
   ]
  },
  {
   "cell_type": "code",
   "execution_count": 7,
   "metadata": {},
   "outputs": [
    {
     "name": "stdout",
     "output_type": "stream",
     "text": [
      "CPU times: user 4min 3s, sys: 1.27 s, total: 4min 4s\n",
      "Wall time: 4min 7s\n"
     ]
    }
   ],
   "source": [
    "%%time\n",
    "\n",
    "features = corpus.apply(lambda x: lemmatize(clear_text(x)))"
   ]
  },
  {
   "cell_type": "code",
   "execution_count": 8,
   "metadata": {},
   "outputs": [],
   "source": [
    "target = df['toxic']"
   ]
  },
  {
   "cell_type": "code",
   "execution_count": 9,
   "metadata": {},
   "outputs": [],
   "source": [
    "features_train, features_valid, target_train, target_valid = train_test_split(features,\n",
    "                                                                              target,\n",
    "                                                                              train_size=.75,\n",
    "                                                                              random_state=42)"
   ]
  },
  {
   "cell_type": "code",
   "execution_count": 10,
   "metadata": {},
   "outputs": [
    {
     "name": "stdout",
     "output_type": "stream",
     "text": [
      "Размер тренировочной выборки: (119678,)\n",
      "Размер валидационной выборки: (39893,)\n"
     ]
    }
   ],
   "source": [
    "print('Размер тренировочной выборки:', features_train.shape)\n",
    "print('Размер валидационной выборки:', features_valid.shape)"
   ]
  },
  {
   "cell_type": "code",
   "execution_count": 11,
   "metadata": {},
   "outputs": [
    {
     "name": "stderr",
     "output_type": "stream",
     "text": [
      "[nltk_data] Downloading package stopwords to /home/jovyan/nltk_data...\n",
      "[nltk_data]   Package stopwords is already up-to-date!\n"
     ]
    }
   ],
   "source": [
    "nltk.download('stopwords')\n",
    "stopwords = set(nltk_stopwords.words('english'))\n",
    "count_tf_idf = TfidfVectorizer(stop_words=stopwords)\n",
    "\n",
    "corpus_train = features_train.values.astype('U')\n",
    "tf_idf_train = count_tf_idf.fit_transform(corpus_train)\n",
    "\n",
    "corpus_valid = features_valid.values.astype('U') \n",
    "tf_idf_valid = count_tf_idf.transform(corpus_valid)"
   ]
  },
  {
   "cell_type": "markdown",
   "metadata": {},
   "source": [
    "Итак, наши данные готовы, для того чтобы мы могли приступить к обучению моделей."
   ]
  },
  {
   "cell_type": "code",
   "execution_count": 12,
   "metadata": {},
   "outputs": [],
   "source": [
    "del df, corpus, morph, features, target, corpus_train, corpus_valid, features_train, features_valid"
   ]
  },
  {
   "cell_type": "markdown",
   "metadata": {},
   "source": [
    "## Обучение"
   ]
  },
  {
   "cell_type": "markdown",
   "metadata": {},
   "source": [
    "В качестве метрики классификации в данном случае выступает $F1$, которая является *гармоническим средним* между точностью ($Precision$) и полнотой ($Recall$). По отдельности обе эти метрики находятся по следующим формулам:\n",
    "\n",
    "$$\n",
    "Precision = \\frac{TP}{TP + FP}\n",
    "$$\n",
    "\n",
    "$$\n",
    "Recall = \\frac{TP}{TP + FN}\n",
    "$$\n",
    "\n",
    "где:\n",
    "\n",
    " - $TP$ - истино-положительное решение;\n",
    " - $TN$ - истино-отрицательное решение;\n",
    " - $FP$ - ложно-положительное решение;\n",
    " - $FN$ - ложно-отрицательное решение.\n",
    "\n",
    "А сама $F1$ находится таким образом:\n",
    "\n",
    "$$\n",
    "F1 = 2{\\frac{Precision\\times{Recall}}{Precision + Recall}}, \\{F1\\in{\\mathbb{R}} | 0 \\leq F1 \\leq 1 \\}\n",
    "$$"
   ]
  },
  {
   "cell_type": "markdown",
   "metadata": {},
   "source": [
    "Создадим функцию, которая будет проводить обучение."
   ]
  },
  {
   "cell_type": "code",
   "execution_count": 13,
   "metadata": {},
   "outputs": [],
   "source": [
    "def grid_search(model, params, features_t, features_v, target_t, target_v):\n",
    "    \n",
    "    #Обучение модели\n",
    "    \n",
    "    grid = GridSearchCV(model,\n",
    "                        params,\n",
    "                        cv=3,\n",
    "                        scoring='f1',\n",
    "                        n_jobs=-1)\n",
    "    \n",
    "    grid.fit(features_t, target_t)\n",
    "    best_params = grid.best_params_\n",
    "    prediction = grid.predict(features_v)\n",
    "    \n",
    "    #Classification Report\n",
    "    f1 = round(f1_score(target_v, prediction), 3)\n",
    "    precision = round(precision_score(target_v, prediction), 3)\n",
    "    recall = round(recall_score(target_v, prediction), 3)\n",
    "    roc_auc = round(roc_auc_score(target_v, prediction), 3)\n",
    "    result_list = [f1, precision, recall, roc_auc]\n",
    "    \n",
    "    print('')\n",
    "    print('Итоги обучения модели:')\n",
    "    print('')\n",
    "    print('- Лучшее сочетание гиперпараметров: \\n  {}'.format(best_params))\n",
    "    print('')\n",
    "    print('- F1-мера модели: {}'.format(f1))\n",
    "    print('')\n",
    "    print('- Precision модели: {}'.format(precision))\n",
    "    print('')\n",
    "    print('- Recall модели: {}'.format(recall))\n",
    "    print('')\n",
    "    print('- ROC-AUC модели: {}'.format(roc_auc))\n",
    "    print('')\n",
    "    \n",
    "    #ROC-AUC Curve Plot\n",
    "    ns_probs = [0 for _ in range(len(target_v))]\n",
    "    lr_probs = grid.predict_proba(features_v)\n",
    "    lr_probs = lr_probs[:, 1]\n",
    "    ns_fpr, ns_tpr, _ = roc_curve(target_v, ns_probs)\n",
    "    lr_fpr, lr_tpr, _ = roc_curve(target_v, lr_probs)\n",
    "    \n",
    "    f, ax = plt.subplots(1, 2, figsize=(15, 6))\n",
    "    \n",
    "    ax[0].plot(ns_fpr, ns_tpr, linestyle='--', label='No Skill')\n",
    "    ax[0].plot(lr_fpr, lr_tpr, marker='.', label='ROC-AUC={}'.format(roc_auc))\n",
    "    ax[0].set_title('Receiver Operating Characteristic')\n",
    "    ax[0].set_xlabel('False Positive Rate')\n",
    "    ax[0].set_ylabel('True Positive Rate')\n",
    "    ax[0].legend()\n",
    "    \n",
    "    #Precision-Recall Curve Plot\n",
    "    precision, recall, _ = precision_recall_curve(target_v, prediction)\n",
    "    no_skill = len(target_v[target_v==1]) / len(target_v)\n",
    "    \n",
    "    ax[1].plot([0, 1], [no_skill, no_skill], linestyle='--', label='No Skill')\n",
    "    ax[1].plot(recall, precision, marker='.')\n",
    "    ax[1].set_title('Precision-Recall curve')\n",
    "    ax[1].legend(['All Positive', 'Model'])\n",
    "    ax[1].set_xlabel('Recall')\n",
    "    ax[1].set_ylabel('Precision')\n",
    "    \n",
    "    plt.show()\n",
    "    \n",
    "    return result_list"
   ]
  },
  {
   "cell_type": "markdown",
   "metadata": {},
   "source": [
    "### LogisticRegression"
   ]
  },
  {
   "cell_type": "markdown",
   "metadata": {},
   "source": [
    "Обучим модель логистической регрессии."
   ]
  },
  {
   "cell_type": "code",
   "execution_count": 14,
   "metadata": {},
   "outputs": [],
   "source": [
    "logreg = LogisticRegression(random_state=42)"
   ]
  },
  {
   "cell_type": "code",
   "execution_count": 15,
   "metadata": {},
   "outputs": [],
   "source": [
    "params_logreg = {'C' : np.linspace(1e-4, 100, 5),\n",
    "                 'tol' : np.linspace(1e-4, 100, 5),\n",
    "                 'fit_intercept' : [True, False]}"
   ]
  },
  {
   "cell_type": "code",
   "execution_count": 16,
   "metadata": {},
   "outputs": [
    {
     "name": "stdout",
     "output_type": "stream",
     "text": [
      "\n",
      "Итоги обучения модели:\n",
      "\n",
      "- Лучшее сочетание гиперпараметров: \n",
      "  {'C': 25.000075, 'fit_intercept': True, 'tol': 0.0001}\n",
      "\n",
      "- F1-мера модели: 0.782\n",
      "\n",
      "- Precision модели: 0.872\n",
      "\n",
      "- Recall модели: 0.708\n",
      "\n",
      "- ROC-AUC модели: 0.848\n",
      "\n"
     ]
    },
    {
     "data": {
      "image/png": "[encoded data removed]",
      "text/plain": [
       "<Figure size 1080x432 with 2 Axes>"
      ]
     },
     "metadata": {},
     "output_type": "display_data"
    },
    {
     "name": "stdout",
     "output_type": "stream",
     "text": [
      "CPU times: user 5min 38s, sys: 4min 57s, total: 10min 35s\n",
      "Wall time: 10min 36s\n"
     ]
    }
   ],
   "source": [
    "%%time\n",
    "\n",
    "result_list_logreg = grid_search(logreg, params_logreg, tf_idf_train, tf_idf_valid, target_train, target_valid)"
   ]
  },
  {
   "cell_type": "markdown",
   "metadata": {},
   "source": [
    "### DecisionTreeClassifier"
   ]
  },
  {
   "cell_type": "markdown",
   "metadata": {},
   "source": [
    "Опробуем модель **DecisionTreeClassifier**."
   ]
  },
  {
   "cell_type": "code",
   "execution_count": 17,
   "metadata": {},
   "outputs": [],
   "source": [
    "tree = DecisionTreeClassifier(random_state=42)"
   ]
  },
  {
   "cell_type": "code",
   "execution_count": 18,
   "metadata": {},
   "outputs": [],
   "source": [
    "params_tree = {'max_depth':[5, 10, 15], \n",
    "               'min_samples_split':[5, 7, 9], \n",
    "               'min_samples_leaf':[3, 5, 7],\n",
    "               'criterion': ['gini', 'entropy']}"
   ]
  },
  {
   "cell_type": "code",
   "execution_count": 19,
   "metadata": {},
   "outputs": [
    {
     "name": "stdout",
     "output_type": "stream",
     "text": [
      "\n",
      "Итоги обучения модели:\n",
      "\n",
      "- Лучшее сочетание гиперпараметров: \n",
      "  {'criterion': 'gini', 'max_depth': 15, 'min_samples_leaf': 3, 'min_samples_split': 5}\n",
      "\n",
      "- F1-мера модели: 0.625\n",
      "\n",
      "- Precision модели: 0.9\n",
      "\n",
      "- Recall модели: 0.478\n",
      "\n",
      "- ROC-AUC модели: 0.736\n",
      "\n"
     ]
    },
    {
     "data": {
      "image/png": "[encoded data removed]",
      "text/plain": [
       "<Figure size 1080x432 with 2 Axes>"
      ]
     },
     "metadata": {},
     "output_type": "display_data"
    },
    {
     "name": "stdout",
     "output_type": "stream",
     "text": [
      "CPU times: user 29min 56s, sys: 0 ns, total: 29min 56s\n",
      "Wall time: 30min 9s\n"
     ]
    }
   ],
   "source": [
    "%%time\n",
    "\n",
    "result_list_tree = grid_search(tree, params_tree, tf_idf_train, tf_idf_valid, target_train, target_valid)"
   ]
  },
  {
   "cell_type": "markdown",
   "metadata": {},
   "source": [
    "### KNeighborsClassifier"
   ]
  },
  {
   "cell_type": "code",
   "execution_count": 20,
   "metadata": {},
   "outputs": [],
   "source": [
    "knn = KNeighborsClassifier()"
   ]
  },
  {
   "cell_type": "code",
   "execution_count": 21,
   "metadata": {},
   "outputs": [],
   "source": [
    "params_knn = {'leaf_size' : [10, 20],\n",
    "              'n_neighbors': [5, 10]}"
   ]
  },
  {
   "cell_type": "code",
   "execution_count": 22,
   "metadata": {},
   "outputs": [
    {
     "name": "stdout",
     "output_type": "stream",
     "text": [
      "\n",
      "Итоги обучения модели:\n",
      "\n",
      "- Лучшее сочетание гиперпараметров: \n",
      "  {'leaf_size': 10, 'n_neighbors': 5}\n",
      "\n",
      "- F1-мера модели: 0.266\n",
      "\n",
      "- Precision модели: 0.845\n",
      "\n",
      "- Recall модели: 0.158\n",
      "\n",
      "- ROC-AUC модели: 0.577\n",
      "\n"
     ]
    },
    {
     "data": {
      "image/png": "[encoded data removed]",
      "text/plain": [
       "<Figure size 1080x432 with 2 Axes>"
      ]
     },
     "metadata": {},
     "output_type": "display_data"
    },
    {
     "name": "stdout",
     "output_type": "stream",
     "text": [
      "CPU times: user 21min 40s, sys: 7min 50s, total: 29min 31s\n",
      "Wall time: 29min 55s\n"
     ]
    }
   ],
   "source": [
    "%%time\n",
    "\n",
    "result_list_knn = grid_search(knn, params_knn, tf_idf_train, tf_idf_valid, target_train, target_valid)"
   ]
  },
  {
   "cell_type": "markdown",
   "metadata": {},
   "source": [
    "## Вывод"
   ]
  },
  {
   "cell_type": "code",
   "execution_count": 23,
   "metadata": {},
   "outputs": [
    {
     "data": {
      "text/html": [
       "<div>\n",
       "<style scoped>\n",
       "    .dataframe tbody tr th:only-of-type {\n",
       "        vertical-align: middle;\n",
       "    }\n",
       "\n",
       "    .dataframe tbody tr th {\n",
       "        vertical-align: top;\n",
       "    }\n",
       "\n",
       "    .dataframe thead th {\n",
       "        text-align: right;\n",
       "    }\n",
       "</style>\n",
       "<table border=\"1\" class=\"dataframe\">\n",
       "  <thead>\n",
       "    <tr style=\"text-align: right;\">\n",
       "      <th></th>\n",
       "      <th>F1-score</th>\n",
       "      <th>Precision</th>\n",
       "      <th>Recall</th>\n",
       "      <th>ROC-AUC</th>\n",
       "    </tr>\n",
       "  </thead>\n",
       "  <tbody>\n",
       "    <tr>\n",
       "      <td>LogisticRegression</td>\n",
       "      <td>0.782</td>\n",
       "      <td>0.872</td>\n",
       "      <td>0.708</td>\n",
       "      <td>0.848</td>\n",
       "    </tr>\n",
       "    <tr>\n",
       "      <td>DecisionTreeClassifier</td>\n",
       "      <td>0.625</td>\n",
       "      <td>0.900</td>\n",
       "      <td>0.478</td>\n",
       "      <td>0.736</td>\n",
       "    </tr>\n",
       "    <tr>\n",
       "      <td>KNeighborsClassifier</td>\n",
       "      <td>0.266</td>\n",
       "      <td>0.845</td>\n",
       "      <td>0.158</td>\n",
       "      <td>0.577</td>\n",
       "    </tr>\n",
       "  </tbody>\n",
       "</table>\n",
       "</div>"
      ],
      "text/plain": [
       "                        F1-score  Precision  Recall  ROC-AUC\n",
       "LogisticRegression         0.782      0.872   0.708    0.848\n",
       "DecisionTreeClassifier     0.625      0.900   0.478    0.736\n",
       "KNeighborsClassifier       0.266      0.845   0.158    0.577"
      ]
     },
     "execution_count": 23,
     "metadata": {},
     "output_type": "execute_result"
    }
   ],
   "source": [
    "dict = {'LogisticRegression' : result_list_logreg,\n",
    "        'DecisionTreeClassifier' : result_list_tree,\n",
    "        'KNeighborsClassifier' : result_list_knn}\n",
    "\n",
    "result_tab = pd.DataFrame.from_dict(dict,\n",
    "                                    orient='index',\n",
    "                                    columns=['F1-score', 'Precision', 'Recall', 'ROC-AUC']).sort_values(by='F1-score',\n",
    "                                                                                                        ascending=False)\n",
    "result_tab"
   ]
  },
  {
   "cell_type": "markdown",
   "metadata": {},
   "source": [
    "Итак, исходные текстовые данные мы преобразовали при помощи *TF-IDF* подхода в векторный формат. Далее было обучено несколько моделей машинного обучения:\n",
    "\n",
    " * **LogisticRegression**\n",
    " * **DecisionTreeClassifier**\n",
    " * **KNeighborsClassifier**\n",
    " \n",
    "Лучшие показатели метрики $F1$ равный **LogisticRegression** при обучение по сетке был у алгоритма **0.782**."
   ]
  }
 ],
 "metadata": {
  "ExecuteTimeLog": [
   {
    "duration": 439,
    "start_time": "2021-08-25T16:58:11.285Z"
   },
   {
    "duration": 737,
    "start_time": "2021-08-25T16:58:14.439Z"
   },
   {
    "duration": 719,
    "start_time": "2021-08-25T16:58:16.478Z"
   },
   {
    "duration": 20,
    "start_time": "2021-08-25T16:58:25.320Z"
   },
   {
    "duration": 29,
    "start_time": "2021-08-25T16:59:58.255Z"
   },
   {
    "duration": 33,
    "start_time": "2021-08-25T17:00:56.788Z"
   },
   {
    "duration": 896,
    "start_time": "2021-08-25T17:15:59.226Z"
   },
   {
    "duration": 4,
    "start_time": "2021-08-25T17:16:06.840Z"
   },
   {
    "duration": 5,
    "start_time": "2021-08-25T17:19:08.312Z"
   },
   {
    "duration": 815,
    "start_time": "2021-08-25T17:19:14.041Z"
   },
   {
    "duration": 4,
    "start_time": "2021-08-25T17:19:46.018Z"
   },
   {
    "duration": 8891,
    "start_time": "2021-08-25T17:19:46.194Z"
   },
   {
    "duration": 1445,
    "start_time": "2021-08-25T17:19:57.227Z"
   },
   {
    "duration": 695,
    "start_time": "2021-08-25T17:19:58.675Z"
   },
   {
    "duration": 26,
    "start_time": "2021-08-25T17:19:59.373Z"
   },
   {
    "duration": 30,
    "start_time": "2021-08-25T17:19:59.402Z"
   },
   {
    "duration": 9,
    "start_time": "2021-08-25T17:19:59.434Z"
   },
   {
    "duration": 226265,
    "start_time": "2021-08-25T17:19:59.445Z"
   },
   {
    "duration": 12,
    "start_time": "2021-08-25T17:24:44.329Z"
   },
   {
    "duration": 134,
    "start_time": "2021-08-25T17:26:17.018Z"
   },
   {
    "duration": 129,
    "start_time": "2021-08-25T17:26:25.734Z"
   },
   {
    "duration": 6,
    "start_time": "2021-08-25T17:29:08.457Z"
   },
   {
    "duration": 1566,
    "start_time": "2021-08-25T17:37:58.095Z"
   },
   {
    "duration": 120517,
    "start_time": "2021-08-25T17:38:07.856Z"
   },
   {
    "duration": 31,
    "start_time": "2021-08-25T17:41:01.179Z"
   },
   {
    "duration": 43,
    "start_time": "2021-08-25T17:41:20.977Z"
   },
   {
    "duration": 7884,
    "start_time": "2021-08-25T17:50:42.764Z"
   },
   {
    "duration": 7947,
    "start_time": "2021-08-25T17:51:03.194Z"
   },
   {
    "duration": -75269,
    "start_time": "2021-08-25T17:52:26.413Z"
   },
   {
    "duration": 28,
    "start_time": "2021-08-25T17:51:20.044Z"
   },
   {
    "duration": 7676,
    "start_time": "2021-08-25T17:51:27.708Z"
   },
   {
    "duration": 33,
    "start_time": "2021-08-25T17:51:35.386Z"
   },
   {
    "duration": 1375,
    "start_time": "2021-08-25T17:53:12.518Z"
   },
   {
    "duration": 706,
    "start_time": "2021-08-25T17:53:13.896Z"
   },
   {
    "duration": 21,
    "start_time": "2021-08-25T17:53:14.605Z"
   },
   {
    "duration": 34,
    "start_time": "2021-08-25T17:53:14.628Z"
   },
   {
    "duration": 20,
    "start_time": "2021-08-25T17:53:14.665Z"
   },
   {
    "duration": 226605,
    "start_time": "2021-08-25T17:53:14.687Z"
   },
   {
    "duration": 5,
    "start_time": "2021-08-25T17:57:01.295Z"
   },
   {
    "duration": 120608,
    "start_time": "2021-08-25T17:57:01.303Z"
   },
   {
    "duration": 43,
    "start_time": "2021-08-25T17:59:01.914Z"
   },
   {
    "duration": 8755,
    "start_time": "2021-08-25T17:59:01.959Z"
   },
   {
    "duration": 34,
    "start_time": "2021-08-25T17:59:10.717Z"
   },
   {
    "duration": 105,
    "start_time": "2021-08-25T18:25:10.035Z"
   },
   {
    "duration": 6,
    "start_time": "2021-08-25T18:38:04.395Z"
   },
   {
    "duration": 882,
    "start_time": "2021-08-25T18:38:13.696Z"
   },
   {
    "duration": 5,
    "start_time": "2021-08-25T18:38:23.412Z"
   },
   {
    "duration": 1314,
    "start_time": "2021-08-25T18:38:23.740Z"
   },
   {
    "duration": 5,
    "start_time": "2021-08-25T18:38:32.676Z"
   },
   {
    "duration": 13402,
    "start_time": "2021-08-25T18:38:32.908Z"
   },
   {
    "duration": 198,
    "start_time": "2021-08-25T18:39:06.204Z"
   },
   {
    "duration": 6,
    "start_time": "2021-08-25T18:39:11.396Z"
   },
   {
    "duration": 15526,
    "start_time": "2021-08-25T18:39:11.717Z"
   },
   {
    "duration": 5,
    "start_time": "2021-08-25T18:40:24.765Z"
   },
   {
    "duration": 20692,
    "start_time": "2021-08-25T18:40:25.053Z"
   },
   {
    "duration": 6,
    "start_time": "2021-08-25T18:43:25.203Z"
   },
   {
    "duration": 783,
    "start_time": "2021-08-25T18:43:25.212Z"
   },
   {
    "duration": 7,
    "start_time": "2021-08-25T18:43:39.893Z"
   },
   {
    "duration": 8,
    "start_time": "2021-08-25T18:43:44.580Z"
   },
   {
    "duration": 13549,
    "start_time": "2021-08-25T18:43:45.341Z"
   },
   {
    "duration": 6,
    "start_time": "2021-08-25T18:44:10.717Z"
   },
   {
    "duration": 22344,
    "start_time": "2021-08-25T18:44:11.005Z"
   },
   {
    "duration": 6,
    "start_time": "2021-08-25T18:52:09.452Z"
   },
   {
    "duration": 22055,
    "start_time": "2021-08-25T18:52:09.878Z"
   },
   {
    "duration": 6,
    "start_time": "2021-08-25T18:52:45.030Z"
   },
   {
    "duration": 20922,
    "start_time": "2021-08-25T18:52:45.318Z"
   },
   {
    "duration": 2207,
    "start_time": "2021-08-26T16:13:28.120Z"
   },
   {
    "duration": 1155,
    "start_time": "2021-08-26T16:13:30.331Z"
   },
   {
    "duration": 125,
    "start_time": "2021-08-26T16:13:31.490Z"
   },
   {
    "duration": 51,
    "start_time": "2021-08-26T16:13:31.618Z"
   },
   {
    "duration": 8,
    "start_time": "2021-08-26T16:13:31.673Z"
   },
   {
    "duration": 288915,
    "start_time": "2021-08-26T16:13:31.684Z"
   },
   {
    "duration": 4,
    "start_time": "2021-08-26T16:18:20.602Z"
   },
   {
    "duration": 158334,
    "start_time": "2021-08-26T16:18:20.654Z"
   },
   {
    "duration": 45,
    "start_time": "2021-08-26T16:20:58.991Z"
   },
   {
    "duration": 9490,
    "start_time": "2021-08-26T16:20:59.054Z"
   },
   {
    "duration": 46,
    "start_time": "2021-08-26T16:21:08.546Z"
   },
   {
    "duration": 2632,
    "start_time": "2021-08-26T17:40:18.932Z"
   },
   {
    "duration": 3549,
    "start_time": "2021-08-26T17:40:21.567Z"
   },
   {
    "duration": 97,
    "start_time": "2021-08-26T17:40:25.119Z"
   },
   {
    "duration": 45,
    "start_time": "2021-08-26T17:40:25.219Z"
   },
   {
    "duration": 15,
    "start_time": "2021-08-26T17:40:25.267Z"
   },
   {
    "duration": 263090,
    "start_time": "2021-08-26T17:40:25.285Z"
   },
   {
    "duration": 6,
    "start_time": "2021-08-26T17:44:48.378Z"
   },
   {
    "duration": 142683,
    "start_time": "2021-08-26T17:44:48.386Z"
   },
   {
    "duration": 47,
    "start_time": "2021-08-26T17:47:11.073Z"
   },
   {
    "duration": 8675,
    "start_time": "2021-08-26T17:47:11.123Z"
   },
   {
    "duration": 35,
    "start_time": "2021-08-26T17:47:19.800Z"
   },
   {
    "duration": 23,
    "start_time": "2021-08-26T19:23:06.058Z"
   },
   {
    "duration": 66,
    "start_time": "2021-08-26T19:25:11.037Z"
   },
   {
    "duration": 222,
    "start_time": "2021-08-26T19:25:11.429Z"
   },
   {
    "duration": 6,
    "start_time": "2021-08-26T19:25:12.237Z"
   },
   {
    "duration": 3,
    "start_time": "2021-08-26T19:25:30.533Z"
   },
   {
    "duration": 6,
    "start_time": "2021-08-26T19:25:50.699Z"
   },
   {
    "duration": 3,
    "start_time": "2021-08-26T19:25:51.533Z"
   },
   {
    "duration": 4,
    "start_time": "2021-08-26T19:25:51.919Z"
   },
   {
    "duration": 1229,
    "start_time": "2021-08-26T19:26:13.596Z"
   },
   {
    "duration": 2234,
    "start_time": "2021-08-26T19:26:37.151Z"
   },
   {
    "duration": 876,
    "start_time": "2021-08-26T19:26:39.388Z"
   },
   {
    "duration": 16,
    "start_time": "2021-08-26T19:26:40.272Z"
   },
   {
    "duration": 32,
    "start_time": "2021-08-26T19:26:40.292Z"
   },
   {
    "duration": 7,
    "start_time": "2021-08-26T19:26:40.357Z"
   },
   {
    "duration": 284814,
    "start_time": "2021-08-26T19:26:40.367Z"
   },
   {
    "duration": 6,
    "start_time": "2021-08-26T19:31:25.184Z"
   },
   {
    "duration": 135461,
    "start_time": "2021-08-26T19:31:25.193Z"
   },
   {
    "duration": 49,
    "start_time": "2021-08-26T19:33:40.658Z"
   },
   {
    "duration": 8942,
    "start_time": "2021-08-26T19:33:40.709Z"
   },
   {
    "duration": 45,
    "start_time": "2021-08-26T19:33:49.655Z"
   },
   {
    "duration": 79,
    "start_time": "2021-08-26T19:33:49.703Z"
   },
   {
    "duration": 232,
    "start_time": "2021-08-26T19:33:49.785Z"
   },
   {
    "duration": 6,
    "start_time": "2021-08-26T19:33:50.019Z"
   },
   {
    "duration": 6,
    "start_time": "2021-08-26T19:33:50.027Z"
   },
   {
    "duration": 23,
    "start_time": "2021-08-26T19:33:50.036Z"
   },
   {
    "duration": 748,
    "start_time": "2021-08-26T19:33:50.062Z"
   },
   {
    "duration": 2027,
    "start_time": "2021-08-26T19:38:23.612Z"
   },
   {
    "duration": 822,
    "start_time": "2021-08-26T19:38:25.642Z"
   },
   {
    "duration": 20,
    "start_time": "2021-08-26T19:38:26.470Z"
   },
   {
    "duration": 65,
    "start_time": "2021-08-26T19:38:26.494Z"
   },
   {
    "duration": 4,
    "start_time": "2021-08-26T19:38:26.562Z"
   },
   {
    "duration": 256309,
    "start_time": "2021-08-26T19:38:26.568Z"
   },
   {
    "duration": 5,
    "start_time": "2021-08-26T19:42:42.879Z"
   },
   {
    "duration": 141620,
    "start_time": "2021-08-26T19:42:42.890Z"
   },
   {
    "duration": 64,
    "start_time": "2021-08-26T19:45:04.513Z"
   },
   {
    "duration": 9264,
    "start_time": "2021-08-26T19:45:04.579Z"
   },
   {
    "duration": 42,
    "start_time": "2021-08-26T19:45:13.846Z"
   },
   {
    "duration": 6,
    "start_time": "2021-08-26T19:45:13.890Z"
   },
   {
    "duration": 42,
    "start_time": "2021-08-26T19:45:13.898Z"
   },
   {
    "duration": 14,
    "start_time": "2021-08-26T19:45:13.943Z"
   },
   {
    "duration": 19,
    "start_time": "2021-08-26T19:45:13.959Z"
   },
   {
    "duration": 1240,
    "start_time": "2021-08-26T19:45:13.981Z"
   },
   {
    "duration": 5,
    "start_time": "2021-08-26T19:46:28.278Z"
   },
   {
    "duration": 6,
    "start_time": "2021-08-26T19:46:29.118Z"
   },
   {
    "duration": 3,
    "start_time": "2021-08-26T19:46:29.943Z"
   },
   {
    "duration": 6,
    "start_time": "2021-08-26T19:46:30.438Z"
   },
   {
    "duration": 1241,
    "start_time": "2021-08-26T19:46:31.254Z"
   },
   {
    "duration": 6,
    "start_time": "2021-08-26T19:47:03.231Z"
   },
   {
    "duration": 7,
    "start_time": "2021-08-26T19:47:04.111Z"
   },
   {
    "duration": 4,
    "start_time": "2021-08-26T19:47:04.542Z"
   },
   {
    "duration": 5,
    "start_time": "2021-08-26T19:47:04.927Z"
   },
   {
    "duration": 966,
    "start_time": "2021-08-26T19:47:05.366Z"
   },
   {
    "duration": 7,
    "start_time": "2021-08-26T19:48:20.263Z"
   },
   {
    "duration": 5,
    "start_time": "2021-08-26T19:48:21.079Z"
   },
   {
    "duration": 4,
    "start_time": "2021-08-26T19:48:21.526Z"
   },
   {
    "duration": 5,
    "start_time": "2021-08-26T19:48:21.870Z"
   },
   {
    "duration": 828,
    "start_time": "2021-08-26T19:48:22.271Z"
   },
   {
    "duration": 9,
    "start_time": "2021-08-26T19:48:34.135Z"
   },
   {
    "duration": 5,
    "start_time": "2021-08-26T19:48:34.471Z"
   },
   {
    "duration": 4,
    "start_time": "2021-08-26T19:48:34.630Z"
   },
   {
    "duration": 5,
    "start_time": "2021-08-26T19:48:34.792Z"
   },
   {
    "duration": 1281,
    "start_time": "2021-08-26T19:48:35.431Z"
   },
   {
    "duration": 6,
    "start_time": "2021-08-26T19:49:05.823Z"
   },
   {
    "duration": 6,
    "start_time": "2021-08-26T19:49:06.255Z"
   },
   {
    "duration": 4,
    "start_time": "2021-08-26T19:49:06.438Z"
   },
   {
    "duration": 5,
    "start_time": "2021-08-26T19:49:06.638Z"
   },
   {
    "duration": 1184,
    "start_time": "2021-08-26T19:49:07.038Z"
   },
   {
    "duration": 6,
    "start_time": "2021-08-26T19:49:38.799Z"
   },
   {
    "duration": 1423,
    "start_time": "2021-08-26T19:49:40.967Z"
   },
   {
    "duration": 5,
    "start_time": "2021-08-26T19:50:17.495Z"
   },
   {
    "duration": 18433,
    "start_time": "2021-08-26T19:50:18.129Z"
   },
   {
    "duration": 7,
    "start_time": "2021-08-26T19:51:26.824Z"
   },
   {
    "duration": 5,
    "start_time": "2021-08-26T19:51:27.184Z"
   },
   {
    "duration": 4,
    "start_time": "2021-08-26T19:51:27.351Z"
   },
   {
    "duration": 5,
    "start_time": "2021-08-26T19:51:27.527Z"
   },
   {
    "duration": 27601,
    "start_time": "2021-08-26T19:51:27.959Z"
   },
   {
    "duration": 9,
    "start_time": "2021-08-26T20:04:30.770Z"
   },
   {
    "duration": 4,
    "start_time": "2021-08-26T20:04:31.348Z"
   },
   {
    "duration": 6,
    "start_time": "2021-08-26T20:04:32.507Z"
   },
   {
    "duration": 29155,
    "start_time": "2021-08-26T20:04:32.923Z"
   },
   {
    "duration": 7,
    "start_time": "2021-08-26T20:08:42.578Z"
   },
   {
    "duration": 3,
    "start_time": "2021-08-26T20:08:43.004Z"
   },
   {
    "duration": 5,
    "start_time": "2021-08-26T20:08:43.363Z"
   },
   {
    "duration": 28212,
    "start_time": "2021-08-26T20:08:43.636Z"
   },
   {
    "duration": 8,
    "start_time": "2021-08-26T20:10:46.413Z"
   },
   {
    "duration": 4,
    "start_time": "2021-08-26T20:10:46.644Z"
   },
   {
    "duration": 5,
    "start_time": "2021-08-26T20:10:46.804Z"
   },
   {
    "duration": 29120,
    "start_time": "2021-08-26T20:10:46.973Z"
   },
   {
    "duration": 9,
    "start_time": "2021-08-26T20:22:29.472Z"
   },
   {
    "duration": 4,
    "start_time": "2021-08-26T20:22:29.920Z"
   },
   {
    "duration": 4,
    "start_time": "2021-08-26T20:22:30.239Z"
   },
   {
    "duration": 4,
    "start_time": "2021-08-26T20:22:30.648Z"
   },
   {
    "duration": 27115,
    "start_time": "2021-08-26T20:22:31.151Z"
   },
   {
    "duration": 9,
    "start_time": "2021-08-26T20:23:19.064Z"
   },
   {
    "duration": 28422,
    "start_time": "2021-08-26T20:23:21.711Z"
   },
   {
    "duration": 8,
    "start_time": "2021-08-26T20:24:01.552Z"
   },
   {
    "duration": 27916,
    "start_time": "2021-08-26T20:24:03.935Z"
   },
   {
    "duration": 8,
    "start_time": "2021-08-26T20:24:47.697Z"
   },
   {
    "duration": 5,
    "start_time": "2021-08-26T20:24:47.952Z"
   },
   {
    "duration": 3,
    "start_time": "2021-08-26T20:24:48.257Z"
   },
   {
    "duration": 5,
    "start_time": "2021-08-26T20:24:48.544Z"
   },
   {
    "duration": 28153,
    "start_time": "2021-08-26T20:24:49.145Z"
   },
   {
    "duration": 16,
    "start_time": "2021-08-26T20:44:42.088Z"
   },
   {
    "duration": 30321,
    "start_time": "2021-08-26T20:44:45.662Z"
   },
   {
    "duration": 8,
    "start_time": "2021-08-26T20:46:17.806Z"
   },
   {
    "duration": 29091,
    "start_time": "2021-08-26T20:46:25.998Z"
   },
   {
    "duration": 11,
    "start_time": "2021-08-26T20:48:03.407Z"
   },
   {
    "duration": 27655,
    "start_time": "2021-08-26T20:48:06.310Z"
   },
   {
    "duration": 11,
    "start_time": "2021-08-26T20:51:28.607Z"
   },
   {
    "duration": 27673,
    "start_time": "2021-08-26T20:51:32.367Z"
   },
   {
    "duration": 12,
    "start_time": "2021-08-26T20:55:15.202Z"
   },
   {
    "duration": 27948,
    "start_time": "2021-08-26T20:55:17.432Z"
   },
   {
    "duration": 12,
    "start_time": "2021-08-26T20:58:13.784Z"
   },
   {
    "duration": 30088,
    "start_time": "2021-08-26T20:58:16.600Z"
   },
   {
    "duration": 13,
    "start_time": "2021-08-26T20:59:37.826Z"
   },
   {
    "duration": 29530,
    "start_time": "2021-08-26T20:59:40.697Z"
   },
   {
    "duration": 14,
    "start_time": "2021-08-26T21:08:38.129Z"
   },
   {
    "duration": 28548,
    "start_time": "2021-08-26T21:08:41.011Z"
   },
   {
    "duration": 4,
    "start_time": "2021-08-26T21:12:30.948Z"
   },
   {
    "duration": 12,
    "start_time": "2021-08-26T21:12:35.277Z"
   },
   {
    "duration": 4,
    "start_time": "2021-08-26T21:12:49.612Z"
   },
   {
    "duration": 4,
    "start_time": "2021-08-26T21:12:57.164Z"
   },
   {
    "duration": 7,
    "start_time": "2021-08-26T21:12:57.492Z"
   },
   {
    "duration": 15599,
    "start_time": "2021-08-26T21:12:58.484Z"
   },
   {
    "duration": 4,
    "start_time": "2021-08-26T21:14:13.389Z"
   },
   {
    "duration": 271766,
    "start_time": "2021-08-26T21:14:13.836Z"
   },
   {
    "duration": 4,
    "start_time": "2021-08-26T21:19:39.309Z"
   },
   {
    "duration": 470508,
    "start_time": "2021-08-26T21:19:41.925Z"
   },
   {
    "duration": 21,
    "start_time": "2021-08-26T21:34:04.496Z"
   },
   {
    "duration": 30941,
    "start_time": "2021-08-26T21:34:07.176Z"
   },
   {
    "duration": 17,
    "start_time": "2021-08-26T21:36:35.082Z"
   },
   {
    "duration": 28726,
    "start_time": "2021-08-26T21:36:38.778Z"
   },
   {
    "duration": 2647,
    "start_time": "2021-08-27T06:29:57.688Z"
   },
   {
    "duration": 632,
    "start_time": "2021-08-27T06:30:00.337Z"
   },
   {
    "duration": 11,
    "start_time": "2021-08-27T06:30:00.971Z"
   },
   {
    "duration": 35,
    "start_time": "2021-08-27T06:30:00.984Z"
   },
   {
    "duration": 8,
    "start_time": "2021-08-27T06:30:01.020Z"
   },
   {
    "duration": 165686,
    "start_time": "2021-08-27T06:30:01.030Z"
   },
   {
    "duration": 3,
    "start_time": "2021-08-27T06:32:46.718Z"
   },
   {
    "duration": 80632,
    "start_time": "2021-08-27T06:32:46.723Z"
   },
   {
    "duration": 47,
    "start_time": "2021-08-27T06:34:07.357Z"
   },
   {
    "duration": 7548,
    "start_time": "2021-08-27T06:34:07.406Z"
   },
   {
    "duration": 21,
    "start_time": "2021-08-27T06:34:14.956Z"
   },
   {
    "duration": 12,
    "start_time": "2021-08-27T06:34:14.979Z"
   },
   {
    "duration": 16,
    "start_time": "2021-08-27T06:34:14.993Z"
   },
   {
    "duration": 33,
    "start_time": "2021-08-27T06:34:15.010Z"
   },
   {
    "duration": 14,
    "start_time": "2021-08-27T06:34:15.045Z"
   },
   {
    "duration": 25553,
    "start_time": "2021-08-27T06:34:15.061Z"
   },
   {
    "duration": 3,
    "start_time": "2021-08-27T06:34:40.616Z"
   },
   {
    "duration": 7,
    "start_time": "2021-08-27T06:34:40.620Z"
   },
   {
    "duration": 310658,
    "start_time": "2021-08-27T06:34:40.628Z"
   },
   {
    "duration": 338,
    "start_time": "2021-08-27T08:35:55.780Z"
   },
   {
    "duration": 172,
    "start_time": "2021-08-27T08:36:44.685Z"
   },
   {
    "duration": 358,
    "start_time": "2021-08-27T08:39:43.597Z"
   },
   {
    "duration": 599,
    "start_time": "2021-08-27T08:39:50.782Z"
   },
   {
    "duration": 376,
    "start_time": "2021-08-27T08:41:08.301Z"
   },
   {
    "duration": 3,
    "start_time": "2021-08-27T08:41:40.950Z"
   },
   {
    "duration": 34,
    "start_time": "2021-08-27T08:41:46.150Z"
   },
   {
    "duration": 421,
    "start_time": "2021-08-27T08:45:58.535Z"
   },
   {
    "duration": 401,
    "start_time": "2021-08-27T08:46:08.006Z"
   },
   {
    "duration": 5,
    "start_time": "2021-08-27T08:46:32.968Z"
   },
   {
    "duration": 4,
    "start_time": "2021-08-27T08:48:08.629Z"
   },
   {
    "duration": 242,
    "start_time": "2021-08-27T08:48:38.206Z"
   },
   {
    "duration": 307,
    "start_time": "2021-08-27T08:51:31.740Z"
   },
   {
    "duration": 6,
    "start_time": "2021-08-27T08:53:16.663Z"
   },
   {
    "duration": 4,
    "start_time": "2021-08-27T08:53:17.046Z"
   },
   {
    "duration": 246,
    "start_time": "2021-08-27T08:53:17.271Z"
   },
   {
    "duration": 5,
    "start_time": "2021-08-27T08:58:07.912Z"
   },
   {
    "duration": 3,
    "start_time": "2021-08-27T08:58:38.599Z"
   },
   {
    "duration": 282,
    "start_time": "2021-08-27T09:00:09.687Z"
   },
   {
    "duration": 3,
    "start_time": "2021-08-27T09:05:54.808Z"
   },
   {
    "duration": 266,
    "start_time": "2021-08-27T09:05:55.224Z"
   },
   {
    "duration": 6,
    "start_time": "2021-08-27T09:06:25.552Z"
   },
   {
    "duration": 3,
    "start_time": "2021-08-27T09:06:25.961Z"
   },
   {
    "duration": 303,
    "start_time": "2021-08-27T09:06:26.744Z"
   },
   {
    "duration": 28,
    "start_time": "2021-08-27T09:07:03.336Z"
   },
   {
    "duration": 3,
    "start_time": "2021-08-27T09:07:03.544Z"
   },
   {
    "duration": 263,
    "start_time": "2021-08-27T09:07:03.929Z"
   },
   {
    "duration": 17,
    "start_time": "2021-08-27T09:11:02.945Z"
   },
   {
    "duration": 136,
    "start_time": "2021-08-27T09:11:07.920Z"
   },
   {
    "duration": 5,
    "start_time": "2021-08-27T09:12:12.329Z"
   },
   {
    "duration": 103,
    "start_time": "2021-08-27T09:12:12.688Z"
   },
   {
    "duration": 4,
    "start_time": "2021-08-27T09:12:13.073Z"
   },
   {
    "duration": 3,
    "start_time": "2021-08-27T09:12:25.218Z"
   },
   {
    "duration": 242,
    "start_time": "2021-08-27T09:12:25.562Z"
   },
   {
    "duration": 262,
    "start_time": "2021-08-27T09:12:52.922Z"
   },
   {
    "duration": 4,
    "start_time": "2021-08-27T09:13:22.801Z"
   },
   {
    "duration": 4,
    "start_time": "2021-08-27T09:13:27.874Z"
   },
   {
    "duration": 4,
    "start_time": "2021-08-27T09:13:33.177Z"
   },
   {
    "duration": 4,
    "start_time": "2021-08-27T09:13:36.569Z"
   },
   {
    "duration": 4,
    "start_time": "2021-08-27T09:13:41.793Z"
   },
   {
    "duration": 302,
    "start_time": "2021-08-27T09:14:19.481Z"
   },
   {
    "duration": 240,
    "start_time": "2021-08-27T09:14:25.408Z"
   },
   {
    "duration": 439,
    "start_time": "2021-08-27T09:14:28.562Z"
   },
   {
    "duration": 4,
    "start_time": "2021-08-27T09:14:40.698Z"
   },
   {
    "duration": 4,
    "start_time": "2021-08-27T09:14:46.945Z"
   },
   {
    "duration": 4,
    "start_time": "2021-08-27T09:15:15.137Z"
   },
   {
    "duration": 5,
    "start_time": "2021-08-27T09:15:18.930Z"
   },
   {
    "duration": 5,
    "start_time": "2021-08-27T09:15:33.010Z"
   },
   {
    "duration": 4,
    "start_time": "2021-08-27T09:15:37.786Z"
   },
   {
    "duration": 250,
    "start_time": "2021-08-27T09:15:42.145Z"
   },
   {
    "duration": 291,
    "start_time": "2021-08-27T09:16:00.042Z"
   },
   {
    "duration": 337,
    "start_time": "2021-08-27T09:16:06.570Z"
   },
   {
    "duration": 259,
    "start_time": "2021-08-27T09:16:09.595Z"
   },
   {
    "duration": 2334,
    "start_time": "2021-08-27T09:21:05.418Z"
   },
   {
    "duration": 36822,
    "start_time": "2021-08-27T09:21:53.496Z"
   },
   {
    "duration": 3000,
    "start_time": "2021-08-27T09:22:30.320Z"
   },
   {
    "duration": 602,
    "start_time": "2021-08-27T09:22:33.322Z"
   },
   {
    "duration": 12,
    "start_time": "2021-08-27T09:22:33.926Z"
   },
   {
    "duration": 43,
    "start_time": "2021-08-27T09:22:33.940Z"
   },
   {
    "duration": 7,
    "start_time": "2021-08-27T09:22:33.985Z"
   },
   {
    "duration": 163603,
    "start_time": "2021-08-27T09:22:33.994Z"
   },
   {
    "duration": 4,
    "start_time": "2021-08-27T09:25:17.599Z"
   },
   {
    "duration": 79538,
    "start_time": "2021-08-27T09:25:17.604Z"
   },
   {
    "duration": 36,
    "start_time": "2021-08-27T09:26:37.143Z"
   },
   {
    "duration": 6995,
    "start_time": "2021-08-27T09:26:37.180Z"
   },
   {
    "duration": 26,
    "start_time": "2021-08-27T09:26:44.177Z"
   },
   {
    "duration": 4,
    "start_time": "2021-08-27T09:26:44.205Z"
   },
   {
    "duration": 8,
    "start_time": "2021-08-27T09:26:44.211Z"
   },
   {
    "duration": 10,
    "start_time": "2021-08-27T09:26:44.221Z"
   },
   {
    "duration": 6,
    "start_time": "2021-08-27T09:26:44.233Z"
   },
   {
    "duration": 24785,
    "start_time": "2021-08-27T09:26:44.240Z"
   },
   {
    "duration": 3,
    "start_time": "2021-08-27T09:27:09.026Z"
   },
   {
    "duration": 7,
    "start_time": "2021-08-27T09:27:09.030Z"
   },
   {
    "duration": 307281,
    "start_time": "2021-08-27T09:27:09.038Z"
   },
   {
    "duration": 610,
    "start_time": "2021-08-27T09:32:16.321Z"
   },
   {
    "duration": 65,
    "start_time": "2021-08-27T09:32:16.933Z"
   },
   {
    "duration": 171,
    "start_time": "2021-08-27T09:32:17.001Z"
   },
   {
    "duration": 5,
    "start_time": "2021-08-27T09:32:17.174Z"
   },
   {
    "duration": 10,
    "start_time": "2021-08-27T09:32:17.181Z"
   },
   {
    "duration": 404,
    "start_time": "2021-08-27T09:32:17.192Z"
   },
   {
    "duration": 258,
    "start_time": "2021-08-27T09:32:27.323Z"
   },
   {
    "duration": 3,
    "start_time": "2021-08-27T09:34:10.514Z"
   },
   {
    "duration": 251,
    "start_time": "2021-08-27T09:34:11.004Z"
   },
   {
    "duration": 174,
    "start_time": "2021-08-27T09:34:22.611Z"
   },
   {
    "duration": 4,
    "start_time": "2021-08-27T09:34:50.925Z"
   },
   {
    "duration": 3,
    "start_time": "2021-08-27T09:36:20.444Z"
   },
   {
    "duration": 6,
    "start_time": "2021-08-27T09:36:20.819Z"
   },
   {
    "duration": 4,
    "start_time": "2021-08-27T09:36:21.244Z"
   },
   {
    "duration": 11026,
    "start_time": "2021-08-27T09:42:14.421Z"
   },
   {
    "duration": 2495,
    "start_time": "2021-08-27T09:42:25.449Z"
   },
   {
    "duration": 605,
    "start_time": "2021-08-27T09:42:27.946Z"
   },
   {
    "duration": 10,
    "start_time": "2021-08-27T09:42:28.553Z"
   },
   {
    "duration": 39,
    "start_time": "2021-08-27T09:42:28.564Z"
   },
   {
    "duration": 6,
    "start_time": "2021-08-27T09:42:28.605Z"
   },
   {
    "duration": 163483,
    "start_time": "2021-08-27T09:42:28.613Z"
   },
   {
    "duration": 3,
    "start_time": "2021-08-27T09:45:12.099Z"
   },
   {
    "duration": 80192,
    "start_time": "2021-08-27T09:45:12.104Z"
   },
   {
    "duration": 36,
    "start_time": "2021-08-27T09:46:32.298Z"
   },
   {
    "duration": 6733,
    "start_time": "2021-08-27T09:46:32.336Z"
   },
   {
    "duration": 28,
    "start_time": "2021-08-27T09:46:39.071Z"
   },
   {
    "duration": 12,
    "start_time": "2021-08-27T09:46:39.100Z"
   },
   {
    "duration": 25,
    "start_time": "2021-08-27T09:46:39.114Z"
   },
   {
    "duration": 15,
    "start_time": "2021-08-27T09:46:39.140Z"
   },
   {
    "duration": 8,
    "start_time": "2021-08-27T09:46:39.156Z"
   },
   {
    "duration": 24150,
    "start_time": "2021-08-27T09:46:39.165Z"
   },
   {
    "duration": 2,
    "start_time": "2021-08-27T09:47:03.317Z"
   },
   {
    "duration": 6,
    "start_time": "2021-08-27T09:47:03.320Z"
   },
   {
    "duration": 305591,
    "start_time": "2021-08-27T09:47:03.328Z"
   },
   {
    "duration": 625,
    "start_time": "2021-08-27T09:52:08.921Z"
   },
   {
    "duration": 53,
    "start_time": "2021-08-27T09:52:09.549Z"
   },
   {
    "duration": 174,
    "start_time": "2021-08-27T09:52:09.605Z"
   },
   {
    "duration": 6,
    "start_time": "2021-08-27T09:52:09.781Z"
   },
   {
    "duration": 6,
    "start_time": "2021-08-27T09:52:09.788Z"
   },
   {
    "duration": 391,
    "start_time": "2021-08-27T09:52:09.795Z"
   },
   {
    "duration": -77653,
    "start_time": "2021-08-27T09:53:27.841Z"
   },
   {
    "duration": -77653,
    "start_time": "2021-08-27T09:53:27.842Z"
   },
   {
    "duration": 998391,
    "start_time": "2021-08-27T09:53:29.389Z"
   },
   {
    "duration": 4398,
    "start_time": "2021-08-27T10:19:33.571Z"
   },
   {
    "duration": 465,
    "start_time": "2021-08-27T10:20:23.051Z"
   },
   {
    "duration": 262,
    "start_time": "2021-08-27T10:21:31.100Z"
   },
   {
    "duration": 4,
    "start_time": "2021-08-27T10:21:37.099Z"
   },
   {
    "duration": 3,
    "start_time": "2021-08-27T10:24:00.218Z"
   },
   {
    "duration": 5,
    "start_time": "2021-08-27T10:26:40.203Z"
   },
   {
    "duration": 4,
    "start_time": "2021-08-27T10:27:00.467Z"
   },
   {
    "duration": 4,
    "start_time": "2021-08-27T10:27:08.211Z"
   },
   {
    "duration": 5,
    "start_time": "2021-08-27T10:27:26.947Z"
   },
   {
    "duration": 5,
    "start_time": "2021-08-27T10:27:35.675Z"
   },
   {
    "duration": 13,
    "start_time": "2021-08-27T10:28:25.579Z"
   },
   {
    "duration": 5,
    "start_time": "2021-08-27T10:28:37.812Z"
   },
   {
    "duration": 4,
    "start_time": "2021-08-27T10:28:44.987Z"
   },
   {
    "duration": 3,
    "start_time": "2021-08-27T10:28:48.299Z"
   },
   {
    "duration": 4,
    "start_time": "2021-08-27T10:28:52.755Z"
   },
   {
    "duration": 4,
    "start_time": "2021-08-27T10:29:05.132Z"
   },
   {
    "duration": 4,
    "start_time": "2021-08-27T10:29:08.451Z"
   },
   {
    "duration": 4,
    "start_time": "2021-08-27T10:29:11.419Z"
   },
   {
    "duration": 4,
    "start_time": "2021-08-27T10:29:23.787Z"
   },
   {
    "duration": 4,
    "start_time": "2021-08-27T10:29:27.891Z"
   },
   {
    "duration": 4,
    "start_time": "2021-08-27T10:29:30.652Z"
   },
   {
    "duration": 3,
    "start_time": "2021-08-27T10:29:41.476Z"
   },
   {
    "duration": 4,
    "start_time": "2021-08-27T10:30:01.115Z"
   },
   {
    "duration": 1106,
    "start_time": "2021-08-27T10:30:04.979Z"
   },
   {
    "duration": 4,
    "start_time": "2021-08-27T10:30:57.874Z"
   },
   {
    "duration": 3,
    "start_time": "2021-08-27T10:30:59.475Z"
   },
   {
    "duration": 1097,
    "start_time": "2021-08-27T10:30:59.971Z"
   },
   {
    "duration": 3,
    "start_time": "2021-08-27T10:31:36.387Z"
   },
   {
    "duration": 1713,
    "start_time": "2021-08-27T10:31:36.707Z"
   },
   {
    "duration": 3,
    "start_time": "2021-08-27T10:32:00.492Z"
   },
   {
    "duration": 1118,
    "start_time": "2021-08-27T10:32:00.709Z"
   },
   {
    "duration": 5,
    "start_time": "2021-08-27T10:32:32.291Z"
   },
   {
    "duration": 3,
    "start_time": "2021-08-27T10:32:33.304Z"
   },
   {
    "duration": 1061,
    "start_time": "2021-08-27T10:32:33.507Z"
   },
   {
    "duration": 3,
    "start_time": "2021-08-27T10:33:20.619Z"
   },
   {
    "duration": 3,
    "start_time": "2021-08-27T10:33:20.788Z"
   },
   {
    "duration": 1085,
    "start_time": "2021-08-27T10:33:20.964Z"
   },
   {
    "duration": 5,
    "start_time": "2021-08-27T10:33:33.163Z"
   },
   {
    "duration": 4,
    "start_time": "2021-08-27T10:33:42.267Z"
   },
   {
    "duration": 3,
    "start_time": "2021-08-27T10:35:39.540Z"
   },
   {
    "duration": 1106,
    "start_time": "2021-08-27T10:35:39.724Z"
   },
   {
    "duration": 1102,
    "start_time": "2021-08-27T10:38:16.948Z"
   },
   {
    "duration": 16,
    "start_time": "2021-08-27T10:39:19.108Z"
   },
   {
    "duration": 3888,
    "start_time": "2021-08-27T10:39:19.669Z"
   },
   {
    "duration": 354,
    "start_time": "2021-08-27T10:39:37.513Z"
   },
   {
    "duration": 4,
    "start_time": "2021-08-27T10:39:40.218Z"
   },
   {
    "duration": 3,
    "start_time": "2021-08-27T10:40:27.676Z"
   },
   {
    "duration": 4,
    "start_time": "2021-08-27T10:40:27.916Z"
   },
   {
    "duration": 1223,
    "start_time": "2021-08-27T10:40:28.181Z"
   },
   {
    "duration": 10,
    "start_time": "2021-08-27T10:41:28.501Z"
   },
   {
    "duration": 3,
    "start_time": "2021-08-27T10:41:29.924Z"
   },
   {
    "duration": 4,
    "start_time": "2021-08-27T10:41:30.108Z"
   },
   {
    "duration": 21047,
    "start_time": "2021-08-27T10:41:30.558Z"
   },
   {
    "duration": 4,
    "start_time": "2021-08-27T10:44:34.927Z"
   },
   {
    "duration": 3,
    "start_time": "2021-08-27T10:44:44.853Z"
   },
   {
    "duration": 1551,
    "start_time": "2021-08-27T10:44:45.541Z"
   },
   {
    "duration": 3,
    "start_time": "2021-08-27T10:45:16.405Z"
   },
   {
    "duration": 3,
    "start_time": "2021-08-27T10:45:16.845Z"
   },
   {
    "duration": 1495,
    "start_time": "2021-08-27T10:45:17.206Z"
   },
   {
    "duration": 10,
    "start_time": "2021-08-27T10:46:32.374Z"
   },
   {
    "duration": 1076,
    "start_time": "2021-08-27T10:46:36.854Z"
   },
   {
    "duration": 9,
    "start_time": "2021-08-27T10:47:31.399Z"
   },
   {
    "duration": 3,
    "start_time": "2021-08-27T10:47:31.757Z"
   },
   {
    "duration": 4,
    "start_time": "2021-08-27T10:47:31.989Z"
   },
   {
    "duration": 20636,
    "start_time": "2021-08-27T10:47:32.182Z"
   },
   {
    "duration": 2,
    "start_time": "2021-08-27T10:47:52.820Z"
   },
   {
    "duration": 1453,
    "start_time": "2021-08-27T10:47:52.824Z"
   },
   {
    "duration": 1974,
    "start_time": "2021-08-27T10:49:02.919Z"
   },
   {
    "duration": 2070,
    "start_time": "2021-08-27T10:49:04.895Z"
   },
   {
    "duration": 599,
    "start_time": "2021-08-27T10:49:06.968Z"
   },
   {
    "duration": 11,
    "start_time": "2021-08-27T10:49:07.569Z"
   },
   {
    "duration": 29,
    "start_time": "2021-08-27T10:49:07.582Z"
   },
   {
    "duration": 4,
    "start_time": "2021-08-27T10:49:07.613Z"
   },
   {
    "duration": 167783,
    "start_time": "2021-08-27T10:49:07.618Z"
   },
   {
    "duration": 3,
    "start_time": "2021-08-27T10:51:55.403Z"
   },
   {
    "duration": 83647,
    "start_time": "2021-08-27T10:51:55.409Z"
   },
   {
    "duration": 44,
    "start_time": "2021-08-27T10:53:19.058Z"
   },
   {
    "duration": 6321,
    "start_time": "2021-08-27T10:53:19.104Z"
   },
   {
    "duration": 20,
    "start_time": "2021-08-27T10:53:25.427Z"
   },
   {
    "duration": 9,
    "start_time": "2021-08-27T10:53:25.448Z"
   },
   {
    "duration": 16,
    "start_time": "2021-08-27T10:53:25.459Z"
   },
   {
    "duration": 32,
    "start_time": "2021-08-27T10:53:25.477Z"
   },
   {
    "duration": 13,
    "start_time": "2021-08-27T10:53:25.510Z"
   },
   {
    "duration": 24101,
    "start_time": "2021-08-27T10:53:25.525Z"
   },
   {
    "duration": 2,
    "start_time": "2021-08-27T10:53:49.628Z"
   },
   {
    "duration": 21,
    "start_time": "2021-08-27T10:53:49.632Z"
   },
   {
    "duration": 307547,
    "start_time": "2021-08-27T10:53:49.654Z"
   },
   {
    "duration": 162,
    "start_time": "2021-08-27T10:58:57.202Z"
   },
   {
    "duration": 4,
    "start_time": "2021-08-27T10:58:57.366Z"
   },
   {
    "duration": 23,
    "start_time": "2021-08-27T10:58:57.371Z"
   },
   {
    "duration": 17,
    "start_time": "2021-08-27T10:58:57.396Z"
   },
   {
    "duration": 1633,
    "start_time": "2021-08-27T10:58:57.415Z"
   },
   {
    "duration": 1955,
    "start_time": "2021-08-27T11:00:24.652Z"
   },
   {
    "duration": 2047,
    "start_time": "2021-08-27T11:00:26.610Z"
   },
   {
    "duration": 593,
    "start_time": "2021-08-27T11:00:28.659Z"
   },
   {
    "duration": 11,
    "start_time": "2021-08-27T11:00:29.254Z"
   },
   {
    "duration": 38,
    "start_time": "2021-08-27T11:00:29.267Z"
   },
   {
    "duration": 4,
    "start_time": "2021-08-27T11:00:29.307Z"
   },
   {
    "duration": 161818,
    "start_time": "2021-08-27T11:00:29.312Z"
   },
   {
    "duration": 3,
    "start_time": "2021-08-27T11:03:11.133Z"
   },
   {
    "duration": 81687,
    "start_time": "2021-08-27T11:03:11.138Z"
   },
   {
    "duration": 37,
    "start_time": "2021-08-27T11:04:32.827Z"
   },
   {
    "duration": 6372,
    "start_time": "2021-08-27T11:04:32.866Z"
   },
   {
    "duration": 20,
    "start_time": "2021-08-27T11:04:39.239Z"
   },
   {
    "duration": 7,
    "start_time": "2021-08-27T11:04:39.260Z"
   },
   {
    "duration": 23,
    "start_time": "2021-08-27T11:04:39.268Z"
   },
   {
    "duration": 10,
    "start_time": "2021-08-27T11:04:39.293Z"
   },
   {
    "duration": 6,
    "start_time": "2021-08-27T11:04:39.305Z"
   },
   {
    "duration": 6,
    "start_time": "2021-08-27T11:04:39.312Z"
   },
   {
    "duration": 6,
    "start_time": "2021-08-27T11:04:39.320Z"
   },
   {
    "duration": 9,
    "start_time": "2021-08-27T11:04:39.327Z"
   },
   {
    "duration": 9,
    "start_time": "2021-08-27T11:04:39.337Z"
   },
   {
    "duration": 159,
    "start_time": "2021-08-27T11:04:39.347Z"
   },
   {
    "duration": 5,
    "start_time": "2021-08-27T11:04:39.507Z"
   },
   {
    "duration": 8,
    "start_time": "2021-08-27T11:04:39.515Z"
   },
   {
    "duration": 5,
    "start_time": "2021-08-27T11:04:39.525Z"
   },
   {
    "duration": 1634,
    "start_time": "2021-08-27T11:04:39.531Z"
   },
   {
    "duration": 253,
    "start_time": "2021-08-27T11:12:11.108Z"
   },
   {
    "duration": 3,
    "start_time": "2021-08-27T11:12:47.228Z"
   },
   {
    "duration": 251,
    "start_time": "2021-08-27T11:12:50.317Z"
   },
   {
    "duration": 48,
    "start_time": "2021-08-27T11:13:21.900Z"
   },
   {
    "duration": 501,
    "start_time": "2021-08-27T11:13:22.572Z"
   },
   {
    "duration": 364,
    "start_time": "2021-08-27T11:14:20.805Z"
   },
   {
    "duration": 2038,
    "start_time": "2021-08-27T11:14:43.928Z"
   },
   {
    "duration": 2217,
    "start_time": "2021-08-27T11:14:45.968Z"
   },
   {
    "duration": 645,
    "start_time": "2021-08-27T11:14:48.187Z"
   },
   {
    "duration": 13,
    "start_time": "2021-08-27T11:14:48.834Z"
   },
   {
    "duration": 46,
    "start_time": "2021-08-27T11:14:48.849Z"
   },
   {
    "duration": 4,
    "start_time": "2021-08-27T11:14:48.897Z"
   },
   {
    "duration": 2607,
    "start_time": "2021-08-27T11:15:11.834Z"
   },
   {
    "duration": 2451,
    "start_time": "2021-08-27T11:15:14.444Z"
   },
   {
    "duration": 909,
    "start_time": "2021-08-27T11:15:16.897Z"
   },
   {
    "duration": 18,
    "start_time": "2021-08-27T11:15:17.809Z"
   },
   {
    "duration": 36,
    "start_time": "2021-08-27T11:15:17.829Z"
   },
   {
    "duration": 24,
    "start_time": "2021-08-27T11:15:17.867Z"
   },
   {
    "duration": 187408,
    "start_time": "2021-08-27T11:15:17.894Z"
   },
   {
    "duration": 3,
    "start_time": "2021-08-27T11:18:25.305Z"
   },
   {
    "duration": 90524,
    "start_time": "2021-08-27T11:18:25.310Z"
   },
   {
    "duration": 43,
    "start_time": "2021-08-27T11:19:55.836Z"
   },
   {
    "duration": 7139,
    "start_time": "2021-08-27T11:19:55.881Z"
   },
   {
    "duration": 23,
    "start_time": "2021-08-27T11:20:03.022Z"
   },
   {
    "duration": 16,
    "start_time": "2021-08-27T11:20:03.047Z"
   },
   {
    "duration": 16,
    "start_time": "2021-08-27T11:20:03.065Z"
   },
   {
    "duration": 8,
    "start_time": "2021-08-27T11:20:03.092Z"
   },
   {
    "duration": 18,
    "start_time": "2021-08-27T11:20:03.102Z"
   },
   {
    "duration": 10,
    "start_time": "2021-08-27T11:20:03.122Z"
   },
   {
    "duration": 8,
    "start_time": "2021-08-27T11:20:03.134Z"
   },
   {
    "duration": 12,
    "start_time": "2021-08-27T11:20:03.144Z"
   },
   {
    "duration": 19,
    "start_time": "2021-08-27T11:20:03.158Z"
   },
   {
    "duration": 222,
    "start_time": "2021-08-27T11:20:03.179Z"
   },
   {
    "duration": 5,
    "start_time": "2021-08-27T11:20:03.404Z"
   },
   {
    "duration": 11,
    "start_time": "2021-08-27T11:20:03.411Z"
   },
   {
    "duration": 475,
    "start_time": "2021-08-27T11:20:03.424Z"
   },
   {
    "duration": -77652,
    "start_time": "2021-08-27T11:21:21.553Z"
   },
   {
    "duration": 49,
    "start_time": "2021-08-27T11:21:04.269Z"
   },
   {
    "duration": 173,
    "start_time": "2021-08-27T11:21:10.277Z"
   },
   {
    "duration": 273,
    "start_time": "2021-08-27T11:21:36.325Z"
   },
   {
    "duration": 67,
    "start_time": "2021-08-27T11:21:51.628Z"
   },
   {
    "duration": 305,
    "start_time": "2021-08-27T11:21:59.221Z"
   },
   {
    "duration": 290,
    "start_time": "2021-08-27T11:22:45.469Z"
   },
   {
    "duration": 7,
    "start_time": "2021-08-27T11:22:58.253Z"
   },
   {
    "duration": 50,
    "start_time": "2021-08-27T11:23:37.845Z"
   },
   {
    "duration": 172,
    "start_time": "2021-08-27T11:23:38.316Z"
   },
   {
    "duration": 113,
    "start_time": "2021-08-27T11:23:38.692Z"
   },
   {
    "duration": 6,
    "start_time": "2021-08-27T11:23:39.213Z"
   },
   {
    "duration": 285,
    "start_time": "2021-08-27T11:23:39.814Z"
   },
   {
    "duration": 6,
    "start_time": "2021-08-27T11:23:49.956Z"
   },
   {
    "duration": 7,
    "start_time": "2021-08-27T11:23:56.125Z"
   },
   {
    "duration": 284,
    "start_time": "2021-08-27T11:24:24.581Z"
   },
   {
    "duration": 318,
    "start_time": "2021-08-27T11:24:33.165Z"
   },
   {
    "duration": 6,
    "start_time": "2021-08-27T11:24:36.133Z"
   },
   {
    "duration": 6,
    "start_time": "2021-08-27T11:24:51.428Z"
   },
   {
    "duration": 164,
    "start_time": "2021-08-27T11:24:53.061Z"
   },
   {
    "duration": 75,
    "start_time": "2021-08-27T11:24:54.829Z"
   },
   {
    "duration": 7,
    "start_time": "2021-08-27T11:24:56.172Z"
   },
   {
    "duration": 290,
    "start_time": "2021-08-27T11:24:57.461Z"
   },
   {
    "duration": 257,
    "start_time": "2021-08-27T11:26:04.269Z"
   },
   {
    "duration": 19,
    "start_time": "2021-08-27T11:26:22.941Z"
   },
   {
    "duration": 5,
    "start_time": "2021-08-27T11:26:28.749Z"
   },
   {
    "duration": 7,
    "start_time": "2021-08-27T11:26:34.660Z"
   },
   {
    "duration": 35,
    "start_time": "2021-08-27T11:27:15.957Z"
   },
   {
    "duration": 5,
    "start_time": "2021-08-27T11:27:19.708Z"
   },
   {
    "duration": 34,
    "start_time": "2021-08-27T11:27:30.973Z"
   },
   {
    "duration": 36,
    "start_time": "2021-08-27T11:28:01.365Z"
   },
   {
    "duration": 2403,
    "start_time": "2021-08-27T11:28:14.796Z"
   },
   {
    "duration": 2323,
    "start_time": "2021-08-27T11:28:17.202Z"
   },
   {
    "duration": 715,
    "start_time": "2021-08-27T11:28:19.528Z"
   },
   {
    "duration": 13,
    "start_time": "2021-08-27T11:28:20.245Z"
   },
   {
    "duration": 49,
    "start_time": "2021-08-27T11:28:20.260Z"
   },
   {
    "duration": 21,
    "start_time": "2021-08-27T11:28:20.311Z"
   },
   {
    "duration": 207884,
    "start_time": "2021-08-27T11:28:20.334Z"
   },
   {
    "duration": 5,
    "start_time": "2021-08-27T11:31:48.220Z"
   },
   {
    "duration": 99172,
    "start_time": "2021-08-27T11:31:48.228Z"
   },
   {
    "duration": 45,
    "start_time": "2021-08-27T11:33:27.403Z"
   },
   {
    "duration": 7967,
    "start_time": "2021-08-27T11:33:27.450Z"
   },
   {
    "duration": 25,
    "start_time": "2021-08-27T11:33:35.419Z"
   },
   {
    "duration": 4,
    "start_time": "2021-08-27T11:33:35.446Z"
   },
   {
    "duration": 11,
    "start_time": "2021-08-27T11:33:35.452Z"
   },
   {
    "duration": 27,
    "start_time": "2021-08-27T11:33:35.465Z"
   },
   {
    "duration": 5,
    "start_time": "2021-08-27T11:33:35.494Z"
   },
   {
    "duration": 11,
    "start_time": "2021-08-27T11:33:35.501Z"
   },
   {
    "duration": 5,
    "start_time": "2021-08-27T11:33:35.514Z"
   },
   {
    "duration": 10,
    "start_time": "2021-08-27T11:33:35.521Z"
   },
   {
    "duration": 11,
    "start_time": "2021-08-27T11:33:35.533Z"
   },
   {
    "duration": 403,
    "start_time": "2021-08-27T11:33:35.546Z"
   },
   {
    "duration": 6,
    "start_time": "2021-08-27T11:33:35.951Z"
   },
   {
    "duration": 8,
    "start_time": "2021-08-27T11:33:35.959Z"
   },
   {
    "duration": 51,
    "start_time": "2021-08-27T11:33:35.969Z"
   },
   {
    "duration": 33,
    "start_time": "2021-08-27T11:33:36.022Z"
   },
   {
    "duration": 169,
    "start_time": "2021-08-27T11:33:36.057Z"
   },
   {
    "duration": 783,
    "start_time": "2021-08-27T11:33:36.229Z"
   },
   {
    "duration": 4,
    "start_time": "2021-08-27T11:34:17.890Z"
   },
   {
    "duration": 311,
    "start_time": "2021-08-27T11:34:20.867Z"
   },
   {
    "duration": 49,
    "start_time": "2021-08-27T11:34:27.698Z"
   },
   {
    "duration": 26,
    "start_time": "2021-08-27T11:34:28.201Z"
   },
   {
    "duration": 181,
    "start_time": "2021-08-27T11:34:28.658Z"
   },
   {
    "duration": 4,
    "start_time": "2021-08-27T11:34:29.210Z"
   },
   {
    "duration": 304,
    "start_time": "2021-08-27T11:34:29.787Z"
   },
   {
    "duration": 5,
    "start_time": "2021-08-27T11:37:11.003Z"
   },
   {
    "duration": 3,
    "start_time": "2021-08-27T11:37:11.257Z"
   },
   {
    "duration": 50,
    "start_time": "2021-08-27T11:37:11.450Z"
   },
   {
    "duration": 25,
    "start_time": "2021-08-27T11:37:11.674Z"
   },
   {
    "duration": 174,
    "start_time": "2021-08-27T11:37:12.154Z"
   },
   {
    "duration": 583,
    "start_time": "2021-08-27T11:37:12.723Z"
   },
   {
    "duration": 259,
    "start_time": "2021-08-27T11:38:15.076Z"
   },
   {
    "duration": 574,
    "start_time": "2021-08-27T11:38:31.979Z"
   },
   {
    "duration": 13,
    "start_time": "2021-08-27T11:46:27.700Z"
   },
   {
    "duration": 3,
    "start_time": "2021-08-27T11:46:33.523Z"
   },
   {
    "duration": 271,
    "start_time": "2021-08-27T11:46:34.373Z"
   },
   {
    "duration": 3,
    "start_time": "2021-08-27T11:46:58.445Z"
   },
   {
    "duration": 2409,
    "start_time": "2021-08-27T11:50:00.781Z"
   },
   {
    "duration": 1630,
    "start_time": "2021-08-27T11:50:03.193Z"
   },
   {
    "duration": 719,
    "start_time": "2021-08-27T11:50:04.826Z"
   },
   {
    "duration": 14,
    "start_time": "2021-08-27T11:50:05.547Z"
   },
   {
    "duration": 51,
    "start_time": "2021-08-27T11:50:05.564Z"
   },
   {
    "duration": 17,
    "start_time": "2021-08-27T11:50:05.618Z"
   },
   {
    "duration": 211869,
    "start_time": "2021-08-27T11:50:05.637Z"
   },
   {
    "duration": 4,
    "start_time": "2021-08-27T11:53:37.508Z"
   },
   {
    "duration": 96798,
    "start_time": "2021-08-27T11:53:37.515Z"
   },
   {
    "duration": 45,
    "start_time": "2021-08-27T11:55:14.315Z"
   },
   {
    "duration": 7111,
    "start_time": "2021-08-27T11:55:14.362Z"
   },
   {
    "duration": 37,
    "start_time": "2021-08-27T11:55:21.474Z"
   },
   {
    "duration": 5,
    "start_time": "2021-08-27T11:55:21.514Z"
   },
   {
    "duration": 30,
    "start_time": "2021-08-27T11:55:21.520Z"
   },
   {
    "duration": 39,
    "start_time": "2021-08-27T11:55:21.552Z"
   },
   {
    "duration": 29,
    "start_time": "2021-08-27T11:55:21.593Z"
   },
   {
    "duration": 18,
    "start_time": "2021-08-27T11:55:21.624Z"
   },
   {
    "duration": 9,
    "start_time": "2021-08-27T11:55:21.643Z"
   },
   {
    "duration": 38,
    "start_time": "2021-08-27T11:55:21.654Z"
   },
   {
    "duration": 27,
    "start_time": "2021-08-27T11:55:21.694Z"
   },
   {
    "duration": 12,
    "start_time": "2021-08-27T11:55:21.723Z"
   },
   {
    "duration": 13,
    "start_time": "2021-08-27T11:55:21.737Z"
   },
   {
    "duration": 3268,
    "start_time": "2021-08-27T12:43:18.088Z"
   },
   {
    "duration": 1688,
    "start_time": "2021-08-27T12:43:21.359Z"
   },
   {
    "duration": 803,
    "start_time": "2021-08-27T12:43:23.050Z"
   },
   {
    "duration": 16,
    "start_time": "2021-08-27T12:43:23.856Z"
   },
   {
    "duration": 44,
    "start_time": "2021-08-27T12:43:23.874Z"
   },
   {
    "duration": 9,
    "start_time": "2021-08-27T12:43:23.920Z"
   },
   {
    "duration": 344,
    "start_time": "2021-08-27T12:43:23.931Z"
   },
   {
    "duration": 5,
    "start_time": "2021-08-27T12:43:24.279Z"
   },
   {
    "duration": 2284,
    "start_time": "2021-08-27T12:43:53.446Z"
   },
   {
    "duration": 1445,
    "start_time": "2021-08-27T12:43:55.732Z"
   },
   {
    "duration": 676,
    "start_time": "2021-08-27T12:43:57.179Z"
   },
   {
    "duration": 13,
    "start_time": "2021-08-27T12:43:57.857Z"
   },
   {
    "duration": 47,
    "start_time": "2021-08-27T12:43:57.872Z"
   },
   {
    "duration": 10,
    "start_time": "2021-08-27T12:43:57.921Z"
   },
   {
    "duration": 323,
    "start_time": "2021-08-27T12:43:57.933Z"
   },
   {
    "duration": 5,
    "start_time": "2021-08-27T12:43:58.259Z"
   },
   {
    "duration": 64827,
    "start_time": "2021-08-27T12:43:58.267Z"
   },
   {
    "duration": 41,
    "start_time": "2021-08-27T12:45:03.097Z"
   },
   {
    "duration": 6873,
    "start_time": "2021-08-27T12:45:03.140Z"
   },
   {
    "duration": 24,
    "start_time": "2021-08-27T12:45:10.015Z"
   },
   {
    "duration": 6,
    "start_time": "2021-08-27T12:45:10.041Z"
   },
   {
    "duration": 10,
    "start_time": "2021-08-27T12:45:10.050Z"
   },
   {
    "duration": 36,
    "start_time": "2021-08-27T12:45:10.063Z"
   },
   {
    "duration": 7,
    "start_time": "2021-08-27T12:45:10.101Z"
   },
   {
    "duration": 8,
    "start_time": "2021-08-27T12:45:10.110Z"
   },
   {
    "duration": 7,
    "start_time": "2021-08-27T12:45:10.120Z"
   },
   {
    "duration": 11,
    "start_time": "2021-08-27T12:45:10.129Z"
   },
   {
    "duration": 20,
    "start_time": "2021-08-27T12:45:10.142Z"
   },
   {
    "duration": 10,
    "start_time": "2021-08-27T12:45:10.164Z"
   },
   {
    "duration": 20,
    "start_time": "2021-08-27T12:45:10.176Z"
   },
   {
    "duration": 2479,
    "start_time": "2021-08-27T12:47:32.869Z"
   },
   {
    "duration": 1824,
    "start_time": "2021-08-27T12:47:35.351Z"
   },
   {
    "duration": 699,
    "start_time": "2021-08-27T12:47:37.177Z"
   },
   {
    "duration": 18,
    "start_time": "2021-08-27T12:47:37.879Z"
   },
   {
    "duration": 39,
    "start_time": "2021-08-27T12:47:37.900Z"
   },
   {
    "duration": 9,
    "start_time": "2021-08-27T12:47:37.942Z"
   },
   {
    "duration": 187259,
    "start_time": "2021-08-27T12:47:37.954Z"
   },
   {
    "duration": 5,
    "start_time": "2021-08-27T12:50:45.217Z"
   },
   {
    "duration": 936,
    "start_time": "2021-08-27T12:50:45.225Z"
   },
   {
    "duration": -77652,
    "start_time": "2021-08-27T12:52:03.816Z"
   },
   {
    "duration": -77652,
    "start_time": "2021-08-27T12:52:03.817Z"
   },
   {
    "duration": -77651,
    "start_time": "2021-08-27T12:52:03.818Z"
   },
   {
    "duration": -77650,
    "start_time": "2021-08-27T12:52:03.819Z"
   },
   {
    "duration": -77650,
    "start_time": "2021-08-27T12:52:03.820Z"
   },
   {
    "duration": -77650,
    "start_time": "2021-08-27T12:52:03.822Z"
   },
   {
    "duration": -77649,
    "start_time": "2021-08-27T12:52:03.823Z"
   },
   {
    "duration": -77649,
    "start_time": "2021-08-27T12:52:03.824Z"
   },
   {
    "duration": -77649,
    "start_time": "2021-08-27T12:52:03.825Z"
   },
   {
    "duration": -77649,
    "start_time": "2021-08-27T12:52:03.826Z"
   },
   {
    "duration": -77649,
    "start_time": "2021-08-27T12:52:03.827Z"
   },
   {
    "duration": -77649,
    "start_time": "2021-08-27T12:52:03.828Z"
   },
   {
    "duration": -77648,
    "start_time": "2021-08-27T12:52:03.829Z"
   },
   {
    "duration": -77651,
    "start_time": "2021-08-27T12:52:03.834Z"
   },
   {
    "duration": 4,
    "start_time": "2021-08-27T12:51:23.863Z"
   },
   {
    "duration": 66403,
    "start_time": "2021-08-27T12:51:24.326Z"
   },
   {
    "duration": 491,
    "start_time": "2021-08-27T12:55:18.263Z"
   },
   {
    "duration": 1633,
    "start_time": "2021-08-27T12:57:41.382Z"
   },
   {
    "duration": 959,
    "start_time": "2021-08-27T12:57:43.018Z"
   },
   {
    "duration": 27,
    "start_time": "2021-08-27T12:57:43.980Z"
   },
   {
    "duration": 182,
    "start_time": "2021-08-27T12:57:44.010Z"
   },
   {
    "duration": 4,
    "start_time": "2021-08-27T12:57:44.195Z"
   },
   {
    "duration": 564,
    "start_time": "2021-08-27T12:57:44.202Z"
   },
   {
    "duration": 287137,
    "start_time": "2021-08-27T12:57:44.769Z"
   },
   {
    "duration": 6,
    "start_time": "2021-08-27T13:02:31.909Z"
   },
   {
    "duration": 24,
    "start_time": "2021-08-27T13:02:31.918Z"
   },
   {
    "duration": 32,
    "start_time": "2021-08-27T13:02:31.944Z"
   },
   {
    "duration": 20,
    "start_time": "2021-08-27T13:02:31.978Z"
   },
   {
    "duration": 21,
    "start_time": "2021-08-27T13:02:32.000Z"
   },
   {
    "duration": 21,
    "start_time": "2021-08-27T13:02:32.023Z"
   },
   {
    "duration": 9,
    "start_time": "2021-08-27T13:02:32.046Z"
   },
   {
    "duration": 14,
    "start_time": "2021-08-27T13:02:32.057Z"
   },
   {
    "duration": 17,
    "start_time": "2021-08-27T13:02:32.073Z"
   },
   {
    "duration": 25,
    "start_time": "2021-08-27T13:02:32.092Z"
   },
   {
    "duration": 20,
    "start_time": "2021-08-27T13:02:32.118Z"
   },
   {
    "duration": 6,
    "start_time": "2021-08-27T13:02:48.233Z"
   },
   {
    "duration": 16,
    "start_time": "2021-08-27T13:02:57.770Z"
   },
   {
    "duration": 9,
    "start_time": "2021-08-27T13:04:04.729Z"
   },
   {
    "duration": 12,
    "start_time": "2021-08-27T13:04:07.809Z"
   },
   {
    "duration": 10,
    "start_time": "2021-08-27T13:05:08.936Z"
   },
   {
    "duration": 406,
    "start_time": "2021-08-27T13:05:26.969Z"
   },
   {
    "duration": 7,
    "start_time": "2021-08-27T13:06:05.586Z"
   },
   {
    "duration": 5,
    "start_time": "2021-08-27T13:06:13.570Z"
   },
   {
    "duration": 260,
    "start_time": "2021-08-27T13:07:32.426Z"
   },
   {
    "duration": 2681,
    "start_time": "2021-08-27T13:07:40.554Z"
   },
   {
    "duration": 1565,
    "start_time": "2021-08-27T13:08:11.632Z"
   },
   {
    "duration": 685,
    "start_time": "2021-08-27T13:08:13.199Z"
   },
   {
    "duration": 12,
    "start_time": "2021-08-27T13:08:13.891Z"
   },
   {
    "duration": 32,
    "start_time": "2021-08-27T13:08:13.906Z"
   },
   {
    "duration": 8,
    "start_time": "2021-08-27T13:08:13.940Z"
   },
   {
    "duration": 486,
    "start_time": "2021-08-27T13:08:13.950Z"
   },
   {
    "duration": 257811,
    "start_time": "2021-08-27T13:08:14.438Z"
   },
   {
    "duration": 8,
    "start_time": "2021-08-27T13:12:32.252Z"
   },
   {
    "duration": 16355,
    "start_time": "2021-08-27T13:12:32.262Z"
   },
   {
    "duration": 5,
    "start_time": "2021-08-27T13:12:48.619Z"
   },
   {
    "duration": 14,
    "start_time": "2021-08-27T13:12:48.626Z"
   },
   {
    "duration": 12,
    "start_time": "2021-08-27T13:12:48.642Z"
   },
   {
    "duration": 10,
    "start_time": "2021-08-27T13:12:48.656Z"
   },
   {
    "duration": 23,
    "start_time": "2021-08-27T13:12:48.668Z"
   },
   {
    "duration": 3,
    "start_time": "2021-08-27T13:12:48.694Z"
   },
   {
    "duration": 6,
    "start_time": "2021-08-27T13:12:48.699Z"
   },
   {
    "duration": 12,
    "start_time": "2021-08-27T13:12:48.707Z"
   },
   {
    "duration": 7,
    "start_time": "2021-08-27T13:12:48.721Z"
   },
   {
    "duration": 17,
    "start_time": "2021-08-27T13:12:48.729Z"
   },
   {
    "duration": 10,
    "start_time": "2021-08-27T13:12:48.748Z"
   },
   {
    "duration": 5,
    "start_time": "2021-08-27T13:13:00.570Z"
   },
   {
    "duration": 7421,
    "start_time": "2021-08-27T13:14:12.019Z"
   },
   {
    "duration": 837,
    "start_time": "2021-08-27T13:15:44.852Z"
   },
   {
    "duration": 5,
    "start_time": "2021-08-27T13:16:00.703Z"
   },
   {
    "duration": 12,
    "start_time": "2021-08-27T13:16:03.348Z"
   },
   {
    "duration": 3,
    "start_time": "2021-08-27T13:16:05.210Z"
   },
   {
    "duration": 4,
    "start_time": "2021-08-27T13:16:05.466Z"
   },
   {
    "duration": 808,
    "start_time": "2021-08-27T13:16:05.819Z"
   },
   {
    "duration": 5,
    "start_time": "2021-08-27T13:16:31.282Z"
   },
   {
    "duration": 11,
    "start_time": "2021-08-27T13:16:33.577Z"
   },
   {
    "duration": 3,
    "start_time": "2021-08-27T13:16:34.100Z"
   },
   {
    "duration": 4,
    "start_time": "2021-08-27T13:16:34.274Z"
   },
   {
    "duration": 1509,
    "start_time": "2021-08-27T13:16:44.202Z"
   },
   {
    "duration": 687,
    "start_time": "2021-08-27T13:16:45.713Z"
   },
   {
    "duration": 12,
    "start_time": "2021-08-27T13:16:46.404Z"
   },
   {
    "duration": 36,
    "start_time": "2021-08-27T13:16:46.417Z"
   },
   {
    "duration": 3,
    "start_time": "2021-08-27T13:16:46.454Z"
   },
   {
    "duration": 437,
    "start_time": "2021-08-27T13:16:46.459Z"
   },
   {
    "duration": 1336,
    "start_time": "2021-08-27T13:19:42.339Z"
   },
   {
    "duration": 664,
    "start_time": "2021-08-27T13:19:43.677Z"
   },
   {
    "duration": 12,
    "start_time": "2021-08-27T13:19:44.344Z"
   },
   {
    "duration": 47,
    "start_time": "2021-08-27T13:19:44.358Z"
   },
   {
    "duration": 382,
    "start_time": "2021-08-27T13:19:44.408Z"
   },
   {
    "duration": -77636,
    "start_time": "2021-08-27T13:21:02.428Z"
   },
   {
    "duration": -77638,
    "start_time": "2021-08-27T13:21:02.431Z"
   },
   {
    "duration": -77638,
    "start_time": "2021-08-27T13:21:02.432Z"
   },
   {
    "duration": -77640,
    "start_time": "2021-08-27T13:21:02.435Z"
   },
   {
    "duration": -77641,
    "start_time": "2021-08-27T13:21:02.437Z"
   },
   {
    "duration": -77640,
    "start_time": "2021-08-27T13:21:02.438Z"
   },
   {
    "duration": -77643,
    "start_time": "2021-08-27T13:21:02.441Z"
   },
   {
    "duration": -77643,
    "start_time": "2021-08-27T13:21:02.442Z"
   },
   {
    "duration": -77643,
    "start_time": "2021-08-27T13:21:02.443Z"
   },
   {
    "duration": -77649,
    "start_time": "2021-08-27T13:21:02.450Z"
   },
   {
    "duration": -77649,
    "start_time": "2021-08-27T13:21:02.451Z"
   },
   {
    "duration": -77650,
    "start_time": "2021-08-27T13:21:02.453Z"
   },
   {
    "duration": -77650,
    "start_time": "2021-08-27T13:21:02.454Z"
   },
   {
    "duration": -77650,
    "start_time": "2021-08-27T13:21:02.455Z"
   },
   {
    "duration": -77651,
    "start_time": "2021-08-27T13:21:02.456Z"
   },
   {
    "duration": 36,
    "start_time": "2021-08-27T13:19:55.592Z"
   },
   {
    "duration": 315,
    "start_time": "2021-08-27T13:19:56.690Z"
   },
   {
    "duration": 4,
    "start_time": "2021-08-27T13:20:05.080Z"
   },
   {
    "duration": 171,
    "start_time": "2021-08-27T13:20:05.817Z"
   },
   {
    "duration": 83,
    "start_time": "2021-08-27T13:20:35.768Z"
   },
   {
    "duration": 721,
    "start_time": "2021-08-27T13:20:40.265Z"
   },
   {
    "duration": 5,
    "start_time": "2021-08-27T13:20:44.680Z"
   },
   {
    "duration": 1300,
    "start_time": "2021-08-27T13:21:54.154Z"
   },
   {
    "duration": 659,
    "start_time": "2021-08-27T13:21:55.456Z"
   },
   {
    "duration": 12,
    "start_time": "2021-08-27T13:21:56.118Z"
   },
   {
    "duration": 35,
    "start_time": "2021-08-27T13:21:56.132Z"
   },
   {
    "duration": 51,
    "start_time": "2021-08-27T13:21:56.169Z"
   },
   {
    "duration": 26,
    "start_time": "2021-08-27T13:21:56.222Z"
   },
   {
    "duration": 567,
    "start_time": "2021-08-27T13:21:56.251Z"
   },
   {
    "duration": 257,
    "start_time": "2021-08-27T13:21:56.820Z"
   },
   {
    "duration": -77630,
    "start_time": "2021-08-27T13:23:14.709Z"
   },
   {
    "duration": -77630,
    "start_time": "2021-08-27T13:23:14.710Z"
   },
   {
    "duration": -77630,
    "start_time": "2021-08-27T13:23:14.711Z"
   },
   {
    "duration": -77638,
    "start_time": "2021-08-27T13:23:14.720Z"
   },
   {
    "duration": -77638,
    "start_time": "2021-08-27T13:23:14.721Z"
   },
   {
    "duration": -77638,
    "start_time": "2021-08-27T13:23:14.722Z"
   },
   {
    "duration": -77629,
    "start_time": "2021-08-27T13:23:14.724Z"
   },
   {
    "duration": -77649,
    "start_time": "2021-08-27T13:23:14.745Z"
   },
   {
    "duration": -77652,
    "start_time": "2021-08-27T13:23:14.749Z"
   },
   {
    "duration": -77667,
    "start_time": "2021-08-27T13:23:14.765Z"
   },
   {
    "duration": -77667,
    "start_time": "2021-08-27T13:23:14.766Z"
   },
   {
    "duration": -77667,
    "start_time": "2021-08-27T13:23:14.767Z"
   },
   {
    "duration": -77667,
    "start_time": "2021-08-27T13:23:14.768Z"
   },
   {
    "duration": 7,
    "start_time": "2021-08-27T13:22:48.724Z"
   },
   {
    "duration": 4,
    "start_time": "2021-08-27T13:22:51.123Z"
   },
   {
    "duration": 422,
    "start_time": "2021-08-27T13:22:51.791Z"
   },
   {
    "duration": 35,
    "start_time": "2021-08-27T13:22:58.263Z"
   },
   {
    "duration": 3,
    "start_time": "2021-08-27T13:22:58.781Z"
   },
   {
    "duration": 430,
    "start_time": "2021-08-27T13:22:59.335Z"
   },
   {
    "duration": 3,
    "start_time": "2021-08-27T13:23:27.623Z"
   },
   {
    "duration": 1409,
    "start_time": "2021-08-27T13:23:44.554Z"
   },
   {
    "duration": 668,
    "start_time": "2021-08-27T13:23:45.964Z"
   },
   {
    "duration": 13,
    "start_time": "2021-08-27T13:23:46.639Z"
   },
   {
    "duration": 52,
    "start_time": "2021-08-27T13:23:46.655Z"
   },
   {
    "duration": 18,
    "start_time": "2021-08-27T13:23:46.709Z"
   },
   {
    "duration": 16,
    "start_time": "2021-08-27T13:23:46.729Z"
   },
   {
    "duration": 677968,
    "start_time": "2021-08-27T13:23:46.747Z"
   },
   {
    "duration": 328,
    "start_time": "2021-08-27T13:35:04.717Z"
   },
   {
    "duration": -77633,
    "start_time": "2021-08-27T13:36:22.680Z"
   },
   {
    "duration": -77638,
    "start_time": "2021-08-27T13:36:22.686Z"
   },
   {
    "duration": -77638,
    "start_time": "2021-08-27T13:36:22.687Z"
   },
   {
    "duration": -77642,
    "start_time": "2021-08-27T13:36:22.692Z"
   },
   {
    "duration": -77653,
    "start_time": "2021-08-27T13:36:22.704Z"
   },
   {
    "duration": -77653,
    "start_time": "2021-08-27T13:36:22.705Z"
   },
   {
    "duration": -77653,
    "start_time": "2021-08-27T13:36:22.706Z"
   },
   {
    "duration": -77653,
    "start_time": "2021-08-27T13:36:22.707Z"
   },
   {
    "duration": -77653,
    "start_time": "2021-08-27T13:36:22.708Z"
   },
   {
    "duration": -77653,
    "start_time": "2021-08-27T13:36:22.709Z"
   },
   {
    "duration": -77654,
    "start_time": "2021-08-27T13:36:22.711Z"
   },
   {
    "duration": -77655,
    "start_time": "2021-08-27T13:36:22.712Z"
   },
   {
    "duration": -77658,
    "start_time": "2021-08-27T13:36:22.716Z"
   },
   {
    "duration": 1316,
    "start_time": "2021-08-27T13:43:57.046Z"
   },
   {
    "duration": 657,
    "start_time": "2021-08-27T13:43:58.364Z"
   },
   {
    "duration": 12,
    "start_time": "2021-08-27T13:43:59.023Z"
   },
   {
    "duration": 31,
    "start_time": "2021-08-27T13:43:59.037Z"
   },
   {
    "duration": 3,
    "start_time": "2021-08-27T13:43:59.070Z"
   },
   {
    "duration": 3,
    "start_time": "2021-08-27T13:43:59.092Z"
   },
   {
    "duration": 1359,
    "start_time": "2021-08-27T13:52:42.510Z"
   },
   {
    "duration": 661,
    "start_time": "2021-08-27T13:52:43.871Z"
   },
   {
    "duration": 14,
    "start_time": "2021-08-27T13:52:44.538Z"
   },
   {
    "duration": 46,
    "start_time": "2021-08-27T13:52:44.554Z"
   },
   {
    "duration": 6,
    "start_time": "2021-08-27T13:52:44.602Z"
   },
   {
    "duration": 11,
    "start_time": "2021-08-27T13:52:44.609Z"
   },
   {
    "duration": 1386,
    "start_time": "2021-08-27T14:09:31.669Z"
   },
   {
    "duration": 651,
    "start_time": "2021-08-27T14:09:33.058Z"
   },
   {
    "duration": 11,
    "start_time": "2021-08-27T14:09:33.713Z"
   },
   {
    "duration": 13,
    "start_time": "2021-08-27T14:09:33.725Z"
   },
   {
    "duration": 5,
    "start_time": "2021-08-27T14:09:33.739Z"
   },
   {
    "duration": 5,
    "start_time": "2021-08-27T14:09:33.746Z"
   },
   {
    "duration": 1417,
    "start_time": "2021-08-27T14:10:41.559Z"
   },
   {
    "duration": 732,
    "start_time": "2021-08-27T14:10:42.978Z"
   },
   {
    "duration": 2,
    "start_time": "2021-08-27T14:10:43.712Z"
   },
   {
    "duration": 11,
    "start_time": "2021-08-27T14:10:43.717Z"
   },
   {
    "duration": 3,
    "start_time": "2021-08-27T14:10:43.731Z"
   },
   {
    "duration": 6,
    "start_time": "2021-08-27T14:10:43.736Z"
   },
   {
    "duration": 7878,
    "start_time": "2021-08-27T14:10:43.744Z"
   },
   {
    "duration": 3,
    "start_time": "2021-08-27T14:10:51.624Z"
   },
   {
    "duration": 10,
    "start_time": "2021-08-27T14:10:51.630Z"
   },
   {
    "duration": 8,
    "start_time": "2021-08-27T14:10:51.643Z"
   },
   {
    "duration": 219,
    "start_time": "2021-08-27T14:10:51.653Z"
   },
   {
    "duration": 110,
    "start_time": "2021-08-27T14:10:51.874Z"
   },
   {
    "duration": 10,
    "start_time": "2021-08-27T14:10:51.986Z"
   },
   {
    "duration": 8,
    "start_time": "2021-08-27T14:10:51.998Z"
   },
   {
    "duration": 567,
    "start_time": "2021-08-27T14:10:52.008Z"
   },
   {
    "duration": 2,
    "start_time": "2021-08-27T14:10:52.577Z"
   },
   {
    "duration": 7,
    "start_time": "2021-08-27T14:10:52.581Z"
   },
   {
    "duration": 8,
    "start_time": "2021-08-27T14:10:52.590Z"
   },
   {
    "duration": 6,
    "start_time": "2021-08-27T14:10:52.600Z"
   },
   {
    "duration": 8,
    "start_time": "2021-08-27T14:10:52.608Z"
   },
   {
    "duration": 7,
    "start_time": "2021-08-27T14:10:52.618Z"
   },
   {
    "duration": 1312,
    "start_time": "2021-08-27T14:11:24.526Z"
   },
   {
    "duration": 793,
    "start_time": "2021-08-27T14:11:25.840Z"
   },
   {
    "duration": 3,
    "start_time": "2021-08-27T14:11:26.638Z"
   },
   {
    "duration": 13,
    "start_time": "2021-08-27T14:11:26.643Z"
   },
   {
    "duration": 7,
    "start_time": "2021-08-27T14:11:26.657Z"
   },
   {
    "duration": 7,
    "start_time": "2021-08-27T14:11:26.666Z"
   },
   {
    "duration": 71005,
    "start_time": "2021-08-27T14:11:26.676Z"
   },
   {
    "duration": 3,
    "start_time": "2021-08-27T14:12:37.692Z"
   },
   {
    "duration": 9,
    "start_time": "2021-08-27T14:12:37.696Z"
   },
   {
    "duration": 12,
    "start_time": "2021-08-27T14:12:37.707Z"
   },
   {
    "duration": 343,
    "start_time": "2021-08-27T14:12:37.720Z"
   },
   {
    "duration": 9,
    "start_time": "2021-08-27T14:12:38.065Z"
   },
   {
    "duration": 9,
    "start_time": "2021-08-27T14:12:38.075Z"
   },
   {
    "duration": 7,
    "start_time": "2021-08-27T14:12:38.086Z"
   },
   {
    "duration": 637,
    "start_time": "2021-08-27T14:12:38.094Z"
   },
   {
    "duration": 2,
    "start_time": "2021-08-27T14:12:38.733Z"
   },
   {
    "duration": 9,
    "start_time": "2021-08-27T14:12:38.737Z"
   },
   {
    "duration": 8,
    "start_time": "2021-08-27T14:12:38.748Z"
   },
   {
    "duration": 5,
    "start_time": "2021-08-27T14:12:38.758Z"
   },
   {
    "duration": 7,
    "start_time": "2021-08-27T14:12:38.764Z"
   },
   {
    "duration": 19,
    "start_time": "2021-08-27T14:12:38.773Z"
   },
   {
    "duration": 1386,
    "start_time": "2021-08-27T14:14:35.701Z"
   },
   {
    "duration": 676,
    "start_time": "2021-08-27T14:14:37.089Z"
   },
   {
    "duration": 23,
    "start_time": "2021-08-27T14:14:37.768Z"
   },
   {
    "duration": 7,
    "start_time": "2021-08-27T14:14:37.793Z"
   },
   {
    "duration": 11,
    "start_time": "2021-08-27T14:14:37.801Z"
   },
   {
    "duration": 141,
    "start_time": "2021-08-27T14:14:37.814Z"
   },
   {
    "duration": 1491,
    "start_time": "2021-08-27T14:14:37.956Z"
   },
   {
    "duration": 3,
    "start_time": "2021-08-27T14:14:39.448Z"
   },
   {
    "duration": 6,
    "start_time": "2021-08-27T14:14:39.454Z"
   },
   {
    "duration": 7,
    "start_time": "2021-08-27T14:14:39.462Z"
   },
   {
    "duration": 291,
    "start_time": "2021-08-27T14:14:39.471Z"
   },
   {
    "duration": 9,
    "start_time": "2021-08-27T14:14:39.764Z"
   },
   {
    "duration": 12,
    "start_time": "2021-08-27T14:14:39.775Z"
   },
   {
    "duration": 6,
    "start_time": "2021-08-27T14:14:39.789Z"
   },
   {
    "duration": 898,
    "start_time": "2021-08-27T14:14:39.797Z"
   },
   {
    "duration": 3,
    "start_time": "2021-08-27T14:14:40.697Z"
   },
   {
    "duration": 9,
    "start_time": "2021-08-27T14:14:40.702Z"
   },
   {
    "duration": 7,
    "start_time": "2021-08-27T14:14:40.713Z"
   },
   {
    "duration": 5,
    "start_time": "2021-08-27T14:14:40.721Z"
   },
   {
    "duration": 9,
    "start_time": "2021-08-27T14:14:40.728Z"
   },
   {
    "duration": 10,
    "start_time": "2021-08-27T14:14:40.738Z"
   },
   {
    "duration": 1541,
    "start_time": "2021-08-27T14:15:47.280Z"
   },
   {
    "duration": 998,
    "start_time": "2021-08-27T14:15:48.823Z"
   },
   {
    "duration": 13,
    "start_time": "2021-08-27T14:15:49.823Z"
   },
   {
    "duration": 9,
    "start_time": "2021-08-27T14:15:49.839Z"
   },
   {
    "duration": 7,
    "start_time": "2021-08-27T14:15:49.849Z"
   },
   {
    "duration": 152,
    "start_time": "2021-08-27T14:15:49.858Z"
   },
   {
    "duration": 1395,
    "start_time": "2021-08-27T14:15:50.012Z"
   },
   {
    "duration": 4,
    "start_time": "2021-08-27T14:15:51.409Z"
   },
   {
    "duration": 12,
    "start_time": "2021-08-27T14:15:51.416Z"
   },
   {
    "duration": 13,
    "start_time": "2021-08-27T14:15:51.430Z"
   },
   {
    "duration": 288,
    "start_time": "2021-08-27T14:15:51.446Z"
   },
   {
    "duration": 11,
    "start_time": "2021-08-27T14:15:51.735Z"
   },
   {
    "duration": 17,
    "start_time": "2021-08-27T14:15:51.747Z"
   },
   {
    "duration": 12,
    "start_time": "2021-08-27T14:15:51.766Z"
   },
   {
    "duration": 695,
    "start_time": "2021-08-27T14:15:51.779Z"
   },
   {
    "duration": 3,
    "start_time": "2021-08-27T14:15:52.476Z"
   },
   {
    "duration": 7,
    "start_time": "2021-08-27T14:15:52.491Z"
   },
   {
    "duration": 1433,
    "start_time": "2021-08-27T14:15:52.500Z"
   },
   {
    "duration": 3,
    "start_time": "2021-08-27T14:15:53.935Z"
   },
   {
    "duration": 9,
    "start_time": "2021-08-27T14:15:53.940Z"
   },
   {
    "duration": 8,
    "start_time": "2021-08-27T14:15:53.950Z"
   },
   {
    "duration": 1403,
    "start_time": "2021-08-27T14:16:08.592Z"
   },
   {
    "duration": 669,
    "start_time": "2021-08-27T14:16:09.997Z"
   },
   {
    "duration": 11,
    "start_time": "2021-08-27T14:16:10.669Z"
   },
   {
    "duration": 34,
    "start_time": "2021-08-27T14:16:10.692Z"
   },
   {
    "duration": 12,
    "start_time": "2021-08-27T14:16:10.728Z"
   },
   {
    "duration": 144,
    "start_time": "2021-08-27T14:16:10.742Z"
   },
   {
    "duration": 238923,
    "start_time": "2021-08-27T14:16:10.888Z"
   },
   {
    "duration": 3,
    "start_time": "2021-08-27T14:20:09.813Z"
   },
   {
    "duration": 44,
    "start_time": "2021-08-27T14:20:09.818Z"
   },
   {
    "duration": 4,
    "start_time": "2021-08-27T14:20:09.865Z"
   },
   {
    "duration": 11865,
    "start_time": "2021-08-27T14:20:09.871Z"
   },
   {
    "duration": 10,
    "start_time": "2021-08-27T14:20:21.738Z"
   },
   {
    "duration": 11,
    "start_time": "2021-08-27T14:20:21.750Z"
   },
   {
    "duration": 9,
    "start_time": "2021-08-27T14:20:21.762Z"
   },
   {
    "duration": 17318,
    "start_time": "2021-08-27T14:20:21.773Z"
   },
   {
    "duration": 3,
    "start_time": "2021-08-27T14:20:39.094Z"
   },
   {
    "duration": 16,
    "start_time": "2021-08-27T14:20:39.099Z"
   },
   {
    "duration": 1401,
    "start_time": "2021-08-27T14:23:19.188Z"
   },
   {
    "duration": 650,
    "start_time": "2021-08-27T14:23:20.591Z"
   },
   {
    "duration": 14,
    "start_time": "2021-08-27T14:23:21.243Z"
   },
   {
    "duration": 46,
    "start_time": "2021-08-27T14:23:21.259Z"
   },
   {
    "duration": 11,
    "start_time": "2021-08-27T14:23:21.307Z"
   },
   {
    "duration": 134,
    "start_time": "2021-08-27T14:23:21.320Z"
   },
   {
    "duration": 224508,
    "start_time": "2021-08-27T14:23:21.456Z"
   },
   {
    "duration": 2,
    "start_time": "2021-08-27T14:27:05.966Z"
   },
   {
    "duration": 49,
    "start_time": "2021-08-27T14:27:05.971Z"
   },
   {
    "duration": 3,
    "start_time": "2021-08-27T14:27:06.022Z"
   },
   {
    "duration": 11718,
    "start_time": "2021-08-27T14:27:06.026Z"
   },
   {
    "duration": 10,
    "start_time": "2021-08-27T14:27:17.746Z"
   },
   {
    "duration": 39,
    "start_time": "2021-08-27T14:27:17.758Z"
   },
   {
    "duration": 27,
    "start_time": "2021-08-27T14:27:17.799Z"
   },
   {
    "duration": 8799,
    "start_time": "2021-08-27T14:27:17.828Z"
   },
   {
    "duration": 2,
    "start_time": "2021-08-27T14:27:26.629Z"
   },
   {
    "duration": 8,
    "start_time": "2021-08-27T14:27:26.633Z"
   },
   {
    "duration": 1366,
    "start_time": "2021-08-27T14:31:06.807Z"
   },
   {
    "duration": 673,
    "start_time": "2021-08-27T14:31:08.176Z"
   },
   {
    "duration": 14,
    "start_time": "2021-08-27T14:31:08.852Z"
   },
   {
    "duration": 45,
    "start_time": "2021-08-27T14:31:08.869Z"
   },
   {
    "duration": 12,
    "start_time": "2021-08-27T14:31:08.917Z"
   },
   {
    "duration": 144,
    "start_time": "2021-08-27T14:31:08.931Z"
   },
   {
    "duration": 222641,
    "start_time": "2021-08-27T14:31:09.077Z"
   },
   {
    "duration": 4,
    "start_time": "2021-08-27T14:34:51.720Z"
   },
   {
    "duration": 40,
    "start_time": "2021-08-27T14:34:51.727Z"
   },
   {
    "duration": 4,
    "start_time": "2021-08-27T14:34:51.769Z"
   },
   {
    "duration": 12157,
    "start_time": "2021-08-27T14:34:51.775Z"
   },
   {
    "duration": 10,
    "start_time": "2021-08-27T14:35:03.934Z"
   },
   {
    "duration": 13,
    "start_time": "2021-08-27T14:35:03.946Z"
   },
   {
    "duration": 12,
    "start_time": "2021-08-27T14:35:03.961Z"
   },
   {
    "duration": 17208,
    "start_time": "2021-08-27T14:35:03.976Z"
   },
   {
    "duration": 6,
    "start_time": "2021-08-27T14:35:21.186Z"
   },
   {
    "duration": 9,
    "start_time": "2021-08-27T14:35:21.193Z"
   },
   {
    "duration": 636737,
    "start_time": "2021-08-27T14:35:21.204Z"
   },
   {
    "duration": 3,
    "start_time": "2021-08-27T14:45:57.943Z"
   },
   {
    "duration": 9,
    "start_time": "2021-08-27T14:45:57.948Z"
   },
   {
    "duration": 12,
    "start_time": "2021-08-27T14:45:57.959Z"
   },
   {
    "duration": 10,
    "start_time": "2021-08-27T14:48:35.628Z"
   },
   {
    "duration": 620,
    "start_time": "2021-08-27T14:48:43.148Z"
   },
   {
    "duration": 6,
    "start_time": "2021-08-27T14:48:50.835Z"
   },
   {
    "duration": 4,
    "start_time": "2021-08-27T14:49:53.436Z"
   },
   {
    "duration": 177763,
    "start_time": "2021-08-27T14:49:54.588Z"
   },
   {
    "duration": 5,
    "start_time": "2021-08-27T14:52:55.956Z"
   },
   {
    "duration": 5,
    "start_time": "2021-08-27T14:53:03.012Z"
   },
   {
    "duration": 5,
    "start_time": "2021-08-27T14:53:08.996Z"
   },
   {
    "duration": 4,
    "start_time": "2021-08-27T14:53:29.580Z"
   },
   {
    "duration": 6,
    "start_time": "2021-08-27T14:53:30.013Z"
   },
   {
    "duration": 188820,
    "start_time": "2021-08-27T14:53:33.524Z"
   },
   {
    "duration": 4,
    "start_time": "2021-08-27T14:56:43.156Z"
   },
   {
    "duration": 1414,
    "start_time": "2021-08-27T14:58:58.754Z"
   },
   {
    "duration": 685,
    "start_time": "2021-08-27T14:59:00.171Z"
   },
   {
    "duration": 13,
    "start_time": "2021-08-27T14:59:00.859Z"
   },
   {
    "duration": 46,
    "start_time": "2021-08-27T14:59:00.874Z"
   },
   {
    "duration": 2,
    "start_time": "2021-08-27T14:59:00.923Z"
   },
   {
    "duration": 148,
    "start_time": "2021-08-27T14:59:00.927Z"
   },
   {
    "duration": 1370,
    "start_time": "2021-08-27T15:01:52.821Z"
   },
   {
    "duration": 700,
    "start_time": "2021-08-27T15:01:54.193Z"
   },
   {
    "duration": 12,
    "start_time": "2021-08-27T15:01:54.897Z"
   },
   {
    "duration": 31,
    "start_time": "2021-08-27T15:01:54.911Z"
   },
   {
    "duration": 3,
    "start_time": "2021-08-27T15:01:54.944Z"
   },
   {
    "duration": 164,
    "start_time": "2021-08-27T15:01:54.949Z"
   },
   {
    "duration": 237650,
    "start_time": "2021-08-27T15:01:55.114Z"
   },
   {
    "duration": 2,
    "start_time": "2021-08-27T15:05:52.767Z"
   },
   {
    "duration": 55,
    "start_time": "2021-08-27T15:05:52.771Z"
   },
   {
    "duration": 3,
    "start_time": "2021-08-27T15:05:52.828Z"
   },
   {
    "duration": 16548,
    "start_time": "2021-08-27T15:05:52.833Z"
   },
   {
    "duration": 12,
    "start_time": "2021-08-27T15:06:09.383Z"
   },
   {
    "duration": 35,
    "start_time": "2021-08-27T15:06:09.397Z"
   },
   {
    "duration": 15,
    "start_time": "2021-08-27T15:06:09.433Z"
   },
   {
    "duration": 641291,
    "start_time": "2021-08-27T15:06:09.450Z"
   },
   {
    "duration": 2,
    "start_time": "2021-08-27T15:16:50.743Z"
   },
   {
    "duration": 7,
    "start_time": "2021-08-27T15:16:50.747Z"
   },
   {
    "duration": 182,
    "start_time": "2021-08-27T15:16:50.755Z"
   },
   {
    "duration": 3,
    "start_time": "2021-08-27T15:16:50.940Z"
   },
   {
    "duration": 7,
    "start_time": "2021-08-27T15:16:50.945Z"
   },
   {
    "duration": 165,
    "start_time": "2021-08-27T15:16:50.954Z"
   },
   {
    "duration": 1410,
    "start_time": "2021-08-27T15:19:16.371Z"
   },
   {
    "duration": 673,
    "start_time": "2021-08-27T15:19:17.784Z"
   },
   {
    "duration": 11,
    "start_time": "2021-08-27T15:19:18.459Z"
   },
   {
    "duration": 41,
    "start_time": "2021-08-27T15:19:18.472Z"
   },
   {
    "duration": 14,
    "start_time": "2021-08-27T15:19:18.514Z"
   },
   {
    "duration": 145,
    "start_time": "2021-08-27T15:19:18.530Z"
   },
   {
    "duration": 224290,
    "start_time": "2021-08-27T15:19:18.676Z"
   },
   {
    "duration": 3,
    "start_time": "2021-08-27T15:23:02.968Z"
   },
   {
    "duration": 45,
    "start_time": "2021-08-27T15:23:02.973Z"
   },
   {
    "duration": 4,
    "start_time": "2021-08-27T15:23:03.020Z"
   },
   {
    "duration": 11807,
    "start_time": "2021-08-27T15:23:03.025Z"
   },
   {
    "duration": 10,
    "start_time": "2021-08-27T15:23:14.833Z"
   },
   {
    "duration": 10,
    "start_time": "2021-08-27T15:23:14.845Z"
   },
   {
    "duration": 6,
    "start_time": "2021-08-27T15:23:14.857Z"
   },
   {
    "duration": 644763,
    "start_time": "2021-08-27T15:23:14.864Z"
   },
   {
    "duration": 3,
    "start_time": "2021-08-27T15:33:59.629Z"
   },
   {
    "duration": 9,
    "start_time": "2021-08-27T15:33:59.635Z"
   },
   {
    "duration": 311,
    "start_time": "2021-08-27T15:33:59.646Z"
   },
   {
    "duration": 2,
    "start_time": "2021-08-27T15:33:59.959Z"
   },
   {
    "duration": 15,
    "start_time": "2021-08-27T15:33:59.963Z"
   },
   {
    "duration": 209,
    "start_time": "2021-08-27T15:33:59.980Z"
   },
   {
    "duration": 1641730,
    "start_time": "2021-08-27T15:34:18.645Z"
   },
   {
    "duration": 4859084,
    "start_time": "2021-08-27T16:01:40.376Z"
   },
   {
    "duration": 4,
    "start_time": "2021-08-27T17:32:17.708Z"
   },
   {
    "duration": 4,
    "start_time": "2021-08-27T17:32:27.499Z"
   },
   {
    "duration": 4,
    "start_time": "2021-08-27T19:48:40.086Z"
   },
   {
    "duration": 5137,
    "start_time": "2021-08-27T19:49:08.421Z"
   },
   {
    "duration": 4,
    "start_time": "2021-08-27T19:49:22.494Z"
   },
   {
    "duration": 4875,
    "start_time": "2021-08-27T19:53:55.926Z"
   },
   {
    "duration": 2156,
    "start_time": "2021-08-27T19:56:01.480Z"
   },
   {
    "duration": 622,
    "start_time": "2021-08-27T19:56:03.638Z"
   },
   {
    "duration": 10,
    "start_time": "2021-08-27T19:56:04.262Z"
   },
   {
    "duration": 39,
    "start_time": "2021-08-27T19:56:04.274Z"
   },
   {
    "duration": 4,
    "start_time": "2021-08-27T19:56:04.315Z"
   },
   {
    "duration": 826,
    "start_time": "2021-08-27T19:56:04.320Z"
   },
   {
    "duration": 1287,
    "start_time": "2021-08-27T19:59:02.659Z"
   },
   {
    "duration": 617,
    "start_time": "2021-08-27T19:59:03.947Z"
   },
   {
    "duration": 11,
    "start_time": "2021-08-27T19:59:04.566Z"
   },
   {
    "duration": 38,
    "start_time": "2021-08-27T19:59:04.579Z"
   },
   {
    "duration": 2,
    "start_time": "2021-08-27T19:59:04.619Z"
   },
   {
    "duration": 136,
    "start_time": "2021-08-27T19:59:04.623Z"
   },
   {
    "duration": 210977,
    "start_time": "2021-08-27T19:59:04.761Z"
   },
   {
    "duration": 2,
    "start_time": "2021-08-27T20:02:35.739Z"
   },
   {
    "duration": 37,
    "start_time": "2021-08-27T20:02:35.744Z"
   },
   {
    "duration": 9,
    "start_time": "2021-08-27T20:02:35.783Z"
   },
   {
    "duration": 10937,
    "start_time": "2021-08-27T20:02:35.794Z"
   },
   {
    "duration": 9,
    "start_time": "2021-08-27T20:02:46.733Z"
   },
   {
    "duration": 7,
    "start_time": "2021-08-27T20:02:46.744Z"
   },
   {
    "duration": 5,
    "start_time": "2021-08-27T20:02:46.753Z"
   },
   {
    "duration": 10,
    "start_time": "2021-08-27T20:02:46.759Z"
   },
   {
    "duration": 8,
    "start_time": "2021-08-27T20:02:46.770Z"
   },
   {
    "duration": 2,
    "start_time": "2021-08-27T20:02:46.791Z"
   },
   {
    "duration": 12,
    "start_time": "2021-08-27T20:02:46.795Z"
   },
   {
    "duration": 9,
    "start_time": "2021-08-27T20:02:46.808Z"
   },
   {
    "duration": 354,
    "start_time": "2021-08-27T20:03:21.513Z"
   },
   {
    "duration": 4,
    "start_time": "2021-08-27T20:03:32.689Z"
   },
   {
    "duration": 247,
    "start_time": "2021-08-27T20:04:40.217Z"
   },
   {
    "duration": 249,
    "start_time": "2021-08-27T20:04:51.594Z"
   },
   {
    "duration": 239,
    "start_time": "2021-08-27T20:04:54.336Z"
   },
   {
    "duration": 273,
    "start_time": "2021-08-27T20:05:28.313Z"
   },
   {
    "duration": 3,
    "start_time": "2021-08-27T20:06:33.577Z"
   },
   {
    "duration": 35313,
    "start_time": "2021-08-27T20:06:48.329Z"
   },
   {
    "duration": 5,
    "start_time": "2021-08-27T20:10:37.611Z"
   },
   {
    "duration": 1875,
    "start_time": "2021-08-27T20:13:50.412Z"
   },
   {
    "duration": 1736,
    "start_time": "2021-08-27T20:14:41.530Z"
   },
   {
    "duration": 617,
    "start_time": "2021-08-27T20:14:43.267Z"
   },
   {
    "duration": 13,
    "start_time": "2021-08-27T20:14:43.887Z"
   },
   {
    "duration": 31,
    "start_time": "2021-08-27T20:14:43.901Z"
   },
   {
    "duration": 3,
    "start_time": "2021-08-27T20:14:43.933Z"
   },
   {
    "duration": 369,
    "start_time": "2021-08-27T20:14:43.938Z"
   },
   {
    "duration": 204884,
    "start_time": "2021-08-27T20:14:44.310Z"
   },
   {
    "duration": 2,
    "start_time": "2021-08-27T20:18:09.197Z"
   },
   {
    "duration": 39,
    "start_time": "2021-08-27T20:18:09.201Z"
   },
   {
    "duration": 4,
    "start_time": "2021-08-27T20:18:09.241Z"
   },
   {
    "duration": 10773,
    "start_time": "2021-08-27T20:18:09.246Z"
   },
   {
    "duration": 9,
    "start_time": "2021-08-27T20:18:20.021Z"
   },
   {
    "duration": 17,
    "start_time": "2021-08-27T20:18:20.032Z"
   },
   {
    "duration": 17,
    "start_time": "2021-08-27T20:18:20.051Z"
   },
   {
    "duration": 10,
    "start_time": "2021-08-27T20:18:20.069Z"
   },
   {
    "duration": 8,
    "start_time": "2021-08-27T20:18:20.080Z"
   },
   {
    "duration": 18,
    "start_time": "2021-08-27T20:18:20.089Z"
   },
   {
    "duration": 9,
    "start_time": "2021-08-27T20:18:20.109Z"
   },
   {
    "duration": 11,
    "start_time": "2021-08-27T20:18:20.120Z"
   },
   {
    "duration": 1259,
    "start_time": "2021-08-27T20:18:20.133Z"
   },
   {
    "duration": 154,
    "start_time": "2021-08-27T20:18:43.696Z"
   },
   {
    "duration": 414,
    "start_time": "2021-08-27T20:20:43.400Z"
   },
   {
    "duration": 1769,
    "start_time": "2021-08-27T20:21:36.668Z"
   },
   {
    "duration": 835,
    "start_time": "2021-08-27T20:21:38.440Z"
   },
   {
    "duration": 10,
    "start_time": "2021-08-27T20:21:39.276Z"
   },
   {
    "duration": 28,
    "start_time": "2021-08-27T20:21:39.291Z"
   },
   {
    "duration": 2,
    "start_time": "2021-08-27T20:21:39.321Z"
   },
   {
    "duration": 49,
    "start_time": "2021-08-27T20:21:39.325Z"
   },
   {
    "duration": 204570,
    "start_time": "2021-08-27T20:21:39.376Z"
   },
   {
    "duration": 3,
    "start_time": "2021-08-27T20:25:03.947Z"
   },
   {
    "duration": 46,
    "start_time": "2021-08-27T20:25:03.952Z"
   },
   {
    "duration": 3,
    "start_time": "2021-08-27T20:25:03.999Z"
   },
   {
    "duration": 10780,
    "start_time": "2021-08-27T20:25:04.004Z"
   },
   {
    "duration": 13,
    "start_time": "2021-08-27T20:25:14.786Z"
   },
   {
    "duration": 26,
    "start_time": "2021-08-27T20:25:14.800Z"
   },
   {
    "duration": 17,
    "start_time": "2021-08-27T20:25:14.828Z"
   },
   {
    "duration": 7,
    "start_time": "2021-08-27T20:25:14.847Z"
   },
   {
    "duration": 7,
    "start_time": "2021-08-27T20:25:14.855Z"
   },
   {
    "duration": 6,
    "start_time": "2021-08-27T20:25:14.863Z"
   },
   {
    "duration": 9,
    "start_time": "2021-08-27T20:25:14.870Z"
   },
   {
    "duration": 7,
    "start_time": "2021-08-27T20:25:14.881Z"
   },
   {
    "duration": 12,
    "start_time": "2021-08-27T20:25:14.890Z"
   },
   {
    "duration": 4,
    "start_time": "2021-08-27T20:26:16.116Z"
   },
   {
    "duration": 8,
    "start_time": "2021-08-27T20:26:43.654Z"
   },
   {
    "duration": 1297,
    "start_time": "2021-08-27T20:28:41.997Z"
   },
   {
    "duration": 4,
    "start_time": "2021-08-27T20:28:48.813Z"
   },
   {
    "duration": 2295,
    "start_time": "2021-08-27T21:00:32.855Z"
   },
   {
    "duration": 436,
    "start_time": "2021-08-27T21:00:50.023Z"
   },
   {
    "duration": 387,
    "start_time": "2021-08-27T21:01:07.823Z"
   },
   {
    "duration": 5,
    "start_time": "2021-08-27T21:01:32.343Z"
   },
   {
    "duration": 2,
    "start_time": "2021-08-27T21:02:20.799Z"
   },
   {
    "duration": 329,
    "start_time": "2021-08-27T21:03:52.159Z"
   },
   {
    "duration": 5,
    "start_time": "2021-08-27T21:04:43.535Z"
   },
   {
    "duration": 3,
    "start_time": "2021-08-27T21:04:44.239Z"
   },
   {
    "duration": 537,
    "start_time": "2021-08-27T21:04:45.152Z"
   },
   {
    "duration": 5,
    "start_time": "2021-08-27T21:05:20.504Z"
   },
   {
    "duration": 3,
    "start_time": "2021-08-27T21:05:20.839Z"
   },
   {
    "duration": 285,
    "start_time": "2021-08-27T21:05:21.199Z"
   },
   {
    "duration": 416,
    "start_time": "2021-08-27T21:06:34.536Z"
   },
   {
    "duration": 13,
    "start_time": "2021-08-27T21:07:02.448Z"
   },
   {
    "duration": 3,
    "start_time": "2021-08-27T21:07:37.176Z"
   },
   {
    "duration": 4,
    "start_time": "2021-08-27T21:08:49.408Z"
   },
   {
    "duration": 367,
    "start_time": "2021-08-27T21:15:37.562Z"
   },
   {
    "duration": 6,
    "start_time": "2021-08-27T21:15:52.610Z"
   },
   {
    "duration": 16,
    "start_time": "2021-08-27T21:18:22.251Z"
   },
   {
    "duration": 4,
    "start_time": "2021-08-27T21:18:39.260Z"
   },
   {
    "duration": 4,
    "start_time": "2021-08-27T21:19:45.611Z"
   },
   {
    "duration": 255,
    "start_time": "2021-08-27T21:20:03.436Z"
   },
   {
    "duration": 5,
    "start_time": "2021-08-27T21:20:45.492Z"
   },
   {
    "duration": 242,
    "start_time": "2021-08-27T21:20:58.636Z"
   },
   {
    "duration": 416,
    "start_time": "2021-08-27T21:26:15.237Z"
   },
   {
    "duration": 289,
    "start_time": "2021-08-27T21:26:35.246Z"
   },
   {
    "duration": 242,
    "start_time": "2021-08-27T21:26:44.886Z"
   },
   {
    "duration": 303,
    "start_time": "2021-08-27T21:27:19.743Z"
   },
   {
    "duration": 233,
    "start_time": "2021-08-27T21:27:38.405Z"
   },
   {
    "duration": 245,
    "start_time": "2021-08-27T21:28:59.151Z"
   },
   {
    "duration": 250,
    "start_time": "2021-08-27T21:29:18.831Z"
   },
   {
    "duration": 261,
    "start_time": "2021-08-27T21:31:36.655Z"
   },
   {
    "duration": 249,
    "start_time": "2021-08-27T21:32:07.863Z"
   },
   {
    "duration": 6,
    "start_time": "2021-08-27T21:32:40.583Z"
   },
   {
    "duration": 352,
    "start_time": "2021-08-27T21:32:50.343Z"
   },
   {
    "duration": 4,
    "start_time": "2021-08-27T21:33:09.447Z"
   },
   {
    "duration": 14,
    "start_time": "2021-08-27T21:33:12.511Z"
   },
   {
    "duration": 247,
    "start_time": "2021-08-27T21:33:21.528Z"
   },
   {
    "duration": 232,
    "start_time": "2021-08-27T21:33:40.504Z"
   },
   {
    "duration": 200,
    "start_time": "2021-08-27T21:35:10.224Z"
   },
   {
    "duration": 269,
    "start_time": "2021-08-27T21:35:13.576Z"
   },
   {
    "duration": 16,
    "start_time": "2021-08-27T21:35:29.561Z"
   },
   {
    "duration": 249,
    "start_time": "2021-08-27T21:35:54.768Z"
   },
   {
    "duration": 240,
    "start_time": "2021-08-27T21:36:03.864Z"
   },
   {
    "duration": 249,
    "start_time": "2021-08-27T21:36:58.945Z"
   },
   {
    "duration": 252,
    "start_time": "2021-08-27T21:37:09.145Z"
   },
   {
    "duration": 255,
    "start_time": "2021-08-27T21:37:22.872Z"
   },
   {
    "duration": 13,
    "start_time": "2021-08-27T21:37:31.025Z"
   },
   {
    "duration": 12,
    "start_time": "2021-08-27T21:37:37.649Z"
   },
   {
    "duration": 5,
    "start_time": "2021-08-27T21:37:47.459Z"
   },
   {
    "duration": 3,
    "start_time": "2021-08-27T21:47:26.164Z"
   },
   {
    "duration": 484,
    "start_time": "2021-08-27T21:47:26.659Z"
   },
   {
    "duration": 1694,
    "start_time": "2021-08-27T21:48:23.629Z"
   },
   {
    "duration": 609,
    "start_time": "2021-08-27T21:48:25.325Z"
   },
   {
    "duration": 11,
    "start_time": "2021-08-27T21:48:25.936Z"
   },
   {
    "duration": 29,
    "start_time": "2021-08-27T21:48:25.949Z"
   },
   {
    "duration": 13,
    "start_time": "2021-08-27T21:48:25.979Z"
   },
   {
    "duration": 49,
    "start_time": "2021-08-27T21:48:25.994Z"
   },
   {
    "duration": 203009,
    "start_time": "2021-08-27T21:48:26.045Z"
   },
   {
    "duration": 2,
    "start_time": "2021-08-27T21:51:49.057Z"
   },
   {
    "duration": 44,
    "start_time": "2021-08-27T21:51:49.062Z"
   },
   {
    "duration": 4,
    "start_time": "2021-08-27T21:51:49.108Z"
   },
   {
    "duration": 10794,
    "start_time": "2021-08-27T21:51:49.113Z"
   },
   {
    "duration": 8,
    "start_time": "2021-08-27T21:51:59.909Z"
   },
   {
    "duration": 7,
    "start_time": "2021-08-27T21:51:59.919Z"
   },
   {
    "duration": 7,
    "start_time": "2021-08-27T21:51:59.928Z"
   },
   {
    "duration": 8,
    "start_time": "2021-08-27T21:51:59.937Z"
   },
   {
    "duration": 6,
    "start_time": "2021-08-27T21:51:59.947Z"
   },
   {
    "duration": 8,
    "start_time": "2021-08-27T21:51:59.955Z"
   },
   {
    "duration": 8,
    "start_time": "2021-08-27T21:51:59.965Z"
   },
   {
    "duration": 7,
    "start_time": "2021-08-27T21:51:59.975Z"
   },
   {
    "duration": 1469,
    "start_time": "2021-08-27T21:51:59.992Z"
   },
   {
    "duration": -77557,
    "start_time": "2021-08-27T21:53:19.021Z"
   },
   {
    "duration": -77562,
    "start_time": "2021-08-27T21:53:19.026Z"
   },
   {
    "duration": -77563,
    "start_time": "2021-08-27T21:53:19.028Z"
   },
   {
    "duration": 6907,
    "start_time": "2021-08-28T07:17:56.285Z"
   },
   {
    "duration": 729,
    "start_time": "2021-08-28T07:18:03.194Z"
   },
   {
    "duration": 12,
    "start_time": "2021-08-28T07:18:03.925Z"
   },
   {
    "duration": 29,
    "start_time": "2021-08-28T07:18:03.939Z"
   },
   {
    "duration": 7,
    "start_time": "2021-08-28T07:18:03.970Z"
   },
   {
    "duration": 401,
    "start_time": "2021-08-28T07:18:03.979Z"
   },
   {
    "duration": 1991,
    "start_time": "2021-08-28T07:18:11.951Z"
   },
   {
    "duration": 720,
    "start_time": "2021-08-28T07:18:13.944Z"
   },
   {
    "duration": 22,
    "start_time": "2021-08-28T07:18:14.666Z"
   },
   {
    "duration": 39,
    "start_time": "2021-08-28T07:18:14.690Z"
   },
   {
    "duration": 10,
    "start_time": "2021-08-28T07:18:14.732Z"
   },
   {
    "duration": 62,
    "start_time": "2021-08-28T07:18:14.744Z"
   },
   {
    "duration": 246199,
    "start_time": "2021-08-28T07:18:14.808Z"
   },
   {
    "duration": 4,
    "start_time": "2021-08-28T07:22:21.009Z"
   },
   {
    "duration": 43,
    "start_time": "2021-08-28T07:22:21.016Z"
   },
   {
    "duration": 17,
    "start_time": "2021-08-28T07:22:21.061Z"
   },
   {
    "duration": 13305,
    "start_time": "2021-08-28T07:22:21.080Z"
   },
   {
    "duration": 12,
    "start_time": "2021-08-28T07:22:34.387Z"
   },
   {
    "duration": 16,
    "start_time": "2021-08-28T07:22:34.402Z"
   },
   {
    "duration": 6,
    "start_time": "2021-08-28T07:22:34.420Z"
   },
   {
    "duration": 636926,
    "start_time": "2021-08-28T07:22:34.428Z"
   },
   {
    "duration": 3,
    "start_time": "2021-08-28T07:33:11.356Z"
   },
   {
    "duration": 16,
    "start_time": "2021-08-28T07:33:11.361Z"
   },
   {
    "duration": 1788774,
    "start_time": "2021-08-28T07:33:11.379Z"
   },
   {
    "duration": 3,
    "start_time": "2021-08-28T10:44:47.704Z"
   },
   {
    "duration": 1520,
    "start_time": "2021-08-28T10:46:21.561Z"
   },
   {
    "duration": 812,
    "start_time": "2021-08-28T10:46:23.083Z"
   },
   {
    "duration": 12,
    "start_time": "2021-08-28T10:46:23.897Z"
   },
   {
    "duration": 35,
    "start_time": "2021-08-28T10:46:23.911Z"
   },
   {
    "duration": 3,
    "start_time": "2021-08-28T10:46:23.948Z"
   },
   {
    "duration": 69,
    "start_time": "2021-08-28T10:46:23.953Z"
   },
   {
    "duration": 253836,
    "start_time": "2021-08-28T10:46:24.024Z"
   },
   {
    "duration": 14,
    "start_time": "2021-08-28T10:50:37.863Z"
   },
   {
    "duration": 39,
    "start_time": "2021-08-28T10:50:37.880Z"
   },
   {
    "duration": 5,
    "start_time": "2021-08-28T10:50:37.922Z"
   },
   {
    "duration": 13459,
    "start_time": "2021-08-28T10:50:37.930Z"
   },
   {
    "duration": 11,
    "start_time": "2021-08-28T10:50:51.391Z"
   },
   {
    "duration": 14,
    "start_time": "2021-08-28T10:50:51.404Z"
   },
   {
    "duration": 6,
    "start_time": "2021-08-28T10:50:51.420Z"
   },
   {
    "duration": 9,
    "start_time": "2021-08-28T10:50:51.428Z"
   },
   {
    "duration": 13,
    "start_time": "2021-08-28T10:50:51.439Z"
   },
   {
    "duration": 16,
    "start_time": "2021-08-28T10:50:51.454Z"
   },
   {
    "duration": 12,
    "start_time": "2021-08-28T10:50:51.472Z"
   },
   {
    "duration": 10,
    "start_time": "2021-08-28T10:50:51.486Z"
   },
   {
    "duration": 13,
    "start_time": "2021-08-28T10:50:51.499Z"
   },
   {
    "duration": 1805,
    "start_time": "2021-08-28T11:57:57.096Z"
   },
   {
    "duration": 707,
    "start_time": "2021-08-28T11:57:58.903Z"
   },
   {
    "duration": 12,
    "start_time": "2021-08-28T11:57:59.613Z"
   },
   {
    "duration": 28,
    "start_time": "2021-08-28T11:57:59.627Z"
   },
   {
    "duration": 19,
    "start_time": "2021-08-28T11:57:59.657Z"
   },
   {
    "duration": 393,
    "start_time": "2021-08-28T11:57:59.678Z"
   },
   {
    "duration": 249769,
    "start_time": "2021-08-28T11:58:00.073Z"
   },
   {
    "duration": 3,
    "start_time": "2021-08-28T12:02:09.845Z"
   },
   {
    "duration": 52,
    "start_time": "2021-08-28T12:02:09.850Z"
   },
   {
    "duration": 3,
    "start_time": "2021-08-28T12:02:09.904Z"
   },
   {
    "duration": 12243,
    "start_time": "2021-08-28T12:02:09.909Z"
   },
   {
    "duration": 11,
    "start_time": "2021-08-28T12:02:22.153Z"
   },
   {
    "duration": 12,
    "start_time": "2021-08-28T12:02:22.165Z"
   },
   {
    "duration": 5,
    "start_time": "2021-08-28T12:02:22.179Z"
   },
   {
    "duration": 636643,
    "start_time": "2021-08-28T12:02:22.186Z"
   },
   {
    "duration": 3,
    "start_time": "2021-08-28T12:12:58.831Z"
   },
   {
    "duration": 5,
    "start_time": "2021-08-28T12:12:58.835Z"
   },
   {
    "duration": 1537,
    "start_time": "2021-08-28T12:18:06.801Z"
   },
   {
    "duration": 728,
    "start_time": "2021-08-28T12:18:08.340Z"
   },
   {
    "duration": 16,
    "start_time": "2021-08-28T12:18:09.071Z"
   },
   {
    "duration": 7,
    "start_time": "2021-08-28T12:18:09.089Z"
   },
   {
    "duration": 6,
    "start_time": "2021-08-28T12:18:09.099Z"
   },
   {
    "duration": 74,
    "start_time": "2021-08-28T12:18:09.107Z"
   },
   {
    "duration": 1486,
    "start_time": "2021-08-28T12:18:09.183Z"
   },
   {
    "duration": 2,
    "start_time": "2021-08-28T12:18:10.677Z"
   },
   {
    "duration": 10,
    "start_time": "2021-08-28T12:18:10.682Z"
   },
   {
    "duration": 7,
    "start_time": "2021-08-28T12:18:10.694Z"
   },
   {
    "duration": 310,
    "start_time": "2021-08-28T12:18:10.703Z"
   },
   {
    "duration": 10,
    "start_time": "2021-08-28T12:18:11.015Z"
   },
   {
    "duration": 3,
    "start_time": "2021-08-28T12:18:11.077Z"
   },
   {
    "duration": 7,
    "start_time": "2021-08-28T12:18:11.082Z"
   },
   {
    "duration": 1446,
    "start_time": "2021-08-28T12:18:11.090Z"
   },
   {
    "duration": 3,
    "start_time": "2021-08-28T12:18:12.539Z"
   },
   {
    "duration": 13,
    "start_time": "2021-08-28T12:18:12.544Z"
   },
   {
    "duration": 3640,
    "start_time": "2021-08-28T12:18:12.559Z"
   },
   {
    "duration": 3,
    "start_time": "2021-08-28T12:18:16.201Z"
   },
   {
    "duration": 29,
    "start_time": "2021-08-28T12:18:16.207Z"
   },
   {
    "duration": 24228,
    "start_time": "2021-08-28T12:18:16.238Z"
   },
   {
    "duration": 16,
    "start_time": "2021-08-28T12:18:40.468Z"
   },
   {
    "duration": 23718,
    "start_time": "2021-08-28T12:19:01.762Z"
   },
   {
    "duration": 12,
    "start_time": "2021-08-28T12:20:20.949Z"
   },
   {
    "duration": 3,
    "start_time": "2021-08-28T12:20:35.660Z"
   },
   {
    "duration": 17329,
    "start_time": "2021-08-28T12:20:36.108Z"
   },
   {
    "duration": 11,
    "start_time": "2021-08-28T12:21:04.166Z"
   },
   {
    "duration": 3,
    "start_time": "2021-08-28T12:21:42.573Z"
   },
   {
    "duration": 17807,
    "start_time": "2021-08-28T12:21:43.197Z"
   },
   {
    "duration": 4,
    "start_time": "2021-08-28T12:22:17.885Z"
   },
   {
    "duration": 9374,
    "start_time": "2021-08-28T12:22:18.302Z"
   },
   {
    "duration": 3,
    "start_time": "2021-08-28T12:22:48.973Z"
   },
   {
    "duration": 12389,
    "start_time": "2021-08-28T12:22:49.277Z"
   },
   {
    "duration": 1412,
    "start_time": "2021-08-28T12:23:25.527Z"
   },
   {
    "duration": 839,
    "start_time": "2021-08-28T12:23:26.942Z"
   },
   {
    "duration": 12,
    "start_time": "2021-08-28T12:23:27.783Z"
   },
   {
    "duration": 28,
    "start_time": "2021-08-28T12:23:27.797Z"
   },
   {
    "duration": 2,
    "start_time": "2021-08-28T12:23:27.827Z"
   },
   {
    "duration": 76,
    "start_time": "2021-08-28T12:23:27.831Z"
   },
   {
    "duration": 1518,
    "start_time": "2021-08-28T12:27:05.008Z"
   },
   {
    "duration": 828,
    "start_time": "2021-08-28T12:27:06.528Z"
   },
   {
    "duration": 19,
    "start_time": "2021-08-28T12:27:07.358Z"
   },
   {
    "duration": 12,
    "start_time": "2021-08-28T12:27:07.380Z"
   },
   {
    "duration": 25,
    "start_time": "2021-08-28T12:27:07.394Z"
   },
   {
    "duration": 70,
    "start_time": "2021-08-28T12:27:07.421Z"
   },
   {
    "duration": 766,
    "start_time": "2021-08-28T12:27:07.493Z"
   },
   {
    "duration": 2,
    "start_time": "2021-08-28T12:27:08.262Z"
   },
   {
    "duration": 13,
    "start_time": "2021-08-28T12:27:08.266Z"
   },
   {
    "duration": 22,
    "start_time": "2021-08-28T12:27:08.281Z"
   },
   {
    "duration": 270,
    "start_time": "2021-08-28T12:27:08.305Z"
   },
   {
    "duration": 4,
    "start_time": "2021-08-28T12:27:08.579Z"
   },
   {
    "duration": 11,
    "start_time": "2021-08-28T12:27:08.585Z"
   },
   {
    "duration": 12,
    "start_time": "2021-08-28T12:27:08.598Z"
   },
   {
    "duration": 10,
    "start_time": "2021-08-28T12:27:08.612Z"
   },
   {
    "duration": 1116,
    "start_time": "2021-08-28T12:27:08.624Z"
   },
   {
    "duration": 3,
    "start_time": "2021-08-28T12:27:09.742Z"
   },
   {
    "duration": 7,
    "start_time": "2021-08-28T12:27:09.746Z"
   },
   {
    "duration": 2323,
    "start_time": "2021-08-28T12:27:09.755Z"
   },
   {
    "duration": 2,
    "start_time": "2021-08-28T12:27:12.080Z"
   },
   {
    "duration": 8,
    "start_time": "2021-08-28T12:27:12.084Z"
   },
   {
    "duration": 2526,
    "start_time": "2021-08-28T12:27:12.095Z"
   },
   {
    "duration": 12,
    "start_time": "2021-08-28T12:27:14.623Z"
   },
   {
    "duration": 1494,
    "start_time": "2021-08-28T12:29:14.783Z"
   },
   {
    "duration": 706,
    "start_time": "2021-08-28T12:29:16.279Z"
   },
   {
    "duration": 12,
    "start_time": "2021-08-28T12:29:16.987Z"
   },
   {
    "duration": 30,
    "start_time": "2021-08-28T12:29:17.001Z"
   },
   {
    "duration": 3,
    "start_time": "2021-08-28T12:29:17.033Z"
   },
   {
    "duration": 76,
    "start_time": "2021-08-28T12:29:17.038Z"
   },
   {
    "duration": 253221,
    "start_time": "2021-08-28T12:29:17.116Z"
   },
   {
    "duration": 3,
    "start_time": "2021-08-28T12:33:30.338Z"
   },
   {
    "duration": 47,
    "start_time": "2021-08-28T12:33:30.344Z"
   },
   {
    "duration": 4,
    "start_time": "2021-08-28T12:33:30.393Z"
   },
   {
    "duration": 12968,
    "start_time": "2021-08-28T12:33:30.399Z"
   },
   {
    "duration": 234,
    "start_time": "2021-08-28T12:33:43.368Z"
   },
   {
    "duration": 11,
    "start_time": "2021-08-28T12:33:43.606Z"
   },
   {
    "duration": 24,
    "start_time": "2021-08-28T12:33:43.619Z"
   },
   {
    "duration": 16,
    "start_time": "2021-08-28T12:33:43.645Z"
   },
   {
    "duration": 636268,
    "start_time": "2021-08-28T12:33:43.663Z"
   },
   {
    "duration": 2,
    "start_time": "2021-08-28T12:44:19.933Z"
   },
   {
    "duration": 11,
    "start_time": "2021-08-28T12:44:19.937Z"
   },
   {
    "duration": 1830447,
    "start_time": "2021-08-28T12:44:19.949Z"
   },
   {
    "duration": 2,
    "start_time": "2021-08-28T13:14:50.399Z"
   },
   {
    "duration": 7,
    "start_time": "2021-08-28T13:14:50.403Z"
   },
   {
    "duration": 1625,
    "start_time": "2021-08-28T14:49:45.314Z"
   },
   {
    "duration": 758,
    "start_time": "2021-08-28T14:49:46.942Z"
   },
   {
    "duration": 12,
    "start_time": "2021-08-28T14:49:47.705Z"
   },
   {
    "duration": 31,
    "start_time": "2021-08-28T14:49:47.719Z"
   },
   {
    "duration": 5,
    "start_time": "2021-08-28T14:49:47.751Z"
   },
   {
    "duration": 73,
    "start_time": "2021-08-28T14:49:47.758Z"
   },
   {
    "duration": 247930,
    "start_time": "2021-08-28T14:49:47.834Z"
   },
   {
    "duration": 2,
    "start_time": "2021-08-28T14:53:55.766Z"
   },
   {
    "duration": 33,
    "start_time": "2021-08-28T14:53:55.777Z"
   },
   {
    "duration": 3,
    "start_time": "2021-08-28T14:53:55.812Z"
   },
   {
    "duration": 13089,
    "start_time": "2021-08-28T14:53:55.817Z"
   },
   {
    "duration": 223,
    "start_time": "2021-08-28T14:54:08.908Z"
   },
   {
    "duration": 12,
    "start_time": "2021-08-28T14:54:09.134Z"
   },
   {
    "duration": 7,
    "start_time": "2021-08-28T14:54:09.148Z"
   },
   {
    "duration": 23,
    "start_time": "2021-08-28T14:54:09.157Z"
   },
   {
    "duration": 636145,
    "start_time": "2021-08-28T14:54:09.182Z"
   },
   {
    "duration": 3,
    "start_time": "2021-08-28T15:04:45.330Z"
   },
   {
    "duration": 5,
    "start_time": "2021-08-28T15:04:45.335Z"
   },
   {
    "duration": 1809019,
    "start_time": "2021-08-28T15:04:45.342Z"
   },
   {
    "duration": 13,
    "start_time": "2021-08-28T15:34:54.364Z"
   },
   {
    "duration": 7,
    "start_time": "2021-08-28T15:34:54.379Z"
   },
   {
    "duration": 1795041,
    "start_time": "2021-08-28T15:34:54.390Z"
   },
   {
    "duration": 10,
    "start_time": "2021-08-28T16:04:49.433Z"
   }
  ],
  "kernelspec": {
   "display_name": "Python 3 (ipykernel)",
   "language": "python",
   "name": "python3"
  },
  "language_info": {
   "codemirror_mode": {
    "name": "ipython",
    "version": 3
   },
   "file_extension": ".py",
   "mimetype": "text/x-python",
   "name": "python",
   "nbconvert_exporter": "python",
   "pygments_lexer": "ipython3",
   "version": "3.8.8"
  },
  "toc": {
   "base_numbering": 1,
   "nav_menu": {},
   "number_sections": true,
   "sideBar": true,
   "skip_h1_title": true,
   "title_cell": "Содержание",
   "title_sidebar": "Contents",
   "toc_cell": true,
   "toc_position": {
    "height": "calc(100% - 180px)",
    "left": "10px",
    "top": "150px",
    "width": "227.391px"
   },
   "toc_section_display": true,
   "toc_window_display": true
  }
 },
 "nbformat": 4,
 "nbformat_minor": 2
}
